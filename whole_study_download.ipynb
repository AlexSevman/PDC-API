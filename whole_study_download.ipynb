{
 "cells": [
  {
   "cell_type": "markdown",
   "metadata": {},
   "source": [
    "# Import Libraries"
   ]
  },
  {
   "cell_type": "code",
   "execution_count": 1,
   "metadata": {},
   "outputs": [],
   "source": [
    "# Import libraries\n",
    "import requests\n",
    "import pandas as pd\n",
    "import json\n",
    "import seaborn as sns\n",
    "import matplotlib.pyplot as plt\n",
    "from scipy.stats import zscore\n",
    "from function_query import query_pdc\n",
    "import openpyxl\n",
    "import xlsxwriter\n"
   ]
  },
  {
   "cell_type": "markdown",
   "metadata": {},
   "source": [
    "# Define variables and url"
   ]
  },
  {
   "cell_type": "code",
   "execution_count": 2,
   "metadata": {},
   "outputs": [],
   "source": [
    "# Variables\n",
    "variables = {\n",
    "    \"pdc_study_identifier\": \"PDC000585\",\n",
    "    \"offset\": 0, # set offset records to pull\n",
    "    \"limit\": 10,  # limit number of records,\n",
    "    \"data_type\": \"log2_ratio\" # option: unshared_log2_ratio \n",
    "}\n",
    "\n"
   ]
  },
  {
   "cell_type": "code",
   "execution_count": 4,
   "metadata": {},
   "outputs": [],
   "source": [
    "%run queries.ipynb"
   ]
  },
  {
   "cell_type": "markdown",
   "metadata": {},
   "source": [
    "# Readme"
   ]
  },
  {
   "cell_type": "code",
   "execution_count": 5,
   "metadata": {},
   "outputs": [],
   "source": [
    "readme = readme_df"
   ]
  },
  {
   "cell_type": "markdown",
   "metadata": {},
   "source": [
    "# Program - Project"
   ]
  },
  {
   "cell_type": "code",
   "execution_count": 6,
   "metadata": {},
   "outputs": [
    {
     "name": "stdout",
     "output_type": "stream",
     "text": [
      "Sending query.\n"
     ]
    }
   ],
   "source": [
    "study_data = query_pdc(query= query_study_info, variables=variables)\n",
    "matrix = json.loads(study_data.content)['data']['study']\n",
    "study_df = pd.DataFrame(matrix)"
   ]
  },
  {
   "cell_type": "code",
   "execution_count": 7,
   "metadata": {},
   "outputs": [],
   "source": [
    "program_project = study_df[[\"program_id\", 'project_id']].transpose()\n",
    "program_project.columns = ['name']"
   ]
  },
  {
   "cell_type": "code",
   "execution_count": 8,
   "metadata": {},
   "outputs": [
    {
     "data": {
      "application/vnd.microsoft.datawrangler.viewer.v0+json": {
       "columns": [
        {
         "name": "index",
         "rawType": "object",
         "type": "string"
        },
        {
         "name": "id",
         "rawType": "object",
         "type": "string"
        },
        {
         "name": "name",
         "rawType": "object",
         "type": "string"
        }
       ],
       "conversionMethod": "pd.DataFrame",
       "ref": "110b3c57-ed01-4db7-8378-6efecd206758",
       "rows": [
        [
         "program_id",
         "program_id",
         "fa99a299-0d83-11ea-9bfa-0a42f3c845fe"
        ],
        [
         "project_id",
         "project_id",
         "ba34699a-caff-461c-b77e-a27a6bf305f0"
        ]
       ],
       "shape": {
        "columns": 2,
        "rows": 2
       }
      },
      "text/html": [
       "<div>\n",
       "<style scoped>\n",
       "    .dataframe tbody tr th:only-of-type {\n",
       "        vertical-align: middle;\n",
       "    }\n",
       "\n",
       "    .dataframe tbody tr th {\n",
       "        vertical-align: top;\n",
       "    }\n",
       "\n",
       "    .dataframe thead th {\n",
       "        text-align: right;\n",
       "    }\n",
       "</style>\n",
       "<table border=\"1\" class=\"dataframe\">\n",
       "  <thead>\n",
       "    <tr style=\"text-align: right;\">\n",
       "      <th></th>\n",
       "      <th>id</th>\n",
       "      <th>name</th>\n",
       "    </tr>\n",
       "  </thead>\n",
       "  <tbody>\n",
       "    <tr>\n",
       "      <th>program_id</th>\n",
       "      <td>program_id</td>\n",
       "      <td>fa99a299-0d83-11ea-9bfa-0a42f3c845fe</td>\n",
       "    </tr>\n",
       "    <tr>\n",
       "      <th>project_id</th>\n",
       "      <td>project_id</td>\n",
       "      <td>ba34699a-caff-461c-b77e-a27a6bf305f0</td>\n",
       "    </tr>\n",
       "  </tbody>\n",
       "</table>\n",
       "</div>"
      ],
      "text/plain": [
       "                    id                                  name\n",
       "program_id  program_id  fa99a299-0d83-11ea-9bfa-0a42f3c845fe\n",
       "project_id  project_id  ba34699a-caff-461c-b77e-a27a6bf305f0"
      ]
     },
     "execution_count": 8,
     "metadata": {},
     "output_type": "execute_result"
    }
   ],
   "source": [
    "program_project[\"id\"] = program_project.index\n",
    "program_project.head()\n",
    "program_project = program_project.reindex(columns=['id', 'name'])\n",
    "program_project.head()"
   ]
  },
  {
   "cell_type": "markdown",
   "metadata": {},
   "source": [
    "# Case_Matrix"
   ]
  },
  {
   "cell_type": "code",
   "execution_count": 9,
   "metadata": {},
   "outputs": [
    {
     "name": "stdout",
     "output_type": "stream",
     "text": [
      "Sending query.\n"
     ]
    }
   ],
   "source": [
    "speciment_data = query_pdc(query= query_biospecimen, variables=variables)"
   ]
  },
  {
   "cell_type": "code",
   "execution_count": 10,
   "metadata": {},
   "outputs": [],
   "source": [
    "matrix = json.loads(speciment_data.content)['data'][\"biospecimenPerStudy\"]\n",
    "biospecimen_df = pd.DataFrame(matrix[1:], columns=matrix[0])"
   ]
  },
  {
   "cell_type": "code",
   "execution_count": 11,
   "metadata": {},
   "outputs": [],
   "source": [
    "case_matrix = biospecimen_df[['case_submitter_id', \"sample_submitter_id\", \"aliquot_submitter_id\"]]\n",
    "case_matrix = case_matrix[2:]"
   ]
  },
  {
   "cell_type": "markdown",
   "metadata": {},
   "source": [
    "# Case"
   ]
  },
  {
   "cell_type": "code",
   "execution_count": null,
   "metadata": {},
   "outputs": [
    {
     "name": "stdout",
     "output_type": "stream",
     "text": [
      "Sending query.\n"
     ]
    }
   ],
   "source": [
    "case_data = query_pdc(query= query_case, variables=variables)\n",
    "matrix = json.loads(case_data.content)['data']['case']\n",
    "case_data_df = pd.DataFrame(matrix)"
   ]
  },
  {
   "cell_type": "code",
   "execution_count": null,
   "metadata": {},
   "outputs": [],
   "source": [
    "case = pd.merge(left=biospecimen_df, right=case_data_df, on=\"case_id\")\n",
    "columns_to_keep = [col for col in case.columns if not col.endswith('_y')]\n",
    "case = case[columns_to_keep]\n",
    "case = case.rename(columns={col: col.rstrip('_x') for col in case.columns})\n"
   ]
  },
  {
   "cell_type": "code",
   "execution_count": null,
   "metadata": {},
   "outputs": [],
   "source": [
    "check_names = ['case_submitter_id', 'external_case_id', 'disease_type', 'pool',\n",
    "       'primary_site', 'status', 'taxon', 'case_is_ref', 'consent_type',\n",
    "       'days_to_consent', 'days_to_lost_to_followup', 'index_date',\n",
    "       'lost_to_followup']\n",
    "to_remove = list(set(case.columns).difference(check_names))"
   ]
  },
  {
   "cell_type": "code",
   "execution_count": null,
   "metadata": {},
   "outputs": [],
   "source": [
    "case.drop(columns=to_remove, inplace=True)\n",
    "case = case.reindex(columns=check_names)"
   ]
  },
  {
   "cell_type": "markdown",
   "metadata": {},
   "source": [
    "# Demographic"
   ]
  },
  {
   "cell_type": "code",
   "execution_count": null,
   "metadata": {},
   "outputs": [],
   "source": [
    "# Variables\n",
    "variables = {\n",
    "    \"pdc_study_identifier\": \"PDC000585\",\n",
    "    \"study_id\": study_df['study_id'][0],\n",
    "    \"offset\": 0,  # set offset records to pull\n",
    "    \"limit\": 10,  # limit number of records\n",
    "    \"data_type\": \"log2_ratio\"  # option: unshared_log2_ratio\n",
    "}"
   ]
  },
  {
   "cell_type": "code",
   "execution_count": null,
   "metadata": {},
   "outputs": [],
   "source": [
    "demographics_data = query_pdc(query= query_demographcis, variables=variables)\n",
    "matrix = json.loads(demographics_data.content)['data'][\"paginatedCaseDemographicsPerStudy\"][\"caseDemographicsPerStudy\"]\n",
    "demographics_data = pd.DataFrame(matrix[1:], columns=matrix[0])"
   ]
  },
  {
   "cell_type": "code",
   "execution_count": null,
   "metadata": {},
   "outputs": [],
   "source": [
    "demographics_data['demographic_id'] = demographics_data['demographics'].apply(lambda diag_list: diag_list[0]['demographic_id'] if diag_list else None)"
   ]
  },
  {
   "cell_type": "code",
   "execution_count": null,
   "metadata": {},
   "outputs": [],
   "source": [
    "demographics_df = for_demographics(matrix = matrix)"
   ]
  },
  {
   "cell_type": "code",
   "execution_count": null,
   "metadata": {},
   "outputs": [],
   "source": [
    "demographic = pd.merge(left=demographics_data, right=demographics_df, on=\"demographic_id\")"
   ]
  },
  {
   "cell_type": "code",
   "execution_count": null,
   "metadata": {},
   "outputs": [],
   "source": [
    "check_names = ['case_submitter_id', 'ethnicity', 'gender', 'race', 'age_at_index',\n",
    "       'age_is_obfuscated', 'cause_of_death', 'cause_of_death_source',\n",
    "       'country_of_residence_at_enrollment', 'days_to_birth', 'days_to_death',\n",
    "       'occupation_duration_years', 'premature_at_birth', 'vital_status',\n",
    "       'weeks_gestation_at_birth', 'year_of_birth', 'year_of_death']\n",
    "to_remove = list(set(demographic.columns).difference(check_names))"
   ]
  },
  {
   "cell_type": "code",
   "execution_count": null,
   "metadata": {},
   "outputs": [],
   "source": [
    "demographic.drop(columns=to_remove, inplace=True)\n",
    "demographic = demographic.reindex(columns=check_names)"
   ]
  },
  {
   "cell_type": "code",
   "execution_count": null,
   "metadata": {},
   "outputs": [],
   "source": [
    "demographic.head()"
   ]
  },
  {
   "cell_type": "markdown",
   "metadata": {},
   "source": [
    "# Diagnosis"
   ]
  },
  {
   "cell_type": "code",
   "execution_count": null,
   "metadata": {},
   "outputs": [],
   "source": [
    "diagnose_data = query_pdc(query= query_diagnose, variables=variables)\n",
    "matrix = json.loads(diagnose_data.content)['data'][\"paginatedCaseDiagnosesPerStudy\"][\"caseDiagnosesPerStudy\"]\n",
    "diagnose_data_df = pd.DataFrame(matrix[1:], columns=matrix[0])\n",
    "diagnose_data_df.columns"
   ]
  },
  {
   "cell_type": "code",
   "execution_count": null,
   "metadata": {},
   "outputs": [],
   "source": [
    "diagnose_data_df['diagnosis_id'] = diagnose_data_df['diagnoses'].apply(lambda diag_list: diag_list[0]['diagnosis_id'] if diag_list else None)\n",
    "diagnose_data_df.head()"
   ]
  },
  {
   "cell_type": "code",
   "execution_count": null,
   "metadata": {},
   "outputs": [],
   "source": [
    "diagnose_df = for_diagnosis(matrix = matrix)"
   ]
  },
  {
   "cell_type": "code",
   "execution_count": null,
   "metadata": {},
   "outputs": [],
   "source": [
    "diagnosis = pd.merge(left=diagnose_data_df, right=diagnose_df, on=\"diagnosis_id\")"
   ]
  },
  {
   "cell_type": "code",
   "execution_count": null,
   "metadata": {},
   "outputs": [],
   "source": [
    "check_names = ['case_submitter_id', 'age_at_diagnosis', 'days_to_last_follow_up', 'days_to_last_known_disease_status', \n",
    "       'days_to_recurrence', 'diagnosis_is_primary_disease', 'last_known_disease_status', 'morphology', \n",
    "       'primary_diagnosis', 'progression_or_recurrence', 'site_of_resection_or_biopsy', 'tissue_or_organ_of_origin', \n",
    "       'tumor_grade', 'tumor_stage', 'adrenal_hormone', 'ajcc_clinical_m', 'ajcc_clinical_n', 'ajcc_clinical_stage', \n",
    "       'ajcc_clinical_t', 'ajcc_pathologic_m', 'ajcc_pathologic_n', 'ajcc_pathologic_stage', 'ajcc_pathologic_t',\n",
    "       'ajcc_staging_system_edition', 'anaplasia_present', 'anaplasia_present_type', 'ann_arbor_b_symptoms',\n",
    "       'ann_arbor_b_symptoms_described', 'ann_arbor_clinical_stage', 'ann_arbor_extranodal_involvement', \n",
    "       'ann_arbor_pathologic_stage', 'best_overall_response', 'breslow_thickness', 'burkitt_lymphoma_clinical_variant',\n",
    "       'child_pugh_classification', 'circumferential_resection_margin', 'classification_of_tumor', 'cog_liver_stage', \n",
    "       'cog_neuroblastoma_risk_group', 'cog_renal_stage', 'cog_rhabdomyosarcoma_risk_group', 'colon_polyps_history',\n",
    "       'days_to_best_overall_response', 'days_to_diagnosis', 'days_to_hiv_diagnosis', 'days_to_new_event', \n",
    "       'eln_risk_classification', 'enneking_msts_grade', 'enneking_msts_metastasis', 'enneking_msts_stage', \n",
    "       'enneking_msts_tumor_site', 'esophageal_columnar_dysplasia_degree', 'esophageal_columnar_metaplasia_present', \n",
    "       'figo_stage', 'figo_staging_edition_year', 'first_symptom_prior_to_diagnosis', \n",
    "       'gastric_esophageal_junction_involvement', 'gleason_grade_group', 'gleason_grade_tertiary', \n",
    "       'gleason_patterns_percent', 'goblet_cells_columnar_mucosa_present', 'gross_tumor_weight', \n",
    "       'hiv_positive', 'hpv_positive_type', 'hpv_status', 'icd_10_code', 'igcccg_stage', 'inpc_grade',\n",
    "       'inpc_histologic_group', 'inrg_stage', 'inss_stage', 'international_prognostic_index', 'irs_group', \n",
    "       'irs_stage', 'ishak_fibrosis_score', 'iss_stage', 'largest_extrapelvic_peritoneal_focus', 'laterality',\n",
    "       'ldh_level_at_diagnosis', 'ldh_normal_range_upper', 'lymph_nodes_positive', 'lymph_nodes_tested', \n",
    "       'lymphatic_invasion_present', 'margin_distance', 'margins_involved_site', 'masaoka_stage',\n",
    "       'medulloblastoma_molecular_classification', 'metastasis_at_diagnosis', 'metastasis_at_diagnosis_site',\n",
    "       'method_of_diagnosis', 'mitosis_karyorrhexis_index', 'new_event_anatomic_site', 'new_event_type', \n",
    "       'non_nodal_regional_disease', 'non_nodal_tumor_deposits', 'ovarian_specimen_status', \n",
    "       'ovarian_surface_involvement', 'overall_survival', 'percent_tumor_invasion', \n",
    "       'perineural_invasion_present', 'peripancreatic_lymph_nodes_positive', \n",
    "       'peripancreatic_lymph_nodes_tested', 'peritoneal_fluid_cytological_status',\n",
    "       'pregnant_at_diagnosis', 'primary_gleason_grade', 'prior_malignancy', \n",
    "       'prior_treatment', 'progression_free_survival', 'progression_free_survival_event', \n",
    "       'residual_disease', 'satellite_nodule_present', 'secondary_gleason_grade', \n",
    "       'sites_of_involvement', 'supratentorial_localization', 'synchronous_malignancy', \n",
    "       'tumor_cell_content', 'tumor_confined_to_organ_of_origin', 'tumor_depth', \n",
    "       'tumor_focality', 'tumor_largest_dimension_diameter', 'tumor_regression_grade', \n",
    "       'vascular_invasion_present', 'vascular_invasion_type', 'weiss_assessment_score', \n",
    "       'who_cns_grade', 'who_nte_grade', 'wilms_tumor_histologic_subtype', 'year_of_diagnosis']\n",
    "to_remove = list(set(diagnosis.columns).difference(check_names))"
   ]
  },
  {
   "cell_type": "code",
   "execution_count": null,
   "metadata": {},
   "outputs": [],
   "source": [
    "diagnosis.drop(columns=to_remove, inplace=True)\n",
    "diagnosis = diagnosis.reindex(columns=check_names)\n",
    "diagnosis.head()"
   ]
  },
  {
   "cell_type": "markdown",
   "metadata": {},
   "source": [
    "# Exposure"
   ]
  },
  {
   "cell_type": "code",
   "execution_count": null,
   "metadata": {},
   "outputs": [],
   "source": [
    "# Variables\n",
    "variables = {\n",
    "    \"pdc_study_identifier\": \"PDC000127\",\n",
    "    \"study_id\": \"a5da6836-c92e-4bdc-8f84-d28d629fc383\",\n",
    "    \"offset\": 0,  # set offset records to pull\n",
    "    \"limit\": 10,  # limit number of records\n",
    "    \"data_type\": \"log2_ratio\"  # option: unshared_log2_ratio\n",
    "}"
   ]
  },
  {
   "cell_type": "code",
   "execution_count": null,
   "metadata": {},
   "outputs": [],
   "source": [
    "exposure_data = query_pdc(query= query_exposure, variables= variables)\n",
    "matrix = json.loads(exposure_data.content)['data'][\"paginatedCaseExposuresPerStudy\"][\"caseExposuresPerStudy\"]\n",
    "exposure_data_df = pd.DataFrame(matrix[1:], columns=matrix[0])\n",
    "exposure_data_df.columns"
   ]
  },
  {
   "cell_type": "code",
   "execution_count": null,
   "metadata": {},
   "outputs": [],
   "source": [
    "exposure_data_df['exposure_id'] = exposure_data_df['exposures'].apply(lambda diag_list: diag_list[0]['exposure_id'] if diag_list else None)\n",
    "exposure_data_df.head()"
   ]
  },
  {
   "cell_type": "code",
   "execution_count": null,
   "metadata": {},
   "outputs": [],
   "source": [
    "exposure_df = for_case(matrix = matrix)\n",
    "exposure_df.head()"
   ]
  },
  {
   "cell_type": "code",
   "execution_count": null,
   "metadata": {},
   "outputs": [],
   "source": [
    "exposure = pd.merge(left=exposure_data_df, right=exposure_df, on=\"exposure_id\")"
   ]
  },
  {
   "cell_type": "code",
   "execution_count": null,
   "metadata": {},
   "outputs": [],
   "source": [
    "check_names = ['case_submitter_id', 'age_at_onset', 'alcohol_days_per_week',\n",
    "    'alcohol_drinks_per_day', 'alcohol_history', 'alcohol_intensity',\n",
    "    'alcohol_type', 'asbestos_exposure', 'cigarettes_per_day', \n",
    "    'coal_dust_exposure', 'environmental_tobacco_smoke_exposure', \n",
    "    'exposure_duration', 'exposure_duration_years', 'exposure_type', \n",
    "    'marijuana_use_per_week', 'pack_years_smoked', 'parent_with_radiation_exposure', \n",
    "    'radon_exposure', 'respirable_crystalline_silica_exposure', 'secondhand_smoke_as_child', \n",
    "    'smokeless_tobacco_quit_age', 'smoking_frequency', 'time_between_waking_and_first_smoke', \n",
    "    'tobacco_smoking_onset_year', 'tobacco_smoking_quit_year', 'tobacco_smoking_status', \n",
    "    'tobacco_use_per_day', 'type_of_smoke_exposure', 'type_of_tobacco_used', 'years_smoked']\n",
    "to_remove = list(set(exposure.columns).difference(check_names))"
   ]
  },
  {
   "cell_type": "code",
   "execution_count": null,
   "metadata": {},
   "outputs": [],
   "source": [
    "exposure = exposure.drop(columns=to_remove)\n",
    "exposure = exposure.reindex(columns=check_names)\n",
    "exposure.head()"
   ]
  },
  {
   "cell_type": "markdown",
   "metadata": {},
   "source": [
    "# Family History -- to do"
   ]
  },
  {
   "cell_type": "markdown",
   "metadata": {},
   "source": [
    "case_submitter_id', 'relationship_age_at_diagnosis',\n",
    "       'relationship_gender', 'relationship_primary_diagnosis',\n",
    "       'relationship_type', 'relative_with_cancer_history        ',\n",
    "       'relatives_with_cancer_history_count "
   ]
  },
  {
   "cell_type": "markdown",
   "metadata": {},
   "source": [
    "# Treatment"
   ]
  },
  {
   "cell_type": "code",
   "execution_count": null,
   "metadata": {},
   "outputs": [],
   "source": [
    "\n",
    "# Variables\n",
    "variables = {\n",
    "    \"pdc_study_identifier\": \"PDC000436\",\n",
    "    \"study_id\": \"a5da6836-c92e-4bdc-8f84-d28d629fc383\",\n",
    "    \"offset\": 0,  # set offset records to pull\n",
    "    \"limit\": 10,  # limit number of records\n",
    "    \"data_type\": \"log2_ratio\"  # option: unshared_log2_ratio\n",
    "}"
   ]
  },
  {
   "cell_type": "code",
   "execution_count": null,
   "metadata": {},
   "outputs": [],
   "source": [
    "treatments_data = query_pdc(query= query_treatments, variables=variables)\n",
    "matrix = json.loads(treatments_data.content)['data'][\"paginatedCaseTreatmentsPerStudy\"][\"caseTreatmentsPerStudy\"]\n",
    "treatments_data_df = pd.DataFrame(matrix[1:], columns=matrix[0])\n",
    "treatments_data_df.head()"
   ]
  },
  {
   "cell_type": "code",
   "execution_count": null,
   "metadata": {},
   "outputs": [],
   "source": [
    "treatments_data_df['treatment_id'] = treatments_data_df['treatments'].apply(lambda diag_list: diag_list[0]['treatment_id'] if diag_list else None)\n",
    "treatments_data_df.head()"
   ]
  },
  {
   "cell_type": "code",
   "execution_count": null,
   "metadata": {},
   "outputs": [],
   "source": [
    "treatments_df = for_treatment(matrix = matrix)\n",
    "treatments_df.head()"
   ]
  },
  {
   "cell_type": "code",
   "execution_count": null,
   "metadata": {},
   "outputs": [],
   "source": [
    "treatments = pd.merge(left=treatments_data_df, right=treatments_df, on=\"treatment_id\")\n",
    "treatments.columns"
   ]
  },
  {
   "cell_type": "code",
   "execution_count": null,
   "metadata": {},
   "outputs": [],
   "source": [
    "check_names = ['case_submitter_id', 'chemo_concurrent_to_radiation', \n",
    "               'days_to_treatment_end', 'days_to_treatment_start', \n",
    "               'initial_disease_status', 'number_of_cycles', 'reason_treatment_ended', \n",
    "               'regimen_or_line_of_therapy', 'route_of_administration', \n",
    "               'therapeutic_agents', 'treatment_anatomic_site', 'treatment_arm', \n",
    "               'treatment_dose', 'treatment_dose_units', 'treatment_effect', \n",
    "               'treatment_effect_indicator', 'treatment_frequency', 'treatment_intent_type', \n",
    "               'treatment_or_therapy', 'treatment_outcome', 'treatment_type']\n",
    "to_remove = list(set(treatments.columns).difference(check_names))"
   ]
  },
  {
   "cell_type": "code",
   "execution_count": null,
   "metadata": {},
   "outputs": [],
   "source": [
    "treatments = treatments.drop(columns=to_remove)\n",
    "treatments = treatments.reindex(columns=check_names)\n",
    "treatments.head()"
   ]
  },
  {
   "cell_type": "markdown",
   "metadata": {},
   "source": [
    "# Follow up"
   ]
  },
  {
   "cell_type": "code",
   "execution_count": null,
   "metadata": {},
   "outputs": [],
   "source": [
    "follow_up_data = query_pdc(query= query_follow_up, variables=variables)\n",
    "matrix = json.loads(follow_up_data.content)['data'][\"paginatedCaseFollowUpsPerStudy\"]['caseFollowUpsPerStudy']\n",
    "follow_up_data_df = pd.DataFrame(matrix[1:], columns=matrix[0])\n",
    "follow_up_data_df.head()"
   ]
  },
  {
   "cell_type": "code",
   "execution_count": null,
   "metadata": {},
   "outputs": [],
   "source": [
    "follow_up_data_df['follow_up_id'] = follow_up_data_df['follow_ups'].apply(lambda diag_list: diag_list[0]['follow_up_id'] if diag_list else None)\n",
    "follow_up_data_df.head()"
   ]
  },
  {
   "cell_type": "code",
   "execution_count": null,
   "metadata": {},
   "outputs": [],
   "source": [
    "follow_up_df = for_follows_up(matrix = matrix)\n",
    "follow_up_df.head()"
   ]
  },
  {
   "cell_type": "code",
   "execution_count": null,
   "metadata": {},
   "outputs": [],
   "source": [
    "follow_ups = pd.merge(left=follow_up_data_df, right=follow_up_df, on=\"follow_up_id\")\n",
    "follow_ups.columns"
   ]
  },
  {
   "cell_type": "code",
   "execution_count": null,
   "metadata": {},
   "outputs": [],
   "source": [
    "check_names = ['case_submitter_id', 'days_to_follow_up', 'adverse_event',\n",
    "       'adverse_event_grade', 'aids_risk_factors',\n",
    "       'barretts_esophagus_goblet_cells_present', 'bmi', 'body_surface_area',\n",
    "       'cause_of_response', 'cd4_count', 'cdc_hiv_risk_factors', 'comorbidity',\n",
    "       'comorbidity_method_of_diagnosis', 'days_to_adverse_event',\n",
    "       'days_to_comorbidity', 'days_to_imaging', 'days_to_progression',\n",
    "       'days_to_progression_free', 'days_to_recurrence',\n",
    "       'diabetes_treatment_type', 'disease_response',\n",
    "       'dlco_ref_predictive_percent', 'ecog_performance_status',\n",
    "       'evidence_of_recurrence_type', 'eye_color',\n",
    "       'fev1_fvc_post_bronch_percent', 'fev1_fvc_pre_bronch_percent',\n",
    "       'fev1_ref_post_bronch_percent', 'fev1_ref_pre_bronch_percent',\n",
    "       'haart_treatment_indicator', 'height',\n",
    "       'hepatitis_sustained_virological_response', 'history_of_tumor',\n",
    "       'history_of_tumor_type', 'hiv_viral_load',\n",
    "       'hormonal_contraceptive_type', 'hormonal_contraceptive_use',\n",
    "       'hormone_replacement_therapy_type', 'hpv_positive_type',\n",
    "       'hysterectomy_margins_involved', 'hysterectomy_type', 'imaging_result',\n",
    "       'imaging_type', 'immunosuppressive_treatment_type',\n",
    "       'karnofsky_performance_status', 'menopause_status', 'nadir_cd4_count',\n",
    "       'pancreatitis_onset_year', 'pregnancy_outcome', 'procedures_performed',\n",
    "       'progression_or_recurrence', 'progression_or_recurrence_anatomic_site',\n",
    "       'progression_or_recurrence_type', 'recist_targeted_regions_number',\n",
    "       'recist_targeted_regions_sum', 'reflux_treatment_type', 'risk_factor',\n",
    "       'risk_factor_treatment', 'scan_tracer_used',\n",
    "       'undescended_testis_corrected', 'undescended_testis_corrected_age',\n",
    "       'undescended_testis_corrected_laterality',\n",
    "       'undescended_testis_corrected_method', 'undescended_testis_history',\n",
    "       'undescended_testis_history_laterality', 'viral_hepatitis_serologies',\n",
    "       'weight']\n",
    "to_remove = list(set(follow_ups.columns).difference(check_names))"
   ]
  },
  {
   "cell_type": "code",
   "execution_count": null,
   "metadata": {},
   "outputs": [],
   "source": [
    "follow_ups = follow_ups.drop(columns=to_remove)\n",
    "follow_ups = follow_ups.reindex(columns=check_names)\n",
    "follow_ups.head()"
   ]
  },
  {
   "cell_type": "markdown",
   "metadata": {},
   "source": [
    "# Sample -- to do"
   ]
  },
  {
   "cell_type": "code",
   "execution_count": null,
   "metadata": {},
   "outputs": [],
   "source": [
    "matrix = json.loads(case_data.content)['data']['case']\n",
    "case_data_df = pd.DataFrame(matrix)"
   ]
  },
  {
   "cell_type": "code",
   "execution_count": null,
   "metadata": {},
   "outputs": [],
   "source": [
    "sample_df = for_sample(matrix = matrix)"
   ]
  },
  {
   "cell_type": "code",
   "execution_count": null,
   "metadata": {},
   "outputs": [],
   "source": [
    "check_names = ['sample_submitter_id', 'composition', 'pool', 'sample_type', 'status',\n",
    "       'tissue_type', 'gdc_project_id', 'gdc_sample_id',\n",
    "       'biospecimen_anatomic_site', 'biospecimen_laterality',\n",
    "       'catalog_reference', 'current_weight', 'days_to_collection',\n",
    "       'days_to_sample_procurement', 'diagnosis_pathologically_confirmed',\n",
    "       'distance_normal_to_tumor', 'distributor_reference', 'freezing_method',\n",
    "       'growth_rate', 'initial_weight', 'intermediate_dimension',\n",
    "       'longest_dimension', 'method_of_sample_procurement', 'passage_count',\n",
    "       'pathology_report_uuid', 'preservation_method', 'sample_is_ref',\n",
    "       'sample_ordinal', 'sample_type_id', 'shortest_dimension',\n",
    "       'time_between_clamping_and_freezing',\n",
    "       'time_between_excision_and_freezing', 'tissue_collection_type',\n",
    "       'tumor_code', 'tumor_code_id', 'tumor_descriptor']\n",
    "to_remove = list(set(sample_df.columns).difference(check_names))"
   ]
  },
  {
   "cell_type": "code",
   "execution_count": null,
   "metadata": {},
   "outputs": [],
   "source": [
    "samples = sample_df.drop(columns=to_remove)\n",
    "samples = samples.reindex(columns=check_names)\n",
    "samples.head()"
   ]
  },
  {
   "cell_type": "markdown",
   "metadata": {},
   "source": [
    "# Aliquots -- to do"
   ]
  },
  {
   "cell_type": "code",
   "execution_count": null,
   "metadata": {},
   "outputs": [],
   "source": [
    "biospecimen_df.columns"
   ]
  },
  {
   "cell_type": "markdown",
   "metadata": {},
   "source": [
    "aliquot_submitter_id', 'aliquot_is_ref', 'pool', 'status',\n",
    "       'aliquot_quantity', 'aliquot_volume', 'amount', 'analyte_type',\n",
    "       'analyte_type_id', 'concentration'"
   ]
  },
  {
   "cell_type": "markdown",
   "metadata": {},
   "source": [
    "# Study"
   ]
  },
  {
   "cell_type": "code",
   "execution_count": null,
   "metadata": {},
   "outputs": [],
   "source": [
    "study_data = query_pdc(query= query_study_info, variables=variables)\n",
    "matrix = json.loads(study_data.content)['data']['study']\n",
    "study_df = pd.DataFrame(matrix)\n",
    "study_df.head()"
   ]
  },
  {
   "cell_type": "code",
   "execution_count": null,
   "metadata": {},
   "outputs": [],
   "source": [
    "check_names = ['study_submitter_id', 'analytical_fraction', 'experiment_type',\n",
    "       'acquisition_type', 'study_description', 'embargo_date']\n",
    "to_remove = list(set(study_df.columns).difference(check_names))"
   ]
  },
  {
   "cell_type": "code",
   "execution_count": null,
   "metadata": {},
   "outputs": [],
   "source": [
    "study = study_df.drop(columns=to_remove)\n",
    "study = study.reindex(columns=check_names)\n",
    "study"
   ]
  },
  {
   "cell_type": "markdown",
   "metadata": {},
   "source": [
    "# Protocol"
   ]
  },
  {
   "cell_type": "markdown",
   "metadata": {},
   "source": []
  },
  {
   "cell_type": "code",
   "execution_count": null,
   "metadata": {},
   "outputs": [],
   "source": [
    "protocol_Data = query_pdc(query= query_protocol, variables=variables)\n",
    "matrix = json.loads(protocol_Data.content)['data']['protocolPerStudy']\n",
    "protocol_df = pd.DataFrame(matrix)\n",
    "protocol_df.head()"
   ]
  },
  {
   "cell_type": "code",
   "execution_count": null,
   "metadata": {},
   "outputs": [],
   "source": [
    "check_names = ['study_submitter_id', 'protocol_name', 'protocol_date', 'document_name',\n",
    "       'quantitation_strategy', 'experiment_type', 'label_free_quantitation',\n",
    "       'labeled_quantitation', 'isobaric_labeling_reagent',\n",
    "       'reporter_ion_ms_level', 'starting_amount', 'starting_amount_uom',\n",
    "       'digestion_reagent', 'alkylation_reagent', 'enrichment_strategy',\n",
    "       'enrichment', 'chromatography_dimensions_count',\n",
    "       '1d_chromatography_type', '2d_chromatography_type',\n",
    "       'fractions_analyzed_count', 'column_type', 'amount_on_column',\n",
    "       'amount_on_column_uom', 'column_length', 'column_length_uom',\n",
    "       'column_inner_diameter', 'column_inner_diameter_uom', 'particle_size',\n",
    "       'particle_size_uom', 'particle_type', 'gradient_length',\n",
    "       'gradient_length_uom', 'instrument_make', 'instrument_model',\n",
    "       'serial_number', 'dissociation_type', 'ms1_resolution',\n",
    "       'ms2_resolution', 'dda_topn', 'normalized_collision_energy',\n",
    "       'acquistion_type', 'dia_multiplexing', 'dia_ims']\n",
    "to_remove = list(set(protocol_df.columns).difference(check_names))"
   ]
  },
  {
   "cell_type": "code",
   "execution_count": null,
   "metadata": {},
   "outputs": [],
   "source": [
    "protocol = protocol_df.drop(columns=to_remove)\n",
    "protocol = protocol.reindex(columns=check_names)\n",
    "protocol"
   ]
  },
  {
   "cell_type": "markdown",
   "metadata": {},
   "source": [
    "# Exp_Metadata"
   ]
  },
  {
   "cell_type": "code",
   "execution_count": null,
   "metadata": {},
   "outputs": [],
   "source": [
    "expMetadat_data_2 = query_pdc(query= query_expMetadata_2, variables=variables)\n",
    "matrix = json.loads(expMetadat_data_2.content)['data'][\"studyExperimentalDesign\"]\n",
    "expMetadat_data_2 = pd.DataFrame(matrix)\n",
    "expMetadat_data_2.head()"
   ]
  },
  {
   "cell_type": "code",
   "execution_count": null,
   "metadata": {},
   "outputs": [],
   "source": [
    "expMetadat_data_2.columns"
   ]
  },
  {
   "cell_type": "code",
   "execution_count": null,
   "metadata": {},
   "outputs": [],
   "source": [
    "check_names = ['study_submitter_id', 'experiment_type', 'experiment_number',\n",
    "       'plex_or_folder_name', 'fraction', 'date', 'operator',\n",
    "       'replicate_number', 'condition', 'label_free', 'itraq_113', 'itraq_114',\n",
    "       'itraq_115', 'itraq_116', 'itraq_117', 'itraq_118', 'itraq_119',\n",
    "       'itraq_121', 'tmt_126', 'tmt_127n', 'tmt_127c', 'tmt_128n', 'tmt_128c',\n",
    "       'tmt_129n', 'tmt_129c', 'tmt_130n', 'tmt_130c', 'tmt_131', 'tmt_131c',\n",
    "       'tmt_132n', 'tmt_132c', 'tmt_133n', 'tmt_133c', 'tmt_134n', 'tmt_134c',\n",
    "       'tmt_135n']\n",
    "to_remove = list(set(expMetadat_data_2.columns).difference(check_names))"
   ]
  },
  {
   "cell_type": "code",
   "execution_count": null,
   "metadata": {},
   "outputs": [],
   "source": [
    "Exp_Metadata = expMetadat_data_2.drop(columns=to_remove)\n",
    "Exp_Metadata = Exp_Metadata.reindex(columns=check_names)\n",
    "Exp_Metadata.head()"
   ]
  },
  {
   "cell_type": "markdown",
   "metadata": {},
   "source": [
    "# File Metadata"
   ]
  },
  {
   "cell_type": "markdown",
   "metadata": {},
   "source": []
  },
  {
   "cell_type": "code",
   "execution_count": null,
   "metadata": {},
   "outputs": [],
   "source": [
    "file_metadata_data = query_pdc(query= query_file_metadata, variables=variables)\n",
    "matrix = json.loads(file_metadata_data.content)['data'][\"filesPerStudy\"]\n",
    "file_metadata_df = pd.DataFrame(matrix)\n",
    "file_metadata_df.head()"
   ]
  },
  {
   "cell_type": "code",
   "execution_count": null,
   "metadata": {},
   "outputs": [],
   "source": [
    "check_names = ['study_submitter_id', 'plex_or_folder_name', 'file_name',\n",
    "       'fraction_number', 'data_category', 'file_type', 'file_format',\n",
    "       'md5sum', 'file_size', \"sha1\"]\n",
    "to_remove = list(set(file_metadata_df.columns).difference(check_names))"
   ]
  },
  {
   "cell_type": "code",
   "execution_count": null,
   "metadata": {},
   "outputs": [],
   "source": [
    "file_metada = file_metadata_df.drop(columns=to_remove)\n",
    "file_metada = file_metada.reindex(columns=check_names)"
   ]
  },
  {
   "cell_type": "markdown",
   "metadata": {},
   "source": [
    "# Create an excell workbook with the study information"
   ]
  },
  {
   "cell_type": "code",
   "execution_count": null,
   "metadata": {},
   "outputs": [],
   "source": [
    "# object dictionary:\n",
    "study_information = {\n",
    "    'Readme': pd.DataFrame(readme),\n",
    "    \"Project-Program\": pd.DataFrame(program_project),\n",
    "    \"Case-Matrix\": pd.DataFrame(case_matrix),\n",
    "    \"Case\": pd.DataFrame(case),\n",
    "    \"Demographic\": pd.DataFrame(demographic),\n",
    "    \"Diagnosis\": pd.DataFrame(diagnosis),\n",
    "    \"Exposure\": pd.DataFrame(exposure),\n",
    "    \"Family-History\": pd.DataFrame(), #need to find the data\n",
    "    \"Treatments\": pd.DataFrame(treatments),\n",
    "    \"Follow-up\": pd.DataFrame(follow_ups),\n",
    "    \"Sample\": pd.DataFrame(), #need to redo\n",
    "    \"Aliquots\": pd.DataFrame(), #need to redo\n",
    "    \"Study\": pd.DataFrame(study),\n",
    "    \"Protocol\": pd.DataFrame(protocol),\n",
    "    \"Exp_Metadata\": pd.DataFrame(Exp_Metadata),\n",
    "    \"File-Metadata\": pd.DataFrame(file_metada)\n",
    "}"
   ]
  },
  {
   "cell_type": "markdown",
   "metadata": {},
   "source": []
  },
  {
   "cell_type": "code",
   "execution_count": null,
   "metadata": {},
   "outputs": [],
   "source": [
    "with pd.ExcelWriter('output.xlsx', engine='xlsxwriter') as writer:\n",
    "    for sheet_name, df in study_information.items():\n",
    "        if df is not None and not df.empty:  # Check if the DataFrame is not None and not empty\n",
    "            df.to_excel(writer, sheet_name=sheet_name, index=False)\n",
    "        else:\n",
    "            # Create an empty DataFrame and write it to the sheet\n",
    "            empty_df = pd.DataFrame()\n",
    "            empty_df.to_excel(writer, sheet_name=sheet_name, index=False)\n"
   ]
  },
  {
   "cell_type": "code",
   "execution_count": null,
   "metadata": {},
   "outputs": [],
   "source": []
  }
 ],
 "metadata": {
  "kernelspec": {
   "display_name": "Python 3",
   "language": "python",
   "name": "python3"
  },
  "language_info": {
   "codemirror_mode": {
    "name": "ipython",
    "version": 3
   },
   "file_extension": ".py",
   "mimetype": "text/x-python",
   "name": "python",
   "nbconvert_exporter": "python",
   "pygments_lexer": "ipython3",
   "version": "3.13.2"
  }
 },
 "nbformat": 4,
 "nbformat_minor": 2
}
