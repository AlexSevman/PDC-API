{
 "cells": [
  {
   "cell_type": "markdown",
   "metadata": {},
   "source": [
    "# Import Libraries"
   ]
  },
  {
   "cell_type": "code",
   "execution_count": 1,
   "metadata": {},
   "outputs": [],
   "source": [
    "# Import libraries\n",
    "import requests\n",
    "import pandas as pd\n",
    "import json\n",
    "import seaborn as sns\n",
    "import matplotlib.pyplot as plt\n",
    "from scipy.stats import zscore\n",
    "from function_query import query_pdc\n",
    "import openpyxl\n",
    "import xlsxwriter\n",
    "import time"
   ]
  },
  {
   "cell_type": "markdown",
   "metadata": {},
   "source": [
    "# Define variables and url"
   ]
  },
  {
   "cell_type": "code",
   "execution_count": 2,
   "metadata": {},
   "outputs": [],
   "source": [
    "\n",
    "start_time = time.time()"
   ]
  },
  {
   "cell_type": "code",
   "execution_count": 3,
   "metadata": {},
   "outputs": [],
   "source": [
    "pdc_study_id_input = \"PDC000127\"\n",
    "offset_input = 0 # set offset records to pull\n",
    "limit_input = 10 # limit number of records,\n",
    "data_type_input = 'log2_ratio' # option: unshared_log2_ratio "
   ]
  },
  {
   "cell_type": "code",
   "execution_count": 4,
   "metadata": {},
   "outputs": [],
   "source": [
    "# Variables\n",
    "variables = {\n",
    "    \"pdc_study_identifier\": pdc_study_id_input,\n",
    "    \"offset\": offset_input, \n",
    "    \"limit\": limit_input,  \n",
    "    \"data_type\": data_type_input \n",
    "}\n"
   ]
  },
  {
   "cell_type": "code",
   "execution_count": 5,
   "metadata": {},
   "outputs": [],
   "source": [
    "%run queries.ipynb"
   ]
  },
  {
   "cell_type": "markdown",
   "metadata": {},
   "source": [
    "# Readme"
   ]
  },
  {
   "cell_type": "code",
   "execution_count": 6,
   "metadata": {},
   "outputs": [],
   "source": [
    "readme = readme_df"
   ]
  },
  {
   "cell_type": "markdown",
   "metadata": {},
   "source": [
    "# Program - Project"
   ]
  },
  {
   "cell_type": "code",
   "execution_count": 7,
   "metadata": {},
   "outputs": [
    {
     "name": "stdout",
     "output_type": "stream",
     "text": [
      "Sending query.\n"
     ]
    }
   ],
   "source": [
    "study_data = query_pdc(query= query_study_info, variables=variables)"
   ]
  },
  {
   "cell_type": "code",
   "execution_count": 8,
   "metadata": {},
   "outputs": [
    {
     "name": "stdout",
     "output_type": "stream",
     "text": [
      "Sending query.\n"
     ]
    }
   ],
   "source": [
    "study_data = query_pdc(query= query_study_info, variables=variables)\n",
    "matrix = json.loads(study_data.content)['data']['study']\n",
    "study_df = pd.DataFrame(matrix)"
   ]
  },
  {
   "cell_type": "code",
   "execution_count": 9,
   "metadata": {},
   "outputs": [],
   "source": [
    "program_project = study_df[[\"program_id\", 'project_id']].transpose()\n",
    "program_project.columns = ['name']"
   ]
  },
  {
   "cell_type": "code",
   "execution_count": 10,
   "metadata": {},
   "outputs": [],
   "source": [
    "program_project[\"id\"] = program_project.index\n",
    "program_project.head()\n",
    "program_project = program_project.reindex(columns=['id', 'name'])"
   ]
  },
  {
   "cell_type": "markdown",
   "metadata": {},
   "source": [
    "# Case_Matrix"
   ]
  },
  {
   "cell_type": "code",
   "execution_count": 11,
   "metadata": {},
   "outputs": [
    {
     "name": "stdout",
     "output_type": "stream",
     "text": [
      "Sending query.\n"
     ]
    }
   ],
   "source": [
    "speciment_data = query_pdc(query= query_biospecimen, variables=variables)"
   ]
  },
  {
   "cell_type": "code",
   "execution_count": 12,
   "metadata": {},
   "outputs": [],
   "source": [
    "matrix = json.loads(speciment_data.content)['data'][\"biospecimenPerStudy\"]\n",
    "biospecimen_df = pd.DataFrame(matrix[1:], columns=matrix[0])"
   ]
  },
  {
   "cell_type": "code",
   "execution_count": 13,
   "metadata": {},
   "outputs": [],
   "source": [
    "case_matrix = biospecimen_df[['case_submitter_id', \"sample_submitter_id\", \"aliquot_submitter_id\"]]\n",
    "case_matrix = case_matrix[2:]"
   ]
  },
  {
   "cell_type": "markdown",
   "metadata": {},
   "source": [
    "# Case"
   ]
  },
  {
   "cell_type": "code",
   "execution_count": 14,
   "metadata": {},
   "outputs": [
    {
     "name": "stdout",
     "output_type": "stream",
     "text": [
      "Sending query.\n"
     ]
    }
   ],
   "source": [
    "case_data = query_pdc(query= query_case, variables=variables)\n",
    "matrix = json.loads(case_data.content)['data']['case']\n",
    "case_data_df = pd.DataFrame(matrix)"
   ]
  },
  {
   "cell_type": "code",
   "execution_count": 15,
   "metadata": {},
   "outputs": [],
   "source": [
    "case = pd.merge(left=biospecimen_df, right=case_data_df, on=\"case_id\")\n",
    "columns_to_keep = [col for col in case.columns if not col.endswith('_y')]\n",
    "case = case[columns_to_keep]\n",
    "case = case.rename(columns={col: col.rstrip('_x') for col in case.columns})"
   ]
  },
  {
   "cell_type": "code",
   "execution_count": 16,
   "metadata": {},
   "outputs": [],
   "source": [
    "check_names = ['case_submitter_id', 'external_case_id', 'disease_type', 'pool',\n",
    "       'primary_site', 'status', 'taxon', 'case_is_ref', 'consent_type',\n",
    "       'days_to_consent', 'days_to_lost_to_followup', 'index_date',\n",
    "       'lost_to_followup']\n",
    "to_remove = list(set(case.columns).difference(check_names))"
   ]
  },
  {
   "cell_type": "code",
   "execution_count": 17,
   "metadata": {},
   "outputs": [],
   "source": [
    "case.drop(columns=to_remove, inplace=True)\n",
    "case = case.reindex(columns=check_names)"
   ]
  },
  {
   "cell_type": "markdown",
   "metadata": {},
   "source": [
    "# Demographic"
   ]
  },
  {
   "cell_type": "code",
   "execution_count": 18,
   "metadata": {},
   "outputs": [],
   "source": [
    "variables['study_id'] = study_df['study_id'][0]"
   ]
  },
  {
   "cell_type": "code",
   "execution_count": 19,
   "metadata": {},
   "outputs": [
    {
     "name": "stdout",
     "output_type": "stream",
     "text": [
      "Sending query.\n"
     ]
    }
   ],
   "source": [
    "demographics_data = query_pdc(query= query_demographcis, variables=variables)\n",
    "matrix = json.loads(demographics_data.content)['data'][\"paginatedCaseDemographicsPerStudy\"][\"caseDemographicsPerStudy\"]\n",
    "demographics_data = pd.DataFrame(matrix[1:], columns=matrix[0])"
   ]
  },
  {
   "cell_type": "code",
   "execution_count": 20,
   "metadata": {},
   "outputs": [],
   "source": [
    "demographics_data['demographic_id'] = demographics_data['demographics'].apply(lambda diag_list: diag_list[0]['demographic_id'] if diag_list else None)"
   ]
  },
  {
   "cell_type": "code",
   "execution_count": 21,
   "metadata": {},
   "outputs": [],
   "source": [
    "demographics_df = for_demographics(matrix = matrix)"
   ]
  },
  {
   "cell_type": "code",
   "execution_count": 22,
   "metadata": {},
   "outputs": [],
   "source": [
    "demographic = pd.merge(left=demographics_data, right=demographics_df, on=\"demographic_id\")"
   ]
  },
  {
   "cell_type": "code",
   "execution_count": 23,
   "metadata": {},
   "outputs": [],
   "source": [
    "check_names = ['case_submitter_id', 'ethnicity', 'gender', 'race', 'age_at_index',\n",
    "       'age_is_obfuscated', 'cause_of_death', 'cause_of_death_source',\n",
    "       'country_of_residence_at_enrollment', 'days_to_birth', 'days_to_death',\n",
    "       'occupation_duration_years', 'premature_at_birth', 'vital_status',\n",
    "       'weeks_gestation_at_birth', 'year_of_birth', 'year_of_death']\n",
    "to_remove = list(set(demographic.columns).difference(check_names))"
   ]
  },
  {
   "cell_type": "code",
   "execution_count": 24,
   "metadata": {},
   "outputs": [],
   "source": [
    "demographic.drop(columns=to_remove, inplace=True)\n",
    "demographic = demographic.reindex(columns=check_names)"
   ]
  },
  {
   "cell_type": "markdown",
   "metadata": {},
   "source": [
    "# Diagnosis"
   ]
  },
  {
   "cell_type": "code",
   "execution_count": 25,
   "metadata": {},
   "outputs": [
    {
     "name": "stdout",
     "output_type": "stream",
     "text": [
      "Sending query.\n"
     ]
    }
   ],
   "source": [
    "diagnose_data = query_pdc(query= query_diagnose, variables=variables)\n",
    "matrix = json.loads(diagnose_data.content)['data'][\"paginatedCaseDiagnosesPerStudy\"][\"caseDiagnosesPerStudy\"]\n",
    "diagnose_data_df = pd.DataFrame(matrix[1:], columns=matrix[0])"
   ]
  },
  {
   "cell_type": "code",
   "execution_count": 26,
   "metadata": {},
   "outputs": [],
   "source": [
    "diagnose_data_df['diagnosis_id'] = diagnose_data_df['diagnoses'].apply(lambda diag_list: diag_list[0]['diagnosis_id'] if diag_list else None)"
   ]
  },
  {
   "cell_type": "code",
   "execution_count": 27,
   "metadata": {},
   "outputs": [],
   "source": [
    "diagnose_df = for_diagnosis(matrix = matrix)"
   ]
  },
  {
   "cell_type": "code",
   "execution_count": 28,
   "metadata": {},
   "outputs": [],
   "source": [
    "diagnosis = pd.merge(left=diagnose_data_df, right=diagnose_df, on=\"diagnosis_id\")"
   ]
  },
  {
   "cell_type": "code",
   "execution_count": 29,
   "metadata": {},
   "outputs": [],
   "source": [
    "check_names = ['case_submitter_id', 'age_at_diagnosis', 'days_to_last_follow_up', 'days_to_last_known_disease_status', \n",
    "       'days_to_recurrence', 'diagnosis_is_primary_disease', 'last_known_disease_status', 'morphology', \n",
    "       'primary_diagnosis', 'progression_or_recurrence', 'site_of_resection_or_biopsy', 'tissue_or_organ_of_origin', \n",
    "       'tumor_grade', 'tumor_stage', 'adrenal_hormone', 'ajcc_clinical_m', 'ajcc_clinical_n', 'ajcc_clinical_stage', \n",
    "       'ajcc_clinical_t', 'ajcc_pathologic_m', 'ajcc_pathologic_n', 'ajcc_pathologic_stage', 'ajcc_pathologic_t',\n",
    "       'ajcc_staging_system_edition', 'anaplasia_present', 'anaplasia_present_type', 'ann_arbor_b_symptoms',\n",
    "       'ann_arbor_b_symptoms_described', 'ann_arbor_clinical_stage', 'ann_arbor_extranodal_involvement', \n",
    "       'ann_arbor_pathologic_stage', 'best_overall_response', 'breslow_thickness', 'burkitt_lymphoma_clinical_variant',\n",
    "       'child_pugh_classification', 'circumferential_resection_margin', 'classification_of_tumor', 'cog_liver_stage', \n",
    "       'cog_neuroblastoma_risk_group', 'cog_renal_stage', 'cog_rhabdomyosarcoma_risk_group', 'colon_polyps_history',\n",
    "       'days_to_best_overall_response', 'days_to_diagnosis', 'days_to_hiv_diagnosis', 'days_to_new_event', \n",
    "       'eln_risk_classification', 'enneking_msts_grade', 'enneking_msts_metastasis', 'enneking_msts_stage', \n",
    "       'enneking_msts_tumor_site', 'esophageal_columnar_dysplasia_degree', 'esophageal_columnar_metaplasia_present', \n",
    "       'figo_stage', 'figo_staging_edition_year', 'first_symptom_prior_to_diagnosis', \n",
    "       'gastric_esophageal_junction_involvement', 'gleason_grade_group', 'gleason_grade_tertiary', \n",
    "       'gleason_patterns_percent', 'goblet_cells_columnar_mucosa_present', 'gross_tumor_weight', \n",
    "       'hiv_positive', 'hpv_positive_type', 'hpv_status', 'icd_10_code', 'igcccg_stage', 'inpc_grade',\n",
    "       'inpc_histologic_group', 'inrg_stage', 'inss_stage', 'international_prognostic_index', 'irs_group', \n",
    "       'irs_stage', 'ishak_fibrosis_score', 'iss_stage', 'largest_extrapelvic_peritoneal_focus', 'laterality',\n",
    "       'ldh_level_at_diagnosis', 'ldh_normal_range_upper', 'lymph_nodes_positive', 'lymph_nodes_tested', \n",
    "       'lymphatic_invasion_present', 'margin_distance', 'margins_involved_site', 'masaoka_stage',\n",
    "       'medulloblastoma_molecular_classification', 'metastasis_at_diagnosis', 'metastasis_at_diagnosis_site',\n",
    "       'method_of_diagnosis', 'mitosis_karyorrhexis_index', 'new_event_anatomic_site', 'new_event_type', \n",
    "       'non_nodal_regional_disease', 'non_nodal_tumor_deposits', 'ovarian_specimen_status', \n",
    "       'ovarian_surface_involvement', 'overall_survival', 'percent_tumor_invasion', \n",
    "       'perineural_invasion_present', 'peripancreatic_lymph_nodes_positive', \n",
    "       'peripancreatic_lymph_nodes_tested', 'peritoneal_fluid_cytological_status',\n",
    "       'pregnant_at_diagnosis', 'primary_gleason_grade', 'prior_malignancy', \n",
    "       'prior_treatment', 'progression_free_survival', 'progression_free_survival_event', \n",
    "       'residual_disease', 'satellite_nodule_present', 'secondary_gleason_grade', \n",
    "       'sites_of_involvement', 'supratentorial_localization', 'synchronous_malignancy', \n",
    "       'tumor_cell_content', 'tumor_confined_to_organ_of_origin', 'tumor_depth', \n",
    "       'tumor_focality', 'tumor_largest_dimension_diameter', 'tumor_regression_grade', \n",
    "       'vascular_invasion_present', 'vascular_invasion_type', 'weiss_assessment_score', \n",
    "       'who_cns_grade', 'who_nte_grade', 'wilms_tumor_histologic_subtype', 'year_of_diagnosis']\n",
    "to_remove = list(set(diagnosis.columns).difference(check_names))"
   ]
  },
  {
   "cell_type": "code",
   "execution_count": 30,
   "metadata": {},
   "outputs": [],
   "source": [
    "diagnosis.drop(columns=to_remove, inplace=True)\n",
    "diagnosis = diagnosis.reindex(columns=check_names)"
   ]
  },
  {
   "cell_type": "markdown",
   "metadata": {},
   "source": [
    "# Exposure"
   ]
  },
  {
   "cell_type": "markdown",
   "metadata": {},
   "source": [
    "# Variables\n",
    "variables = {\n",
    "    \"pdc_study_identifier\": \"PDC000127\",\n",
    "    \"study_id\": \"a5da6836-c92e-4bdc-8f84-d28d629fc383\",\n",
    "    \"offset\": 0,  # set offset records to pull\n",
    "    \"limit\": 10,  # limit number of records\n",
    "    \"data_type\": \"log2_ratio\"  # option: unshared_log2_ratio\n",
    "}"
   ]
  },
  {
   "cell_type": "code",
   "execution_count": 31,
   "metadata": {},
   "outputs": [
    {
     "name": "stdout",
     "output_type": "stream",
     "text": [
      "Sending query.\n"
     ]
    }
   ],
   "source": [
    "exposure_data = query_pdc(query= query_exposure, variables= variables)\n",
    "matrix = json.loads(exposure_data.content)['data'][\"paginatedCaseExposuresPerStudy\"][\"caseExposuresPerStudy\"]\n",
    "exposure_data_df = pd.DataFrame(matrix[1:], columns=matrix[0])\n",
    "exposure_data_df['exposure_id'] = exposure_data_df['exposures'].apply(lambda diag_list: diag_list[0]['exposure_id'] if diag_list else None)\n"
   ]
  },
  {
   "cell_type": "code",
   "execution_count": 32,
   "metadata": {},
   "outputs": [],
   "source": [
    "exposure_df = for_case(matrix = matrix)"
   ]
  },
  {
   "cell_type": "code",
   "execution_count": 33,
   "metadata": {},
   "outputs": [],
   "source": [
    "exposure = pd.merge(left=exposure_data_df, right=exposure_df, on=\"exposure_id\")"
   ]
  },
  {
   "cell_type": "code",
   "execution_count": 34,
   "metadata": {},
   "outputs": [],
   "source": [
    "check_names = ['case_submitter_id', 'age_at_onset', 'alcohol_days_per_week',\n",
    "    'alcohol_drinks_per_day', 'alcohol_history', 'alcohol_intensity',\n",
    "    'alcohol_type', 'asbestos_exposure', 'cigarettes_per_day', \n",
    "    'coal_dust_exposure', 'environmental_tobacco_smoke_exposure', \n",
    "    'exposure_duration', 'exposure_duration_years', 'exposure_type', \n",
    "    'marijuana_use_per_week', 'pack_years_smoked', 'parent_with_radiation_exposure', \n",
    "    'radon_exposure', 'respirable_crystalline_silica_exposure', 'secondhand_smoke_as_child', \n",
    "    'smokeless_tobacco_quit_age', 'smoking_frequency', 'time_between_waking_and_first_smoke', \n",
    "    'tobacco_smoking_onset_year', 'tobacco_smoking_quit_year', 'tobacco_smoking_status', \n",
    "    'tobacco_use_per_day', 'type_of_smoke_exposure', 'type_of_tobacco_used', 'years_smoked']\n",
    "to_remove = list(set(exposure.columns).difference(check_names))"
   ]
  },
  {
   "cell_type": "code",
   "execution_count": 35,
   "metadata": {},
   "outputs": [],
   "source": [
    "exposure = exposure.drop(columns=to_remove)\n",
    "exposure = exposure.reindex(columns=check_names)\n"
   ]
  },
  {
   "cell_type": "markdown",
   "metadata": {},
   "source": [
    "# Family History -- to do"
   ]
  },
  {
   "cell_type": "code",
   "execution_count": 36,
   "metadata": {},
   "outputs": [],
   "source": [
    "#family_data = query_pdc(query= query_family_history, variables=variables)\n",
    "#matrix = json.loads(family_data.content)['data']\n",
    "#matrix"
   ]
  },
  {
   "cell_type": "code",
   "execution_count": 37,
   "metadata": {},
   "outputs": [],
   "source": [
    "#family_hist_df = pd.DataFrame(matrix[1:], columns=matrix[0])\n",
    "#family_hist_df.head()"
   ]
  },
  {
   "cell_type": "markdown",
   "metadata": {},
   "source": [
    "case_submitter_id', 'relationship_age_at_diagnosis',\n",
    "       'relationship_gender', 'relationship_primary_diagnosis',\n",
    "       'relationship_type', 'relative_with_cancer_history        ',\n",
    "       'relatives_with_cancer_history_count "
   ]
  },
  {
   "cell_type": "markdown",
   "metadata": {},
   "source": [
    "# Treatment"
   ]
  },
  {
   "cell_type": "code",
   "execution_count": 38,
   "metadata": {},
   "outputs": [
    {
     "name": "stdout",
     "output_type": "stream",
     "text": [
      "Sending query.\n"
     ]
    }
   ],
   "source": [
    "treatments_data = query_pdc(query= query_treatments, variables=variables)\n",
    "matrix = json.loads(treatments_data.content)['data'][\"paginatedCaseTreatmentsPerStudy\"][\"caseTreatmentsPerStudy\"]\n",
    "treatments_data_df = pd.DataFrame(matrix[1:], columns=matrix[0])\n"
   ]
  },
  {
   "cell_type": "code",
   "execution_count": 39,
   "metadata": {},
   "outputs": [],
   "source": [
    "treatments_data_df['treatment_id'] = treatments_data_df['treatments'].apply(lambda diag_list: diag_list[0]['treatment_id'] if diag_list else None)\n"
   ]
  },
  {
   "cell_type": "code",
   "execution_count": 40,
   "metadata": {},
   "outputs": [],
   "source": [
    "treatments_df = for_treatment(matrix = matrix)\n"
   ]
  },
  {
   "cell_type": "code",
   "execution_count": 41,
   "metadata": {},
   "outputs": [],
   "source": [
    "treatments = pd.merge(left=treatments_data_df, right=treatments_df, on=\"treatment_id\")\n"
   ]
  },
  {
   "cell_type": "code",
   "execution_count": 42,
   "metadata": {},
   "outputs": [],
   "source": [
    "check_names = ['case_submitter_id', 'chemo_concurrent_to_radiation', \n",
    "               'days_to_treatment_end', 'days_to_treatment_start', \n",
    "               'initial_disease_status', 'number_of_cycles', 'reason_treatment_ended', \n",
    "               'regimen_or_line_of_therapy', 'route_of_administration', \n",
    "               'therapeutic_agents', 'treatment_anatomic_site', 'treatment_arm', \n",
    "               'treatment_dose', 'treatment_dose_units', 'treatment_effect', \n",
    "               'treatment_effect_indicator', 'treatment_frequency', 'treatment_intent_type', \n",
    "               'treatment_or_therapy', 'treatment_outcome', 'treatment_type']\n",
    "to_remove = list(set(treatments.columns).difference(check_names))"
   ]
  },
  {
   "cell_type": "code",
   "execution_count": 43,
   "metadata": {},
   "outputs": [],
   "source": [
    "treatments = treatments.drop(columns=to_remove)\n",
    "treatments = treatments.reindex(columns=check_names)\n"
   ]
  },
  {
   "cell_type": "markdown",
   "metadata": {},
   "source": [
    "# Follow up"
   ]
  },
  {
   "cell_type": "code",
   "execution_count": 44,
   "metadata": {},
   "outputs": [
    {
     "name": "stdout",
     "output_type": "stream",
     "text": [
      "Sending query.\n"
     ]
    }
   ],
   "source": [
    "follow_up_data = query_pdc(query= query_follow_up, variables=variables)\n",
    "matrix = json.loads(follow_up_data.content)['data'][\"paginatedCaseFollowUpsPerStudy\"]['caseFollowUpsPerStudy']\n",
    "follow_up_data_df = pd.DataFrame(matrix[1:], columns=matrix[0])\n"
   ]
  },
  {
   "cell_type": "code",
   "execution_count": 45,
   "metadata": {},
   "outputs": [],
   "source": [
    "follow_up_data_df['follow_up_id'] = follow_up_data_df['follow_ups'].apply(lambda diag_list: diag_list[0]['follow_up_id'] if diag_list else None)\n"
   ]
  },
  {
   "cell_type": "code",
   "execution_count": 46,
   "metadata": {},
   "outputs": [],
   "source": [
    "follow_up_df = for_follows_up(matrix = matrix)\n"
   ]
  },
  {
   "cell_type": "code",
   "execution_count": 47,
   "metadata": {},
   "outputs": [],
   "source": [
    "follow_ups = pd.merge(left=follow_up_data_df, right=follow_up_df, on=\"follow_up_id\")\n"
   ]
  },
  {
   "cell_type": "code",
   "execution_count": 48,
   "metadata": {},
   "outputs": [],
   "source": [
    "check_names = ['case_submitter_id', 'days_to_follow_up', 'adverse_event',\n",
    "       'adverse_event_grade', 'aids_risk_factors',\n",
    "       'barretts_esophagus_goblet_cells_present', 'bmi', 'body_surface_area',\n",
    "       'cause_of_response', 'cd4_count', 'cdc_hiv_risk_factors', 'comorbidity',\n",
    "       'comorbidity_method_of_diagnosis', 'days_to_adverse_event',\n",
    "       'days_to_comorbidity', 'days_to_imaging', 'days_to_progression',\n",
    "       'days_to_progression_free', 'days_to_recurrence',\n",
    "       'diabetes_treatment_type', 'disease_response',\n",
    "       'dlco_ref_predictive_percent', 'ecog_performance_status',\n",
    "       'evidence_of_recurrence_type', 'eye_color',\n",
    "       'fev1_fvc_post_bronch_percent', 'fev1_fvc_pre_bronch_percent',\n",
    "       'fev1_ref_post_bronch_percent', 'fev1_ref_pre_bronch_percent',\n",
    "       'haart_treatment_indicator', 'height',\n",
    "       'hepatitis_sustained_virological_response', 'history_of_tumor',\n",
    "       'history_of_tumor_type', 'hiv_viral_load',\n",
    "       'hormonal_contraceptive_type', 'hormonal_contraceptive_use',\n",
    "       'hormone_replacement_therapy_type', 'hpv_positive_type',\n",
    "       'hysterectomy_margins_involved', 'hysterectomy_type', 'imaging_result',\n",
    "       'imaging_type', 'immunosuppressive_treatment_type',\n",
    "       'karnofsky_performance_status', 'menopause_status', 'nadir_cd4_count',\n",
    "       'pancreatitis_onset_year', 'pregnancy_outcome', 'procedures_performed',\n",
    "       'progression_or_recurrence', 'progression_or_recurrence_anatomic_site',\n",
    "       'progression_or_recurrence_type', 'recist_targeted_regions_number',\n",
    "       'recist_targeted_regions_sum', 'reflux_treatment_type', 'risk_factor',\n",
    "       'risk_factor_treatment', 'scan_tracer_used',\n",
    "       'undescended_testis_corrected', 'undescended_testis_corrected_age',\n",
    "       'undescended_testis_corrected_laterality',\n",
    "       'undescended_testis_corrected_method', 'undescended_testis_history',\n",
    "       'undescended_testis_history_laterality', 'viral_hepatitis_serologies',\n",
    "       'weight']\n",
    "to_remove = list(set(follow_ups.columns).difference(check_names))"
   ]
  },
  {
   "cell_type": "code",
   "execution_count": 49,
   "metadata": {},
   "outputs": [],
   "source": [
    "follow_ups = follow_ups.drop(columns=to_remove)\n",
    "follow_ups = follow_ups.reindex(columns=check_names)\n"
   ]
  },
  {
   "cell_type": "markdown",
   "metadata": {},
   "source": [
    "# Sample"
   ]
  },
  {
   "cell_type": "code",
   "execution_count": 50,
   "metadata": {},
   "outputs": [],
   "source": [
    "matrix = json.loads(case_data.content)['data']['case']\n",
    "case_data_df = pd.DataFrame(matrix)"
   ]
  },
  {
   "cell_type": "code",
   "execution_count": 51,
   "metadata": {},
   "outputs": [],
   "source": [
    "sample_df = for_sample(matrix = matrix)"
   ]
  },
  {
   "cell_type": "code",
   "execution_count": 52,
   "metadata": {},
   "outputs": [],
   "source": [
    "check_names = ['sample_submitter_id', 'composition', 'pool', 'sample_type', 'status',\n",
    "       'tissue_type', 'gdc_project_id', 'gdc_sample_id',\n",
    "       'biospecimen_anatomic_site', 'biospecimen_laterality',\n",
    "       'catalog_reference', 'current_weight', 'days_to_collection',\n",
    "       'days_to_sample_procurement', 'diagnosis_pathologically_confirmed',\n",
    "       'distance_normal_to_tumor', 'distributor_reference', 'freezing_method',\n",
    "       'growth_rate', 'initial_weight', 'intermediate_dimension',\n",
    "       'longest_dimension', 'method_of_sample_procurement', 'passage_count',\n",
    "       'pathology_report_uuid', 'preservation_method', 'sample_is_ref',\n",
    "       'sample_ordinal', 'sample_type_id', 'shortest_dimension',\n",
    "       'time_between_clamping_and_freezing',\n",
    "       'time_between_excision_and_freezing', 'tissue_collection_type',\n",
    "       'tumor_code', 'tumor_code_id', 'tumor_descriptor']\n",
    "to_remove = list(set(sample_df.columns).difference(check_names))"
   ]
  },
  {
   "cell_type": "code",
   "execution_count": 53,
   "metadata": {},
   "outputs": [],
   "source": [
    "samples = sample_df.drop(columns=to_remove)\n",
    "samples = samples.reindex(columns=check_names)\n"
   ]
  },
  {
   "cell_type": "markdown",
   "metadata": {},
   "source": [
    "# Aliquots"
   ]
  },
  {
   "cell_type": "code",
   "execution_count": 54,
   "metadata": {},
   "outputs": [
    {
     "name": "stdout",
     "output_type": "stream",
     "text": [
      "Sending query.\n"
     ]
    }
   ],
   "source": [
    "aliquots_data = query_pdc(query= query_aliquots, variables=variables)\n",
    "matrix = json.loads(aliquots_data.content)[\"data\"][\"paginatedCasesSamplesAliquots\"][\"casesSamplesAliquots\"]\n",
    "aliquots_df = pd.DataFrame(matrix)\n"
   ]
  },
  {
   "cell_type": "code",
   "execution_count": 55,
   "metadata": {},
   "outputs": [],
   "source": [
    "aliquots_df['gdc_sample_id'] = aliquots_df['samples'].apply(lambda diag_list: diag_list[0]['gdc_sample_id'] if diag_list else None)\n"
   ]
  },
  {
   "cell_type": "markdown",
   "metadata": {},
   "source": [
    "aliquot_submitter_id', 'aliquot_is_ref', 'pool', 'status',\n",
    "       'aliquot_quantity', 'aliquot_volume', 'amount', 'analyte_type',\n",
    "       'analyte_type_id', 'concentration'"
   ]
  },
  {
   "cell_type": "code",
   "execution_count": 56,
   "metadata": {},
   "outputs": [],
   "source": [
    "tmp = for_aliquots(matrix= matrix)\n",
    "aliquots_df = pd.merge(left=biospecimen_df, right=tmp, on = \"aliquot_submitter_id\",suffixes= (\"\", \"_\"))"
   ]
  },
  {
   "cell_type": "code",
   "execution_count": 57,
   "metadata": {},
   "outputs": [],
   "source": [
    "check_names = ['aliquot_submitter_id', 'aliquot_is_ref', 'pool', 'status',\n",
    "       'aliquot_quantity', 'aliquot_volume', 'amount', 'analyte_type',\n",
    "       'analyte_type_id', 'concentration']\n",
    "to_remove = list(set(aliquots_df.columns).difference(check_names))"
   ]
  },
  {
   "cell_type": "code",
   "execution_count": 58,
   "metadata": {},
   "outputs": [],
   "source": [
    "aliquots_df = aliquots_df.drop(columns=to_remove)\n",
    "aliquots = aliquots_df.reindex(columns=check_names)\n"
   ]
  },
  {
   "cell_type": "markdown",
   "metadata": {},
   "source": [
    "# Study"
   ]
  },
  {
   "cell_type": "code",
   "execution_count": 59,
   "metadata": {},
   "outputs": [
    {
     "name": "stdout",
     "output_type": "stream",
     "text": [
      "Sending query.\n"
     ]
    }
   ],
   "source": [
    "study_data = query_pdc(query= query_study_info, variables=variables)\n",
    "matrix = json.loads(study_data.content)['data']['study']\n",
    "study_df = pd.DataFrame(matrix)\n"
   ]
  },
  {
   "cell_type": "code",
   "execution_count": 60,
   "metadata": {},
   "outputs": [],
   "source": [
    "check_names = ['study_submitter_id', 'analytical_fraction', 'experiment_type',\n",
    "       'acquisition_type', 'study_description', 'embargo_date']\n",
    "to_remove = list(set(study_df.columns).difference(check_names))"
   ]
  },
  {
   "cell_type": "code",
   "execution_count": 61,
   "metadata": {},
   "outputs": [],
   "source": [
    "study = study_df.drop(columns=to_remove)\n",
    "study = study.reindex(columns=check_names)\n"
   ]
  },
  {
   "cell_type": "markdown",
   "metadata": {},
   "source": [
    "# Protocol"
   ]
  },
  {
   "cell_type": "markdown",
   "metadata": {},
   "source": []
  },
  {
   "cell_type": "code",
   "execution_count": 62,
   "metadata": {},
   "outputs": [
    {
     "name": "stdout",
     "output_type": "stream",
     "text": [
      "Sending query.\n"
     ]
    }
   ],
   "source": [
    "protocol_Data = query_pdc(query= query_protocol, variables=variables)\n",
    "matrix = json.loads(protocol_Data.content)['data']['protocolPerStudy']\n",
    "protocol_df = pd.DataFrame(matrix)\n"
   ]
  },
  {
   "cell_type": "code",
   "execution_count": 63,
   "metadata": {},
   "outputs": [],
   "source": [
    "check_names = ['study_submitter_id', 'protocol_name', 'protocol_date', 'document_name',\n",
    "       'quantitation_strategy', 'experiment_type', 'label_free_quantitation',\n",
    "       'labeled_quantitation', 'isobaric_labeling_reagent',\n",
    "       'reporter_ion_ms_level', 'starting_amount', 'starting_amount_uom',\n",
    "       'digestion_reagent', 'alkylation_reagent', 'enrichment_strategy',\n",
    "       'enrichment', 'chromatography_dimensions_count',\n",
    "       '1d_chromatography_type', '2d_chromatography_type',\n",
    "       'fractions_analyzed_count', 'column_type', 'amount_on_column',\n",
    "       'amount_on_column_uom', 'column_length', 'column_length_uom',\n",
    "       'column_inner_diameter', 'column_inner_diameter_uom', 'particle_size',\n",
    "       'particle_size_uom', 'particle_type', 'gradient_length',\n",
    "       'gradient_length_uom', 'instrument_make', 'instrument_model',\n",
    "       'serial_number', 'dissociation_type', 'ms1_resolution',\n",
    "       'ms2_resolution', 'dda_topn', 'normalized_collision_energy',\n",
    "       'acquistion_type', 'dia_multiplexing', 'dia_ims']\n",
    "to_remove = list(set(protocol_df.columns).difference(check_names))"
   ]
  },
  {
   "cell_type": "code",
   "execution_count": 64,
   "metadata": {},
   "outputs": [],
   "source": [
    "protocol = protocol_df.drop(columns=to_remove)\n",
    "protocol = protocol.reindex(columns=check_names)\n"
   ]
  },
  {
   "cell_type": "markdown",
   "metadata": {},
   "source": [
    "# Exp_Metadata"
   ]
  },
  {
   "cell_type": "code",
   "execution_count": 65,
   "metadata": {},
   "outputs": [
    {
     "name": "stdout",
     "output_type": "stream",
     "text": [
      "Sending query.\n"
     ]
    }
   ],
   "source": [
    "expMetadat_data_2 = query_pdc(query= query_expMetadata_2, variables=variables)\n",
    "matrix = json.loads(expMetadat_data_2.content)['data'][\"studyExperimentalDesign\"]\n",
    "expMetadat_data_2 = pd.DataFrame(matrix)\n"
   ]
  },
  {
   "cell_type": "code",
   "execution_count": 66,
   "metadata": {},
   "outputs": [],
   "source": [
    "check_names = ['study_submitter_id', 'experiment_type', 'experiment_number',\n",
    "       'plex_or_folder_name', 'fraction', 'date', 'operator',\n",
    "       'replicate_number', 'condition', 'label_free', 'itraq_113', 'itraq_114',\n",
    "       'itraq_115', 'itraq_116', 'itraq_117', 'itraq_118', 'itraq_119',\n",
    "       'itraq_121', 'tmt_126', 'tmt_127n', 'tmt_127c', 'tmt_128n', 'tmt_128c',\n",
    "       'tmt_129n', 'tmt_129c', 'tmt_130n', 'tmt_130c', 'tmt_131', 'tmt_131c',\n",
    "       'tmt_132n', 'tmt_132c', 'tmt_133n', 'tmt_133c', 'tmt_134n', 'tmt_134c',\n",
    "       'tmt_135n']\n",
    "to_remove = list(set(expMetadat_data_2.columns).difference(check_names))"
   ]
  },
  {
   "cell_type": "code",
   "execution_count": 67,
   "metadata": {},
   "outputs": [],
   "source": [
    "Exp_Metadata = expMetadat_data_2.drop(columns=to_remove)\n",
    "Exp_Metadata = Exp_Metadata.reindex(columns=check_names)\n"
   ]
  },
  {
   "cell_type": "markdown",
   "metadata": {},
   "source": [
    "# File Metadata"
   ]
  },
  {
   "cell_type": "markdown",
   "metadata": {},
   "source": []
  },
  {
   "cell_type": "code",
   "execution_count": 68,
   "metadata": {},
   "outputs": [
    {
     "name": "stdout",
     "output_type": "stream",
     "text": [
      "Sending query.\n"
     ]
    }
   ],
   "source": [
    "file_metadata_data = query_pdc(query= query_file_metadata, variables=variables)\n",
    "matrix = json.loads(file_metadata_data.content)['data'][\"filesPerStudy\"]\n",
    "file_metadata_df = pd.DataFrame(matrix)\n"
   ]
  },
  {
   "cell_type": "code",
   "execution_count": 69,
   "metadata": {},
   "outputs": [],
   "source": [
    "check_names = ['study_submitter_id', 'plex_or_folder_name', 'file_name',\n",
    "       'fraction_number', 'data_category', 'file_type', 'file_format',\n",
    "       'md5sum', 'file_size', \"sha1\"]\n",
    "to_remove = list(set(file_metadata_df.columns).difference(check_names))"
   ]
  },
  {
   "cell_type": "code",
   "execution_count": 70,
   "metadata": {},
   "outputs": [],
   "source": [
    "file_metada = file_metadata_df.drop(columns=to_remove)\n",
    "file_metada = file_metada.reindex(columns=check_names)"
   ]
  },
  {
   "cell_type": "markdown",
   "metadata": {},
   "source": [
    "# Quantitative data"
   ]
  },
  {
   "cell_type": "code",
   "execution_count": 71,
   "metadata": {},
   "outputs": [
    {
     "name": "stdout",
     "output_type": "stream",
     "text": [
      "Sending query.\n"
     ]
    }
   ],
   "source": [
    "quantitative_data = query_pdc(query= query_quantitative, variables=variables)\n",
    "matrix = json.loads(quantitative_data.content)['data'][\"quantDataMatrix\"]\n"
   ]
  },
  {
   "cell_type": "code",
   "execution_count": 72,
   "metadata": {},
   "outputs": [
    {
     "data": {
      "application/vnd.microsoft.datawrangler.viewer.v0+json": {
       "columns": [
        {
         "name": "index",
         "rawType": "int64",
         "type": "integer"
        },
        {
         "name": "Gene/Aliquot",
         "rawType": "object",
         "type": "string"
        },
        {
         "name": "008202d2-207b-11e9-b7f8-0a80fada099c:CPT0026410003",
         "rawType": "object",
         "type": "string"
        },
        {
         "name": "00b60c96-207d-11e9-b7f8-0a80fada099c:CPT0002370001",
         "rawType": "object",
         "type": "string"
        },
        {
         "name": "01d04930-207b-11e9-b7f8-0a80fada099c:CPT0000790001",
         "rawType": "object",
         "type": "string"
        },
        {
         "name": "01fb1ceb-207d-11e9-b7f8-0a80fada099c:QC5",
         "rawType": "object",
         "type": "string"
        },
        {
         "name": "03131a81-207b-11e9-b7f8-0a80fada099c:CPT0019130003",
         "rawType": "object",
         "type": "string"
        },
        {
         "name": "03426a4e-207d-11e9-b7f8-0a80fada099c:CPT0088570001",
         "rawType": "object",
         "type": "string"
        },
        {
         "name": "0456d990-207b-11e9-b7f8-0a80fada099c:CPT0065820001",
         "rawType": "object",
         "type": "string"
        },
        {
         "name": "048b302f-207d-11e9-b7f8-0a80fada099c:CPT0025880003",
         "rawType": "object",
         "type": "string"
        },
        {
         "name": "059e2744-207b-11e9-b7f8-0a80fada099c:NCI7-3",
         "rawType": "object",
         "type": "string"
        },
        {
         "name": "05e469d9-207d-11e9-b7f8-0a80fada099c:CPT0076330003",
         "rawType": "object",
         "type": "string"
        },
        {
         "name": "06e1ffa3-207b-11e9-b7f8-0a80fada099c:CPT0001180009",
         "rawType": "object",
         "type": "string"
        },
        {
         "name": "0733dbb0-207d-11e9-b7f8-0a80fada099c:CPT0078800003",
         "rawType": "object",
         "type": "string"
        },
        {
         "name": "08260229-207b-11e9-b7f8-0a80fada099c:CPT0078660003",
         "rawType": "object",
         "type": "string"
        },
        {
         "name": "08a9bcef-207d-11e9-b7f8-0a80fada099c:CPT0065690003",
         "rawType": "object",
         "type": "string"
        },
        {
         "name": "0996f065-207b-11e9-b7f8-0a80fada099c:CPT0078930003",
         "rawType": "object",
         "type": "string"
        },
        {
         "name": "0a013ece-207d-11e9-b7f8-0a80fada099c:CPT0011240003",
         "rawType": "object",
         "type": "string"
        },
        {
         "name": "0ad5234e-207b-11e9-b7f8-0a80fada099c:CPT0084560003",
         "rawType": "object",
         "type": "string"
        },
        {
         "name": "0b43c35e-207d-11e9-b7f8-0a80fada099c:CPT0012670003",
         "rawType": "object",
         "type": "string"
        },
        {
         "name": "0c2836d4-207b-11e9-b7f8-0a80fada099c:CPT0002350011",
         "rawType": "object",
         "type": "string"
        },
        {
         "name": "0c83f75f-207d-11e9-b7f8-0a80fada099c:CPT0012920003",
         "rawType": "object",
         "type": "string"
        },
        {
         "name": "0d6b3bbd-207b-11e9-b7f8-0a80fada099c:CPT0064370003",
         "rawType": "object",
         "type": "string"
        },
        {
         "name": "0eb1b2a2-207b-11e9-b7f8-0a80fada099c:CPT0088900003",
         "rawType": "object",
         "type": "string"
        },
        {
         "name": "0ff30c9f-207b-11e9-b7f8-0a80fada099c:CPT0006730001",
         "rawType": "object",
         "type": "string"
        },
        {
         "name": "114b8fb3-207b-11e9-b7f8-0a80fada099c:CPT0007870001",
         "rawType": "object",
         "type": "string"
        },
        {
         "name": "1157f93f-207c-11e9-b7f8-0a80fada099c:CPT0087040003",
         "rawType": "object",
         "type": "string"
        },
        {
         "name": "1297c67f-207b-11e9-b7f8-0a80fada099c:CPT0079380003",
         "rawType": "object",
         "type": "string"
        },
        {
         "name": "13ddbede-207b-11e9-b7f8-0a80fada099c:CPT0025170003",
         "rawType": "object",
         "type": "string"
        },
        {
         "name": "151cd5c3-207b-11e9-b7f8-0a80fada099c:CPT0024670003",
         "rawType": "object",
         "type": "string"
        },
        {
         "name": "16657a2f-207b-11e9-b7f8-0a80fada099c:CPT0012640003",
         "rawType": "object",
         "type": "string"
        },
        {
         "name": "16d62f31-207c-11e9-b7f8-0a80fada099c:CPT0078830003",
         "rawType": "object",
         "type": "string"
        },
        {
         "name": "17a86594-207b-11e9-b7f8-0a80fada099c:CPT0021240003",
         "rawType": "object",
         "type": "string"
        },
        {
         "name": "1dd28bfd-207c-11e9-b7f8-0a80fada099c:CPT0071150004",
         "rawType": "object",
         "type": "string"
        },
        {
         "name": "20bd3854-207c-11e9-b7f8-0a80fada099c:CPT0089020003",
         "rawType": "object",
         "type": "string"
        },
        {
         "name": "220ddc75-207c-11e9-b7f8-0a80fada099c:CPT0088970003",
         "rawType": "object",
         "type": "string"
        },
        {
         "name": "235489c8-207c-11e9-b7f8-0a80fada099c:CPT0066480003",
         "rawType": "object",
         "type": "string"
        },
        {
         "name": "24a36cb4-207c-11e9-b7f8-0a80fada099c:CPT0000870016",
         "rawType": "object",
         "type": "string"
        },
        {
         "name": "25f0725e-207c-11e9-b7f8-0a80fada099c:CPT0092790003",
         "rawType": "object",
         "type": "string"
        },
        {
         "name": "27588f6d-207c-11e9-b7f8-0a80fada099c:CPT0025610001",
         "rawType": "object",
         "type": "string"
        },
        {
         "name": "28a1963d-207c-11e9-b7f8-0a80fada099c:CPT0063330001",
         "rawType": "object",
         "type": "string"
        },
        {
         "name": "29f08414-207c-11e9-b7f8-0a80fada099c:CPT0001350001",
         "rawType": "object",
         "type": "string"
        },
        {
         "name": "2b363fec-207c-11e9-b7f8-0a80fada099c:CPT0078940001",
         "rawType": "object",
         "type": "string"
        },
        {
         "name": "2c86b5d6-207c-11e9-b7f8-0a80fada099c:CPT0086830003",
         "rawType": "object",
         "type": "string"
        },
        {
         "name": "2dd6c9f8-207c-11e9-b7f8-0a80fada099c:CPT0088760003",
         "rawType": "object",
         "type": "string"
        },
        {
         "name": "2f2ca7d7-207c-11e9-b7f8-0a80fada099c:CPT0092190003",
         "rawType": "object",
         "type": "string"
        },
        {
         "name": "306e5186-207d-11e9-b7f8-0a80fada099c:CPT0002270011",
         "rawType": "object",
         "type": "string"
        },
        {
         "name": "307a73d3-207c-11e9-b7f8-0a80fada099c:CPT0088550004",
         "rawType": "object",
         "type": "string"
        },
        {
         "name": "31c89f67-207c-11e9-b7f8-0a80fada099c:QC7",
         "rawType": "object",
         "type": "string"
        },
        {
         "name": "32fe9c30-207d-11e9-b7f8-0a80fada099c:CPT0023710001",
         "rawType": "object",
         "type": "string"
        },
        {
         "name": "33434595-207c-11e9-b7f8-0a80fada099c:CPT0077140001",
         "rawType": "object",
         "type": "string"
        },
        {
         "name": "34e37db5-207c-11e9-b7f8-0a80fada099c:CPT0025230003",
         "rawType": "object",
         "type": "string"
        },
        {
         "name": "35819ce5-207d-11e9-b7f8-0a80fada099c:CPT0025050003",
         "rawType": "object",
         "type": "string"
        },
        {
         "name": "36304f2d-207c-11e9-b7f8-0a80fada099c:CPT0075720003",
         "rawType": "object",
         "type": "string"
        },
        {
         "name": "3782f588-207c-11e9-b7f8-0a80fada099c:CPT0012570003",
         "rawType": "object",
         "type": "string"
        },
        {
         "name": "385a906e-207d-11e9-b7f8-0a80fada099c:CPT0089040001",
         "rawType": "object",
         "type": "string"
        },
        {
         "name": "38d4e7c1-207c-11e9-b7f8-0a80fada099c:CPT0017850003",
         "rawType": "object",
         "type": "string"
        },
        {
         "name": "39daad26-207d-11e9-b7f8-0a80fada099c:CPT0019990003",
         "rawType": "object",
         "type": "string"
        },
        {
         "name": "3a2238e7-207c-11e9-b7f8-0a80fada099c:CPT0012900004",
         "rawType": "object",
         "type": "string"
        },
        {
         "name": "3b54d2fa-207d-11e9-b7f8-0a80fada099c:CPT0000780007",
         "rawType": "object",
         "type": "string"
        },
        {
         "name": "3c8eb15b-207b-11e9-b7f8-0a80fada099c:CPT0023360001",
         "rawType": "object",
         "type": "string"
        },
        {
         "name": "3d247fa4-207d-11e9-b7f8-0a80fada099c:QC3",
         "rawType": "object",
         "type": "string"
        },
        {
         "name": "3e70b748-207d-11e9-b7f8-0a80fada099c:CPT0001510001",
         "rawType": "object",
         "type": "string"
        },
        {
         "name": "3f5ee81b-207b-11e9-b7f8-0a80fada099c:CPT0078840001",
         "rawType": "object",
         "type": "string"
        },
        {
         "name": "3fe058ac-207d-11e9-b7f8-0a80fada099c:CPT0010110003",
         "rawType": "object",
         "type": "string"
        },
        {
         "name": "4120be56-207d-11e9-b7f8-0a80fada099c:CPT0086890003",
         "rawType": "object",
         "type": "string"
        },
        {
         "name": "42026751-207b-11e9-b7f8-0a80fada099c:CPT0092290003",
         "rawType": "object",
         "type": "string"
        },
        {
         "name": "426e74cc-207d-11e9-b7f8-0a80fada099c:CPT0020120003",
         "rawType": "object",
         "type": "string"
        },
        {
         "name": "43e8fb7c-207d-11e9-b7f8-0a80fada099c:CPT0088640003",
         "rawType": "object",
         "type": "string"
        },
        {
         "name": "449967eb-207b-11e9-b7f8-0a80fada099c:CPT0088500001",
         "rawType": "object",
         "type": "string"
        },
        {
         "name": "45346ce1-207d-11e9-b7f8-0a80fada099c:CPT0069010001",
         "rawType": "object",
         "type": "string"
        },
        {
         "name": "4654f135-207b-11e9-b7f8-0a80fada099c:CPT0006440003",
         "rawType": "object",
         "type": "string"
        },
        {
         "name": "467c3de2-207d-11e9-b7f8-0a80fada099c:CPT0063630003",
         "rawType": "object",
         "type": "string"
        },
        {
         "name": "47b1aae9-207b-11e9-b7f8-0a80fada099c:CPT0001550001",
         "rawType": "object",
         "type": "string"
        },
        {
         "name": "47c37cd2-207d-11e9-b7f8-0a80fada099c:CPT0086950003",
         "rawType": "object",
         "type": "string"
        },
        {
         "name": "4916d489-207b-11e9-b7f8-0a80fada099c:CPT0014350001",
         "rawType": "object",
         "type": "string"
        },
        {
         "name": "49383d15-207d-11e9-b7f8-0a80fada099c:CPT0014470001",
         "rawType": "object",
         "type": "string"
        },
        {
         "name": "4a742bfa-207b-11e9-b7f8-0a80fada099c:CPT0086360003",
         "rawType": "object",
         "type": "string"
        },
        {
         "name": "4aaae3ca-207d-11e9-b7f8-0a80fada099c:CPT0069160003",
         "rawType": "object",
         "type": "string"
        },
        {
         "name": "4bc0aefd-207b-11e9-b7f8-0a80fada099c:CPT0006950001",
         "rawType": "object",
         "type": "string"
        },
        {
         "name": "4bf2326a-207d-11e9-b7f8-0a80fada099c:CPT0007860003",
         "rawType": "object",
         "type": "string"
        },
        {
         "name": "4d077e4f-207b-11e9-b7f8-0a80fada099c:CPT0082010001",
         "rawType": "object",
         "type": "string"
        },
        {
         "name": "4d354a7a-207d-11e9-b7f8-0a80fada099c:CPT0079230003",
         "rawType": "object",
         "type": "string"
        },
        {
         "name": "4e5d7b97-207b-11e9-b7f8-0a80fada099c:CPT0001340003",
         "rawType": "object",
         "type": "string"
        },
        {
         "name": "4e95edff-207d-11e9-b7f8-0a80fada099c:CPT0011410003",
         "rawType": "object",
         "type": "string"
        },
        {
         "name": "4fccfaee-207b-11e9-b7f8-0a80fada099c:NCI7-4",
         "rawType": "object",
         "type": "string"
        },
        {
         "name": "4ff4ce55-207d-11e9-b7f8-0a80fada099c:CPT0079180003",
         "rawType": "object",
         "type": "string"
        },
        {
         "name": "5140eb3e-207d-11e9-b7f8-0a80fada099c:CPT0012080003",
         "rawType": "object",
         "type": "string"
        },
        {
         "name": "5148838a-207b-11e9-b7f8-0a80fada099c:CPT0084590001",
         "rawType": "object",
         "type": "string"
        },
        {
         "name": "528d3ba6-207b-11e9-b7f8-0a80fada099c:CPT0063640001",
         "rawType": "object",
         "type": "string"
        },
        {
         "name": "53463503-207d-11e9-b7f8-0a80fada099c:CPT0009000003",
         "rawType": "object",
         "type": "string"
        },
        {
         "name": "53d6f7e7-207b-11e9-b7f8-0a80fada099c:CPT0010170001",
         "rawType": "object",
         "type": "string"
        },
        {
         "name": "551a9c65-207b-11e9-b7f8-0a80fada099c:CPT0079270003",
         "rawType": "object",
         "type": "string"
        },
        {
         "name": "566ca63d-207b-11e9-b7f8-0a80fada099c:CPT0069190001",
         "rawType": "object",
         "type": "string"
        },
        {
         "name": "57afbe19-207b-11e9-b7f8-0a80fada099c:CPT0001270001",
         "rawType": "object",
         "type": "string"
        },
        {
         "name": "58fca3dd-207b-11e9-b7f8-0a80fada099c:CPT0015810003",
         "rawType": "object",
         "type": "string"
        },
        {
         "name": "5a727e6c-207b-11e9-b7f8-0a80fada099c:CPT0025110003",
         "rawType": "object",
         "type": "string"
        },
        {
         "name": "5be3dddd-207b-11e9-b7f8-0a80fada099c:CPT0024680001",
         "rawType": "object",
         "type": "string"
        },
        {
         "name": "5d262498-207b-11e9-b7f8-0a80fada099c:CPT0012090003",
         "rawType": "object",
         "type": "string"
        },
        {
         "name": "5e722c30-207b-11e9-b7f8-0a80fada099c:CPT0009020003",
         "rawType": "object",
         "type": "string"
        },
        {
         "name": "5eeab785-207c-11e9-b7f8-0a80fada099c:CPT0077310003",
         "rawType": "object",
         "type": "string"
        },
        {
         "name": "6196b261-207c-11e9-b7f8-0a80fada099c:CPT0077490003",
         "rawType": "object",
         "type": "string"
        },
        {
         "name": "642e657a-207c-11e9-b7f8-0a80fada099c:CPT0014160003",
         "rawType": "object",
         "type": "string"
        },
        {
         "name": "66d1c302-207c-11e9-b7f8-0a80fada099c:CPT0078530001",
         "rawType": "object",
         "type": "string"
        },
        {
         "name": "685030d7-207c-11e9-b7f8-0a80fada099c:CPT0020020001",
         "rawType": "object",
         "type": "string"
        },
        {
         "name": "69a2f0f2-207c-11e9-b7f8-0a80fada099c:CPT0066520001",
         "rawType": "object",
         "type": "string"
        },
        {
         "name": "6aede586-207c-11e9-b7f8-0a80fada099c:CPT0014370004",
         "rawType": "object",
         "type": "string"
        },
        {
         "name": "6c3dac2d-207c-11e9-b7f8-0a80fada099c:CPT0001500009",
         "rawType": "object",
         "type": "string"
        },
        {
         "name": "6d8533f5-207c-11e9-b7f8-0a80fada099c:CPT0081600003",
         "rawType": "object",
         "type": "string"
        },
        {
         "name": "6edbfcd8-207c-11e9-b7f8-0a80fada099c:CPT0001190001",
         "rawType": "object",
         "type": "string"
        },
        {
         "name": "7023d46a-207c-11e9-b7f8-0a80fada099c:QC4",
         "rawType": "object",
         "type": "string"
        },
        {
         "name": "7193d2f6-207c-11e9-b7f8-0a80fada099c:CPT0088630003",
         "rawType": "object",
         "type": "string"
        },
        {
         "name": "72e73888-207c-11e9-b7f8-0a80fada099c:CPT0069000003",
         "rawType": "object",
         "type": "string"
        },
        {
         "name": "742ad47a-207c-11e9-b7f8-0a80fada099c:CPT0088710001",
         "rawType": "object",
         "type": "string"
        },
        {
         "name": "75b2fb4c-207c-11e9-b7f8-0a80fada099c:CPT0092160003",
         "rawType": "object",
         "type": "string"
        },
        {
         "name": "76f7515f-207c-11e9-b7f8-0a80fada099c:QC6",
         "rawType": "object",
         "type": "string"
        },
        {
         "name": "784252f6-207c-11e9-b7f8-0a80fada099c:CPT0006630003",
         "rawType": "object",
         "type": "string"
        },
        {
         "name": "798af08f-207c-11e9-b7f8-0a80fada099c:CPT0001260009",
         "rawType": "object",
         "type": "string"
        },
        {
         "name": "7b0770b2-207c-11e9-b7f8-0a80fada099c:CPT0065750003",
         "rawType": "object",
         "type": "string"
        },
        {
         "name": "7cd7c01b-207c-11e9-b7f8-0a80fada099c:CPT0065930003",
         "rawType": "object",
         "type": "string"
        },
        {
         "name": "7e2d2db8-207c-11e9-b7f8-0a80fada099c:CPT0012770003",
         "rawType": "object",
         "type": "string"
        },
        {
         "name": "7f73fefb-207c-11e9-b7f8-0a80fada099c:CPT0012180003",
         "rawType": "object",
         "type": "string"
        },
        {
         "name": "80ce9cee-207c-11e9-b7f8-0a80fada099c:CPT0017410003",
         "rawType": "object",
         "type": "string"
        },
        {
         "name": "8346c222-207b-11e9-b7f8-0a80fada099c:CPT0023350003",
         "rawType": "object",
         "type": "string"
        },
        {
         "name": "8674cf69-207b-11e9-b7f8-0a80fada099c:CPT0075570001",
         "rawType": "object",
         "type": "string"
        },
        {
         "name": "8901e3ed-207b-11e9-b7f8-0a80fada099c:CPT0014130001",
         "rawType": "object",
         "type": "string"
        },
        {
         "name": "8bd7caf2-207b-11e9-b7f8-0a80fada099c:CPT0078510003",
         "rawType": "object",
         "type": "string"
        },
        {
         "name": "8d2a1548-207b-11e9-b7f8-0a80fada099c:CPT0066470004",
         "rawType": "object",
         "type": "string"
        },
        {
         "name": "8e742524-207b-11e9-b7f8-0a80fada099c:CPT0065450001",
         "rawType": "object",
         "type": "string"
        },
        {
         "name": "8fc8804b-207b-11e9-b7f8-0a80fada099c:CPT0079000001",
         "rawType": "object",
         "type": "string"
        },
        {
         "name": "910fa8ff-207b-11e9-b7f8-0a80fada099c:CPT0092800003",
         "rawType": "object",
         "type": "string"
        },
        {
         "name": "9255ab14-207b-11e9-b7f8-0a80fada099c:CPT0006900003",
         "rawType": "object",
         "type": "string"
        },
        {
         "name": "93b8a14c-207b-11e9-b7f8-0a80fada099c:CPT0015910003",
         "rawType": "object",
         "type": "string"
        },
        {
         "name": "95003080-207b-11e9-b7f8-0a80fada099c:CPT0020130001",
         "rawType": "object",
         "type": "string"
        },
        {
         "name": "96543299-207b-11e9-b7f8-0a80fada099c:CPT0089480003",
         "rawType": "object",
         "type": "string"
        },
        {
         "name": "97d84ba0-207b-11e9-b7f8-0a80fada099c:CPT0007470001",
         "rawType": "object",
         "type": "string"
        },
        {
         "name": "99314714-207b-11e9-b7f8-0a80fada099c:NCI7-5",
         "rawType": "object",
         "type": "string"
        },
        {
         "name": "9a7b2ee4-207b-11e9-b7f8-0a80fada099c:CPT0064400001",
         "rawType": "object",
         "type": "string"
        },
        {
         "name": "9bf16347-207b-11e9-b7f8-0a80fada099c:CPT0088920001",
         "rawType": "object",
         "type": "string"
        },
        {
         "name": "9d3fde79-207b-11e9-b7f8-0a80fada099c:CPT0092730003",
         "rawType": "object",
         "type": "string"
        },
        {
         "name": "9e86180b-207b-11e9-b7f8-0a80fada099c:CPT0077110003",
         "rawType": "object",
         "type": "string"
        },
        {
         "name": "9fca1441-207b-11e9-b7f8-0a80fada099c:CPT0086030003",
         "rawType": "object",
         "type": "string"
        },
        {
         "name": "a117e862-207b-11e9-b7f8-0a80fada099c:CPT0025290003",
         "rawType": "object",
         "type": "string"
        },
        {
         "name": "a25cd5c3-207b-11e9-b7f8-0a80fada099c:CPT0012550003",
         "rawType": "object",
         "type": "string"
        },
        {
         "name": "a3a51776-207b-11e9-b7f8-0a80fada099c:CPT0018250001",
         "rawType": "object",
         "type": "string"
        },
        {
         "name": "a4ed2117-207b-11e9-b7f8-0a80fada099c:CPT0017450001",
         "rawType": "object",
         "type": "string"
        },
        {
         "name": "a6231a02-207c-11e9-b7f8-0a80fada099c:CPT0077320001",
         "rawType": "object",
         "type": "string"
        },
        {
         "name": "a8dbbab8-207c-11e9-b7f8-0a80fada099c:CPT0077500001",
         "rawType": "object",
         "type": "string"
        },
        {
         "name": "ab6a49a0-207c-11e9-b7f8-0a80fada099c:CPT0092310003",
         "rawType": "object",
         "type": "string"
        },
        {
         "name": "ae1cd4d5-207c-11e9-b7f8-0a80fada099c:CPT0079480003",
         "rawType": "object",
         "type": "string"
        },
        {
         "name": "af5caae9-207c-11e9-b7f8-0a80fada099c:CPT0006530001",
         "rawType": "object",
         "type": "string"
        },
        {
         "name": "b0b74315-207c-11e9-b7f8-0a80fada099c:CPT0065430003",
         "rawType": "object",
         "type": "string"
        },
        {
         "name": "b1f7c7f4-207c-11e9-b7f8-0a80fada099c:CPT0019160001",
         "rawType": "object",
         "type": "string"
        },
        {
         "name": "b35045b4-207c-11e9-b7f8-0a80fada099c:NCI7-2",
         "rawType": "object",
         "type": "string"
        },
        {
         "name": "b493ec56-207c-11e9-b7f8-0a80fada099c:CPT0081620001",
         "rawType": "object",
         "type": "string"
        },
        {
         "name": "b6379df5-207c-11e9-b7f8-0a80fada099c:CPT0063320003",
         "rawType": "object",
         "type": "string"
        },
        {
         "name": "b7b08bd5-207c-11e9-b7f8-0a80fada099c:CPT0078670001",
         "rawType": "object",
         "type": "string"
        },
        {
         "name": "b8ee446f-207c-11e9-b7f8-0a80fada099c:CPT0089460004",
         "rawType": "object",
         "type": "string"
        },
        {
         "name": "ba739d9f-207c-11e9-b7f8-0a80fada099c:CPT0007320003",
         "rawType": "object",
         "type": "string"
        },
        {
         "name": "bbd623a6-207c-11e9-b7f8-0a80fada099c:CPT0088690003",
         "rawType": "object",
         "type": "string"
        },
        {
         "name": "bd1dcfdb-207c-11e9-b7f8-0a80fada099c:CPT0010160003",
         "rawType": "object",
         "type": "string"
        },
        {
         "name": "be615e85-207c-11e9-b7f8-0a80fada099c:CPT0014450004",
         "rawType": "object",
         "type": "string"
        },
        {
         "name": "bfa4eefe-207c-11e9-b7f8-0a80fada099c:CPT0025920001",
         "rawType": "object",
         "type": "string"
        },
        {
         "name": "c1118547-207c-11e9-b7f8-0a80fada099c:CPT0076350001",
         "rawType": "object",
         "type": "string"
        },
        {
         "name": "c257584e-207c-11e9-b7f8-0a80fada099c:CPT0015730003",
         "rawType": "object",
         "type": "string"
        },
        {
         "name": "c396cf73-207c-11e9-b7f8-0a80fada099c:CPT0025350003",
         "rawType": "object",
         "type": "string"
        },
        {
         "name": "c4d4e38f-207c-11e9-b7f8-0a80fada099c:CPT0012370003",
         "rawType": "object",
         "type": "string"
        },
        {
         "name": "c61982bb-207c-11e9-b7f8-0a80fada099c:CPT0012280003",
         "rawType": "object",
         "type": "string"
        },
        {
         "name": "c75dd87b-207c-11e9-b7f8-0a80fada099c:CPT0009080003",
         "rawType": "object",
         "type": "string"
        },
        {
         "name": "ca3dd19f-207b-11e9-b7f8-0a80fada099c:CPT0079410003",
         "rawType": "object",
         "type": "string"
        },
        {
         "name": "cccb2f76-207b-11e9-b7f8-0a80fada099c:CPT0075560003",
         "rawType": "object",
         "type": "string"
        },
        {
         "name": "cf613331-207b-11e9-b7f8-0a80fada099c:CPT0001230001",
         "rawType": "object",
         "type": "string"
        },
        {
         "name": "d2082c62-207b-11e9-b7f8-0a80fada099c:CPT0079510001",
         "rawType": "object",
         "type": "string"
        },
        {
         "name": "d35863cc-207b-11e9-b7f8-0a80fada099c:CPT0066430001",
         "rawType": "object",
         "type": "string"
        },
        {
         "name": "d4a47ef4-207b-11e9-b7f8-0a80fada099c:CPT0001540009",
         "rawType": "object",
         "type": "string"
        },
        {
         "name": "d5f1046a-207b-11e9-b7f8-0a80fada099c:CPT0078990003",
         "rawType": "object",
         "type": "string"
        },
        {
         "name": "d735673a-207b-11e9-b7f8-0a80fada099c:CPT0065810003",
         "rawType": "object",
         "type": "string"
        },
        {
         "name": "d88fbef2-207b-11e9-b7f8-0a80fada099c:CPT0010120001",
         "rawType": "object",
         "type": "string"
        },
        {
         "name": "da1afb52-207b-11e9-b7f8-0a80fada099c:CPT0086870003",
         "rawType": "object",
         "type": "string"
        },
        {
         "name": "db65d37e-207b-11e9-b7f8-0a80fada099c:CPT0075170001",
         "rawType": "object",
         "type": "string"
        },
        {
         "name": "dcd5adec-207b-11e9-b7f8-0a80fada099c:CPT0000640003",
         "rawType": "object",
         "type": "string"
        },
        {
         "name": "de1e8327-207b-11e9-b7f8-0a80fada099c:CPT0065870003",
         "rawType": "object",
         "type": "string"
        },
        {
         "name": "df65a013-207b-11e9-b7f8-0a80fada099c:CPT0088780001",
         "rawType": "object",
         "type": "string"
        },
        {
         "name": "e0b5bba7-207b-11e9-b7f8-0a80fada099c:CPT0086970003",
         "rawType": "object",
         "type": "string"
        },
        {
         "name": "e201ab41-207b-11e9-b7f8-0a80fada099c:CPT0079300001",
         "rawType": "object",
         "type": "string"
        },
        {
         "name": "e384364b-207b-11e9-b7f8-0a80fada099c:CPT0092740003",
         "rawType": "object",
         "type": "string"
        },
        {
         "name": "e4cb0a73-207b-11e9-b7f8-0a80fada099c:QC8",
         "rawType": "object",
         "type": "string"
        },
        {
         "name": "e61244f9-207b-11e9-b7f8-0a80fada099c:CPT0085670003",
         "rawType": "object",
         "type": "string"
        },
        {
         "name": "e7885ec3-207b-11e9-b7f8-0a80fada099c:CPT0081880003",
         "rawType": "object",
         "type": "string"
        },
        {
         "name": "e8ec4922-207b-11e9-b7f8-0a80fada099c:CPT0013790003",
         "rawType": "object",
         "type": "string"
        },
        {
         "name": "ea37c8ec-207b-11e9-b7f8-0a80fada099c:CPT0012290003",
         "rawType": "object",
         "type": "string"
        },
        {
         "name": "eab2a877-207c-11e9-b7f8-0a80fada099c:CPT0087050003",
         "rawType": "object",
         "type": "string"
        },
        {
         "name": "eb7d8fc8-207b-11e9-b7f8-0a80fada099c:CPT0009060003",
         "rawType": "object",
         "type": "string"
        },
        {
         "name": "ed92a12b-207c-11e9-b7f8-0a80fada099c:CPT0023690003",
         "rawType": "object",
         "type": "string"
        },
        {
         "name": "f0fc203f-207c-11e9-b7f8-0a80fada099c:CPT0001220008",
         "rawType": "object",
         "type": "string"
        },
        {
         "name": "f4033c64-207c-11e9-b7f8-0a80fada099c:CPT0088480003",
         "rawType": "object",
         "type": "string"
        },
        {
         "name": "f547b125-207c-11e9-b7f8-0a80fada099c:CPT0026420001",
         "rawType": "object",
         "type": "string"
        },
        {
         "name": "f663550c-207a-11e9-b7f8-0a80fada099c:CPT0079430001",
         "rawType": "object",
         "type": "string"
        },
        {
         "name": "f6a13fc6-207c-11e9-b7f8-0a80fada099c:QC2",
         "rawType": "object",
         "type": "string"
        },
        {
         "name": "f7e70788-207c-11e9-b7f8-0a80fada099c:CPT0000890001",
         "rawType": "object",
         "type": "string"
        },
        {
         "name": "f9267c07-207c-11e9-b7f8-0a80fada099c:CPT0086370003",
         "rawType": "object",
         "type": "string"
        },
        {
         "name": "f94c2e40-207a-11e9-b7f8-0a80fada099c:NCI7-1",
         "rawType": "object",
         "type": "string"
        },
        {
         "name": "fa672cb4-207c-11e9-b7f8-0a80fada099c:CPT0025580004",
         "rawType": "object",
         "type": "string"
        },
        {
         "name": "fbac3dee-207c-11e9-b7f8-0a80fada099c:CPT0081990003",
         "rawType": "object",
         "type": "string"
        },
        {
         "name": "fc3cdfd4-207a-11e9-b7f8-0a80fada099c:CPT0025060001",
         "rawType": "object",
         "type": "string"
        },
        {
         "name": "fcea1e53-207c-11e9-b7f8-0a80fada099c:CPT0075130003",
         "rawType": "object",
         "type": "string"
        },
        {
         "name": "fe2c0e45-207c-11e9-b7f8-0a80fada099c:CPT0000660001",
         "rawType": "object",
         "type": "string"
        },
        {
         "name": "fef82450-207a-11e9-b7f8-0a80fada099c:QC1",
         "rawType": "object",
         "type": "string"
        },
        {
         "name": "ff704795-207c-11e9-b7f8-0a80fada099c:CPT0086820003",
         "rawType": "object",
         "type": "string"
        }
       ],
       "conversionMethod": "pd.DataFrame",
       "ref": "c2f6aa54-d1f6-4210-b46a-1d8d4b699119",
       "rows": [
        [
         "0",
         "A1BG",
         "-1.0967",
         "0.1012",
         "-0.6064",
         "-1.0423",
         "0.5464",
         "-0.4046",
         "-0.5677",
         "-0.2304",
         "-1.9938",
         "0.9227",
         "-0.7143",
         "-0.6062",
         "-0.3050",
         "0.6512",
         "0.4088",
         "0.7875",
         "0.4817",
         "-0.5652",
         "0.5338",
         "0.1347",
         "1.1843",
         "0.4926",
         "-0.0415",
         "-0.2442",
         "0.5898",
         "-0.0399",
         "0.2265",
         "-0.6997",
         "-0.0298",
         "-0.6442",
         "0.0778",
         "0.2284",
         "0.7236",
         "-0.8039",
         "1.2859",
         "0.1041",
         "0.1032",
         "-0.4791",
         "0.0253",
         "-0.1102",
         "-0.5457",
         "-0.3511",
         "0.3919",
         "0.0777",
         "0.2829",
         "-0.9982",
         "-1.0951",
         "-0.4493",
         "-0.1992",
         "0.0380",
         "-0.1872",
         "0.3667",
         "0.1314",
         "-0.1306",
         "-0.4520",
         "0.7939",
         "0.4293",
         "0.5803",
         "-0.5595",
         "-1.1258",
         "-0.2224",
         "-0.2550",
         "-0.2897",
         "-0.1472",
         "0.3869",
         "0.0111",
         "0.0985",
         "-0.2973",
         "0.0087",
         "-0.0068",
         "1.0500",
         "0.2577",
         "-0.7686",
         "-0.3167",
         "-0.2516",
         "0.0445",
         "0.4295",
         "-0.2355",
         "0.6652",
         "-0.3209",
         "0.4661",
         "-0.6546",
         "0.2121",
         "-1.8485",
         "-0.6657",
         "0.0709",
         "0.1312",
         "-0.2189",
         "0.1301",
         "-0.5590",
         "0.0451",
         "0.3852",
         "-0.3499",
         "-0.1367",
         "0.5935",
         "0.1133",
         "0.1036",
         "0.4591",
         "0.9399",
         "0.1759",
         "0.6025",
         "-0.0162",
         "0.0833",
         "0.4436",
         "-0.1710",
         "-0.0244",
         "-0.0478",
         "-0.3100",
         "-1.0642",
         "0.1498",
         "0.1712",
         "-0.2406",
         "-0.1436",
         "-1.0204",
         "0.2259",
         "-0.1944",
         "0.8210",
         "1.1677",
         "-0.0764",
         "-1.0433",
         "0.1800",
         "-0.5214",
         "-0.0791",
         "-0.2038",
         "0.8244",
         "0.0893",
         "-0.6639",
         "-0.1481",
         "-0.5336",
         "0.6032",
         "1.1492",
         "-0.2003",
         "-0.1299",
         "0.3013",
         "-1.7370",
         "-0.2813",
         "-0.1289",
         "0.6139",
         "-0.6299",
         "0.7302",
         "-0.0180",
         "0.7206",
         "0.0179",
         "-0.3696",
         "0.0155",
         "-0.2027",
         "-0.2772",
         "-0.0368",
         "-0.1803",
         "-0.5543",
         "-0.0156",
         "-2.6055",
         "-0.1511",
         "1.4809",
         "0.1749",
         "0.1806",
         "0.0143",
         "-0.2216",
         "-0.2869",
         "-0.5497",
         "-0.0062",
         "-0.0744",
         "-0.1463",
         "0.1975",
         "-0.2645",
         "-0.2154",
         "-0.2838",
         "-0.0605",
         "0.5049",
         "-0.4352",
         "0.6237",
         "-0.3532",
         "-0.6704",
         "-0.8094",
         "-0.3419",
         "0.3588",
         "-0.5410",
         "0.5570",
         "1.0401",
         "0.3216",
         "0.2119",
         "-0.0060",
         "0.5023",
         "-0.4657",
         "-0.9996",
         "0.1344",
         "0.2676",
         "0.0980",
         "-0.3447",
         "0.2087",
         "-0.3791",
         "0.4378",
         "0.6129",
         "-0.1985",
         "-0.4830",
         "-0.3546",
         "-1.0042",
         "-0.1866",
         "0.0551",
         "-2.2924",
         "-0.1332",
         "0.8185",
         "-0.2213",
         "0.1086",
         "-0.8370",
         "-1.1657",
         "-0.4811"
        ],
        [
         "1",
         "A1CF",
         "0.2450",
         "-0.3086",
         "0.5539",
         "-2.1297",
         "0.6212",
         "0.0107",
         "0.1948",
         "-0.2769",
         "-1.2396",
         "-1.1081",
         "-0.3470",
         "-0.0598",
         "-2.3945",
         "-0.4622",
         "0.5048",
         "0.0233",
         "-1.6083",
         "-0.4546",
         "-0.4724",
         "0.1098",
         "-0.1734",
         "0.0019",
         "0.5860",
         "0.3162",
         "-0.0140",
         "-0.5934",
         "-0.2673",
         "0.2445",
         "-0.6988",
         "0.9026",
         "-1.0771",
         "0.5631",
         "-0.2983",
         "-1.7858",
         "-0.4658",
         "0.3555",
         "-0.4411",
         "0.4557",
         "-0.0417",
         "0.5623",
         "0.2636",
         "0.0156",
         "-0.5469",
         "-1.2387",
         "-1.2597",
         "-1.6185",
         "-1.6895",
         "0.6157",
         "0.5834",
         "-1.6971",
         "-0.2711",
         "-0.2835",
         "0.5453",
         "0.2194",
         "-1.7887",
         "-0.7623",
         "1.1843",
         "-0.4647",
         "0.5704",
         "-1.7759",
         "-0.0588",
         "0.7019",
         "-0.3692",
         "0.2363",
         "-0.9352",
         "-1.1459",
         "0.0128",
         "0.1759",
         "0.1368",
         "-1.0058",
         "-1.1278",
         "-0.0477",
         "0.2450",
         "0.5045",
         "0.0350",
         "-0.4244",
         "1.0536",
         "0.7103",
         "0.3733",
         "0.3850",
         "0.3454",
         "-2.3300",
         "-1.1665",
         "-1.3741",
         "-1.6284",
         "-0.2730",
         "-0.7042",
         "0.3475",
         "-0.1703",
         "0.4255",
         "0.1823",
         "-0.5386",
         "-0.4642",
         "-0.3920",
         "0.2680",
         "0.0949",
         "0.5282",
         "0.0482",
         "-0.1260",
         "-0.1237",
         "-0.2316",
         "0.6013",
         "0.1983",
         "0.1559",
         "-1.0136",
         "0.3326",
         "-0.5745",
         "-0.1472",
         "-2.1722",
         "-0.9364",
         "-1.2285",
         "0.3608",
         "-0.2421",
         "-1.5970",
         "0.2212",
         "-0.7423",
         "-0.1931",
         "-0.4341",
         "0.6822",
         "-1.9822",
         "-0.3440",
         "-0.3015",
         "0.3342",
         "0.5230",
         "-0.7797",
         "-0.3135",
         "0.5959",
         "0.3850",
         "0.7750",
         "-0.0807",
         "-0.6819",
         "0.3274",
         "0.5232",
         "0.3389",
         "-1.1999",
         "0.2172",
         "0.6330",
         "-0.7182",
         "0.1023",
         "-0.4276",
         "-0.0187",
         "-1.4407",
         "0.3020",
         "0.1469",
         "-1.0465",
         "0.3038",
         "0.6377",
         "-0.1727",
         "0.1165",
         "-0.4685",
         "0.0967",
         "-1.2231",
         "0.4273",
         "0.0649",
         "0.3328",
         "0.4413",
         "-0.2849",
         "0.4461",
         "-0.0309",
         "0.3191",
         "0.1036",
         "0.6677",
         "-0.5382",
         "0.0355",
         "0.0292",
         "-1.5349",
         "0.5695",
         "0.2914",
         "-0.5904",
         "-0.2958",
         "-1.2252",
         "0.6680",
         "0.5267",
         "-0.1735",
         "0.1752",
         "-0.2593",
         "-0.5417",
         "-0.3646",
         "-1.0913",
         "0.3580",
         "0.6545",
         "0.3162",
         "-1.0227",
         "0.7860",
         "-2.1075",
         "0.1599",
         "-1.1336",
         "0.3780",
         "0.3265",
         "0.5754",
         "0.4996",
         "-0.1758",
         "0.3500",
         "-0.9577",
         "0.5542",
         "0.4205",
         "-1.6901",
         "0.4798",
         "0.4191",
         "-1.3478",
         "0.1615",
         "0.2765",
         "0.8436",
         "-1.7144",
         "0.0556",
         "-1.9917",
         "-0.9000"
        ],
        [
         "2",
         "A2M",
         "-0.7675",
         "0.0001",
         "-0.6975",
         "-0.7303",
         "0.5146",
         "-0.4792",
         "-0.3842",
         "-0.0805",
         "-2.7700",
         "1.5068",
         "-0.5647",
         "-1.3628",
         "-0.4873",
         "0.8922",
         "1.1221",
         "0.4906",
         "0.8437",
         "-0.5231",
         "0.1132",
         "0.4975",
         "0.6646",
         "0.8371",
         "-0.0454",
         "-0.4762",
         "0.6659",
         "-0.5447",
         "-0.1145",
         "-0.3332",
         "0.0637",
         "-0.1526",
         "0.4338",
         "-0.4793",
         "0.9073",
         "-0.8085",
         "0.4035",
         "1.2140",
         "-0.3442",
         "-1.1141",
         "-0.0303",
         "-0.2449",
         "-0.6366",
         "-0.5988",
         "-0.0988",
         "0.2237",
         "0.1093",
         "-0.7804",
         "-0.7210",
         "-0.2450",
         "-0.6255",
         "0.1816",
         "0.4363",
         "0.3064",
         "0.0583",
         "0.1128",
         "0.0952",
         "0.9217",
         "0.9284",
         "-0.8262",
         "-1.1527",
         "-0.7353",
         "-0.5460",
         "-0.6729",
         "0.5224",
         "-0.4692",
         "0.2820",
         "0.0822",
         "-0.3659",
         "-0.0579",
         "-0.5481",
         "0.1062",
         "1.8675",
         "0.9830",
         "0.1992",
         "-0.7492",
         "-0.6221",
         "0.6353",
         "0.7018",
         "-1.1875",
         "0.5478",
         "0.2858",
         "1.0639",
         "-0.1677",
         "1.3055",
         "-2.8584",
         "-0.4889",
         "-0.1900",
         "0.2740",
         "-0.5116",
         "0.7212",
         "-0.3530",
         "-0.2587",
         "0.2153",
         "-0.7685",
         "0.1678",
         "0.0145",
         "-0.2465",
         "-0.7632",
         "0.4732",
         "0.5999",
         "-1.0925",
         "0.8798",
         "-0.5194",
         "-0.1962",
         "-0.4994",
         "-0.3132",
         "0.0743",
         "-0.4929",
         "-0.5371",
         "-0.7420",
         "-0.5240",
         "-0.2314",
         "-0.9155",
         "0.3036",
         "-0.7643",
         "0.8139",
         "-0.4324",
         "0.5891",
         "0.6253",
         "-0.4965",
         "-0.7978",
         "-0.1446",
         "-0.9943",
         "-0.6604",
         "-0.8755",
         "0.5811",
         "0.0842",
         "-0.4244",
         "-0.3426",
         "-1.4465",
         "0.1329",
         "1.5401",
         "-0.6328",
         "-0.4686",
         "-0.5288",
         "-2.6337",
         "-0.5153",
         "0.0047",
         "-0.5164",
         "-0.4914",
         "0.5250",
         "-0.2317",
         "1.3569",
         "-0.2680",
         "-0.6156",
         "-0.2412",
         "-0.3897",
         "-0.7151",
         "-0.3155",
         "-0.5211",
         "-0.4091",
         "0.2715",
         "-2.9366",
         "-0.7558",
         "1.5046",
         "-0.3985",
         "-0.3812",
         "-0.6886",
         "-0.2580",
         "-0.3246",
         "-0.2972",
         "-0.0773",
         "0.6685",
         "0.7392",
         "-0.3305",
         "-0.6423",
         "-0.0100",
         "-0.6623",
         "-0.1144",
         "0.4804",
         "-0.0970",
         "0.4987",
         "-0.1591",
         "-0.3380",
         "-0.2480",
         "-0.3006",
         "0.4076",
         "-0.7853",
         "0.3058",
         "0.8438",
         "0.3674",
         "-0.5636",
         "0.1421",
         "0.7426",
         "-1.5950",
         "-0.8130",
         "-0.0199",
         "0.6662",
         "-0.8689",
         "-0.6438",
         "-0.2203",
         "-0.5627",
         "-0.1799",
         "1.1097",
         "1.0667",
         "-0.9196",
         "-0.9139",
         "-0.8239",
         "-0.4180",
         "0.1071",
         "-3.3680",
         "0.3744",
         "2.1494",
         "-0.3169",
         "0.2321",
         "-1.3295",
         "-0.7650",
         "0.0294"
        ],
        [
         "3",
         "AAAS",
         "0.0772",
         "0.0306",
         "0.0378",
         "0.0259",
         "0.0803",
         "0.0001",
         "-0.1606",
         "0.2808",
         "1.4716",
         "0.1055",
         "0.2691",
         "0.1014",
         "0.1009",
         "0.1590",
         "0.4163",
         "-0.0922",
         "0.2260",
         "0.1849",
         "-0.0074",
         "-0.2196",
         "-0.1213",
         "0.0604",
         "-0.0282",
         "-0.0947",
         "-0.1560",
         "-0.0089",
         "0.1881",
         "-0.0066",
         "0.0159",
         "0.0357",
         "0.2000",
         "-0.0249",
         "0.0432",
         "-0.0078",
         "-0.3429",
         "0.0444",
         "0.2401",
         "-0.1436",
         "0.0173",
         "-0.1391",
         "-0.0611",
         "-0.0789",
         "0.0214",
         "0.1120",
         "-0.0283",
         "-0.0370",
         "-0.1095",
         "-0.0634",
         "-0.1650",
         "0.1534",
         "0.1127",
         "0.0735",
         "-0.1854",
         "-0.1900",
         "0.1855",
         "0.3177",
         "0.1257",
         "0.0268",
         "-0.0475",
         "0.0349",
         "-0.1899",
         "-0.0336",
         "0.1080",
         "-0.0848",
         "0.3368",
         "0.2824",
         "-0.0278",
         "-0.0088",
         "-0.0471",
         "0.1206",
         "0.2828",
         "-0.0880",
         "0.0818",
         "0.0541",
         "-0.0971",
         "0.1669",
         "0.3535",
         "-0.1850",
         "0.4514",
         "0.1036",
         "-0.0469",
         "0.5574",
         "0.3148",
         "1.7525",
         "0.0719",
         "0.1829",
         "-0.0544",
         "-0.1678",
         "0.0112",
         "-0.0839",
         "0.0325",
         "0.0920",
         "-0.0413",
         "0.0679",
         "0.3389",
         "-0.3291",
         "-0.1113",
         "-0.2207",
         "-0.0718",
         "0.0684",
         "0.2516",
         "-0.1648",
         "-0.0474",
         "0.0249",
         "0.1766",
         "0.3372",
         "-0.0205",
         "0.0066",
         "-0.2330",
         "0.0776",
         "0.1300",
         "-0.0522",
         "0.1193",
         "-0.0173",
         "0.3141",
         "0.2373",
         "0.1528",
         "-0.1494",
         "-0.0965",
         "0.3803",
         "-0.0806",
         "0.1029",
         "-0.2966",
         "0.1002",
         "0.4685",
         "0.4072",
         "0.0588",
         "0.1169",
         "-0.1852",
         "0.4754",
         "0.0451",
         "-0.1360",
         "-0.0492",
         "-0.1296",
         "1.3627",
         "-0.1228",
         "-0.0598",
         "0.1532",
         "0.3288",
         "0.0999",
         "0.2938",
         "0.1767",
         "-0.1299",
         "-0.1640",
         "0.0328",
         "-0.0774",
         "0.1301",
         "-0.0406",
         "-0.0711",
         "0.0175",
         "0.0709",
         "1.0441",
         "-0.1577",
         "0.1720",
         "-0.0534",
         "0.2997",
         "0.0980",
         "0.1433",
         "0.1525",
         "0.2672",
         "-0.0198",
         "-0.1231",
         "0.1069",
         "0.0595",
         "0.0069",
         "0.1677",
         "-0.1190",
         "0.3105",
         "0.3076",
         "0.0327",
         "0.1002",
         "-0.1000",
         "0.0021",
         "0.0803",
         "0.3302",
         "-0.1971",
         "0.1319",
         "-0.0551",
         "-0.1501",
         "-0.0327",
         "-0.0066",
         "-0.0343",
         "0.1779",
         "-0.0063",
         "-0.0528",
         "0.2714",
         "0.2212",
         "-0.1547",
         "-0.0489",
         "0.0022",
         "0.2357",
         "0.5330",
         "0.0845",
         "0.1610",
         "-0.1852",
         "0.1132",
         "-0.1887",
         "0.1004",
         "-0.1249",
         "1.6549",
         "0.2525",
         "-0.0135",
         "-0.0489",
         "0.3626",
         "-0.1593",
         "-0.0927",
         "0.2420"
        ],
        [
         "4",
         "AACS",
         "-0.2396",
         "0.4141",
         "0.2910",
         "0.1962",
         "0.0242",
         "-0.1468",
         "-0.2609",
         "-1.2109",
         "1.0009",
         "0.2822",
         "0.3244",
         "0.7855",
         "0.0064",
         "-0.3519",
         "0.0924",
         "-0.3159",
         "0.2655",
         "0.2665",
         "-0.2097",
         "0.1092",
         "-0.6375",
         "-0.9072",
         "0.0569",
         "0.2641",
         "-0.0269",
         "0.2663",
         "-0.0305",
         "-0.6553",
         "0.5762",
         "0.6492",
         "-0.0444",
         "-0.2066",
         "0.0900",
         "1.0071",
         "-0.3691",
         "-0.3251",
         "-0.3026",
         "0.2211",
         "0.3199",
         "0.2196",
         "0.2136",
         "0.1955",
         "-0.2743",
         "-0.2270",
         "0.0931",
         "-0.7182",
         "0.2574",
         "0.1608",
         "0.2363",
         "-0.0833",
         "-0.4337",
         "-0.5980",
         "0.2373",
         "0.0178",
         "0.4653",
         "-0.3873",
         "-0.5902",
         "-0.5417",
         "0.1845",
         "0.2308",
         "0.1359",
         "-0.0342",
         "-0.4720",
         "0.3209",
         "-0.5510",
         "-0.0359",
         "0.5684",
         "0.4944",
         "0.3844",
         "-0.6694",
         "-0.1467",
         "0.3784",
         "0.1489",
         "0.1915",
         "-0.1917",
         "0.1397",
         "-0.2015",
         "0.1442",
         "-0.0822",
         "0.2257",
         "-0.2640",
         "0.2592",
         "0.7100",
         "0.6680",
         "0.3216",
         "-0.4993",
         "-0.2651",
         "-0.1468",
         "-0.4098",
         "0.2628",
         "-0.5062",
         "0.4339",
         "-0.0336",
         "0.2711",
         "-0.7339",
         "-0.0718",
         "0.2695",
         "0.1468",
         "0.3555",
         "-0.5293",
         "-0.4137",
         "0.1361",
         "0.1005",
         "0.0663",
         "-1.0744",
         "0.1956",
         "-0.8985",
         "0.3472",
         "0.2361",
         "-0.9051",
         "0.1954",
         "-0.0792",
         "-0.6235",
         "0.2062",
         "-0.4386",
         "-0.3328",
         "0.4836",
         "-0.3945",
         "0.0234",
         "0.5649",
         "-0.6718",
         "0.7634",
         "-0.0455",
         "-0.0540",
         "-0.7221",
         "-0.3439",
         "0.1294",
         "0.3473",
         "0.1128",
         "0.2279",
         "-0.4364",
         "0.3128",
         "0.1386",
         "0.2434",
         "0.9196",
         "0.2780",
         "0.1509",
         "-0.3629",
         "0.1800",
         "0.0278",
         "-0.0457",
         "1.4458",
         "-0.0834",
         "0.1213",
         "-0.3612",
         "-0.0187",
         "0.1761",
         "-0.4639",
         "-0.2185",
         "0.1743",
         "0.1923",
         "0.6612",
         "0.1055",
         "0.1041",
         "0.2938",
         "-0.4962",
         "0.3173",
         "0.4501",
         "0.5418",
         "-0.7389",
         "0.3497",
         "0.1357",
         "0.3235",
         "-0.5254",
         "0.1726",
         "-0.1174",
         "0.1412",
         "0.7446",
         "-0.2708",
         "0.5790",
         "0.0852",
         "0.1718",
         "-0.7576",
         "0.0466",
         "-0.2979",
         "-0.2305",
         "-1.0375",
         "-0.2273",
         "-0.8881",
         "0.2380",
         "0.0678",
         "0.2609",
         "0.1706",
         "0.1134",
         "0.2334",
         "-1.1104",
         "0.2880",
         "0.0285",
         "-0.0755",
         "0.1508",
         "-0.5308",
         "0.1886",
         "-0.3794",
         "0.4186",
         "0.1180",
         "0.3979",
         "0.2514",
         "-0.0668",
         "0.0661",
         "0.6848",
         "0.0040",
         "0.0743",
         "0.0743",
         "0.4906",
         "-0.1487",
         "0.2545",
         "-0.2298"
        ]
       ],
       "shape": {
        "columns": 208,
        "rows": 5
       }
      },
      "text/html": [
       "<div>\n",
       "<style scoped>\n",
       "    .dataframe tbody tr th:only-of-type {\n",
       "        vertical-align: middle;\n",
       "    }\n",
       "\n",
       "    .dataframe tbody tr th {\n",
       "        vertical-align: top;\n",
       "    }\n",
       "\n",
       "    .dataframe thead th {\n",
       "        text-align: right;\n",
       "    }\n",
       "</style>\n",
       "<table border=\"1\" class=\"dataframe\">\n",
       "  <thead>\n",
       "    <tr style=\"text-align: right;\">\n",
       "      <th></th>\n",
       "      <th>Gene/Aliquot</th>\n",
       "      <th>008202d2-207b-11e9-b7f8-0a80fada099c:CPT0026410003</th>\n",
       "      <th>00b60c96-207d-11e9-b7f8-0a80fada099c:CPT0002370001</th>\n",
       "      <th>01d04930-207b-11e9-b7f8-0a80fada099c:CPT0000790001</th>\n",
       "      <th>01fb1ceb-207d-11e9-b7f8-0a80fada099c:QC5</th>\n",
       "      <th>03131a81-207b-11e9-b7f8-0a80fada099c:CPT0019130003</th>\n",
       "      <th>03426a4e-207d-11e9-b7f8-0a80fada099c:CPT0088570001</th>\n",
       "      <th>0456d990-207b-11e9-b7f8-0a80fada099c:CPT0065820001</th>\n",
       "      <th>048b302f-207d-11e9-b7f8-0a80fada099c:CPT0025880003</th>\n",
       "      <th>059e2744-207b-11e9-b7f8-0a80fada099c:NCI7-3</th>\n",
       "      <th>...</th>\n",
       "      <th>f7e70788-207c-11e9-b7f8-0a80fada099c:CPT0000890001</th>\n",
       "      <th>f9267c07-207c-11e9-b7f8-0a80fada099c:CPT0086370003</th>\n",
       "      <th>f94c2e40-207a-11e9-b7f8-0a80fada099c:NCI7-1</th>\n",
       "      <th>fa672cb4-207c-11e9-b7f8-0a80fada099c:CPT0025580004</th>\n",
       "      <th>fbac3dee-207c-11e9-b7f8-0a80fada099c:CPT0081990003</th>\n",
       "      <th>fc3cdfd4-207a-11e9-b7f8-0a80fada099c:CPT0025060001</th>\n",
       "      <th>fcea1e53-207c-11e9-b7f8-0a80fada099c:CPT0075130003</th>\n",
       "      <th>fe2c0e45-207c-11e9-b7f8-0a80fada099c:CPT0000660001</th>\n",
       "      <th>fef82450-207a-11e9-b7f8-0a80fada099c:QC1</th>\n",
       "      <th>ff704795-207c-11e9-b7f8-0a80fada099c:CPT0086820003</th>\n",
       "    </tr>\n",
       "  </thead>\n",
       "  <tbody>\n",
       "    <tr>\n",
       "      <th>0</th>\n",
       "      <td>A1BG</td>\n",
       "      <td>-1.0967</td>\n",
       "      <td>0.1012</td>\n",
       "      <td>-0.6064</td>\n",
       "      <td>-1.0423</td>\n",
       "      <td>0.5464</td>\n",
       "      <td>-0.4046</td>\n",
       "      <td>-0.5677</td>\n",
       "      <td>-0.2304</td>\n",
       "      <td>-1.9938</td>\n",
       "      <td>...</td>\n",
       "      <td>-0.1866</td>\n",
       "      <td>0.0551</td>\n",
       "      <td>-2.2924</td>\n",
       "      <td>-0.1332</td>\n",
       "      <td>0.8185</td>\n",
       "      <td>-0.2213</td>\n",
       "      <td>0.1086</td>\n",
       "      <td>-0.8370</td>\n",
       "      <td>-1.1657</td>\n",
       "      <td>-0.4811</td>\n",
       "    </tr>\n",
       "    <tr>\n",
       "      <th>1</th>\n",
       "      <td>A1CF</td>\n",
       "      <td>0.2450</td>\n",
       "      <td>-0.3086</td>\n",
       "      <td>0.5539</td>\n",
       "      <td>-2.1297</td>\n",
       "      <td>0.6212</td>\n",
       "      <td>0.0107</td>\n",
       "      <td>0.1948</td>\n",
       "      <td>-0.2769</td>\n",
       "      <td>-1.2396</td>\n",
       "      <td>...</td>\n",
       "      <td>0.4798</td>\n",
       "      <td>0.4191</td>\n",
       "      <td>-1.3478</td>\n",
       "      <td>0.1615</td>\n",
       "      <td>0.2765</td>\n",
       "      <td>0.8436</td>\n",
       "      <td>-1.7144</td>\n",
       "      <td>0.0556</td>\n",
       "      <td>-1.9917</td>\n",
       "      <td>-0.9000</td>\n",
       "    </tr>\n",
       "    <tr>\n",
       "      <th>2</th>\n",
       "      <td>A2M</td>\n",
       "      <td>-0.7675</td>\n",
       "      <td>0.0001</td>\n",
       "      <td>-0.6975</td>\n",
       "      <td>-0.7303</td>\n",
       "      <td>0.5146</td>\n",
       "      <td>-0.4792</td>\n",
       "      <td>-0.3842</td>\n",
       "      <td>-0.0805</td>\n",
       "      <td>-2.7700</td>\n",
       "      <td>...</td>\n",
       "      <td>-0.4180</td>\n",
       "      <td>0.1071</td>\n",
       "      <td>-3.3680</td>\n",
       "      <td>0.3744</td>\n",
       "      <td>2.1494</td>\n",
       "      <td>-0.3169</td>\n",
       "      <td>0.2321</td>\n",
       "      <td>-1.3295</td>\n",
       "      <td>-0.7650</td>\n",
       "      <td>0.0294</td>\n",
       "    </tr>\n",
       "    <tr>\n",
       "      <th>3</th>\n",
       "      <td>AAAS</td>\n",
       "      <td>0.0772</td>\n",
       "      <td>0.0306</td>\n",
       "      <td>0.0378</td>\n",
       "      <td>0.0259</td>\n",
       "      <td>0.0803</td>\n",
       "      <td>0.0001</td>\n",
       "      <td>-0.1606</td>\n",
       "      <td>0.2808</td>\n",
       "      <td>1.4716</td>\n",
       "      <td>...</td>\n",
       "      <td>0.1004</td>\n",
       "      <td>-0.1249</td>\n",
       "      <td>1.6549</td>\n",
       "      <td>0.2525</td>\n",
       "      <td>-0.0135</td>\n",
       "      <td>-0.0489</td>\n",
       "      <td>0.3626</td>\n",
       "      <td>-0.1593</td>\n",
       "      <td>-0.0927</td>\n",
       "      <td>0.2420</td>\n",
       "    </tr>\n",
       "    <tr>\n",
       "      <th>4</th>\n",
       "      <td>AACS</td>\n",
       "      <td>-0.2396</td>\n",
       "      <td>0.4141</td>\n",
       "      <td>0.2910</td>\n",
       "      <td>0.1962</td>\n",
       "      <td>0.0242</td>\n",
       "      <td>-0.1468</td>\n",
       "      <td>-0.2609</td>\n",
       "      <td>-1.2109</td>\n",
       "      <td>1.0009</td>\n",
       "      <td>...</td>\n",
       "      <td>-0.0668</td>\n",
       "      <td>0.0661</td>\n",
       "      <td>0.6848</td>\n",
       "      <td>0.0040</td>\n",
       "      <td>0.0743</td>\n",
       "      <td>0.0743</td>\n",
       "      <td>0.4906</td>\n",
       "      <td>-0.1487</td>\n",
       "      <td>0.2545</td>\n",
       "      <td>-0.2298</td>\n",
       "    </tr>\n",
       "  </tbody>\n",
       "</table>\n",
       "<p>5 rows × 208 columns</p>\n",
       "</div>"
      ],
      "text/plain": [
       "  Gene/Aliquot 008202d2-207b-11e9-b7f8-0a80fada099c:CPT0026410003  \\\n",
       "0         A1BG                                            -1.0967   \n",
       "1         A1CF                                             0.2450   \n",
       "2          A2M                                            -0.7675   \n",
       "3         AAAS                                             0.0772   \n",
       "4         AACS                                            -0.2396   \n",
       "\n",
       "  00b60c96-207d-11e9-b7f8-0a80fada099c:CPT0002370001  \\\n",
       "0                                             0.1012   \n",
       "1                                            -0.3086   \n",
       "2                                             0.0001   \n",
       "3                                             0.0306   \n",
       "4                                             0.4141   \n",
       "\n",
       "  01d04930-207b-11e9-b7f8-0a80fada099c:CPT0000790001  \\\n",
       "0                                            -0.6064   \n",
       "1                                             0.5539   \n",
       "2                                            -0.6975   \n",
       "3                                             0.0378   \n",
       "4                                             0.2910   \n",
       "\n",
       "  01fb1ceb-207d-11e9-b7f8-0a80fada099c:QC5  \\\n",
       "0                                  -1.0423   \n",
       "1                                  -2.1297   \n",
       "2                                  -0.7303   \n",
       "3                                   0.0259   \n",
       "4                                   0.1962   \n",
       "\n",
       "  03131a81-207b-11e9-b7f8-0a80fada099c:CPT0019130003  \\\n",
       "0                                             0.5464   \n",
       "1                                             0.6212   \n",
       "2                                             0.5146   \n",
       "3                                             0.0803   \n",
       "4                                             0.0242   \n",
       "\n",
       "  03426a4e-207d-11e9-b7f8-0a80fada099c:CPT0088570001  \\\n",
       "0                                            -0.4046   \n",
       "1                                             0.0107   \n",
       "2                                            -0.4792   \n",
       "3                                             0.0001   \n",
       "4                                            -0.1468   \n",
       "\n",
       "  0456d990-207b-11e9-b7f8-0a80fada099c:CPT0065820001  \\\n",
       "0                                            -0.5677   \n",
       "1                                             0.1948   \n",
       "2                                            -0.3842   \n",
       "3                                            -0.1606   \n",
       "4                                            -0.2609   \n",
       "\n",
       "  048b302f-207d-11e9-b7f8-0a80fada099c:CPT0025880003  \\\n",
       "0                                            -0.2304   \n",
       "1                                            -0.2769   \n",
       "2                                            -0.0805   \n",
       "3                                             0.2808   \n",
       "4                                            -1.2109   \n",
       "\n",
       "  059e2744-207b-11e9-b7f8-0a80fada099c:NCI7-3  ...  \\\n",
       "0                                     -1.9938  ...   \n",
       "1                                     -1.2396  ...   \n",
       "2                                     -2.7700  ...   \n",
       "3                                      1.4716  ...   \n",
       "4                                      1.0009  ...   \n",
       "\n",
       "  f7e70788-207c-11e9-b7f8-0a80fada099c:CPT0000890001  \\\n",
       "0                                            -0.1866   \n",
       "1                                             0.4798   \n",
       "2                                            -0.4180   \n",
       "3                                             0.1004   \n",
       "4                                            -0.0668   \n",
       "\n",
       "  f9267c07-207c-11e9-b7f8-0a80fada099c:CPT0086370003  \\\n",
       "0                                             0.0551   \n",
       "1                                             0.4191   \n",
       "2                                             0.1071   \n",
       "3                                            -0.1249   \n",
       "4                                             0.0661   \n",
       "\n",
       "  f94c2e40-207a-11e9-b7f8-0a80fada099c:NCI7-1  \\\n",
       "0                                     -2.2924   \n",
       "1                                     -1.3478   \n",
       "2                                     -3.3680   \n",
       "3                                      1.6549   \n",
       "4                                      0.6848   \n",
       "\n",
       "  fa672cb4-207c-11e9-b7f8-0a80fada099c:CPT0025580004  \\\n",
       "0                                            -0.1332   \n",
       "1                                             0.1615   \n",
       "2                                             0.3744   \n",
       "3                                             0.2525   \n",
       "4                                             0.0040   \n",
       "\n",
       "  fbac3dee-207c-11e9-b7f8-0a80fada099c:CPT0081990003  \\\n",
       "0                                             0.8185   \n",
       "1                                             0.2765   \n",
       "2                                             2.1494   \n",
       "3                                            -0.0135   \n",
       "4                                             0.0743   \n",
       "\n",
       "  fc3cdfd4-207a-11e9-b7f8-0a80fada099c:CPT0025060001  \\\n",
       "0                                            -0.2213   \n",
       "1                                             0.8436   \n",
       "2                                            -0.3169   \n",
       "3                                            -0.0489   \n",
       "4                                             0.0743   \n",
       "\n",
       "  fcea1e53-207c-11e9-b7f8-0a80fada099c:CPT0075130003  \\\n",
       "0                                             0.1086   \n",
       "1                                            -1.7144   \n",
       "2                                             0.2321   \n",
       "3                                             0.3626   \n",
       "4                                             0.4906   \n",
       "\n",
       "  fe2c0e45-207c-11e9-b7f8-0a80fada099c:CPT0000660001  \\\n",
       "0                                            -0.8370   \n",
       "1                                             0.0556   \n",
       "2                                            -1.3295   \n",
       "3                                            -0.1593   \n",
       "4                                            -0.1487   \n",
       "\n",
       "  fef82450-207a-11e9-b7f8-0a80fada099c:QC1  \\\n",
       "0                                  -1.1657   \n",
       "1                                  -1.9917   \n",
       "2                                  -0.7650   \n",
       "3                                  -0.0927   \n",
       "4                                   0.2545   \n",
       "\n",
       "  ff704795-207c-11e9-b7f8-0a80fada099c:CPT0086820003  \n",
       "0                                            -0.4811  \n",
       "1                                            -0.9000  \n",
       "2                                             0.0294  \n",
       "3                                             0.2420  \n",
       "4                                            -0.2298  \n",
       "\n",
       "[5 rows x 208 columns]"
      ]
     },
     "execution_count": 72,
     "metadata": {},
     "output_type": "execute_result"
    }
   ],
   "source": [
    "if matrix is None:\n",
    "    quantitative_log2 = pd.DataFrame().fillna('Data not available')\n",
    "else:\n",
    "    quantitative_log2 = pd.DataFrame(matrix[1:], columns=matrix[0])\n",
    "quantitative_log2.head()"
   ]
  },
  {
   "cell_type": "markdown",
   "metadata": {},
   "source": [
    "# Create an excell workbook with the study information"
   ]
  },
  {
   "cell_type": "code",
   "execution_count": 73,
   "metadata": {},
   "outputs": [],
   "source": [
    "# object dictionary:\n",
    "study_information = {\n",
    "    'Readme': pd.DataFrame(readme),\n",
    "    \"Project-Program\": pd.DataFrame(program_project),\n",
    "    \"Case-Matrix\": pd.DataFrame(case_matrix),\n",
    "    \"Case\": pd.DataFrame(case),\n",
    "    \"Demographic\": pd.DataFrame(demographic),\n",
    "    \"Diagnosis\": pd.DataFrame(diagnosis),\n",
    "    \"Exposure\": pd.DataFrame(exposure),\n",
    "    \"Family-History\": pd.DataFrame(), #need to find the data\n",
    "    \"Treatments\": pd.DataFrame(treatments),\n",
    "    \"Follow-up\": pd.DataFrame(follow_ups),\n",
    "    \"Sample\": pd.DataFrame(samples), #need to redo\n",
    "    \"Aliquots\": pd.DataFrame(aliquots), #need to redo\n",
    "    \"Study\": pd.DataFrame(study),\n",
    "    \"Protocol\": pd.DataFrame(protocol),\n",
    "    \"Exp_Metadata\": pd.DataFrame(Exp_Metadata),\n",
    "    \"File-Metadata\": pd.DataFrame(file_metada),\n",
    "    \"Protein-Levels\": pd.DataFrame(quantitative_log2)\n",
    "}"
   ]
  },
  {
   "cell_type": "code",
   "execution_count": 74,
   "metadata": {},
   "outputs": [],
   "source": [
    "with pd.ExcelWriter('study_info.xlsx', engine='xlsxwriter') as writer:\n",
    "    for sheet_name, df in study_information.items():\n",
    "        if df is not None and not df.empty:  # Check if the DataFrame is not None and not empty\n",
    "            df.to_excel(writer, sheet_name=sheet_name, index=False)\n",
    "        else:\n",
    "            # Create an empty DataFrame and write it to the sheet\n",
    "            empty_df = pd.DataFrame(columns= df.columns, index=range(10)).fillna('data not available')\n",
    "            empty_df.to_excel(writer, sheet_name=sheet_name, index=False)\n"
   ]
  },
  {
   "cell_type": "code",
   "execution_count": 75,
   "metadata": {},
   "outputs": [
    {
     "name": "stdout",
     "output_type": "stream",
     "text": [
      "Total time spent running the notebook: 70.36057686805725 seconds\n"
     ]
    }
   ],
   "source": [
    "\n",
    "end_time = time.time()\n",
    "total_time = end_time - start_time\n",
    "print(f\"Total time spent running the notebook: {total_time} seconds\")\n"
   ]
  }
 ],
 "metadata": {
  "kernelspec": {
   "display_name": "Python 3",
   "language": "python",
   "name": "python3"
  },
  "language_info": {
   "codemirror_mode": {
    "name": "ipython",
    "version": 3
   },
   "file_extension": ".py",
   "mimetype": "text/x-python",
   "name": "python",
   "nbconvert_exporter": "python",
   "pygments_lexer": "ipython3",
   "version": "3.13.2"
  }
 },
 "nbformat": 4,
 "nbformat_minor": 2
}
