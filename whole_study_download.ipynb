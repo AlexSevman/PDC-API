{
 "cells": [
  {
   "cell_type": "markdown",
   "metadata": {},
   "source": [
    "# Import Libraries"
   ]
  },
  {
   "cell_type": "code",
   "execution_count": 245,
   "metadata": {},
   "outputs": [],
   "source": [
    "# Import libraries\n",
    "import requests\n",
    "import pandas as pd\n",
    "import json\n",
    "import seaborn as sns\n",
    "import matplotlib.pyplot as plt\n",
    "from scipy.stats import zscore\n",
    "from function_query import query_pdc\n",
    "import openpyxl\n",
    "import xlsxwriter\n"
   ]
  },
  {
   "cell_type": "markdown",
   "metadata": {},
   "source": [
    "# Define variables and url"
   ]
  },
  {
   "cell_type": "code",
   "execution_count": 246,
   "metadata": {},
   "outputs": [],
   "source": [
    "# Variables\n",
    "variables = {\n",
    "    \"pdc_study_identifier\": \"PDC000585\",\n",
    "    \"offset\": 0, # set offset records to pull\n",
    "    \"limit\": 10,  # limit number of records,\n",
    "    \"data_type\": \"log2_ratio\" # option: unshared_log2_ratio \n",
    "}\n",
    "\n"
   ]
  },
  {
   "cell_type": "code",
   "execution_count": 303,
   "metadata": {},
   "outputs": [],
   "source": [
    "%run queries.ipynb"
   ]
  },
  {
   "cell_type": "markdown",
   "metadata": {},
   "source": [
    "# Readme"
   ]
  },
  {
   "cell_type": "code",
   "execution_count": 248,
   "metadata": {},
   "outputs": [],
   "source": [
    "readme = readme_df"
   ]
  },
  {
   "cell_type": "markdown",
   "metadata": {},
   "source": [
    "# Program - Project"
   ]
  },
  {
   "cell_type": "code",
   "execution_count": 252,
   "metadata": {},
   "outputs": [
    {
     "name": "stdout",
     "output_type": "stream",
     "text": [
      "Sending query.\n"
     ]
    }
   ],
   "source": [
    "study_data = query_pdc(query= query_study_info, variables=variables)\n",
    "matrix = json.loads(study_data.content)['data']['study']\n",
    "study_df = pd.DataFrame(matrix)"
   ]
  },
  {
   "cell_type": "code",
   "execution_count": 253,
   "metadata": {},
   "outputs": [],
   "source": [
    "program_project = study_df[[\"program_id\", 'project_id']].transpose()\n",
    "program_project.columns = ['name']"
   ]
  },
  {
   "cell_type": "code",
   "execution_count": 254,
   "metadata": {},
   "outputs": [
    {
     "data": {
      "application/vnd.microsoft.datawrangler.viewer.v0+json": {
       "columns": [
        {
         "name": "index",
         "rawType": "object",
         "type": "string"
        },
        {
         "name": "id",
         "rawType": "object",
         "type": "string"
        },
        {
         "name": "name",
         "rawType": "object",
         "type": "string"
        }
       ],
       "conversionMethod": "pd.DataFrame",
       "ref": "cac6c10f-1a45-4721-9739-df91b58c3720",
       "rows": [
        [
         "program_id",
         "program_id",
         "fa99a299-0d83-11ea-9bfa-0a42f3c845fe"
        ],
        [
         "project_id",
         "project_id",
         "ba34699a-caff-461c-b77e-a27a6bf305f0"
        ]
       ],
       "shape": {
        "columns": 2,
        "rows": 2
       }
      },
      "text/html": [
       "<div>\n",
       "<style scoped>\n",
       "    .dataframe tbody tr th:only-of-type {\n",
       "        vertical-align: middle;\n",
       "    }\n",
       "\n",
       "    .dataframe tbody tr th {\n",
       "        vertical-align: top;\n",
       "    }\n",
       "\n",
       "    .dataframe thead th {\n",
       "        text-align: right;\n",
       "    }\n",
       "</style>\n",
       "<table border=\"1\" class=\"dataframe\">\n",
       "  <thead>\n",
       "    <tr style=\"text-align: right;\">\n",
       "      <th></th>\n",
       "      <th>id</th>\n",
       "      <th>name</th>\n",
       "    </tr>\n",
       "  </thead>\n",
       "  <tbody>\n",
       "    <tr>\n",
       "      <th>program_id</th>\n",
       "      <td>program_id</td>\n",
       "      <td>fa99a299-0d83-11ea-9bfa-0a42f3c845fe</td>\n",
       "    </tr>\n",
       "    <tr>\n",
       "      <th>project_id</th>\n",
       "      <td>project_id</td>\n",
       "      <td>ba34699a-caff-461c-b77e-a27a6bf305f0</td>\n",
       "    </tr>\n",
       "  </tbody>\n",
       "</table>\n",
       "</div>"
      ],
      "text/plain": [
       "                    id                                  name\n",
       "program_id  program_id  fa99a299-0d83-11ea-9bfa-0a42f3c845fe\n",
       "project_id  project_id  ba34699a-caff-461c-b77e-a27a6bf305f0"
      ]
     },
     "execution_count": 254,
     "metadata": {},
     "output_type": "execute_result"
    }
   ],
   "source": [
    "program_project[\"id\"] = program_project.index\n",
    "program_project.head()\n",
    "program_project = program_project.reindex(columns=['id', 'name'])\n",
    "program_project.head()"
   ]
  },
  {
   "cell_type": "markdown",
   "metadata": {},
   "source": [
    "# Case_Matrix"
   ]
  },
  {
   "cell_type": "code",
   "execution_count": 255,
   "metadata": {},
   "outputs": [
    {
     "name": "stdout",
     "output_type": "stream",
     "text": [
      "Sending query.\n"
     ]
    }
   ],
   "source": [
    "speciment_data = query_pdc(query= query_biospecimen, variables=variables)"
   ]
  },
  {
   "cell_type": "code",
   "execution_count": 256,
   "metadata": {},
   "outputs": [],
   "source": [
    "matrix = json.loads(speciment_data.content)['data'][\"biospecimenPerStudy\"]\n",
    "biospecimen_df = pd.DataFrame(matrix[1:], columns=matrix[0])"
   ]
  },
  {
   "cell_type": "code",
   "execution_count": 257,
   "metadata": {},
   "outputs": [],
   "source": [
    "case_matrix = biospecimen_df[['case_submitter_id', \"sample_submitter_id\", \"aliquot_submitter_id\"]]\n",
    "case_matrix = case_matrix[2:]"
   ]
  },
  {
   "cell_type": "markdown",
   "metadata": {},
   "source": [
    "# Case"
   ]
  },
  {
   "cell_type": "code",
   "execution_count": 259,
   "metadata": {},
   "outputs": [
    {
     "name": "stdout",
     "output_type": "stream",
     "text": [
      "Sending query.\n"
     ]
    }
   ],
   "source": [
    "case_data = query_pdc(query= query_case, variables=variables)\n",
    "matrix = json.loads(case_data.content)['data']['case']\n",
    "case_data_df = pd.DataFrame(matrix)"
   ]
  },
  {
   "cell_type": "code",
   "execution_count": 260,
   "metadata": {},
   "outputs": [],
   "source": [
    "case = pd.merge(left=biospecimen_df, right=case_data_df, on=\"case_id\")\n",
    "columns_to_keep = [col for col in case.columns if not col.endswith('_y')]\n",
    "case = case[columns_to_keep]\n",
    "case = case.rename(columns={col: col.rstrip('_x') for col in case.columns})\n"
   ]
  },
  {
   "cell_type": "code",
   "execution_count": 261,
   "metadata": {},
   "outputs": [],
   "source": [
    "check_names = ['case_submitter_id', 'external_case_id', 'disease_type', 'pool',\n",
    "       'primary_site', 'status', 'taxon', 'case_is_ref', 'consent_type',\n",
    "       'days_to_consent', 'days_to_lost_to_followup', 'index_date',\n",
    "       'lost_to_followup']\n",
    "to_remove = list(set(case.columns).difference(check_names))"
   ]
  },
  {
   "cell_type": "code",
   "execution_count": 262,
   "metadata": {},
   "outputs": [],
   "source": [
    "case.drop(columns=to_remove, inplace=True)\n",
    "case = case.reindex(columns=check_names)"
   ]
  },
  {
   "cell_type": "markdown",
   "metadata": {},
   "source": [
    "# Demographic"
   ]
  },
  {
   "cell_type": "code",
   "execution_count": 264,
   "metadata": {},
   "outputs": [],
   "source": [
    "# Variables\n",
    "variables = {\n",
    "    \"pdc_study_identifier\": \"PDC000585\",\n",
    "    \"study_id\": study_df['study_id'][0],\n",
    "    \"offset\": 0,  # set offset records to pull\n",
    "    \"limit\": 10,  # limit number of records\n",
    "    \"data_type\": \"log2_ratio\"  # option: unshared_log2_ratio\n",
    "}"
   ]
  },
  {
   "cell_type": "code",
   "execution_count": 265,
   "metadata": {},
   "outputs": [
    {
     "name": "stdout",
     "output_type": "stream",
     "text": [
      "Sending query.\n"
     ]
    }
   ],
   "source": [
    "demographics_data = query_pdc(query= query_demographcis, variables=variables)\n",
    "matrix = json.loads(demographics_data.content)['data'][\"paginatedCaseDemographicsPerStudy\"][\"caseDemographicsPerStudy\"]\n",
    "demographics_data = pd.DataFrame(matrix[1:], columns=matrix[0])"
   ]
  },
  {
   "cell_type": "code",
   "execution_count": 266,
   "metadata": {},
   "outputs": [],
   "source": [
    "demographics_data['demographic_id'] = demographics_data['demographics'].apply(lambda diag_list: diag_list[0]['demographic_id'] if diag_list else None)"
   ]
  },
  {
   "cell_type": "code",
   "execution_count": 267,
   "metadata": {},
   "outputs": [],
   "source": [
    "demographics_df = for_demographics(matrix = matrix)"
   ]
  },
  {
   "cell_type": "code",
   "execution_count": 268,
   "metadata": {},
   "outputs": [],
   "source": [
    "demographic = pd.merge(left=demographics_data, right=demographics_df, on=\"demographic_id\")"
   ]
  },
  {
   "cell_type": "code",
   "execution_count": 269,
   "metadata": {},
   "outputs": [],
   "source": [
    "check_names = ['case_submitter_id', 'ethnicity', 'gender', 'race', 'age_at_index',\n",
    "       'age_is_obfuscated', 'cause_of_death', 'cause_of_death_source',\n",
    "       'country_of_residence_at_enrollment', 'days_to_birth', 'days_to_death',\n",
    "       'occupation_duration_years', 'premature_at_birth', 'vital_status',\n",
    "       'weeks_gestation_at_birth', 'year_of_birth', 'year_of_death']\n",
    "to_remove = list(set(demographic.columns).difference(check_names))"
   ]
  },
  {
   "cell_type": "code",
   "execution_count": 270,
   "metadata": {},
   "outputs": [],
   "source": [
    "demographic.drop(columns=to_remove, inplace=True)\n",
    "demographic = demographic.reindex(columns=check_names)"
   ]
  },
  {
   "cell_type": "code",
   "execution_count": 271,
   "metadata": {},
   "outputs": [
    {
     "data": {
      "application/vnd.microsoft.datawrangler.viewer.v0+json": {
       "columns": [
        {
         "name": "index",
         "rawType": "int64",
         "type": "integer"
        },
        {
         "name": "case_submitter_id",
         "rawType": "object",
         "type": "string"
        },
        {
         "name": "ethnicity",
         "rawType": "object",
         "type": "string"
        },
        {
         "name": "gender",
         "rawType": "object",
         "type": "string"
        },
        {
         "name": "race",
         "rawType": "object",
         "type": "string"
        },
        {
         "name": "age_at_index",
         "rawType": "object",
         "type": "string"
        },
        {
         "name": "age_is_obfuscated",
         "rawType": "object",
         "type": "string"
        },
        {
         "name": "cause_of_death",
         "rawType": "object",
         "type": "string"
        },
        {
         "name": "cause_of_death_source",
         "rawType": "object",
         "type": "string"
        },
        {
         "name": "country_of_residence_at_enrollment",
         "rawType": "object",
         "type": "string"
        },
        {
         "name": "days_to_birth",
         "rawType": "object",
         "type": "string"
        },
        {
         "name": "days_to_death",
         "rawType": "object",
         "type": "string"
        },
        {
         "name": "occupation_duration_years",
         "rawType": "object",
         "type": "string"
        },
        {
         "name": "premature_at_birth",
         "rawType": "object",
         "type": "string"
        },
        {
         "name": "vital_status",
         "rawType": "object",
         "type": "string"
        },
        {
         "name": "weeks_gestation_at_birth",
         "rawType": "object",
         "type": "string"
        },
        {
         "name": "year_of_birth",
         "rawType": "object",
         "type": "string"
        },
        {
         "name": "year_of_death",
         "rawType": "object",
         "type": "string"
        }
       ],
       "conversionMethod": "pd.DataFrame",
       "ref": "01b01ef8-d11a-42e5-a686-9215d720cdef",
       "rows": [
        [
         "0",
         "Withheld",
         "not reported",
         "not reported",
         "not reported",
         "None",
         "None",
         "None",
         "None",
         "None",
         "None",
         "None",
         "None",
         "None",
         "None",
         "None",
         "None",
         "None"
        ],
        [
         "1",
         "Pool",
         "not reported",
         "not reported",
         "not reported",
         "None",
         "None",
         "None",
         "None",
         "None",
         "None",
         "None",
         "None",
         "None",
         "None",
         "None",
         "None",
         "None"
        ],
        [
         "2",
         "AP-BTE5",
         "not hispanic or latino",
         "female",
         "black or african american",
         "50",
         "None",
         "None",
         "None",
         "None",
         "None",
         "None",
         "None",
         "None",
         "Dead",
         "None",
         "None",
         "None"
        ],
        [
         "3",
         "AP-LU5F",
         "not hispanic or latino",
         "female",
         "black or african american",
         "62",
         "None",
         "None",
         "None",
         "None",
         "None",
         "None",
         "None",
         "None",
         "Dead",
         "None",
         "None",
         "None"
        ],
        [
         "4",
         "AP-Y8GF",
         "not hispanic or latino",
         "female",
         "white",
         "68",
         "None",
         "None",
         "None",
         "None",
         "None",
         "None",
         "None",
         "None",
         "Dead",
         "None",
         "None",
         "None"
        ]
       ],
       "shape": {
        "columns": 17,
        "rows": 5
       }
      },
      "text/html": [
       "<div>\n",
       "<style scoped>\n",
       "    .dataframe tbody tr th:only-of-type {\n",
       "        vertical-align: middle;\n",
       "    }\n",
       "\n",
       "    .dataframe tbody tr th {\n",
       "        vertical-align: top;\n",
       "    }\n",
       "\n",
       "    .dataframe thead th {\n",
       "        text-align: right;\n",
       "    }\n",
       "</style>\n",
       "<table border=\"1\" class=\"dataframe\">\n",
       "  <thead>\n",
       "    <tr style=\"text-align: right;\">\n",
       "      <th></th>\n",
       "      <th>case_submitter_id</th>\n",
       "      <th>ethnicity</th>\n",
       "      <th>gender</th>\n",
       "      <th>race</th>\n",
       "      <th>age_at_index</th>\n",
       "      <th>age_is_obfuscated</th>\n",
       "      <th>cause_of_death</th>\n",
       "      <th>cause_of_death_source</th>\n",
       "      <th>country_of_residence_at_enrollment</th>\n",
       "      <th>days_to_birth</th>\n",
       "      <th>days_to_death</th>\n",
       "      <th>occupation_duration_years</th>\n",
       "      <th>premature_at_birth</th>\n",
       "      <th>vital_status</th>\n",
       "      <th>weeks_gestation_at_birth</th>\n",
       "      <th>year_of_birth</th>\n",
       "      <th>year_of_death</th>\n",
       "    </tr>\n",
       "  </thead>\n",
       "  <tbody>\n",
       "    <tr>\n",
       "      <th>0</th>\n",
       "      <td>Withheld</td>\n",
       "      <td>not reported</td>\n",
       "      <td>not reported</td>\n",
       "      <td>not reported</td>\n",
       "      <td>None</td>\n",
       "      <td>None</td>\n",
       "      <td>None</td>\n",
       "      <td>None</td>\n",
       "      <td>None</td>\n",
       "      <td>None</td>\n",
       "      <td>None</td>\n",
       "      <td>None</td>\n",
       "      <td>None</td>\n",
       "      <td>None</td>\n",
       "      <td>None</td>\n",
       "      <td>None</td>\n",
       "      <td>None</td>\n",
       "    </tr>\n",
       "    <tr>\n",
       "      <th>1</th>\n",
       "      <td>Pool</td>\n",
       "      <td>not reported</td>\n",
       "      <td>not reported</td>\n",
       "      <td>not reported</td>\n",
       "      <td>None</td>\n",
       "      <td>None</td>\n",
       "      <td>None</td>\n",
       "      <td>None</td>\n",
       "      <td>None</td>\n",
       "      <td>None</td>\n",
       "      <td>None</td>\n",
       "      <td>None</td>\n",
       "      <td>None</td>\n",
       "      <td>None</td>\n",
       "      <td>None</td>\n",
       "      <td>None</td>\n",
       "      <td>None</td>\n",
       "    </tr>\n",
       "    <tr>\n",
       "      <th>2</th>\n",
       "      <td>AP-BTE5</td>\n",
       "      <td>not hispanic or latino</td>\n",
       "      <td>female</td>\n",
       "      <td>black or african american</td>\n",
       "      <td>50</td>\n",
       "      <td>None</td>\n",
       "      <td>None</td>\n",
       "      <td>None</td>\n",
       "      <td>None</td>\n",
       "      <td>None</td>\n",
       "      <td>None</td>\n",
       "      <td>None</td>\n",
       "      <td>None</td>\n",
       "      <td>Dead</td>\n",
       "      <td>None</td>\n",
       "      <td>None</td>\n",
       "      <td>None</td>\n",
       "    </tr>\n",
       "    <tr>\n",
       "      <th>3</th>\n",
       "      <td>AP-LU5F</td>\n",
       "      <td>not hispanic or latino</td>\n",
       "      <td>female</td>\n",
       "      <td>black or african american</td>\n",
       "      <td>62</td>\n",
       "      <td>None</td>\n",
       "      <td>None</td>\n",
       "      <td>None</td>\n",
       "      <td>None</td>\n",
       "      <td>None</td>\n",
       "      <td>None</td>\n",
       "      <td>None</td>\n",
       "      <td>None</td>\n",
       "      <td>Dead</td>\n",
       "      <td>None</td>\n",
       "      <td>None</td>\n",
       "      <td>None</td>\n",
       "    </tr>\n",
       "    <tr>\n",
       "      <th>4</th>\n",
       "      <td>AP-Y8GF</td>\n",
       "      <td>not hispanic or latino</td>\n",
       "      <td>female</td>\n",
       "      <td>white</td>\n",
       "      <td>68</td>\n",
       "      <td>None</td>\n",
       "      <td>None</td>\n",
       "      <td>None</td>\n",
       "      <td>None</td>\n",
       "      <td>None</td>\n",
       "      <td>None</td>\n",
       "      <td>None</td>\n",
       "      <td>None</td>\n",
       "      <td>Dead</td>\n",
       "      <td>None</td>\n",
       "      <td>None</td>\n",
       "      <td>None</td>\n",
       "    </tr>\n",
       "  </tbody>\n",
       "</table>\n",
       "</div>"
      ],
      "text/plain": [
       "  case_submitter_id               ethnicity        gender  \\\n",
       "0          Withheld            not reported  not reported   \n",
       "1              Pool            not reported  not reported   \n",
       "2           AP-BTE5  not hispanic or latino        female   \n",
       "3           AP-LU5F  not hispanic or latino        female   \n",
       "4           AP-Y8GF  not hispanic or latino        female   \n",
       "\n",
       "                        race age_at_index age_is_obfuscated cause_of_death  \\\n",
       "0               not reported         None              None           None   \n",
       "1               not reported         None              None           None   \n",
       "2  black or african american           50              None           None   \n",
       "3  black or african american           62              None           None   \n",
       "4                      white           68              None           None   \n",
       "\n",
       "  cause_of_death_source country_of_residence_at_enrollment days_to_birth  \\\n",
       "0                  None                               None          None   \n",
       "1                  None                               None          None   \n",
       "2                  None                               None          None   \n",
       "3                  None                               None          None   \n",
       "4                  None                               None          None   \n",
       "\n",
       "  days_to_death occupation_duration_years premature_at_birth vital_status  \\\n",
       "0          None                      None               None         None   \n",
       "1          None                      None               None         None   \n",
       "2          None                      None               None         Dead   \n",
       "3          None                      None               None         Dead   \n",
       "4          None                      None               None         Dead   \n",
       "\n",
       "  weeks_gestation_at_birth year_of_birth year_of_death  \n",
       "0                     None          None          None  \n",
       "1                     None          None          None  \n",
       "2                     None          None          None  \n",
       "3                     None          None          None  \n",
       "4                     None          None          None  "
      ]
     },
     "execution_count": 271,
     "metadata": {},
     "output_type": "execute_result"
    }
   ],
   "source": [
    "demographic.head()"
   ]
  },
  {
   "cell_type": "markdown",
   "metadata": {},
   "source": [
    "# Diagnosis"
   ]
  },
  {
   "cell_type": "code",
   "execution_count": 273,
   "metadata": {},
   "outputs": [
    {
     "name": "stdout",
     "output_type": "stream",
     "text": [
      "Sending query.\n"
     ]
    },
    {
     "data": {
      "text/plain": [
       "Index(['case_id', 'case_submitter_id', 'disease_type', 'primary_site',\n",
       "       'diagnoses'],\n",
       "      dtype='object')"
      ]
     },
     "execution_count": 273,
     "metadata": {},
     "output_type": "execute_result"
    }
   ],
   "source": [
    "diagnose_data = query_pdc(query= query_diagnose, variables=variables)\n",
    "matrix = json.loads(diagnose_data.content)['data'][\"paginatedCaseDiagnosesPerStudy\"][\"caseDiagnosesPerStudy\"]\n",
    "diagnose_data_df = pd.DataFrame(matrix[1:], columns=matrix[0])\n",
    "diagnose_data_df.columns"
   ]
  },
  {
   "cell_type": "code",
   "execution_count": 274,
   "metadata": {},
   "outputs": [
    {
     "data": {
      "application/vnd.microsoft.datawrangler.viewer.v0+json": {
       "columns": [
        {
         "name": "index",
         "rawType": "int64",
         "type": "integer"
        },
        {
         "name": "case_id",
         "rawType": "object",
         "type": "string"
        },
        {
         "name": "case_submitter_id",
         "rawType": "object",
         "type": "string"
        },
        {
         "name": "disease_type",
         "rawType": "object",
         "type": "string"
        },
        {
         "name": "primary_site",
         "rawType": "object",
         "type": "string"
        },
        {
         "name": "diagnoses",
         "rawType": "object",
         "type": "unknown"
        },
        {
         "name": "diagnosis_id",
         "rawType": "object",
         "type": "string"
        }
       ],
       "conversionMethod": "pd.DataFrame",
       "ref": "d1a5dbed-913c-4bb5-8c07-248f943951e3",
       "rows": [
        [
         "0",
         "c748755b-e001-4244-be38-b581d81c8ea5",
         "Withheld",
         "Other",
         "Not Reported",
         "[{'diagnosis_id': 'd3996c4b-7f5c-427b-97ba-3c87522c77ce', 'tissue_or_organ_of_origin': 'Not Reported', 'age_at_diagnosis': None, 'primary_diagnosis': 'Not Reported', 'tumor_grade': 'Not Reported', 'tumor_stage': 'Not Reported', 'diagnosis_submitter_id': 'Withheld-DX', 'classification_of_tumor': None, 'days_to_last_follow_up': 'N/A', 'days_to_last_known_disease_status': 'N/A', 'days_to_recurrence': 'N/A', 'last_known_disease_status': 'not reported', 'morphology': 'Not Reported', 'progression_or_recurrence': 'yes', 'site_of_resection_or_biopsy': 'Not Reported', 'prior_malignancy': None, 'ajcc_clinical_m': None, 'ajcc_clinical_n': None, 'ajcc_clinical_stage': None, 'ajcc_clinical_t': None, 'ajcc_pathologic_m': None, 'ajcc_pathologic_n': None, 'ajcc_pathologic_stage': None, 'ajcc_pathologic_t': None, 'ann_arbor_b_symptoms': None, 'ann_arbor_clinical_stage': None, 'ann_arbor_extranodal_involvement': None, 'ann_arbor_pathologic_stage': None, 'best_overall_response': None, 'burkitt_lymphoma_clinical_variant': None, 'circumferential_resection_margin': None, 'colon_polyps_history': None, 'days_to_best_overall_response': None, 'days_to_diagnosis': None, 'days_to_hiv_diagnosis': None, 'days_to_new_event': None, 'figo_stage': None, 'hiv_positive': None, 'hpv_positive_type': None, 'hpv_status': None, 'iss_stage': None, 'laterality': None, 'ldh_level_at_diagnosis': None, 'ldh_normal_range_upper': None, 'lymph_nodes_positive': None, 'lymphatic_invasion_present': None, 'method_of_diagnosis': None, 'new_event_anatomic_site': None, 'new_event_type': None, 'overall_survival': None, 'perineural_invasion_present': None, 'prior_treatment': None, 'progression_free_survival': None, 'progression_free_survival_event': None, 'residual_disease': None, 'vascular_invasion_present': None, 'year_of_diagnosis': None, 'icd_10_code': None, 'synchronous_malignancy': None, 'tumor_largest_dimension_diameter': None, 'anaplasia_present': None, 'anaplasia_present_type': None, 'child_pugh_classification': None, 'cog_liver_stage': None, 'cog_neuroblastoma_risk_group': None, 'cog_renal_stage': None, 'cog_rhabdomyosarcoma_risk_group': None, 'enneking_msts_grade': None, 'enneking_msts_metastasis': None, 'enneking_msts_stage': None, 'enneking_msts_tumor_site': None, 'esophageal_columnar_dysplasia_degree': None, 'esophageal_columnar_metaplasia_present': None, 'first_symptom_prior_to_diagnosis': None, 'gastric_esophageal_junction_involvement': None, 'goblet_cells_columnar_mucosa_present': None, 'gross_tumor_weight': None, 'inpc_grade': None, 'inpc_histologic_group': None, 'inrg_stage': None, 'inss_stage': None, 'irs_group': None, 'irs_stage': None, 'ishak_fibrosis_score': None, 'lymph_nodes_tested': None, 'medulloblastoma_molecular_classification': None, 'metastasis_at_diagnosis': None, 'metastasis_at_diagnosis_site': None, 'mitosis_karyorrhexis_index': None, 'peripancreatic_lymph_nodes_positive': None, 'peripancreatic_lymph_nodes_tested': None, 'supratentorial_localization': None, 'tumor_confined_to_organ_of_origin': None, 'tumor_focality': None, 'tumor_regression_grade': None, 'vascular_invasion_type': None, 'wilms_tumor_histologic_subtype': None, 'breslow_thickness': None, 'gleason_grade_group': None, 'igcccg_stage': None, 'international_prognostic_index': None, 'largest_extrapelvic_peritoneal_focus': None, 'masaoka_stage': None, 'non_nodal_regional_disease': None, 'non_nodal_tumor_deposits': None, 'ovarian_specimen_status': None, 'ovarian_surface_involvement': None, 'percent_tumor_invasion': None, 'peritoneal_fluid_cytological_status': None, 'primary_gleason_grade': None, 'secondary_gleason_grade': None, 'weiss_assessment_score': None, 'adrenal_hormone': None, 'ann_arbor_b_symptoms_described': None, 'diagnosis_is_primary_disease': 'Not Reported', 'eln_risk_classification': None, 'figo_staging_edition_year': None, 'gleason_grade_tertiary': None, 'gleason_patterns_percent': None, 'margin_distance': None, 'margins_involved_site': None, 'pregnant_at_diagnosis': None, 'satellite_nodule_present': None, 'sites_of_involvement': None, 'tumor_depth': None, 'who_cns_grade': None, 'who_nte_grade': None, 'samples': []}]",
         "d3996c4b-7f5c-427b-97ba-3c87522c77ce"
        ],
        [
         "1",
         "5073e46b-53cf-4771-bf65-392b48f04f52",
         "Pool",
         "Other",
         "Not Reported",
         "[{'diagnosis_id': '80568346-c093-498e-8e39-41642af1320e', 'tissue_or_organ_of_origin': 'Not Reported', 'age_at_diagnosis': None, 'primary_diagnosis': 'Not Reported', 'tumor_grade': 'Not Reported', 'tumor_stage': 'Not Reported', 'diagnosis_submitter_id': 'Pool-DX', 'classification_of_tumor': None, 'days_to_last_follow_up': 'N/A', 'days_to_last_known_disease_status': 'N/A', 'days_to_recurrence': 'N/A', 'last_known_disease_status': 'not reported', 'morphology': 'Not Reported', 'progression_or_recurrence': 'yes', 'site_of_resection_or_biopsy': 'Not Reported', 'prior_malignancy': None, 'ajcc_clinical_m': None, 'ajcc_clinical_n': None, 'ajcc_clinical_stage': None, 'ajcc_clinical_t': None, 'ajcc_pathologic_m': None, 'ajcc_pathologic_n': None, 'ajcc_pathologic_stage': None, 'ajcc_pathologic_t': None, 'ann_arbor_b_symptoms': None, 'ann_arbor_clinical_stage': None, 'ann_arbor_extranodal_involvement': None, 'ann_arbor_pathologic_stage': None, 'best_overall_response': None, 'burkitt_lymphoma_clinical_variant': None, 'circumferential_resection_margin': None, 'colon_polyps_history': None, 'days_to_best_overall_response': None, 'days_to_diagnosis': None, 'days_to_hiv_diagnosis': None, 'days_to_new_event': None, 'figo_stage': None, 'hiv_positive': None, 'hpv_positive_type': None, 'hpv_status': None, 'iss_stage': None, 'laterality': None, 'ldh_level_at_diagnosis': None, 'ldh_normal_range_upper': None, 'lymph_nodes_positive': None, 'lymphatic_invasion_present': None, 'method_of_diagnosis': None, 'new_event_anatomic_site': None, 'new_event_type': None, 'overall_survival': None, 'perineural_invasion_present': None, 'prior_treatment': None, 'progression_free_survival': None, 'progression_free_survival_event': None, 'residual_disease': None, 'vascular_invasion_present': None, 'year_of_diagnosis': None, 'icd_10_code': None, 'synchronous_malignancy': None, 'tumor_largest_dimension_diameter': None, 'anaplasia_present': None, 'anaplasia_present_type': None, 'child_pugh_classification': None, 'cog_liver_stage': None, 'cog_neuroblastoma_risk_group': None, 'cog_renal_stage': None, 'cog_rhabdomyosarcoma_risk_group': None, 'enneking_msts_grade': None, 'enneking_msts_metastasis': None, 'enneking_msts_stage': None, 'enneking_msts_tumor_site': None, 'esophageal_columnar_dysplasia_degree': None, 'esophageal_columnar_metaplasia_present': None, 'first_symptom_prior_to_diagnosis': None, 'gastric_esophageal_junction_involvement': None, 'goblet_cells_columnar_mucosa_present': None, 'gross_tumor_weight': None, 'inpc_grade': None, 'inpc_histologic_group': None, 'inrg_stage': None, 'inss_stage': None, 'irs_group': None, 'irs_stage': None, 'ishak_fibrosis_score': None, 'lymph_nodes_tested': None, 'medulloblastoma_molecular_classification': None, 'metastasis_at_diagnosis': None, 'metastasis_at_diagnosis_site': None, 'mitosis_karyorrhexis_index': None, 'peripancreatic_lymph_nodes_positive': None, 'peripancreatic_lymph_nodes_tested': None, 'supratentorial_localization': None, 'tumor_confined_to_organ_of_origin': None, 'tumor_focality': None, 'tumor_regression_grade': None, 'vascular_invasion_type': None, 'wilms_tumor_histologic_subtype': None, 'breslow_thickness': None, 'gleason_grade_group': None, 'igcccg_stage': None, 'international_prognostic_index': None, 'largest_extrapelvic_peritoneal_focus': None, 'masaoka_stage': None, 'non_nodal_regional_disease': None, 'non_nodal_tumor_deposits': None, 'ovarian_specimen_status': None, 'ovarian_surface_involvement': None, 'percent_tumor_invasion': None, 'peritoneal_fluid_cytological_status': None, 'primary_gleason_grade': None, 'secondary_gleason_grade': None, 'weiss_assessment_score': None, 'adrenal_hormone': None, 'ann_arbor_b_symptoms_described': None, 'diagnosis_is_primary_disease': 'Not Reported', 'eln_risk_classification': None, 'figo_staging_edition_year': None, 'gleason_grade_tertiary': None, 'gleason_patterns_percent': None, 'margin_distance': None, 'margins_involved_site': None, 'pregnant_at_diagnosis': None, 'satellite_nodule_present': None, 'sites_of_involvement': None, 'tumor_depth': None, 'who_cns_grade': None, 'who_nte_grade': None, 'samples': []}]",
         "80568346-c093-498e-8e39-41642af1320e"
        ],
        [
         "2",
         "33b95c97-4216-474c-85bf-2dfd671a7f34",
         "AP-BTE5",
         "Epithelial Neoplasms, NOS",
         "Ovary",
         "[{'diagnosis_id': 'dc05c0d0-6eed-432e-9938-ab66abc3d6c8', 'tissue_or_organ_of_origin': 'Ovary', 'age_at_diagnosis': '16263', 'primary_diagnosis': 'High-grade serous carcinoma', 'tumor_grade': 'Not Reported', 'tumor_stage': 'IVB', 'diagnosis_submitter_id': 'AP-BTE5-DX', 'classification_of_tumor': None, 'days_to_last_follow_up': '751.00', 'days_to_last_known_disease_status': '751.00', 'days_to_recurrence': '386.00', 'last_known_disease_status': 'Distant met recurrence/progression', 'morphology': 'Unknown', 'progression_or_recurrence': 'yes', 'site_of_resection_or_biopsy': 'Ovary', 'prior_malignancy': None, 'ajcc_clinical_m': None, 'ajcc_clinical_n': None, 'ajcc_clinical_stage': None, 'ajcc_clinical_t': None, 'ajcc_pathologic_m': None, 'ajcc_pathologic_n': None, 'ajcc_pathologic_stage': None, 'ajcc_pathologic_t': None, 'ann_arbor_b_symptoms': None, 'ann_arbor_clinical_stage': None, 'ann_arbor_extranodal_involvement': None, 'ann_arbor_pathologic_stage': None, 'best_overall_response': None, 'burkitt_lymphoma_clinical_variant': None, 'circumferential_resection_margin': None, 'colon_polyps_history': None, 'days_to_best_overall_response': None, 'days_to_diagnosis': None, 'days_to_hiv_diagnosis': None, 'days_to_new_event': None, 'figo_stage': None, 'hiv_positive': None, 'hpv_positive_type': None, 'hpv_status': None, 'iss_stage': None, 'laterality': None, 'ldh_level_at_diagnosis': None, 'ldh_normal_range_upper': None, 'lymph_nodes_positive': None, 'lymphatic_invasion_present': None, 'method_of_diagnosis': None, 'new_event_anatomic_site': None, 'new_event_type': None, 'overall_survival': None, 'perineural_invasion_present': None, 'prior_treatment': None, 'progression_free_survival': None, 'progression_free_survival_event': None, 'residual_disease': None, 'vascular_invasion_present': None, 'year_of_diagnosis': None, 'icd_10_code': None, 'synchronous_malignancy': None, 'tumor_largest_dimension_diameter': None, 'anaplasia_present': None, 'anaplasia_present_type': None, 'child_pugh_classification': None, 'cog_liver_stage': None, 'cog_neuroblastoma_risk_group': None, 'cog_renal_stage': None, 'cog_rhabdomyosarcoma_risk_group': None, 'enneking_msts_grade': None, 'enneking_msts_metastasis': None, 'enneking_msts_stage': None, 'enneking_msts_tumor_site': None, 'esophageal_columnar_dysplasia_degree': None, 'esophageal_columnar_metaplasia_present': None, 'first_symptom_prior_to_diagnosis': None, 'gastric_esophageal_junction_involvement': None, 'goblet_cells_columnar_mucosa_present': None, 'gross_tumor_weight': None, 'inpc_grade': None, 'inpc_histologic_group': None, 'inrg_stage': None, 'inss_stage': None, 'irs_group': None, 'irs_stage': None, 'ishak_fibrosis_score': None, 'lymph_nodes_tested': None, 'medulloblastoma_molecular_classification': None, 'metastasis_at_diagnosis': None, 'metastasis_at_diagnosis_site': None, 'mitosis_karyorrhexis_index': None, 'peripancreatic_lymph_nodes_positive': None, 'peripancreatic_lymph_nodes_tested': None, 'supratentorial_localization': None, 'tumor_confined_to_organ_of_origin': None, 'tumor_focality': None, 'tumor_regression_grade': None, 'vascular_invasion_type': None, 'wilms_tumor_histologic_subtype': None, 'breslow_thickness': None, 'gleason_grade_group': None, 'igcccg_stage': None, 'international_prognostic_index': None, 'largest_extrapelvic_peritoneal_focus': None, 'masaoka_stage': None, 'non_nodal_regional_disease': None, 'non_nodal_tumor_deposits': None, 'ovarian_specimen_status': None, 'ovarian_surface_involvement': None, 'percent_tumor_invasion': None, 'peritoneal_fluid_cytological_status': None, 'primary_gleason_grade': None, 'secondary_gleason_grade': None, 'weiss_assessment_score': None, 'adrenal_hormone': None, 'ann_arbor_b_symptoms_described': None, 'diagnosis_is_primary_disease': 'True', 'eln_risk_classification': None, 'figo_staging_edition_year': None, 'gleason_grade_tertiary': None, 'gleason_patterns_percent': None, 'margin_distance': None, 'margins_involved_site': None, 'pregnant_at_diagnosis': None, 'satellite_nodule_present': None, 'sites_of_involvement': None, 'tumor_depth': None, 'who_cns_grade': None, 'who_nte_grade': None, 'samples': []}]",
         "dc05c0d0-6eed-432e-9938-ab66abc3d6c8"
        ],
        [
         "3",
         "0917e0cd-4a2e-4f22-b4da-379b76ec91c7",
         "AP-LU5F",
         "Epithelial Neoplasms, NOS",
         "Ovary",
         "[{'diagnosis_id': 'd3f53162-f2f5-4696-94cf-5681c971ff9c', 'tissue_or_organ_of_origin': 'Ovary', 'age_at_diagnosis': '20166', 'primary_diagnosis': 'High-grade serous carcinoma', 'tumor_grade': 'Not Reported', 'tumor_stage': 'IIIC', 'diagnosis_submitter_id': 'AP-LU5F-DX', 'classification_of_tumor': None, 'days_to_last_follow_up': '77.00', 'days_to_last_known_disease_status': '77.00', 'days_to_recurrence': '30.00', 'last_known_disease_status': 'Distant met recurrence/progression', 'morphology': 'Unknown', 'progression_or_recurrence': 'yes', 'site_of_resection_or_biopsy': 'Abdomen, NOS', 'prior_malignancy': None, 'ajcc_clinical_m': None, 'ajcc_clinical_n': None, 'ajcc_clinical_stage': None, 'ajcc_clinical_t': None, 'ajcc_pathologic_m': None, 'ajcc_pathologic_n': None, 'ajcc_pathologic_stage': None, 'ajcc_pathologic_t': None, 'ann_arbor_b_symptoms': None, 'ann_arbor_clinical_stage': None, 'ann_arbor_extranodal_involvement': None, 'ann_arbor_pathologic_stage': None, 'best_overall_response': None, 'burkitt_lymphoma_clinical_variant': None, 'circumferential_resection_margin': None, 'colon_polyps_history': None, 'days_to_best_overall_response': None, 'days_to_diagnosis': None, 'days_to_hiv_diagnosis': None, 'days_to_new_event': None, 'figo_stage': None, 'hiv_positive': None, 'hpv_positive_type': None, 'hpv_status': None, 'iss_stage': None, 'laterality': None, 'ldh_level_at_diagnosis': None, 'ldh_normal_range_upper': None, 'lymph_nodes_positive': None, 'lymphatic_invasion_present': None, 'method_of_diagnosis': None, 'new_event_anatomic_site': None, 'new_event_type': None, 'overall_survival': None, 'perineural_invasion_present': None, 'prior_treatment': None, 'progression_free_survival': None, 'progression_free_survival_event': None, 'residual_disease': None, 'vascular_invasion_present': None, 'year_of_diagnosis': None, 'icd_10_code': None, 'synchronous_malignancy': None, 'tumor_largest_dimension_diameter': None, 'anaplasia_present': None, 'anaplasia_present_type': None, 'child_pugh_classification': None, 'cog_liver_stage': None, 'cog_neuroblastoma_risk_group': None, 'cog_renal_stage': None, 'cog_rhabdomyosarcoma_risk_group': None, 'enneking_msts_grade': None, 'enneking_msts_metastasis': None, 'enneking_msts_stage': None, 'enneking_msts_tumor_site': None, 'esophageal_columnar_dysplasia_degree': None, 'esophageal_columnar_metaplasia_present': None, 'first_symptom_prior_to_diagnosis': None, 'gastric_esophageal_junction_involvement': None, 'goblet_cells_columnar_mucosa_present': None, 'gross_tumor_weight': None, 'inpc_grade': None, 'inpc_histologic_group': None, 'inrg_stage': None, 'inss_stage': None, 'irs_group': None, 'irs_stage': None, 'ishak_fibrosis_score': None, 'lymph_nodes_tested': None, 'medulloblastoma_molecular_classification': None, 'metastasis_at_diagnosis': None, 'metastasis_at_diagnosis_site': None, 'mitosis_karyorrhexis_index': None, 'peripancreatic_lymph_nodes_positive': None, 'peripancreatic_lymph_nodes_tested': None, 'supratentorial_localization': None, 'tumor_confined_to_organ_of_origin': None, 'tumor_focality': None, 'tumor_regression_grade': None, 'vascular_invasion_type': None, 'wilms_tumor_histologic_subtype': None, 'breslow_thickness': None, 'gleason_grade_group': None, 'igcccg_stage': None, 'international_prognostic_index': None, 'largest_extrapelvic_peritoneal_focus': None, 'masaoka_stage': None, 'non_nodal_regional_disease': None, 'non_nodal_tumor_deposits': None, 'ovarian_specimen_status': None, 'ovarian_surface_involvement': None, 'percent_tumor_invasion': None, 'peritoneal_fluid_cytological_status': None, 'primary_gleason_grade': None, 'secondary_gleason_grade': None, 'weiss_assessment_score': None, 'adrenal_hormone': None, 'ann_arbor_b_symptoms_described': None, 'diagnosis_is_primary_disease': 'True', 'eln_risk_classification': None, 'figo_staging_edition_year': None, 'gleason_grade_tertiary': None, 'gleason_patterns_percent': None, 'margin_distance': None, 'margins_involved_site': None, 'pregnant_at_diagnosis': None, 'satellite_nodule_present': None, 'sites_of_involvement': None, 'tumor_depth': None, 'who_cns_grade': None, 'who_nte_grade': None, 'samples': []}]",
         "d3f53162-f2f5-4696-94cf-5681c971ff9c"
        ],
        [
         "4",
         "1e6a6cdf-48e3-46b8-af60-67971d2af4a8",
         "AP-Y8GF",
         "Epithelial Neoplasms, NOS",
         "Ovary",
         "[{'diagnosis_id': '2df96eaa-4b38-4624-895f-f97c63216c26', 'tissue_or_organ_of_origin': 'Ovary', 'age_at_diagnosis': '22117', 'primary_diagnosis': 'High-grade serous carcinoma', 'tumor_grade': 'Not Reported', 'tumor_stage': 'IIIC', 'diagnosis_submitter_id': 'AP-Y8GF-DX', 'classification_of_tumor': None, 'days_to_last_follow_up': '1660.00', 'days_to_last_known_disease_status': '1660.00', 'days_to_recurrence': '534.00', 'last_known_disease_status': 'Distant met recurrence/progression', 'morphology': 'Unknown', 'progression_or_recurrence': 'yes', 'site_of_resection_or_biopsy': 'Ovary', 'prior_malignancy': None, 'ajcc_clinical_m': None, 'ajcc_clinical_n': None, 'ajcc_clinical_stage': None, 'ajcc_clinical_t': None, 'ajcc_pathologic_m': None, 'ajcc_pathologic_n': None, 'ajcc_pathologic_stage': None, 'ajcc_pathologic_t': None, 'ann_arbor_b_symptoms': None, 'ann_arbor_clinical_stage': None, 'ann_arbor_extranodal_involvement': None, 'ann_arbor_pathologic_stage': None, 'best_overall_response': None, 'burkitt_lymphoma_clinical_variant': None, 'circumferential_resection_margin': None, 'colon_polyps_history': None, 'days_to_best_overall_response': None, 'days_to_diagnosis': None, 'days_to_hiv_diagnosis': None, 'days_to_new_event': None, 'figo_stage': None, 'hiv_positive': None, 'hpv_positive_type': None, 'hpv_status': None, 'iss_stage': None, 'laterality': None, 'ldh_level_at_diagnosis': None, 'ldh_normal_range_upper': None, 'lymph_nodes_positive': None, 'lymphatic_invasion_present': None, 'method_of_diagnosis': None, 'new_event_anatomic_site': None, 'new_event_type': None, 'overall_survival': None, 'perineural_invasion_present': None, 'prior_treatment': None, 'progression_free_survival': None, 'progression_free_survival_event': None, 'residual_disease': None, 'vascular_invasion_present': None, 'year_of_diagnosis': None, 'icd_10_code': None, 'synchronous_malignancy': None, 'tumor_largest_dimension_diameter': None, 'anaplasia_present': None, 'anaplasia_present_type': None, 'child_pugh_classification': None, 'cog_liver_stage': None, 'cog_neuroblastoma_risk_group': None, 'cog_renal_stage': None, 'cog_rhabdomyosarcoma_risk_group': None, 'enneking_msts_grade': None, 'enneking_msts_metastasis': None, 'enneking_msts_stage': None, 'enneking_msts_tumor_site': None, 'esophageal_columnar_dysplasia_degree': None, 'esophageal_columnar_metaplasia_present': None, 'first_symptom_prior_to_diagnosis': None, 'gastric_esophageal_junction_involvement': None, 'goblet_cells_columnar_mucosa_present': None, 'gross_tumor_weight': None, 'inpc_grade': None, 'inpc_histologic_group': None, 'inrg_stage': None, 'inss_stage': None, 'irs_group': None, 'irs_stage': None, 'ishak_fibrosis_score': None, 'lymph_nodes_tested': None, 'medulloblastoma_molecular_classification': None, 'metastasis_at_diagnosis': None, 'metastasis_at_diagnosis_site': None, 'mitosis_karyorrhexis_index': None, 'peripancreatic_lymph_nodes_positive': None, 'peripancreatic_lymph_nodes_tested': None, 'supratentorial_localization': None, 'tumor_confined_to_organ_of_origin': None, 'tumor_focality': None, 'tumor_regression_grade': None, 'vascular_invasion_type': None, 'wilms_tumor_histologic_subtype': None, 'breslow_thickness': None, 'gleason_grade_group': None, 'igcccg_stage': None, 'international_prognostic_index': None, 'largest_extrapelvic_peritoneal_focus': None, 'masaoka_stage': None, 'non_nodal_regional_disease': None, 'non_nodal_tumor_deposits': None, 'ovarian_specimen_status': None, 'ovarian_surface_involvement': None, 'percent_tumor_invasion': None, 'peritoneal_fluid_cytological_status': None, 'primary_gleason_grade': None, 'secondary_gleason_grade': None, 'weiss_assessment_score': None, 'adrenal_hormone': None, 'ann_arbor_b_symptoms_described': None, 'diagnosis_is_primary_disease': 'True', 'eln_risk_classification': None, 'figo_staging_edition_year': None, 'gleason_grade_tertiary': None, 'gleason_patterns_percent': None, 'margin_distance': None, 'margins_involved_site': None, 'pregnant_at_diagnosis': None, 'satellite_nodule_present': None, 'sites_of_involvement': None, 'tumor_depth': None, 'who_cns_grade': None, 'who_nte_grade': None, 'samples': []}]",
         "2df96eaa-4b38-4624-895f-f97c63216c26"
        ]
       ],
       "shape": {
        "columns": 6,
        "rows": 5
       }
      },
      "text/html": [
       "<div>\n",
       "<style scoped>\n",
       "    .dataframe tbody tr th:only-of-type {\n",
       "        vertical-align: middle;\n",
       "    }\n",
       "\n",
       "    .dataframe tbody tr th {\n",
       "        vertical-align: top;\n",
       "    }\n",
       "\n",
       "    .dataframe thead th {\n",
       "        text-align: right;\n",
       "    }\n",
       "</style>\n",
       "<table border=\"1\" class=\"dataframe\">\n",
       "  <thead>\n",
       "    <tr style=\"text-align: right;\">\n",
       "      <th></th>\n",
       "      <th>case_id</th>\n",
       "      <th>case_submitter_id</th>\n",
       "      <th>disease_type</th>\n",
       "      <th>primary_site</th>\n",
       "      <th>diagnoses</th>\n",
       "      <th>diagnosis_id</th>\n",
       "    </tr>\n",
       "  </thead>\n",
       "  <tbody>\n",
       "    <tr>\n",
       "      <th>0</th>\n",
       "      <td>c748755b-e001-4244-be38-b581d81c8ea5</td>\n",
       "      <td>Withheld</td>\n",
       "      <td>Other</td>\n",
       "      <td>Not Reported</td>\n",
       "      <td>[{'diagnosis_id': 'd3996c4b-7f5c-427b-97ba-3c8...</td>\n",
       "      <td>d3996c4b-7f5c-427b-97ba-3c87522c77ce</td>\n",
       "    </tr>\n",
       "    <tr>\n",
       "      <th>1</th>\n",
       "      <td>5073e46b-53cf-4771-bf65-392b48f04f52</td>\n",
       "      <td>Pool</td>\n",
       "      <td>Other</td>\n",
       "      <td>Not Reported</td>\n",
       "      <td>[{'diagnosis_id': '80568346-c093-498e-8e39-416...</td>\n",
       "      <td>80568346-c093-498e-8e39-41642af1320e</td>\n",
       "    </tr>\n",
       "    <tr>\n",
       "      <th>2</th>\n",
       "      <td>33b95c97-4216-474c-85bf-2dfd671a7f34</td>\n",
       "      <td>AP-BTE5</td>\n",
       "      <td>Epithelial Neoplasms, NOS</td>\n",
       "      <td>Ovary</td>\n",
       "      <td>[{'diagnosis_id': 'dc05c0d0-6eed-432e-9938-ab6...</td>\n",
       "      <td>dc05c0d0-6eed-432e-9938-ab66abc3d6c8</td>\n",
       "    </tr>\n",
       "    <tr>\n",
       "      <th>3</th>\n",
       "      <td>0917e0cd-4a2e-4f22-b4da-379b76ec91c7</td>\n",
       "      <td>AP-LU5F</td>\n",
       "      <td>Epithelial Neoplasms, NOS</td>\n",
       "      <td>Ovary</td>\n",
       "      <td>[{'diagnosis_id': 'd3f53162-f2f5-4696-94cf-568...</td>\n",
       "      <td>d3f53162-f2f5-4696-94cf-5681c971ff9c</td>\n",
       "    </tr>\n",
       "    <tr>\n",
       "      <th>4</th>\n",
       "      <td>1e6a6cdf-48e3-46b8-af60-67971d2af4a8</td>\n",
       "      <td>AP-Y8GF</td>\n",
       "      <td>Epithelial Neoplasms, NOS</td>\n",
       "      <td>Ovary</td>\n",
       "      <td>[{'diagnosis_id': '2df96eaa-4b38-4624-895f-f97...</td>\n",
       "      <td>2df96eaa-4b38-4624-895f-f97c63216c26</td>\n",
       "    </tr>\n",
       "  </tbody>\n",
       "</table>\n",
       "</div>"
      ],
      "text/plain": [
       "                                case_id case_submitter_id  \\\n",
       "0  c748755b-e001-4244-be38-b581d81c8ea5          Withheld   \n",
       "1  5073e46b-53cf-4771-bf65-392b48f04f52              Pool   \n",
       "2  33b95c97-4216-474c-85bf-2dfd671a7f34           AP-BTE5   \n",
       "3  0917e0cd-4a2e-4f22-b4da-379b76ec91c7           AP-LU5F   \n",
       "4  1e6a6cdf-48e3-46b8-af60-67971d2af4a8           AP-Y8GF   \n",
       "\n",
       "                disease_type  primary_site  \\\n",
       "0                      Other  Not Reported   \n",
       "1                      Other  Not Reported   \n",
       "2  Epithelial Neoplasms, NOS         Ovary   \n",
       "3  Epithelial Neoplasms, NOS         Ovary   \n",
       "4  Epithelial Neoplasms, NOS         Ovary   \n",
       "\n",
       "                                           diagnoses  \\\n",
       "0  [{'diagnosis_id': 'd3996c4b-7f5c-427b-97ba-3c8...   \n",
       "1  [{'diagnosis_id': '80568346-c093-498e-8e39-416...   \n",
       "2  [{'diagnosis_id': 'dc05c0d0-6eed-432e-9938-ab6...   \n",
       "3  [{'diagnosis_id': 'd3f53162-f2f5-4696-94cf-568...   \n",
       "4  [{'diagnosis_id': '2df96eaa-4b38-4624-895f-f97...   \n",
       "\n",
       "                           diagnosis_id  \n",
       "0  d3996c4b-7f5c-427b-97ba-3c87522c77ce  \n",
       "1  80568346-c093-498e-8e39-41642af1320e  \n",
       "2  dc05c0d0-6eed-432e-9938-ab66abc3d6c8  \n",
       "3  d3f53162-f2f5-4696-94cf-5681c971ff9c  \n",
       "4  2df96eaa-4b38-4624-895f-f97c63216c26  "
      ]
     },
     "execution_count": 274,
     "metadata": {},
     "output_type": "execute_result"
    }
   ],
   "source": [
    "diagnose_data_df['diagnosis_id'] = diagnose_data_df['diagnoses'].apply(lambda diag_list: diag_list[0]['diagnosis_id'] if diag_list else None)\n",
    "diagnose_data_df.head()"
   ]
  },
  {
   "cell_type": "code",
   "execution_count": 275,
   "metadata": {},
   "outputs": [],
   "source": [
    "diagnose_df = for_diagnosis(matrix = matrix)"
   ]
  },
  {
   "cell_type": "code",
   "execution_count": 276,
   "metadata": {},
   "outputs": [],
   "source": [
    "diagnosis = pd.merge(left=diagnose_data_df, right=diagnose_df, on=\"diagnosis_id\")"
   ]
  },
  {
   "cell_type": "code",
   "execution_count": 277,
   "metadata": {},
   "outputs": [],
   "source": [
    "check_names = ['case_submitter_id', 'age_at_diagnosis', 'days_to_last_follow_up', 'days_to_last_known_disease_status', \n",
    "       'days_to_recurrence', 'diagnosis_is_primary_disease', 'last_known_disease_status', 'morphology', \n",
    "       'primary_diagnosis', 'progression_or_recurrence', 'site_of_resection_or_biopsy', 'tissue_or_organ_of_origin', \n",
    "       'tumor_grade', 'tumor_stage', 'adrenal_hormone', 'ajcc_clinical_m', 'ajcc_clinical_n', 'ajcc_clinical_stage', \n",
    "       'ajcc_clinical_t', 'ajcc_pathologic_m', 'ajcc_pathologic_n', 'ajcc_pathologic_stage', 'ajcc_pathologic_t',\n",
    "       'ajcc_staging_system_edition', 'anaplasia_present', 'anaplasia_present_type', 'ann_arbor_b_symptoms',\n",
    "       'ann_arbor_b_symptoms_described', 'ann_arbor_clinical_stage', 'ann_arbor_extranodal_involvement', \n",
    "       'ann_arbor_pathologic_stage', 'best_overall_response', 'breslow_thickness', 'burkitt_lymphoma_clinical_variant',\n",
    "       'child_pugh_classification', 'circumferential_resection_margin', 'classification_of_tumor', 'cog_liver_stage', \n",
    "       'cog_neuroblastoma_risk_group', 'cog_renal_stage', 'cog_rhabdomyosarcoma_risk_group', 'colon_polyps_history',\n",
    "       'days_to_best_overall_response', 'days_to_diagnosis', 'days_to_hiv_diagnosis', 'days_to_new_event', \n",
    "       'eln_risk_classification', 'enneking_msts_grade', 'enneking_msts_metastasis', 'enneking_msts_stage', \n",
    "       'enneking_msts_tumor_site', 'esophageal_columnar_dysplasia_degree', 'esophageal_columnar_metaplasia_present', \n",
    "       'figo_stage', 'figo_staging_edition_year', 'first_symptom_prior_to_diagnosis', \n",
    "       'gastric_esophageal_junction_involvement', 'gleason_grade_group', 'gleason_grade_tertiary', \n",
    "       'gleason_patterns_percent', 'goblet_cells_columnar_mucosa_present', 'gross_tumor_weight', \n",
    "       'hiv_positive', 'hpv_positive_type', 'hpv_status', 'icd_10_code', 'igcccg_stage', 'inpc_grade',\n",
    "       'inpc_histologic_group', 'inrg_stage', 'inss_stage', 'international_prognostic_index', 'irs_group', \n",
    "       'irs_stage', 'ishak_fibrosis_score', 'iss_stage', 'largest_extrapelvic_peritoneal_focus', 'laterality',\n",
    "       'ldh_level_at_diagnosis', 'ldh_normal_range_upper', 'lymph_nodes_positive', 'lymph_nodes_tested', \n",
    "       'lymphatic_invasion_present', 'margin_distance', 'margins_involved_site', 'masaoka_stage',\n",
    "       'medulloblastoma_molecular_classification', 'metastasis_at_diagnosis', 'metastasis_at_diagnosis_site',\n",
    "       'method_of_diagnosis', 'mitosis_karyorrhexis_index', 'new_event_anatomic_site', 'new_event_type', \n",
    "       'non_nodal_regional_disease', 'non_nodal_tumor_deposits', 'ovarian_specimen_status', \n",
    "       'ovarian_surface_involvement', 'overall_survival', 'percent_tumor_invasion', \n",
    "       'perineural_invasion_present', 'peripancreatic_lymph_nodes_positive', \n",
    "       'peripancreatic_lymph_nodes_tested', 'peritoneal_fluid_cytological_status',\n",
    "       'pregnant_at_diagnosis', 'primary_gleason_grade', 'prior_malignancy', \n",
    "       'prior_treatment', 'progression_free_survival', 'progression_free_survival_event', \n",
    "       'residual_disease', 'satellite_nodule_present', 'secondary_gleason_grade', \n",
    "       'sites_of_involvement', 'supratentorial_localization', 'synchronous_malignancy', \n",
    "       'tumor_cell_content', 'tumor_confined_to_organ_of_origin', 'tumor_depth', \n",
    "       'tumor_focality', 'tumor_largest_dimension_diameter', 'tumor_regression_grade', \n",
    "       'vascular_invasion_present', 'vascular_invasion_type', 'weiss_assessment_score', \n",
    "       'who_cns_grade', 'who_nte_grade', 'wilms_tumor_histologic_subtype', 'year_of_diagnosis']\n",
    "to_remove = list(set(diagnosis.columns).difference(check_names))"
   ]
  },
  {
   "cell_type": "code",
   "execution_count": 278,
   "metadata": {},
   "outputs": [
    {
     "data": {
      "application/vnd.microsoft.datawrangler.viewer.v0+json": {
       "columns": [
        {
         "name": "index",
         "rawType": "int64",
         "type": "integer"
        },
        {
         "name": "case_submitter_id",
         "rawType": "object",
         "type": "string"
        },
        {
         "name": "age_at_diagnosis",
         "rawType": "object",
         "type": "string"
        },
        {
         "name": "days_to_last_follow_up",
         "rawType": "object",
         "type": "string"
        },
        {
         "name": "days_to_last_known_disease_status",
         "rawType": "object",
         "type": "string"
        },
        {
         "name": "days_to_recurrence",
         "rawType": "object",
         "type": "string"
        },
        {
         "name": "diagnosis_is_primary_disease",
         "rawType": "object",
         "type": "string"
        },
        {
         "name": "last_known_disease_status",
         "rawType": "object",
         "type": "string"
        },
        {
         "name": "morphology",
         "rawType": "object",
         "type": "string"
        },
        {
         "name": "primary_diagnosis",
         "rawType": "object",
         "type": "string"
        },
        {
         "name": "progression_or_recurrence",
         "rawType": "object",
         "type": "string"
        },
        {
         "name": "site_of_resection_or_biopsy",
         "rawType": "object",
         "type": "string"
        },
        {
         "name": "tissue_or_organ_of_origin",
         "rawType": "object",
         "type": "string"
        },
        {
         "name": "tumor_grade",
         "rawType": "object",
         "type": "string"
        },
        {
         "name": "tumor_stage",
         "rawType": "object",
         "type": "string"
        },
        {
         "name": "adrenal_hormone",
         "rawType": "object",
         "type": "string"
        },
        {
         "name": "ajcc_clinical_m",
         "rawType": "object",
         "type": "string"
        },
        {
         "name": "ajcc_clinical_n",
         "rawType": "object",
         "type": "string"
        },
        {
         "name": "ajcc_clinical_stage",
         "rawType": "object",
         "type": "string"
        },
        {
         "name": "ajcc_clinical_t",
         "rawType": "object",
         "type": "string"
        },
        {
         "name": "ajcc_pathologic_m",
         "rawType": "object",
         "type": "string"
        },
        {
         "name": "ajcc_pathologic_n",
         "rawType": "object",
         "type": "string"
        },
        {
         "name": "ajcc_pathologic_stage",
         "rawType": "object",
         "type": "string"
        },
        {
         "name": "ajcc_pathologic_t",
         "rawType": "object",
         "type": "string"
        },
        {
         "name": "ajcc_staging_system_edition",
         "rawType": "float64",
         "type": "float"
        },
        {
         "name": "anaplasia_present",
         "rawType": "object",
         "type": "string"
        },
        {
         "name": "anaplasia_present_type",
         "rawType": "object",
         "type": "string"
        },
        {
         "name": "ann_arbor_b_symptoms",
         "rawType": "object",
         "type": "string"
        },
        {
         "name": "ann_arbor_b_symptoms_described",
         "rawType": "object",
         "type": "string"
        },
        {
         "name": "ann_arbor_clinical_stage",
         "rawType": "object",
         "type": "string"
        },
        {
         "name": "ann_arbor_extranodal_involvement",
         "rawType": "object",
         "type": "string"
        },
        {
         "name": "ann_arbor_pathologic_stage",
         "rawType": "object",
         "type": "string"
        },
        {
         "name": "best_overall_response",
         "rawType": "object",
         "type": "string"
        },
        {
         "name": "breslow_thickness",
         "rawType": "object",
         "type": "string"
        },
        {
         "name": "burkitt_lymphoma_clinical_variant",
         "rawType": "object",
         "type": "string"
        },
        {
         "name": "child_pugh_classification",
         "rawType": "object",
         "type": "string"
        },
        {
         "name": "circumferential_resection_margin",
         "rawType": "object",
         "type": "string"
        },
        {
         "name": "classification_of_tumor",
         "rawType": "object",
         "type": "string"
        },
        {
         "name": "cog_liver_stage",
         "rawType": "object",
         "type": "string"
        },
        {
         "name": "cog_neuroblastoma_risk_group",
         "rawType": "object",
         "type": "string"
        },
        {
         "name": "cog_renal_stage",
         "rawType": "object",
         "type": "string"
        },
        {
         "name": "cog_rhabdomyosarcoma_risk_group",
         "rawType": "object",
         "type": "string"
        },
        {
         "name": "colon_polyps_history",
         "rawType": "object",
         "type": "string"
        },
        {
         "name": "days_to_best_overall_response",
         "rawType": "object",
         "type": "string"
        },
        {
         "name": "days_to_diagnosis",
         "rawType": "object",
         "type": "string"
        },
        {
         "name": "days_to_hiv_diagnosis",
         "rawType": "object",
         "type": "string"
        },
        {
         "name": "days_to_new_event",
         "rawType": "object",
         "type": "string"
        },
        {
         "name": "eln_risk_classification",
         "rawType": "object",
         "type": "string"
        },
        {
         "name": "enneking_msts_grade",
         "rawType": "object",
         "type": "string"
        },
        {
         "name": "enneking_msts_metastasis",
         "rawType": "object",
         "type": "string"
        },
        {
         "name": "enneking_msts_stage",
         "rawType": "object",
         "type": "string"
        },
        {
         "name": "enneking_msts_tumor_site",
         "rawType": "object",
         "type": "string"
        },
        {
         "name": "esophageal_columnar_dysplasia_degree",
         "rawType": "object",
         "type": "string"
        },
        {
         "name": "esophageal_columnar_metaplasia_present",
         "rawType": "object",
         "type": "string"
        },
        {
         "name": "figo_stage",
         "rawType": "object",
         "type": "string"
        },
        {
         "name": "figo_staging_edition_year",
         "rawType": "object",
         "type": "string"
        },
        {
         "name": "first_symptom_prior_to_diagnosis",
         "rawType": "object",
         "type": "string"
        },
        {
         "name": "gastric_esophageal_junction_involvement",
         "rawType": "object",
         "type": "string"
        },
        {
         "name": "gleason_grade_group",
         "rawType": "object",
         "type": "string"
        },
        {
         "name": "gleason_grade_tertiary",
         "rawType": "object",
         "type": "string"
        },
        {
         "name": "gleason_patterns_percent",
         "rawType": "object",
         "type": "string"
        },
        {
         "name": "goblet_cells_columnar_mucosa_present",
         "rawType": "object",
         "type": "string"
        },
        {
         "name": "gross_tumor_weight",
         "rawType": "object",
         "type": "string"
        },
        {
         "name": "hiv_positive",
         "rawType": "object",
         "type": "string"
        },
        {
         "name": "hpv_positive_type",
         "rawType": "object",
         "type": "string"
        },
        {
         "name": "hpv_status",
         "rawType": "object",
         "type": "string"
        },
        {
         "name": "icd_10_code",
         "rawType": "object",
         "type": "string"
        },
        {
         "name": "igcccg_stage",
         "rawType": "object",
         "type": "string"
        },
        {
         "name": "inpc_grade",
         "rawType": "object",
         "type": "string"
        },
        {
         "name": "inpc_histologic_group",
         "rawType": "object",
         "type": "string"
        },
        {
         "name": "inrg_stage",
         "rawType": "object",
         "type": "string"
        },
        {
         "name": "inss_stage",
         "rawType": "object",
         "type": "string"
        },
        {
         "name": "international_prognostic_index",
         "rawType": "object",
         "type": "string"
        },
        {
         "name": "irs_group",
         "rawType": "object",
         "type": "string"
        },
        {
         "name": "irs_stage",
         "rawType": "object",
         "type": "string"
        },
        {
         "name": "ishak_fibrosis_score",
         "rawType": "object",
         "type": "string"
        },
        {
         "name": "iss_stage",
         "rawType": "object",
         "type": "string"
        },
        {
         "name": "largest_extrapelvic_peritoneal_focus",
         "rawType": "object",
         "type": "string"
        },
        {
         "name": "laterality",
         "rawType": "object",
         "type": "string"
        },
        {
         "name": "ldh_level_at_diagnosis",
         "rawType": "object",
         "type": "string"
        },
        {
         "name": "ldh_normal_range_upper",
         "rawType": "object",
         "type": "string"
        },
        {
         "name": "lymph_nodes_positive",
         "rawType": "object",
         "type": "string"
        },
        {
         "name": "lymph_nodes_tested",
         "rawType": "object",
         "type": "string"
        },
        {
         "name": "lymphatic_invasion_present",
         "rawType": "object",
         "type": "string"
        },
        {
         "name": "margin_distance",
         "rawType": "object",
         "type": "string"
        },
        {
         "name": "margins_involved_site",
         "rawType": "object",
         "type": "string"
        },
        {
         "name": "masaoka_stage",
         "rawType": "object",
         "type": "string"
        },
        {
         "name": "medulloblastoma_molecular_classification",
         "rawType": "object",
         "type": "string"
        },
        {
         "name": "metastasis_at_diagnosis",
         "rawType": "object",
         "type": "string"
        },
        {
         "name": "metastasis_at_diagnosis_site",
         "rawType": "object",
         "type": "string"
        },
        {
         "name": "method_of_diagnosis",
         "rawType": "object",
         "type": "string"
        },
        {
         "name": "mitosis_karyorrhexis_index",
         "rawType": "object",
         "type": "string"
        },
        {
         "name": "new_event_anatomic_site",
         "rawType": "object",
         "type": "string"
        },
        {
         "name": "new_event_type",
         "rawType": "object",
         "type": "string"
        },
        {
         "name": "non_nodal_regional_disease",
         "rawType": "object",
         "type": "string"
        },
        {
         "name": "non_nodal_tumor_deposits",
         "rawType": "object",
         "type": "string"
        },
        {
         "name": "ovarian_specimen_status",
         "rawType": "object",
         "type": "string"
        },
        {
         "name": "ovarian_surface_involvement",
         "rawType": "object",
         "type": "string"
        },
        {
         "name": "overall_survival",
         "rawType": "object",
         "type": "string"
        },
        {
         "name": "percent_tumor_invasion",
         "rawType": "object",
         "type": "string"
        },
        {
         "name": "perineural_invasion_present",
         "rawType": "object",
         "type": "string"
        },
        {
         "name": "peripancreatic_lymph_nodes_positive",
         "rawType": "object",
         "type": "string"
        },
        {
         "name": "peripancreatic_lymph_nodes_tested",
         "rawType": "object",
         "type": "string"
        },
        {
         "name": "peritoneal_fluid_cytological_status",
         "rawType": "object",
         "type": "string"
        },
        {
         "name": "pregnant_at_diagnosis",
         "rawType": "object",
         "type": "string"
        },
        {
         "name": "primary_gleason_grade",
         "rawType": "object",
         "type": "string"
        },
        {
         "name": "prior_malignancy",
         "rawType": "object",
         "type": "string"
        },
        {
         "name": "prior_treatment",
         "rawType": "object",
         "type": "string"
        },
        {
         "name": "progression_free_survival",
         "rawType": "object",
         "type": "string"
        },
        {
         "name": "progression_free_survival_event",
         "rawType": "object",
         "type": "string"
        },
        {
         "name": "residual_disease",
         "rawType": "object",
         "type": "string"
        },
        {
         "name": "satellite_nodule_present",
         "rawType": "object",
         "type": "string"
        },
        {
         "name": "secondary_gleason_grade",
         "rawType": "object",
         "type": "string"
        },
        {
         "name": "sites_of_involvement",
         "rawType": "object",
         "type": "string"
        },
        {
         "name": "supratentorial_localization",
         "rawType": "object",
         "type": "string"
        },
        {
         "name": "synchronous_malignancy",
         "rawType": "object",
         "type": "string"
        },
        {
         "name": "tumor_cell_content",
         "rawType": "float64",
         "type": "float"
        },
        {
         "name": "tumor_confined_to_organ_of_origin",
         "rawType": "object",
         "type": "string"
        },
        {
         "name": "tumor_depth",
         "rawType": "object",
         "type": "string"
        },
        {
         "name": "tumor_focality",
         "rawType": "object",
         "type": "string"
        },
        {
         "name": "tumor_largest_dimension_diameter",
         "rawType": "object",
         "type": "string"
        },
        {
         "name": "tumor_regression_grade",
         "rawType": "object",
         "type": "string"
        },
        {
         "name": "vascular_invasion_present",
         "rawType": "object",
         "type": "string"
        },
        {
         "name": "vascular_invasion_type",
         "rawType": "object",
         "type": "string"
        },
        {
         "name": "weiss_assessment_score",
         "rawType": "object",
         "type": "string"
        },
        {
         "name": "who_cns_grade",
         "rawType": "object",
         "type": "string"
        },
        {
         "name": "who_nte_grade",
         "rawType": "object",
         "type": "string"
        },
        {
         "name": "wilms_tumor_histologic_subtype",
         "rawType": "object",
         "type": "string"
        },
        {
         "name": "year_of_diagnosis",
         "rawType": "object",
         "type": "string"
        }
       ],
       "conversionMethod": "pd.DataFrame",
       "ref": "7dca63b0-0edc-489e-9fa8-743495e21f03",
       "rows": [
        [
         "0",
         "Withheld",
         "None",
         "N/A",
         "N/A",
         "N/A",
         "Not Reported",
         "not reported",
         "Not Reported",
         "Not Reported",
         "yes",
         "Not Reported",
         "Not Reported",
         "Not Reported",
         "Not Reported",
         "None",
         "None",
         "None",
         "None",
         "None",
         "None",
         "None",
         "None",
         "None",
         null,
         "None",
         "None",
         "None",
         "None",
         "None",
         "None",
         "None",
         "None",
         "None",
         "None",
         "None",
         "None",
         "None",
         "None",
         "None",
         "None",
         "None",
         "None",
         "None",
         "None",
         "None",
         "None",
         "None",
         "None",
         "None",
         "None",
         "None",
         "None",
         "None",
         "None",
         "None",
         "None",
         "None",
         "None",
         "None",
         "None",
         "None",
         "None",
         "None",
         "None",
         "None",
         "None",
         "None",
         "None",
         "None",
         "None",
         "None",
         "None",
         "None",
         "None",
         "None",
         "None",
         "None",
         "None",
         "None",
         "None",
         "None",
         "None",
         "None",
         "None",
         "None",
         "None",
         "None",
         "None",
         "None",
         "None",
         "None",
         "None",
         "None",
         "None",
         "None",
         "None",
         "None",
         "None",
         "None",
         "None",
         "None",
         "None",
         "None",
         "None",
         "None",
         "None",
         "None",
         "None",
         "None",
         "None",
         "None",
         "None",
         "None",
         "None",
         "None",
         null,
         "None",
         "None",
         "None",
         "None",
         "None",
         "None",
         "None",
         "None",
         "None",
         "None",
         "None",
         "None"
        ],
        [
         "1",
         "Pool",
         "None",
         "N/A",
         "N/A",
         "N/A",
         "Not Reported",
         "not reported",
         "Not Reported",
         "Not Reported",
         "yes",
         "Not Reported",
         "Not Reported",
         "Not Reported",
         "Not Reported",
         "None",
         "None",
         "None",
         "None",
         "None",
         "None",
         "None",
         "None",
         "None",
         null,
         "None",
         "None",
         "None",
         "None",
         "None",
         "None",
         "None",
         "None",
         "None",
         "None",
         "None",
         "None",
         "None",
         "None",
         "None",
         "None",
         "None",
         "None",
         "None",
         "None",
         "None",
         "None",
         "None",
         "None",
         "None",
         "None",
         "None",
         "None",
         "None",
         "None",
         "None",
         "None",
         "None",
         "None",
         "None",
         "None",
         "None",
         "None",
         "None",
         "None",
         "None",
         "None",
         "None",
         "None",
         "None",
         "None",
         "None",
         "None",
         "None",
         "None",
         "None",
         "None",
         "None",
         "None",
         "None",
         "None",
         "None",
         "None",
         "None",
         "None",
         "None",
         "None",
         "None",
         "None",
         "None",
         "None",
         "None",
         "None",
         "None",
         "None",
         "None",
         "None",
         "None",
         "None",
         "None",
         "None",
         "None",
         "None",
         "None",
         "None",
         "None",
         "None",
         "None",
         "None",
         "None",
         "None",
         "None",
         "None",
         "None",
         "None",
         "None",
         null,
         "None",
         "None",
         "None",
         "None",
         "None",
         "None",
         "None",
         "None",
         "None",
         "None",
         "None",
         "None"
        ],
        [
         "2",
         "AP-BTE5",
         "16263",
         "751.00",
         "751.00",
         "386.00",
         "True",
         "Distant met recurrence/progression",
         "Unknown",
         "High-grade serous carcinoma",
         "yes",
         "Ovary",
         "Ovary",
         "Not Reported",
         "IVB",
         "None",
         "None",
         "None",
         "None",
         "None",
         "None",
         "None",
         "None",
         "None",
         null,
         "None",
         "None",
         "None",
         "None",
         "None",
         "None",
         "None",
         "None",
         "None",
         "None",
         "None",
         "None",
         "None",
         "None",
         "None",
         "None",
         "None",
         "None",
         "None",
         "None",
         "None",
         "None",
         "None",
         "None",
         "None",
         "None",
         "None",
         "None",
         "None",
         "None",
         "None",
         "None",
         "None",
         "None",
         "None",
         "None",
         "None",
         "None",
         "None",
         "None",
         "None",
         "None",
         "None",
         "None",
         "None",
         "None",
         "None",
         "None",
         "None",
         "None",
         "None",
         "None",
         "None",
         "None",
         "None",
         "None",
         "None",
         "None",
         "None",
         "None",
         "None",
         "None",
         "None",
         "None",
         "None",
         "None",
         "None",
         "None",
         "None",
         "None",
         "None",
         "None",
         "None",
         "None",
         "None",
         "None",
         "None",
         "None",
         "None",
         "None",
         "None",
         "None",
         "None",
         "None",
         "None",
         "None",
         "None",
         "None",
         "None",
         "None",
         "None",
         null,
         "None",
         "None",
         "None",
         "None",
         "None",
         "None",
         "None",
         "None",
         "None",
         "None",
         "None",
         "None"
        ],
        [
         "3",
         "AP-LU5F",
         "20166",
         "77.00",
         "77.00",
         "30.00",
         "True",
         "Distant met recurrence/progression",
         "Unknown",
         "High-grade serous carcinoma",
         "yes",
         "Abdomen, NOS",
         "Ovary",
         "Not Reported",
         "IIIC",
         "None",
         "None",
         "None",
         "None",
         "None",
         "None",
         "None",
         "None",
         "None",
         null,
         "None",
         "None",
         "None",
         "None",
         "None",
         "None",
         "None",
         "None",
         "None",
         "None",
         "None",
         "None",
         "None",
         "None",
         "None",
         "None",
         "None",
         "None",
         "None",
         "None",
         "None",
         "None",
         "None",
         "None",
         "None",
         "None",
         "None",
         "None",
         "None",
         "None",
         "None",
         "None",
         "None",
         "None",
         "None",
         "None",
         "None",
         "None",
         "None",
         "None",
         "None",
         "None",
         "None",
         "None",
         "None",
         "None",
         "None",
         "None",
         "None",
         "None",
         "None",
         "None",
         "None",
         "None",
         "None",
         "None",
         "None",
         "None",
         "None",
         "None",
         "None",
         "None",
         "None",
         "None",
         "None",
         "None",
         "None",
         "None",
         "None",
         "None",
         "None",
         "None",
         "None",
         "None",
         "None",
         "None",
         "None",
         "None",
         "None",
         "None",
         "None",
         "None",
         "None",
         "None",
         "None",
         "None",
         "None",
         "None",
         "None",
         "None",
         "None",
         null,
         "None",
         "None",
         "None",
         "None",
         "None",
         "None",
         "None",
         "None",
         "None",
         "None",
         "None",
         "None"
        ],
        [
         "4",
         "AP-Y8GF",
         "22117",
         "1660.00",
         "1660.00",
         "534.00",
         "True",
         "Distant met recurrence/progression",
         "Unknown",
         "High-grade serous carcinoma",
         "yes",
         "Ovary",
         "Ovary",
         "Not Reported",
         "IIIC",
         "None",
         "None",
         "None",
         "None",
         "None",
         "None",
         "None",
         "None",
         "None",
         null,
         "None",
         "None",
         "None",
         "None",
         "None",
         "None",
         "None",
         "None",
         "None",
         "None",
         "None",
         "None",
         "None",
         "None",
         "None",
         "None",
         "None",
         "None",
         "None",
         "None",
         "None",
         "None",
         "None",
         "None",
         "None",
         "None",
         "None",
         "None",
         "None",
         "None",
         "None",
         "None",
         "None",
         "None",
         "None",
         "None",
         "None",
         "None",
         "None",
         "None",
         "None",
         "None",
         "None",
         "None",
         "None",
         "None",
         "None",
         "None",
         "None",
         "None",
         "None",
         "None",
         "None",
         "None",
         "None",
         "None",
         "None",
         "None",
         "None",
         "None",
         "None",
         "None",
         "None",
         "None",
         "None",
         "None",
         "None",
         "None",
         "None",
         "None",
         "None",
         "None",
         "None",
         "None",
         "None",
         "None",
         "None",
         "None",
         "None",
         "None",
         "None",
         "None",
         "None",
         "None",
         "None",
         "None",
         "None",
         "None",
         "None",
         "None",
         "None",
         null,
         "None",
         "None",
         "None",
         "None",
         "None",
         "None",
         "None",
         "None",
         "None",
         "None",
         "None",
         "None"
        ]
       ],
       "shape": {
        "columns": 128,
        "rows": 5
       }
      },
      "text/html": [
       "<div>\n",
       "<style scoped>\n",
       "    .dataframe tbody tr th:only-of-type {\n",
       "        vertical-align: middle;\n",
       "    }\n",
       "\n",
       "    .dataframe tbody tr th {\n",
       "        vertical-align: top;\n",
       "    }\n",
       "\n",
       "    .dataframe thead th {\n",
       "        text-align: right;\n",
       "    }\n",
       "</style>\n",
       "<table border=\"1\" class=\"dataframe\">\n",
       "  <thead>\n",
       "    <tr style=\"text-align: right;\">\n",
       "      <th></th>\n",
       "      <th>case_submitter_id</th>\n",
       "      <th>age_at_diagnosis</th>\n",
       "      <th>days_to_last_follow_up</th>\n",
       "      <th>days_to_last_known_disease_status</th>\n",
       "      <th>days_to_recurrence</th>\n",
       "      <th>diagnosis_is_primary_disease</th>\n",
       "      <th>last_known_disease_status</th>\n",
       "      <th>morphology</th>\n",
       "      <th>primary_diagnosis</th>\n",
       "      <th>progression_or_recurrence</th>\n",
       "      <th>...</th>\n",
       "      <th>tumor_focality</th>\n",
       "      <th>tumor_largest_dimension_diameter</th>\n",
       "      <th>tumor_regression_grade</th>\n",
       "      <th>vascular_invasion_present</th>\n",
       "      <th>vascular_invasion_type</th>\n",
       "      <th>weiss_assessment_score</th>\n",
       "      <th>who_cns_grade</th>\n",
       "      <th>who_nte_grade</th>\n",
       "      <th>wilms_tumor_histologic_subtype</th>\n",
       "      <th>year_of_diagnosis</th>\n",
       "    </tr>\n",
       "  </thead>\n",
       "  <tbody>\n",
       "    <tr>\n",
       "      <th>0</th>\n",
       "      <td>Withheld</td>\n",
       "      <td>None</td>\n",
       "      <td>N/A</td>\n",
       "      <td>N/A</td>\n",
       "      <td>N/A</td>\n",
       "      <td>Not Reported</td>\n",
       "      <td>not reported</td>\n",
       "      <td>Not Reported</td>\n",
       "      <td>Not Reported</td>\n",
       "      <td>yes</td>\n",
       "      <td>...</td>\n",
       "      <td>None</td>\n",
       "      <td>None</td>\n",
       "      <td>None</td>\n",
       "      <td>None</td>\n",
       "      <td>None</td>\n",
       "      <td>None</td>\n",
       "      <td>None</td>\n",
       "      <td>None</td>\n",
       "      <td>None</td>\n",
       "      <td>None</td>\n",
       "    </tr>\n",
       "    <tr>\n",
       "      <th>1</th>\n",
       "      <td>Pool</td>\n",
       "      <td>None</td>\n",
       "      <td>N/A</td>\n",
       "      <td>N/A</td>\n",
       "      <td>N/A</td>\n",
       "      <td>Not Reported</td>\n",
       "      <td>not reported</td>\n",
       "      <td>Not Reported</td>\n",
       "      <td>Not Reported</td>\n",
       "      <td>yes</td>\n",
       "      <td>...</td>\n",
       "      <td>None</td>\n",
       "      <td>None</td>\n",
       "      <td>None</td>\n",
       "      <td>None</td>\n",
       "      <td>None</td>\n",
       "      <td>None</td>\n",
       "      <td>None</td>\n",
       "      <td>None</td>\n",
       "      <td>None</td>\n",
       "      <td>None</td>\n",
       "    </tr>\n",
       "    <tr>\n",
       "      <th>2</th>\n",
       "      <td>AP-BTE5</td>\n",
       "      <td>16263</td>\n",
       "      <td>751.00</td>\n",
       "      <td>751.00</td>\n",
       "      <td>386.00</td>\n",
       "      <td>True</td>\n",
       "      <td>Distant met recurrence/progression</td>\n",
       "      <td>Unknown</td>\n",
       "      <td>High-grade serous carcinoma</td>\n",
       "      <td>yes</td>\n",
       "      <td>...</td>\n",
       "      <td>None</td>\n",
       "      <td>None</td>\n",
       "      <td>None</td>\n",
       "      <td>None</td>\n",
       "      <td>None</td>\n",
       "      <td>None</td>\n",
       "      <td>None</td>\n",
       "      <td>None</td>\n",
       "      <td>None</td>\n",
       "      <td>None</td>\n",
       "    </tr>\n",
       "    <tr>\n",
       "      <th>3</th>\n",
       "      <td>AP-LU5F</td>\n",
       "      <td>20166</td>\n",
       "      <td>77.00</td>\n",
       "      <td>77.00</td>\n",
       "      <td>30.00</td>\n",
       "      <td>True</td>\n",
       "      <td>Distant met recurrence/progression</td>\n",
       "      <td>Unknown</td>\n",
       "      <td>High-grade serous carcinoma</td>\n",
       "      <td>yes</td>\n",
       "      <td>...</td>\n",
       "      <td>None</td>\n",
       "      <td>None</td>\n",
       "      <td>None</td>\n",
       "      <td>None</td>\n",
       "      <td>None</td>\n",
       "      <td>None</td>\n",
       "      <td>None</td>\n",
       "      <td>None</td>\n",
       "      <td>None</td>\n",
       "      <td>None</td>\n",
       "    </tr>\n",
       "    <tr>\n",
       "      <th>4</th>\n",
       "      <td>AP-Y8GF</td>\n",
       "      <td>22117</td>\n",
       "      <td>1660.00</td>\n",
       "      <td>1660.00</td>\n",
       "      <td>534.00</td>\n",
       "      <td>True</td>\n",
       "      <td>Distant met recurrence/progression</td>\n",
       "      <td>Unknown</td>\n",
       "      <td>High-grade serous carcinoma</td>\n",
       "      <td>yes</td>\n",
       "      <td>...</td>\n",
       "      <td>None</td>\n",
       "      <td>None</td>\n",
       "      <td>None</td>\n",
       "      <td>None</td>\n",
       "      <td>None</td>\n",
       "      <td>None</td>\n",
       "      <td>None</td>\n",
       "      <td>None</td>\n",
       "      <td>None</td>\n",
       "      <td>None</td>\n",
       "    </tr>\n",
       "  </tbody>\n",
       "</table>\n",
       "<p>5 rows × 128 columns</p>\n",
       "</div>"
      ],
      "text/plain": [
       "  case_submitter_id age_at_diagnosis days_to_last_follow_up  \\\n",
       "0          Withheld             None                    N/A   \n",
       "1              Pool             None                    N/A   \n",
       "2           AP-BTE5            16263                 751.00   \n",
       "3           AP-LU5F            20166                  77.00   \n",
       "4           AP-Y8GF            22117                1660.00   \n",
       "\n",
       "  days_to_last_known_disease_status days_to_recurrence  \\\n",
       "0                               N/A                N/A   \n",
       "1                               N/A                N/A   \n",
       "2                            751.00             386.00   \n",
       "3                             77.00              30.00   \n",
       "4                           1660.00             534.00   \n",
       "\n",
       "  diagnosis_is_primary_disease           last_known_disease_status  \\\n",
       "0                 Not Reported                        not reported   \n",
       "1                 Not Reported                        not reported   \n",
       "2                         True  Distant met recurrence/progression   \n",
       "3                         True  Distant met recurrence/progression   \n",
       "4                         True  Distant met recurrence/progression   \n",
       "\n",
       "     morphology            primary_diagnosis progression_or_recurrence  ...  \\\n",
       "0  Not Reported                 Not Reported                       yes  ...   \n",
       "1  Not Reported                 Not Reported                       yes  ...   \n",
       "2       Unknown  High-grade serous carcinoma                       yes  ...   \n",
       "3       Unknown  High-grade serous carcinoma                       yes  ...   \n",
       "4       Unknown  High-grade serous carcinoma                       yes  ...   \n",
       "\n",
       "  tumor_focality tumor_largest_dimension_diameter tumor_regression_grade  \\\n",
       "0           None                             None                   None   \n",
       "1           None                             None                   None   \n",
       "2           None                             None                   None   \n",
       "3           None                             None                   None   \n",
       "4           None                             None                   None   \n",
       "\n",
       "  vascular_invasion_present vascular_invasion_type weiss_assessment_score  \\\n",
       "0                      None                   None                   None   \n",
       "1                      None                   None                   None   \n",
       "2                      None                   None                   None   \n",
       "3                      None                   None                   None   \n",
       "4                      None                   None                   None   \n",
       "\n",
       "  who_cns_grade who_nte_grade wilms_tumor_histologic_subtype year_of_diagnosis  \n",
       "0          None          None                           None              None  \n",
       "1          None          None                           None              None  \n",
       "2          None          None                           None              None  \n",
       "3          None          None                           None              None  \n",
       "4          None          None                           None              None  \n",
       "\n",
       "[5 rows x 128 columns]"
      ]
     },
     "execution_count": 278,
     "metadata": {},
     "output_type": "execute_result"
    }
   ],
   "source": [
    "diagnosis.drop(columns=to_remove, inplace=True)\n",
    "diagnosis = diagnosis.reindex(columns=check_names)\n",
    "diagnosis.head()"
   ]
  },
  {
   "cell_type": "markdown",
   "metadata": {},
   "source": [
    "# Exposure"
   ]
  },
  {
   "cell_type": "code",
   "execution_count": 279,
   "metadata": {},
   "outputs": [],
   "source": [
    "# Variables\n",
    "variables = {\n",
    "    \"pdc_study_identifier\": \"PDC000127\",\n",
    "    \"study_id\": \"a5da6836-c92e-4bdc-8f84-d28d629fc383\",\n",
    "    \"offset\": 0,  # set offset records to pull\n",
    "    \"limit\": 10,  # limit number of records\n",
    "    \"data_type\": \"log2_ratio\"  # option: unshared_log2_ratio\n",
    "}"
   ]
  },
  {
   "cell_type": "code",
   "execution_count": 280,
   "metadata": {},
   "outputs": [
    {
     "name": "stdout",
     "output_type": "stream",
     "text": [
      "Sending query.\n"
     ]
    },
    {
     "data": {
      "text/plain": [
       "Index(['case_id', 'case_submitter_id', 'disease_type', 'primary_site',\n",
       "       'exposures'],\n",
       "      dtype='object')"
      ]
     },
     "execution_count": 280,
     "metadata": {},
     "output_type": "execute_result"
    }
   ],
   "source": [
    "exposure_data = query_pdc(query= query_exposure, variables= variables)\n",
    "matrix = json.loads(exposure_data.content)['data'][\"paginatedCaseExposuresPerStudy\"][\"caseExposuresPerStudy\"]\n",
    "exposure_data_df = pd.DataFrame(matrix[1:], columns=matrix[0])\n",
    "exposure_data_df.columns"
   ]
  },
  {
   "cell_type": "code",
   "execution_count": 281,
   "metadata": {},
   "outputs": [
    {
     "data": {
      "application/vnd.microsoft.datawrangler.viewer.v0+json": {
       "columns": [
        {
         "name": "index",
         "rawType": "int64",
         "type": "integer"
        },
        {
         "name": "case_id",
         "rawType": "object",
         "type": "string"
        },
        {
         "name": "case_submitter_id",
         "rawType": "object",
         "type": "string"
        },
        {
         "name": "disease_type",
         "rawType": "object",
         "type": "string"
        },
        {
         "name": "primary_site",
         "rawType": "object",
         "type": "string"
        },
        {
         "name": "exposures",
         "rawType": "object",
         "type": "unknown"
        },
        {
         "name": "exposure_id",
         "rawType": "object",
         "type": "unknown"
        }
       ],
       "conversionMethod": "pd.DataFrame",
       "ref": "d2310f72-1b57-4ddd-8ece-0471d1d59583",
       "rows": [
        [
         "0",
         "bf7ade95-1fb8-11e9-b7f8-0a80fada099c",
         "C3L-00360",
         "Clear Cell Renal Cell Carcinoma",
         "Kidney",
         "[{'exposure_id': '19e54723-2c37-11ec-b712-0a4e2186f121', 'exposure_submitter_id': 'C3L-00360-EX', 'alcohol_days_per_week': None, 'alcohol_drinks_per_day': None, 'alcohol_history': 'Yes', 'alcohol_intensity': 'Occasional Drinker', 'asbestos_exposure': None, 'cigarettes_per_day': '20.0', 'coal_dust_exposure': None, 'environmental_tobacco_smoke_exposure': None, 'pack_years_smoked': '40.0', 'radon_exposure': None, 'respirable_crystalline_silica_exposure': None, 'smoking_frequency': None, 'time_between_waking_and_first_smoke': None, 'tobacco_smoking_onset_year': '1963', 'tobacco_smoking_quit_year': '2003', 'tobacco_smoking_status': '4', 'type_of_smoke_exposure': None, 'type_of_tobacco_used': None, 'years_smoked': '40.0', 'age_at_onset': None, 'alcohol_type': None, 'exposure_duration': None, 'exposure_duration_years': None, 'exposure_type': None, 'marijuana_use_per_week': None, 'parent_with_radiation_exposure': None, 'secondhand_smoke_as_child': None, 'smokeless_tobacco_quit_age': None, 'tobacco_use_per_day': None}]",
         "19e54723-2c37-11ec-b712-0a4e2186f121"
        ],
        [
         "1",
         "b76d3749-1fb8-11e9-b7f8-0a80fada099c",
         "C3L-00097",
         "Clear Cell Renal Cell Carcinoma",
         "Kidney",
         "[{'exposure_id': '19c4a43a-2c37-11ec-b712-0a4e2186f121', 'exposure_submitter_id': 'C3L-00097-EX', 'alcohol_days_per_week': None, 'alcohol_drinks_per_day': None, 'alcohol_history': 'Yes', 'alcohol_intensity': 'Occasional Drinker', 'asbestos_exposure': None, 'cigarettes_per_day': '20.0', 'coal_dust_exposure': None, 'environmental_tobacco_smoke_exposure': None, 'pack_years_smoked': '22.0', 'radon_exposure': None, 'respirable_crystalline_silica_exposure': None, 'smoking_frequency': None, 'time_between_waking_and_first_smoke': None, 'tobacco_smoking_onset_year': '1975', 'tobacco_smoking_quit_year': '1997', 'tobacco_smoking_status': '3', 'type_of_smoke_exposure': None, 'type_of_tobacco_used': None, 'years_smoked': '22.0', 'age_at_onset': None, 'alcohol_type': None, 'exposure_duration': None, 'exposure_duration_years': None, 'exposure_type': None, 'marijuana_use_per_week': None, 'parent_with_radiation_exposure': None, 'secondhand_smoke_as_child': None, 'smokeless_tobacco_quit_age': None, 'tobacco_use_per_day': None}]",
         "19c4a43a-2c37-11ec-b712-0a4e2186f121"
        ],
        [
         "2",
         "0e79bef5-1fba-11e9-b7f8-0a80fada099c",
         "QC5",
         "Other",
         "Not Reported",
         "[]",
         null
        ],
        [
         "3",
         "cc8a63fd-1fb8-11e9-b7f8-0a80fada099c",
         "C3L-00583",
         "Clear Cell Renal Cell Carcinoma",
         "Kidney",
         "[{'exposure_id': '1a319da2-2c37-11ec-b712-0a4e2186f121', 'exposure_submitter_id': 'C3L-00583-EX', 'alcohol_days_per_week': None, 'alcohol_drinks_per_day': None, 'alcohol_history': 'No', 'alcohol_intensity': 'Lifelong Non-Drinker', 'asbestos_exposure': None, 'cigarettes_per_day': None, 'coal_dust_exposure': None, 'environmental_tobacco_smoke_exposure': None, 'pack_years_smoked': None, 'radon_exposure': None, 'respirable_crystalline_silica_exposure': None, 'smoking_frequency': None, 'time_between_waking_and_first_smoke': None, 'tobacco_smoking_onset_year': None, 'tobacco_smoking_quit_year': None, 'tobacco_smoking_status': '1', 'type_of_smoke_exposure': None, 'type_of_tobacco_used': None, 'years_smoked': None, 'age_at_onset': None, 'alcohol_type': None, 'exposure_duration': None, 'exposure_duration_years': None, 'exposure_type': None, 'marijuana_use_per_week': None, 'parent_with_radiation_exposure': None, 'secondhand_smoke_as_child': None, 'smokeless_tobacco_quit_age': None, 'tobacco_use_per_day': None}]",
         "1a319da2-2c37-11ec-b712-0a4e2186f121"
        ],
        [
         "4",
         "b5158703-1fb9-11e9-b7f8-0a80fada099c",
         "C3N-01648",
         "Clear Cell Renal Cell Carcinoma",
         "Kidney",
         "[{'exposure_id': '1e9160be-2c37-11ec-b712-0a4e2186f121', 'exposure_submitter_id': 'C3N-01648-EX', 'alcohol_days_per_week': None, 'alcohol_drinks_per_day': None, 'alcohol_history': 'Yes', 'alcohol_intensity': 'Occasional Drinker', 'asbestos_exposure': None, 'cigarettes_per_day': '15.0', 'coal_dust_exposure': None, 'environmental_tobacco_smoke_exposure': None, 'pack_years_smoked': '29.3', 'radon_exposure': None, 'respirable_crystalline_silica_exposure': None, 'smoking_frequency': None, 'time_between_waking_and_first_smoke': None, 'tobacco_smoking_onset_year': '1978', 'tobacco_smoking_quit_year': '2017', 'tobacco_smoking_status': '4', 'type_of_smoke_exposure': None, 'type_of_tobacco_used': None, 'years_smoked': '39.0', 'age_at_onset': None, 'alcohol_type': None, 'exposure_duration': None, 'exposure_duration_years': None, 'exposure_type': None, 'marijuana_use_per_week': None, 'parent_with_radiation_exposure': None, 'secondhand_smoke_as_child': None, 'smokeless_tobacco_quit_age': None, 'tobacco_use_per_day': None}]",
         "1e9160be-2c37-11ec-b712-0a4e2186f121"
        ]
       ],
       "shape": {
        "columns": 6,
        "rows": 5
       }
      },
      "text/html": [
       "<div>\n",
       "<style scoped>\n",
       "    .dataframe tbody tr th:only-of-type {\n",
       "        vertical-align: middle;\n",
       "    }\n",
       "\n",
       "    .dataframe tbody tr th {\n",
       "        vertical-align: top;\n",
       "    }\n",
       "\n",
       "    .dataframe thead th {\n",
       "        text-align: right;\n",
       "    }\n",
       "</style>\n",
       "<table border=\"1\" class=\"dataframe\">\n",
       "  <thead>\n",
       "    <tr style=\"text-align: right;\">\n",
       "      <th></th>\n",
       "      <th>case_id</th>\n",
       "      <th>case_submitter_id</th>\n",
       "      <th>disease_type</th>\n",
       "      <th>primary_site</th>\n",
       "      <th>exposures</th>\n",
       "      <th>exposure_id</th>\n",
       "    </tr>\n",
       "  </thead>\n",
       "  <tbody>\n",
       "    <tr>\n",
       "      <th>0</th>\n",
       "      <td>bf7ade95-1fb8-11e9-b7f8-0a80fada099c</td>\n",
       "      <td>C3L-00360</td>\n",
       "      <td>Clear Cell Renal Cell Carcinoma</td>\n",
       "      <td>Kidney</td>\n",
       "      <td>[{'exposure_id': '19e54723-2c37-11ec-b712-0a4e...</td>\n",
       "      <td>19e54723-2c37-11ec-b712-0a4e2186f121</td>\n",
       "    </tr>\n",
       "    <tr>\n",
       "      <th>1</th>\n",
       "      <td>b76d3749-1fb8-11e9-b7f8-0a80fada099c</td>\n",
       "      <td>C3L-00097</td>\n",
       "      <td>Clear Cell Renal Cell Carcinoma</td>\n",
       "      <td>Kidney</td>\n",
       "      <td>[{'exposure_id': '19c4a43a-2c37-11ec-b712-0a4e...</td>\n",
       "      <td>19c4a43a-2c37-11ec-b712-0a4e2186f121</td>\n",
       "    </tr>\n",
       "    <tr>\n",
       "      <th>2</th>\n",
       "      <td>0e79bef5-1fba-11e9-b7f8-0a80fada099c</td>\n",
       "      <td>QC5</td>\n",
       "      <td>Other</td>\n",
       "      <td>Not Reported</td>\n",
       "      <td>[]</td>\n",
       "      <td>None</td>\n",
       "    </tr>\n",
       "    <tr>\n",
       "      <th>3</th>\n",
       "      <td>cc8a63fd-1fb8-11e9-b7f8-0a80fada099c</td>\n",
       "      <td>C3L-00583</td>\n",
       "      <td>Clear Cell Renal Cell Carcinoma</td>\n",
       "      <td>Kidney</td>\n",
       "      <td>[{'exposure_id': '1a319da2-2c37-11ec-b712-0a4e...</td>\n",
       "      <td>1a319da2-2c37-11ec-b712-0a4e2186f121</td>\n",
       "    </tr>\n",
       "    <tr>\n",
       "      <th>4</th>\n",
       "      <td>b5158703-1fb9-11e9-b7f8-0a80fada099c</td>\n",
       "      <td>C3N-01648</td>\n",
       "      <td>Clear Cell Renal Cell Carcinoma</td>\n",
       "      <td>Kidney</td>\n",
       "      <td>[{'exposure_id': '1e9160be-2c37-11ec-b712-0a4e...</td>\n",
       "      <td>1e9160be-2c37-11ec-b712-0a4e2186f121</td>\n",
       "    </tr>\n",
       "  </tbody>\n",
       "</table>\n",
       "</div>"
      ],
      "text/plain": [
       "                                case_id case_submitter_id  \\\n",
       "0  bf7ade95-1fb8-11e9-b7f8-0a80fada099c         C3L-00360   \n",
       "1  b76d3749-1fb8-11e9-b7f8-0a80fada099c         C3L-00097   \n",
       "2  0e79bef5-1fba-11e9-b7f8-0a80fada099c               QC5   \n",
       "3  cc8a63fd-1fb8-11e9-b7f8-0a80fada099c         C3L-00583   \n",
       "4  b5158703-1fb9-11e9-b7f8-0a80fada099c         C3N-01648   \n",
       "\n",
       "                      disease_type  primary_site  \\\n",
       "0  Clear Cell Renal Cell Carcinoma        Kidney   \n",
       "1  Clear Cell Renal Cell Carcinoma        Kidney   \n",
       "2                            Other  Not Reported   \n",
       "3  Clear Cell Renal Cell Carcinoma        Kidney   \n",
       "4  Clear Cell Renal Cell Carcinoma        Kidney   \n",
       "\n",
       "                                           exposures  \\\n",
       "0  [{'exposure_id': '19e54723-2c37-11ec-b712-0a4e...   \n",
       "1  [{'exposure_id': '19c4a43a-2c37-11ec-b712-0a4e...   \n",
       "2                                                 []   \n",
       "3  [{'exposure_id': '1a319da2-2c37-11ec-b712-0a4e...   \n",
       "4  [{'exposure_id': '1e9160be-2c37-11ec-b712-0a4e...   \n",
       "\n",
       "                            exposure_id  \n",
       "0  19e54723-2c37-11ec-b712-0a4e2186f121  \n",
       "1  19c4a43a-2c37-11ec-b712-0a4e2186f121  \n",
       "2                                  None  \n",
       "3  1a319da2-2c37-11ec-b712-0a4e2186f121  \n",
       "4  1e9160be-2c37-11ec-b712-0a4e2186f121  "
      ]
     },
     "execution_count": 281,
     "metadata": {},
     "output_type": "execute_result"
    }
   ],
   "source": [
    "exposure_data_df['exposure_id'] = exposure_data_df['exposures'].apply(lambda diag_list: diag_list[0]['exposure_id'] if diag_list else None)\n",
    "exposure_data_df.head()"
   ]
  },
  {
   "cell_type": "code",
   "execution_count": 282,
   "metadata": {},
   "outputs": [
    {
     "data": {
      "application/vnd.microsoft.datawrangler.viewer.v0+json": {
       "columns": [
        {
         "name": "index",
         "rawType": "int64",
         "type": "integer"
        },
        {
         "name": "exposure_id",
         "rawType": "object",
         "type": "string"
        },
        {
         "name": "exposure_submitter_id",
         "rawType": "object",
         "type": "string"
        },
        {
         "name": "alcohol_days_per_week",
         "rawType": "object",
         "type": "string"
        },
        {
         "name": "alcohol_drinks_per_day",
         "rawType": "object",
         "type": "string"
        },
        {
         "name": "alcohol_history",
         "rawType": "object",
         "type": "string"
        },
        {
         "name": "alcohol_intensity",
         "rawType": "object",
         "type": "string"
        },
        {
         "name": "asbestos_exposure",
         "rawType": "object",
         "type": "string"
        },
        {
         "name": "cigarettes_per_day",
         "rawType": "object",
         "type": "string"
        },
        {
         "name": "coal_dust_exposure",
         "rawType": "object",
         "type": "string"
        },
        {
         "name": "environmental_tobacco_smoke_exposure",
         "rawType": "object",
         "type": "string"
        },
        {
         "name": "pack_years_smoked",
         "rawType": "object",
         "type": "string"
        },
        {
         "name": "radon_exposure",
         "rawType": "object",
         "type": "string"
        },
        {
         "name": "respirable_crystalline_silica_exposure",
         "rawType": "object",
         "type": "string"
        },
        {
         "name": "smoking_frequency",
         "rawType": "object",
         "type": "string"
        },
        {
         "name": "time_between_waking_and_first_smoke",
         "rawType": "object",
         "type": "string"
        },
        {
         "name": "tobacco_smoking_onset_year",
         "rawType": "object",
         "type": "string"
        },
        {
         "name": "tobacco_smoking_quit_year",
         "rawType": "object",
         "type": "string"
        },
        {
         "name": "tobacco_smoking_status",
         "rawType": "object",
         "type": "string"
        },
        {
         "name": "type_of_smoke_exposure",
         "rawType": "object",
         "type": "string"
        },
        {
         "name": "type_of_tobacco_used",
         "rawType": "object",
         "type": "string"
        },
        {
         "name": "years_smoked",
         "rawType": "object",
         "type": "string"
        },
        {
         "name": "age_at_onset",
         "rawType": "object",
         "type": "string"
        },
        {
         "name": "alcohol_type",
         "rawType": "object",
         "type": "string"
        },
        {
         "name": "exposure_duration",
         "rawType": "object",
         "type": "string"
        },
        {
         "name": "exposure_duration_years",
         "rawType": "object",
         "type": "string"
        },
        {
         "name": "exposure_type",
         "rawType": "object",
         "type": "string"
        },
        {
         "name": "marijuana_use_per_week",
         "rawType": "object",
         "type": "string"
        },
        {
         "name": "parent_with_radiation_exposure",
         "rawType": "object",
         "type": "string"
        },
        {
         "name": "secondhand_smoke_as_child",
         "rawType": "object",
         "type": "string"
        },
        {
         "name": "smokeless_tobacco_quit_age",
         "rawType": "object",
         "type": "string"
        },
        {
         "name": "tobacco_use_per_day",
         "rawType": "object",
         "type": "string"
        }
       ],
       "conversionMethod": "pd.DataFrame",
       "ref": "956a2efc-1b8a-4882-97d7-bb77612b5386",
       "rows": [
        [
         "0",
         "1a8d2cd0-2c37-11ec-b712-0a4e2186f121",
         "C3L-00791-EX",
         "None",
         "None",
         "Not Reported",
         "Unknown",
         "None",
         "None",
         "None",
         "None",
         "None",
         "None",
         "None",
         "None",
         "None",
         "None",
         "None",
         "7",
         "None",
         "None",
         "None",
         "None",
         "None",
         "None",
         "None",
         "None",
         "None",
         "None",
         "None",
         "None",
         "None"
        ],
        [
         "1",
         "19e54723-2c37-11ec-b712-0a4e2186f121",
         "C3L-00360-EX",
         "None",
         "None",
         "Yes",
         "Occasional Drinker",
         "None",
         "20.0",
         "None",
         "None",
         "40.0",
         "None",
         "None",
         "None",
         "None",
         "1963",
         "2003",
         "4",
         "None",
         "None",
         "40.0",
         "None",
         "None",
         "None",
         "None",
         "None",
         "None",
         "None",
         "None",
         "None",
         "None"
        ],
        [
         "2",
         "19c4a43a-2c37-11ec-b712-0a4e2186f121",
         "C3L-00097-EX",
         "None",
         "None",
         "Yes",
         "Occasional Drinker",
         "None",
         "20.0",
         "None",
         "None",
         "22.0",
         "None",
         "None",
         "None",
         "None",
         "1975",
         "1997",
         "3",
         "None",
         "None",
         "22.0",
         "None",
         "None",
         "None",
         "None",
         "None",
         "None",
         "None",
         "None",
         "None",
         "None"
        ],
        [
         "3",
         "1a319da2-2c37-11ec-b712-0a4e2186f121",
         "C3L-00583-EX",
         "None",
         "None",
         "No",
         "Lifelong Non-Drinker",
         "None",
         "None",
         "None",
         "None",
         "None",
         "None",
         "None",
         "None",
         "None",
         "None",
         "None",
         "1",
         "None",
         "None",
         "None",
         "None",
         "None",
         "None",
         "None",
         "None",
         "None",
         "None",
         "None",
         "None",
         "None"
        ],
        [
         "4",
         "1e9160be-2c37-11ec-b712-0a4e2186f121",
         "C3N-01648-EX",
         "None",
         "None",
         "Yes",
         "Occasional Drinker",
         "None",
         "15.0",
         "None",
         "None",
         "29.3",
         "None",
         "None",
         "None",
         "None",
         "1978",
         "2017",
         "4",
         "None",
         "None",
         "39.0",
         "None",
         "None",
         "None",
         "None",
         "None",
         "None",
         "None",
         "None",
         "None",
         "None"
        ]
       ],
       "shape": {
        "columns": 31,
        "rows": 5
       }
      },
      "text/html": [
       "<div>\n",
       "<style scoped>\n",
       "    .dataframe tbody tr th:only-of-type {\n",
       "        vertical-align: middle;\n",
       "    }\n",
       "\n",
       "    .dataframe tbody tr th {\n",
       "        vertical-align: top;\n",
       "    }\n",
       "\n",
       "    .dataframe thead th {\n",
       "        text-align: right;\n",
       "    }\n",
       "</style>\n",
       "<table border=\"1\" class=\"dataframe\">\n",
       "  <thead>\n",
       "    <tr style=\"text-align: right;\">\n",
       "      <th></th>\n",
       "      <th>exposure_id</th>\n",
       "      <th>exposure_submitter_id</th>\n",
       "      <th>alcohol_days_per_week</th>\n",
       "      <th>alcohol_drinks_per_day</th>\n",
       "      <th>alcohol_history</th>\n",
       "      <th>alcohol_intensity</th>\n",
       "      <th>asbestos_exposure</th>\n",
       "      <th>cigarettes_per_day</th>\n",
       "      <th>coal_dust_exposure</th>\n",
       "      <th>environmental_tobacco_smoke_exposure</th>\n",
       "      <th>...</th>\n",
       "      <th>age_at_onset</th>\n",
       "      <th>alcohol_type</th>\n",
       "      <th>exposure_duration</th>\n",
       "      <th>exposure_duration_years</th>\n",
       "      <th>exposure_type</th>\n",
       "      <th>marijuana_use_per_week</th>\n",
       "      <th>parent_with_radiation_exposure</th>\n",
       "      <th>secondhand_smoke_as_child</th>\n",
       "      <th>smokeless_tobacco_quit_age</th>\n",
       "      <th>tobacco_use_per_day</th>\n",
       "    </tr>\n",
       "  </thead>\n",
       "  <tbody>\n",
       "    <tr>\n",
       "      <th>0</th>\n",
       "      <td>1a8d2cd0-2c37-11ec-b712-0a4e2186f121</td>\n",
       "      <td>C3L-00791-EX</td>\n",
       "      <td>None</td>\n",
       "      <td>None</td>\n",
       "      <td>Not Reported</td>\n",
       "      <td>Unknown</td>\n",
       "      <td>None</td>\n",
       "      <td>None</td>\n",
       "      <td>None</td>\n",
       "      <td>None</td>\n",
       "      <td>...</td>\n",
       "      <td>None</td>\n",
       "      <td>None</td>\n",
       "      <td>None</td>\n",
       "      <td>None</td>\n",
       "      <td>None</td>\n",
       "      <td>None</td>\n",
       "      <td>None</td>\n",
       "      <td>None</td>\n",
       "      <td>None</td>\n",
       "      <td>None</td>\n",
       "    </tr>\n",
       "    <tr>\n",
       "      <th>1</th>\n",
       "      <td>19e54723-2c37-11ec-b712-0a4e2186f121</td>\n",
       "      <td>C3L-00360-EX</td>\n",
       "      <td>None</td>\n",
       "      <td>None</td>\n",
       "      <td>Yes</td>\n",
       "      <td>Occasional Drinker</td>\n",
       "      <td>None</td>\n",
       "      <td>20.0</td>\n",
       "      <td>None</td>\n",
       "      <td>None</td>\n",
       "      <td>...</td>\n",
       "      <td>None</td>\n",
       "      <td>None</td>\n",
       "      <td>None</td>\n",
       "      <td>None</td>\n",
       "      <td>None</td>\n",
       "      <td>None</td>\n",
       "      <td>None</td>\n",
       "      <td>None</td>\n",
       "      <td>None</td>\n",
       "      <td>None</td>\n",
       "    </tr>\n",
       "    <tr>\n",
       "      <th>2</th>\n",
       "      <td>19c4a43a-2c37-11ec-b712-0a4e2186f121</td>\n",
       "      <td>C3L-00097-EX</td>\n",
       "      <td>None</td>\n",
       "      <td>None</td>\n",
       "      <td>Yes</td>\n",
       "      <td>Occasional Drinker</td>\n",
       "      <td>None</td>\n",
       "      <td>20.0</td>\n",
       "      <td>None</td>\n",
       "      <td>None</td>\n",
       "      <td>...</td>\n",
       "      <td>None</td>\n",
       "      <td>None</td>\n",
       "      <td>None</td>\n",
       "      <td>None</td>\n",
       "      <td>None</td>\n",
       "      <td>None</td>\n",
       "      <td>None</td>\n",
       "      <td>None</td>\n",
       "      <td>None</td>\n",
       "      <td>None</td>\n",
       "    </tr>\n",
       "    <tr>\n",
       "      <th>3</th>\n",
       "      <td>1a319da2-2c37-11ec-b712-0a4e2186f121</td>\n",
       "      <td>C3L-00583-EX</td>\n",
       "      <td>None</td>\n",
       "      <td>None</td>\n",
       "      <td>No</td>\n",
       "      <td>Lifelong Non-Drinker</td>\n",
       "      <td>None</td>\n",
       "      <td>None</td>\n",
       "      <td>None</td>\n",
       "      <td>None</td>\n",
       "      <td>...</td>\n",
       "      <td>None</td>\n",
       "      <td>None</td>\n",
       "      <td>None</td>\n",
       "      <td>None</td>\n",
       "      <td>None</td>\n",
       "      <td>None</td>\n",
       "      <td>None</td>\n",
       "      <td>None</td>\n",
       "      <td>None</td>\n",
       "      <td>None</td>\n",
       "    </tr>\n",
       "    <tr>\n",
       "      <th>4</th>\n",
       "      <td>1e9160be-2c37-11ec-b712-0a4e2186f121</td>\n",
       "      <td>C3N-01648-EX</td>\n",
       "      <td>None</td>\n",
       "      <td>None</td>\n",
       "      <td>Yes</td>\n",
       "      <td>Occasional Drinker</td>\n",
       "      <td>None</td>\n",
       "      <td>15.0</td>\n",
       "      <td>None</td>\n",
       "      <td>None</td>\n",
       "      <td>...</td>\n",
       "      <td>None</td>\n",
       "      <td>None</td>\n",
       "      <td>None</td>\n",
       "      <td>None</td>\n",
       "      <td>None</td>\n",
       "      <td>None</td>\n",
       "      <td>None</td>\n",
       "      <td>None</td>\n",
       "      <td>None</td>\n",
       "      <td>None</td>\n",
       "    </tr>\n",
       "  </tbody>\n",
       "</table>\n",
       "<p>5 rows × 31 columns</p>\n",
       "</div>"
      ],
      "text/plain": [
       "                            exposure_id exposure_submitter_id  \\\n",
       "0  1a8d2cd0-2c37-11ec-b712-0a4e2186f121          C3L-00791-EX   \n",
       "1  19e54723-2c37-11ec-b712-0a4e2186f121          C3L-00360-EX   \n",
       "2  19c4a43a-2c37-11ec-b712-0a4e2186f121          C3L-00097-EX   \n",
       "3  1a319da2-2c37-11ec-b712-0a4e2186f121          C3L-00583-EX   \n",
       "4  1e9160be-2c37-11ec-b712-0a4e2186f121          C3N-01648-EX   \n",
       "\n",
       "  alcohol_days_per_week alcohol_drinks_per_day alcohol_history  \\\n",
       "0                  None                   None    Not Reported   \n",
       "1                  None                   None             Yes   \n",
       "2                  None                   None             Yes   \n",
       "3                  None                   None              No   \n",
       "4                  None                   None             Yes   \n",
       "\n",
       "      alcohol_intensity asbestos_exposure cigarettes_per_day  \\\n",
       "0               Unknown              None               None   \n",
       "1    Occasional Drinker              None               20.0   \n",
       "2    Occasional Drinker              None               20.0   \n",
       "3  Lifelong Non-Drinker              None               None   \n",
       "4    Occasional Drinker              None               15.0   \n",
       "\n",
       "  coal_dust_exposure environmental_tobacco_smoke_exposure  ... age_at_onset  \\\n",
       "0               None                                 None  ...         None   \n",
       "1               None                                 None  ...         None   \n",
       "2               None                                 None  ...         None   \n",
       "3               None                                 None  ...         None   \n",
       "4               None                                 None  ...         None   \n",
       "\n",
       "  alcohol_type exposure_duration exposure_duration_years exposure_type  \\\n",
       "0         None              None                    None          None   \n",
       "1         None              None                    None          None   \n",
       "2         None              None                    None          None   \n",
       "3         None              None                    None          None   \n",
       "4         None              None                    None          None   \n",
       "\n",
       "  marijuana_use_per_week parent_with_radiation_exposure  \\\n",
       "0                   None                           None   \n",
       "1                   None                           None   \n",
       "2                   None                           None   \n",
       "3                   None                           None   \n",
       "4                   None                           None   \n",
       "\n",
       "  secondhand_smoke_as_child smokeless_tobacco_quit_age tobacco_use_per_day  \n",
       "0                      None                       None                None  \n",
       "1                      None                       None                None  \n",
       "2                      None                       None                None  \n",
       "3                      None                       None                None  \n",
       "4                      None                       None                None  \n",
       "\n",
       "[5 rows x 31 columns]"
      ]
     },
     "execution_count": 282,
     "metadata": {},
     "output_type": "execute_result"
    }
   ],
   "source": [
    "exposure_df = for_case(matrix = matrix)\n",
    "exposure_df.head()"
   ]
  },
  {
   "cell_type": "code",
   "execution_count": 283,
   "metadata": {},
   "outputs": [],
   "source": [
    "exposure = pd.merge(left=exposure_data_df, right=exposure_df, on=\"exposure_id\")"
   ]
  },
  {
   "cell_type": "code",
   "execution_count": 284,
   "metadata": {},
   "outputs": [],
   "source": [
    "check_names = ['case_submitter_id', 'age_at_onset', 'alcohol_days_per_week',\n",
    "    'alcohol_drinks_per_day', 'alcohol_history', 'alcohol_intensity',\n",
    "    'alcohol_type', 'asbestos_exposure', 'cigarettes_per_day', \n",
    "    'coal_dust_exposure', 'environmental_tobacco_smoke_exposure', \n",
    "    'exposure_duration', 'exposure_duration_years', 'exposure_type', \n",
    "    'marijuana_use_per_week', 'pack_years_smoked', 'parent_with_radiation_exposure', \n",
    "    'radon_exposure', 'respirable_crystalline_silica_exposure', 'secondhand_smoke_as_child', \n",
    "    'smokeless_tobacco_quit_age', 'smoking_frequency', 'time_between_waking_and_first_smoke', \n",
    "    'tobacco_smoking_onset_year', 'tobacco_smoking_quit_year', 'tobacco_smoking_status', \n",
    "    'tobacco_use_per_day', 'type_of_smoke_exposure', 'type_of_tobacco_used', 'years_smoked']\n",
    "to_remove = list(set(exposure.columns).difference(check_names))"
   ]
  },
  {
   "cell_type": "code",
   "execution_count": 285,
   "metadata": {},
   "outputs": [
    {
     "data": {
      "application/vnd.microsoft.datawrangler.viewer.v0+json": {
       "columns": [
        {
         "name": "index",
         "rawType": "int64",
         "type": "integer"
        },
        {
         "name": "case_submitter_id",
         "rawType": "object",
         "type": "string"
        },
        {
         "name": "age_at_onset",
         "rawType": "object",
         "type": "string"
        },
        {
         "name": "alcohol_days_per_week",
         "rawType": "object",
         "type": "string"
        },
        {
         "name": "alcohol_drinks_per_day",
         "rawType": "object",
         "type": "string"
        },
        {
         "name": "alcohol_history",
         "rawType": "object",
         "type": "string"
        },
        {
         "name": "alcohol_intensity",
         "rawType": "object",
         "type": "string"
        },
        {
         "name": "alcohol_type",
         "rawType": "object",
         "type": "string"
        },
        {
         "name": "asbestos_exposure",
         "rawType": "object",
         "type": "string"
        },
        {
         "name": "cigarettes_per_day",
         "rawType": "object",
         "type": "string"
        },
        {
         "name": "coal_dust_exposure",
         "rawType": "object",
         "type": "string"
        },
        {
         "name": "environmental_tobacco_smoke_exposure",
         "rawType": "object",
         "type": "string"
        },
        {
         "name": "exposure_duration",
         "rawType": "object",
         "type": "string"
        },
        {
         "name": "exposure_duration_years",
         "rawType": "object",
         "type": "string"
        },
        {
         "name": "exposure_type",
         "rawType": "object",
         "type": "string"
        },
        {
         "name": "marijuana_use_per_week",
         "rawType": "object",
         "type": "string"
        },
        {
         "name": "pack_years_smoked",
         "rawType": "object",
         "type": "string"
        },
        {
         "name": "parent_with_radiation_exposure",
         "rawType": "object",
         "type": "string"
        },
        {
         "name": "radon_exposure",
         "rawType": "object",
         "type": "string"
        },
        {
         "name": "respirable_crystalline_silica_exposure",
         "rawType": "object",
         "type": "string"
        },
        {
         "name": "secondhand_smoke_as_child",
         "rawType": "object",
         "type": "string"
        },
        {
         "name": "smokeless_tobacco_quit_age",
         "rawType": "object",
         "type": "string"
        },
        {
         "name": "smoking_frequency",
         "rawType": "object",
         "type": "string"
        },
        {
         "name": "time_between_waking_and_first_smoke",
         "rawType": "object",
         "type": "string"
        },
        {
         "name": "tobacco_smoking_onset_year",
         "rawType": "object",
         "type": "string"
        },
        {
         "name": "tobacco_smoking_quit_year",
         "rawType": "object",
         "type": "string"
        },
        {
         "name": "tobacco_smoking_status",
         "rawType": "object",
         "type": "string"
        },
        {
         "name": "tobacco_use_per_day",
         "rawType": "object",
         "type": "string"
        },
        {
         "name": "type_of_smoke_exposure",
         "rawType": "object",
         "type": "string"
        },
        {
         "name": "type_of_tobacco_used",
         "rawType": "object",
         "type": "string"
        },
        {
         "name": "years_smoked",
         "rawType": "object",
         "type": "string"
        }
       ],
       "conversionMethod": "pd.DataFrame",
       "ref": "85530403-730b-4d46-bd45-4ca8bbd82156",
       "rows": [
        [
         "0",
         "C3L-00360",
         "None",
         "None",
         "None",
         "Yes",
         "Occasional Drinker",
         "None",
         "None",
         "20.0",
         "None",
         "None",
         "None",
         "None",
         "None",
         "None",
         "40.0",
         "None",
         "None",
         "None",
         "None",
         "None",
         "None",
         "None",
         "1963",
         "2003",
         "4",
         "None",
         "None",
         "None",
         "40.0"
        ],
        [
         "1",
         "C3L-00097",
         "None",
         "None",
         "None",
         "Yes",
         "Occasional Drinker",
         "None",
         "None",
         "20.0",
         "None",
         "None",
         "None",
         "None",
         "None",
         "None",
         "22.0",
         "None",
         "None",
         "None",
         "None",
         "None",
         "None",
         "None",
         "1975",
         "1997",
         "3",
         "None",
         "None",
         "None",
         "22.0"
        ],
        [
         "2",
         "C3L-00583",
         "None",
         "None",
         "None",
         "No",
         "Lifelong Non-Drinker",
         "None",
         "None",
         "None",
         "None",
         "None",
         "None",
         "None",
         "None",
         "None",
         "None",
         "None",
         "None",
         "None",
         "None",
         "None",
         "None",
         "None",
         "None",
         "None",
         "1",
         "None",
         "None",
         "None",
         "None"
        ],
        [
         "3",
         "C3N-01648",
         "None",
         "None",
         "None",
         "Yes",
         "Occasional Drinker",
         "None",
         "None",
         "15.0",
         "None",
         "None",
         "None",
         "None",
         "None",
         "None",
         "29.3",
         "None",
         "None",
         "None",
         "None",
         "None",
         "None",
         "None",
         "1978",
         "2017",
         "4",
         "None",
         "None",
         "None",
         "39.0"
        ],
        [
         "4",
         "C3L-00814",
         "None",
         "None",
         "None",
         "Not Reported",
         "Unknown",
         "None",
         "None",
         "None",
         "None",
         "None",
         "None",
         "None",
         "None",
         "None",
         "None",
         "None",
         "None",
         "None",
         "None",
         "None",
         "None",
         "None",
         "None",
         "None",
         "7",
         "None",
         "None",
         "None",
         "None"
        ]
       ],
       "shape": {
        "columns": 30,
        "rows": 5
       }
      },
      "text/html": [
       "<div>\n",
       "<style scoped>\n",
       "    .dataframe tbody tr th:only-of-type {\n",
       "        vertical-align: middle;\n",
       "    }\n",
       "\n",
       "    .dataframe tbody tr th {\n",
       "        vertical-align: top;\n",
       "    }\n",
       "\n",
       "    .dataframe thead th {\n",
       "        text-align: right;\n",
       "    }\n",
       "</style>\n",
       "<table border=\"1\" class=\"dataframe\">\n",
       "  <thead>\n",
       "    <tr style=\"text-align: right;\">\n",
       "      <th></th>\n",
       "      <th>case_submitter_id</th>\n",
       "      <th>age_at_onset</th>\n",
       "      <th>alcohol_days_per_week</th>\n",
       "      <th>alcohol_drinks_per_day</th>\n",
       "      <th>alcohol_history</th>\n",
       "      <th>alcohol_intensity</th>\n",
       "      <th>alcohol_type</th>\n",
       "      <th>asbestos_exposure</th>\n",
       "      <th>cigarettes_per_day</th>\n",
       "      <th>coal_dust_exposure</th>\n",
       "      <th>...</th>\n",
       "      <th>smokeless_tobacco_quit_age</th>\n",
       "      <th>smoking_frequency</th>\n",
       "      <th>time_between_waking_and_first_smoke</th>\n",
       "      <th>tobacco_smoking_onset_year</th>\n",
       "      <th>tobacco_smoking_quit_year</th>\n",
       "      <th>tobacco_smoking_status</th>\n",
       "      <th>tobacco_use_per_day</th>\n",
       "      <th>type_of_smoke_exposure</th>\n",
       "      <th>type_of_tobacco_used</th>\n",
       "      <th>years_smoked</th>\n",
       "    </tr>\n",
       "  </thead>\n",
       "  <tbody>\n",
       "    <tr>\n",
       "      <th>0</th>\n",
       "      <td>C3L-00360</td>\n",
       "      <td>None</td>\n",
       "      <td>None</td>\n",
       "      <td>None</td>\n",
       "      <td>Yes</td>\n",
       "      <td>Occasional Drinker</td>\n",
       "      <td>None</td>\n",
       "      <td>None</td>\n",
       "      <td>20.0</td>\n",
       "      <td>None</td>\n",
       "      <td>...</td>\n",
       "      <td>None</td>\n",
       "      <td>None</td>\n",
       "      <td>None</td>\n",
       "      <td>1963</td>\n",
       "      <td>2003</td>\n",
       "      <td>4</td>\n",
       "      <td>None</td>\n",
       "      <td>None</td>\n",
       "      <td>None</td>\n",
       "      <td>40.0</td>\n",
       "    </tr>\n",
       "    <tr>\n",
       "      <th>1</th>\n",
       "      <td>C3L-00097</td>\n",
       "      <td>None</td>\n",
       "      <td>None</td>\n",
       "      <td>None</td>\n",
       "      <td>Yes</td>\n",
       "      <td>Occasional Drinker</td>\n",
       "      <td>None</td>\n",
       "      <td>None</td>\n",
       "      <td>20.0</td>\n",
       "      <td>None</td>\n",
       "      <td>...</td>\n",
       "      <td>None</td>\n",
       "      <td>None</td>\n",
       "      <td>None</td>\n",
       "      <td>1975</td>\n",
       "      <td>1997</td>\n",
       "      <td>3</td>\n",
       "      <td>None</td>\n",
       "      <td>None</td>\n",
       "      <td>None</td>\n",
       "      <td>22.0</td>\n",
       "    </tr>\n",
       "    <tr>\n",
       "      <th>2</th>\n",
       "      <td>C3L-00583</td>\n",
       "      <td>None</td>\n",
       "      <td>None</td>\n",
       "      <td>None</td>\n",
       "      <td>No</td>\n",
       "      <td>Lifelong Non-Drinker</td>\n",
       "      <td>None</td>\n",
       "      <td>None</td>\n",
       "      <td>None</td>\n",
       "      <td>None</td>\n",
       "      <td>...</td>\n",
       "      <td>None</td>\n",
       "      <td>None</td>\n",
       "      <td>None</td>\n",
       "      <td>None</td>\n",
       "      <td>None</td>\n",
       "      <td>1</td>\n",
       "      <td>None</td>\n",
       "      <td>None</td>\n",
       "      <td>None</td>\n",
       "      <td>None</td>\n",
       "    </tr>\n",
       "    <tr>\n",
       "      <th>3</th>\n",
       "      <td>C3N-01648</td>\n",
       "      <td>None</td>\n",
       "      <td>None</td>\n",
       "      <td>None</td>\n",
       "      <td>Yes</td>\n",
       "      <td>Occasional Drinker</td>\n",
       "      <td>None</td>\n",
       "      <td>None</td>\n",
       "      <td>15.0</td>\n",
       "      <td>None</td>\n",
       "      <td>...</td>\n",
       "      <td>None</td>\n",
       "      <td>None</td>\n",
       "      <td>None</td>\n",
       "      <td>1978</td>\n",
       "      <td>2017</td>\n",
       "      <td>4</td>\n",
       "      <td>None</td>\n",
       "      <td>None</td>\n",
       "      <td>None</td>\n",
       "      <td>39.0</td>\n",
       "    </tr>\n",
       "    <tr>\n",
       "      <th>4</th>\n",
       "      <td>C3L-00814</td>\n",
       "      <td>None</td>\n",
       "      <td>None</td>\n",
       "      <td>None</td>\n",
       "      <td>Not Reported</td>\n",
       "      <td>Unknown</td>\n",
       "      <td>None</td>\n",
       "      <td>None</td>\n",
       "      <td>None</td>\n",
       "      <td>None</td>\n",
       "      <td>...</td>\n",
       "      <td>None</td>\n",
       "      <td>None</td>\n",
       "      <td>None</td>\n",
       "      <td>None</td>\n",
       "      <td>None</td>\n",
       "      <td>7</td>\n",
       "      <td>None</td>\n",
       "      <td>None</td>\n",
       "      <td>None</td>\n",
       "      <td>None</td>\n",
       "    </tr>\n",
       "  </tbody>\n",
       "</table>\n",
       "<p>5 rows × 30 columns</p>\n",
       "</div>"
      ],
      "text/plain": [
       "  case_submitter_id age_at_onset alcohol_days_per_week alcohol_drinks_per_day  \\\n",
       "0         C3L-00360         None                  None                   None   \n",
       "1         C3L-00097         None                  None                   None   \n",
       "2         C3L-00583         None                  None                   None   \n",
       "3         C3N-01648         None                  None                   None   \n",
       "4         C3L-00814         None                  None                   None   \n",
       "\n",
       "  alcohol_history     alcohol_intensity alcohol_type asbestos_exposure  \\\n",
       "0             Yes    Occasional Drinker         None              None   \n",
       "1             Yes    Occasional Drinker         None              None   \n",
       "2              No  Lifelong Non-Drinker         None              None   \n",
       "3             Yes    Occasional Drinker         None              None   \n",
       "4    Not Reported               Unknown         None              None   \n",
       "\n",
       "  cigarettes_per_day coal_dust_exposure  ... smokeless_tobacco_quit_age  \\\n",
       "0               20.0               None  ...                       None   \n",
       "1               20.0               None  ...                       None   \n",
       "2               None               None  ...                       None   \n",
       "3               15.0               None  ...                       None   \n",
       "4               None               None  ...                       None   \n",
       "\n",
       "  smoking_frequency time_between_waking_and_first_smoke  \\\n",
       "0              None                                None   \n",
       "1              None                                None   \n",
       "2              None                                None   \n",
       "3              None                                None   \n",
       "4              None                                None   \n",
       "\n",
       "  tobacco_smoking_onset_year tobacco_smoking_quit_year tobacco_smoking_status  \\\n",
       "0                       1963                      2003                      4   \n",
       "1                       1975                      1997                      3   \n",
       "2                       None                      None                      1   \n",
       "3                       1978                      2017                      4   \n",
       "4                       None                      None                      7   \n",
       "\n",
       "  tobacco_use_per_day type_of_smoke_exposure type_of_tobacco_used years_smoked  \n",
       "0                None                   None                 None         40.0  \n",
       "1                None                   None                 None         22.0  \n",
       "2                None                   None                 None         None  \n",
       "3                None                   None                 None         39.0  \n",
       "4                None                   None                 None         None  \n",
       "\n",
       "[5 rows x 30 columns]"
      ]
     },
     "execution_count": 285,
     "metadata": {},
     "output_type": "execute_result"
    }
   ],
   "source": [
    "exposure = exposure.drop(columns=to_remove)\n",
    "exposure = exposure.reindex(columns=check_names)\n",
    "exposure.head()"
   ]
  },
  {
   "cell_type": "markdown",
   "metadata": {},
   "source": [
    "# Family History -- to do"
   ]
  },
  {
   "cell_type": "markdown",
   "metadata": {},
   "source": [
    "case_submitter_id', 'relationship_age_at_diagnosis',\n",
    "       'relationship_gender', 'relationship_primary_diagnosis',\n",
    "       'relationship_type', 'relative_with_cancer_history        ',\n",
    "       'relatives_with_cancer_history_count "
   ]
  },
  {
   "cell_type": "markdown",
   "metadata": {},
   "source": [
    "# Treatment"
   ]
  },
  {
   "cell_type": "code",
   "execution_count": 286,
   "metadata": {},
   "outputs": [],
   "source": [
    "\n",
    "# Variables\n",
    "variables = {\n",
    "    \"pdc_study_identifier\": \"PDC000436\",\n",
    "    \"study_id\": \"a5da6836-c92e-4bdc-8f84-d28d629fc383\",\n",
    "    \"offset\": 0,  # set offset records to pull\n",
    "    \"limit\": 10,  # limit number of records\n",
    "    \"data_type\": \"log2_ratio\"  # option: unshared_log2_ratio\n",
    "}"
   ]
  },
  {
   "cell_type": "code",
   "execution_count": 287,
   "metadata": {},
   "outputs": [
    {
     "name": "stdout",
     "output_type": "stream",
     "text": [
      "Sending query.\n"
     ]
    },
    {
     "data": {
      "application/vnd.microsoft.datawrangler.viewer.v0+json": {
       "columns": [
        {
         "name": "index",
         "rawType": "int64",
         "type": "integer"
        },
        {
         "name": "case_id",
         "rawType": "object",
         "type": "string"
        },
        {
         "name": "case_submitter_id",
         "rawType": "object",
         "type": "string"
        },
        {
         "name": "disease_type",
         "rawType": "object",
         "type": "string"
        },
        {
         "name": "primary_site",
         "rawType": "object",
         "type": "string"
        },
        {
         "name": "treatments",
         "rawType": "object",
         "type": "unknown"
        }
       ],
       "conversionMethod": "pd.DataFrame",
       "ref": "557a5932-c925-49f4-9e98-d896d9b0b973",
       "rows": [
        [
         "0",
         "e3c38f0f-db71-445b-95e6-f189c2504bc0",
         "AP-E98M",
         "Lung Adenocarcinoma",
         "Bronchus and lung",
         "[]"
        ],
        [
         "1",
         "90e33601-748b-4df7-bff3-a60ee8a09df3",
         "AP-G79N",
         "Lung Adenocarcinoma",
         "Bronchus and lung",
         "[{'treatment_id': '3203f46f-9014-4752-9125-2d0d9bd85356', 'treatment_submitter_id': 'AP-G79N-TR', 'days_to_treatment_end': None, 'days_to_treatment_start': None, 'initial_disease_status': None, 'regimen_or_line_of_therapy': None, 'therapeutic_agents': None, 'treatment_anatomic_site': None, 'treatment_effect': None, 'treatment_intent_type': 'Adjuvant', 'treatment_or_therapy': None, 'treatment_outcome': None, 'treatment_type': 'Radiation Therapy, NOS', 'chemo_concurrent_to_radiation': None, 'number_of_cycles': None, 'reason_treatment_ended': None, 'route_of_administration': None, 'treatment_arm': None, 'treatment_dose': None, 'treatment_dose_units': None, 'treatment_effect_indicator': None, 'treatment_frequency': None}, {'treatment_id': 'b087a7bf-7f18-44df-a7c3-d5db211154fe', 'treatment_submitter_id': 'AP-G79N-TR', 'days_to_treatment_end': None, 'days_to_treatment_start': None, 'initial_disease_status': None, 'regimen_or_line_of_therapy': None, 'therapeutic_agents': None, 'treatment_anatomic_site': None, 'treatment_effect': None, 'treatment_intent_type': 'Adjuvant', 'treatment_or_therapy': None, 'treatment_outcome': None, 'treatment_type': 'Chemotherapy', 'chemo_concurrent_to_radiation': None, 'number_of_cycles': None, 'reason_treatment_ended': None, 'route_of_administration': None, 'treatment_arm': None, 'treatment_dose': None, 'treatment_dose_units': None, 'treatment_effect_indicator': None, 'treatment_frequency': None}]"
        ],
        [
         "2",
         "5629fe7e-ee5e-4e2e-bc4b-2c4a99183d61",
         "AP-RA2G",
         "Lung Adenocarcinoma",
         "Bronchus and lung",
         "[{'treatment_id': '9e3b90e2-1905-4368-b23c-6f7fa577493c', 'treatment_submitter_id': 'AP-RA2G-TR', 'days_to_treatment_end': None, 'days_to_treatment_start': None, 'initial_disease_status': None, 'regimen_or_line_of_therapy': None, 'therapeutic_agents': None, 'treatment_anatomic_site': None, 'treatment_effect': None, 'treatment_intent_type': 'Adjuvant', 'treatment_or_therapy': None, 'treatment_outcome': None, 'treatment_type': 'Radiation Therapy, NOS', 'chemo_concurrent_to_radiation': None, 'number_of_cycles': None, 'reason_treatment_ended': None, 'route_of_administration': None, 'treatment_arm': None, 'treatment_dose': None, 'treatment_dose_units': None, 'treatment_effect_indicator': None, 'treatment_frequency': None}]"
        ],
        [
         "3",
         "131b3172-8e24-4bb8-be95-38566b0f84c9",
         "AP-DMUM",
         "Lung Adenocarcinoma",
         "Bronchus and lung",
         "[{'treatment_id': '60126c4d-f1be-4ad1-b358-0c653788c222', 'treatment_submitter_id': 'AP-DMUM-TR', 'days_to_treatment_end': None, 'days_to_treatment_start': None, 'initial_disease_status': None, 'regimen_or_line_of_therapy': None, 'therapeutic_agents': None, 'treatment_anatomic_site': None, 'treatment_effect': None, 'treatment_intent_type': 'Adjuvant', 'treatment_or_therapy': None, 'treatment_outcome': None, 'treatment_type': 'Chemotherapy', 'chemo_concurrent_to_radiation': None, 'number_of_cycles': None, 'reason_treatment_ended': None, 'route_of_administration': None, 'treatment_arm': None, 'treatment_dose': None, 'treatment_dose_units': None, 'treatment_effect_indicator': None, 'treatment_frequency': None}]"
        ],
        [
         "4",
         "8fba4d73-5cb9-43fc-b073-ddd05b921cac",
         "AP-ZLDH",
         "Lung Adenocarcinoma",
         "Bronchus and lung",
         "[{'treatment_id': 'a4aab2aa-259c-40d6-85b8-0ce758520a74', 'treatment_submitter_id': 'AP-ZLDH-TR', 'days_to_treatment_end': None, 'days_to_treatment_start': None, 'initial_disease_status': None, 'regimen_or_line_of_therapy': None, 'therapeutic_agents': None, 'treatment_anatomic_site': None, 'treatment_effect': None, 'treatment_intent_type': 'Adjuvant', 'treatment_or_therapy': None, 'treatment_outcome': None, 'treatment_type': 'Radiation Therapy, NOS', 'chemo_concurrent_to_radiation': None, 'number_of_cycles': None, 'reason_treatment_ended': None, 'route_of_administration': None, 'treatment_arm': None, 'treatment_dose': None, 'treatment_dose_units': None, 'treatment_effect_indicator': None, 'treatment_frequency': None}, {'treatment_id': 'ee58c18e-e9ca-4966-9d4b-d9024550ba4c', 'treatment_submitter_id': 'AP-ZLDH-TR', 'days_to_treatment_end': None, 'days_to_treatment_start': None, 'initial_disease_status': None, 'regimen_or_line_of_therapy': None, 'therapeutic_agents': None, 'treatment_anatomic_site': None, 'treatment_effect': None, 'treatment_intent_type': 'Adjuvant', 'treatment_or_therapy': None, 'treatment_outcome': None, 'treatment_type': 'Chemotherapy', 'chemo_concurrent_to_radiation': None, 'number_of_cycles': None, 'reason_treatment_ended': None, 'route_of_administration': None, 'treatment_arm': None, 'treatment_dose': None, 'treatment_dose_units': None, 'treatment_effect_indicator': None, 'treatment_frequency': None}]"
        ]
       ],
       "shape": {
        "columns": 5,
        "rows": 5
       }
      },
      "text/html": [
       "<div>\n",
       "<style scoped>\n",
       "    .dataframe tbody tr th:only-of-type {\n",
       "        vertical-align: middle;\n",
       "    }\n",
       "\n",
       "    .dataframe tbody tr th {\n",
       "        vertical-align: top;\n",
       "    }\n",
       "\n",
       "    .dataframe thead th {\n",
       "        text-align: right;\n",
       "    }\n",
       "</style>\n",
       "<table border=\"1\" class=\"dataframe\">\n",
       "  <thead>\n",
       "    <tr style=\"text-align: right;\">\n",
       "      <th></th>\n",
       "      <th>case_id</th>\n",
       "      <th>case_submitter_id</th>\n",
       "      <th>disease_type</th>\n",
       "      <th>primary_site</th>\n",
       "      <th>treatments</th>\n",
       "    </tr>\n",
       "  </thead>\n",
       "  <tbody>\n",
       "    <tr>\n",
       "      <th>0</th>\n",
       "      <td>e3c38f0f-db71-445b-95e6-f189c2504bc0</td>\n",
       "      <td>AP-E98M</td>\n",
       "      <td>Lung Adenocarcinoma</td>\n",
       "      <td>Bronchus and lung</td>\n",
       "      <td>[]</td>\n",
       "    </tr>\n",
       "    <tr>\n",
       "      <th>1</th>\n",
       "      <td>90e33601-748b-4df7-bff3-a60ee8a09df3</td>\n",
       "      <td>AP-G79N</td>\n",
       "      <td>Lung Adenocarcinoma</td>\n",
       "      <td>Bronchus and lung</td>\n",
       "      <td>[{'treatment_id': '3203f46f-9014-4752-9125-2d0...</td>\n",
       "    </tr>\n",
       "    <tr>\n",
       "      <th>2</th>\n",
       "      <td>5629fe7e-ee5e-4e2e-bc4b-2c4a99183d61</td>\n",
       "      <td>AP-RA2G</td>\n",
       "      <td>Lung Adenocarcinoma</td>\n",
       "      <td>Bronchus and lung</td>\n",
       "      <td>[{'treatment_id': '9e3b90e2-1905-4368-b23c-6f7...</td>\n",
       "    </tr>\n",
       "    <tr>\n",
       "      <th>3</th>\n",
       "      <td>131b3172-8e24-4bb8-be95-38566b0f84c9</td>\n",
       "      <td>AP-DMUM</td>\n",
       "      <td>Lung Adenocarcinoma</td>\n",
       "      <td>Bronchus and lung</td>\n",
       "      <td>[{'treatment_id': '60126c4d-f1be-4ad1-b358-0c6...</td>\n",
       "    </tr>\n",
       "    <tr>\n",
       "      <th>4</th>\n",
       "      <td>8fba4d73-5cb9-43fc-b073-ddd05b921cac</td>\n",
       "      <td>AP-ZLDH</td>\n",
       "      <td>Lung Adenocarcinoma</td>\n",
       "      <td>Bronchus and lung</td>\n",
       "      <td>[{'treatment_id': 'a4aab2aa-259c-40d6-85b8-0ce...</td>\n",
       "    </tr>\n",
       "  </tbody>\n",
       "</table>\n",
       "</div>"
      ],
      "text/plain": [
       "                                case_id case_submitter_id  \\\n",
       "0  e3c38f0f-db71-445b-95e6-f189c2504bc0           AP-E98M   \n",
       "1  90e33601-748b-4df7-bff3-a60ee8a09df3           AP-G79N   \n",
       "2  5629fe7e-ee5e-4e2e-bc4b-2c4a99183d61           AP-RA2G   \n",
       "3  131b3172-8e24-4bb8-be95-38566b0f84c9           AP-DMUM   \n",
       "4  8fba4d73-5cb9-43fc-b073-ddd05b921cac           AP-ZLDH   \n",
       "\n",
       "          disease_type       primary_site  \\\n",
       "0  Lung Adenocarcinoma  Bronchus and lung   \n",
       "1  Lung Adenocarcinoma  Bronchus and lung   \n",
       "2  Lung Adenocarcinoma  Bronchus and lung   \n",
       "3  Lung Adenocarcinoma  Bronchus and lung   \n",
       "4  Lung Adenocarcinoma  Bronchus and lung   \n",
       "\n",
       "                                          treatments  \n",
       "0                                                 []  \n",
       "1  [{'treatment_id': '3203f46f-9014-4752-9125-2d0...  \n",
       "2  [{'treatment_id': '9e3b90e2-1905-4368-b23c-6f7...  \n",
       "3  [{'treatment_id': '60126c4d-f1be-4ad1-b358-0c6...  \n",
       "4  [{'treatment_id': 'a4aab2aa-259c-40d6-85b8-0ce...  "
      ]
     },
     "execution_count": 287,
     "metadata": {},
     "output_type": "execute_result"
    }
   ],
   "source": [
    "treatments_data = query_pdc(query= query_treatments, variables=variables)\n",
    "matrix = json.loads(treatments_data.content)['data'][\"paginatedCaseTreatmentsPerStudy\"][\"caseTreatmentsPerStudy\"]\n",
    "treatments_data_df = pd.DataFrame(matrix[1:], columns=matrix[0])\n",
    "treatments_data_df.head()"
   ]
  },
  {
   "cell_type": "code",
   "execution_count": 288,
   "metadata": {},
   "outputs": [
    {
     "data": {
      "application/vnd.microsoft.datawrangler.viewer.v0+json": {
       "columns": [
        {
         "name": "index",
         "rawType": "int64",
         "type": "integer"
        },
        {
         "name": "case_id",
         "rawType": "object",
         "type": "string"
        },
        {
         "name": "case_submitter_id",
         "rawType": "object",
         "type": "string"
        },
        {
         "name": "disease_type",
         "rawType": "object",
         "type": "string"
        },
        {
         "name": "primary_site",
         "rawType": "object",
         "type": "string"
        },
        {
         "name": "treatments",
         "rawType": "object",
         "type": "unknown"
        },
        {
         "name": "treatment_id",
         "rawType": "object",
         "type": "unknown"
        }
       ],
       "conversionMethod": "pd.DataFrame",
       "ref": "7fa35c45-b4a6-4846-bafa-39d942ee35e5",
       "rows": [
        [
         "0",
         "e3c38f0f-db71-445b-95e6-f189c2504bc0",
         "AP-E98M",
         "Lung Adenocarcinoma",
         "Bronchus and lung",
         "[]",
         null
        ],
        [
         "1",
         "90e33601-748b-4df7-bff3-a60ee8a09df3",
         "AP-G79N",
         "Lung Adenocarcinoma",
         "Bronchus and lung",
         "[{'treatment_id': '3203f46f-9014-4752-9125-2d0d9bd85356', 'treatment_submitter_id': 'AP-G79N-TR', 'days_to_treatment_end': None, 'days_to_treatment_start': None, 'initial_disease_status': None, 'regimen_or_line_of_therapy': None, 'therapeutic_agents': None, 'treatment_anatomic_site': None, 'treatment_effect': None, 'treatment_intent_type': 'Adjuvant', 'treatment_or_therapy': None, 'treatment_outcome': None, 'treatment_type': 'Radiation Therapy, NOS', 'chemo_concurrent_to_radiation': None, 'number_of_cycles': None, 'reason_treatment_ended': None, 'route_of_administration': None, 'treatment_arm': None, 'treatment_dose': None, 'treatment_dose_units': None, 'treatment_effect_indicator': None, 'treatment_frequency': None}, {'treatment_id': 'b087a7bf-7f18-44df-a7c3-d5db211154fe', 'treatment_submitter_id': 'AP-G79N-TR', 'days_to_treatment_end': None, 'days_to_treatment_start': None, 'initial_disease_status': None, 'regimen_or_line_of_therapy': None, 'therapeutic_agents': None, 'treatment_anatomic_site': None, 'treatment_effect': None, 'treatment_intent_type': 'Adjuvant', 'treatment_or_therapy': None, 'treatment_outcome': None, 'treatment_type': 'Chemotherapy', 'chemo_concurrent_to_radiation': None, 'number_of_cycles': None, 'reason_treatment_ended': None, 'route_of_administration': None, 'treatment_arm': None, 'treatment_dose': None, 'treatment_dose_units': None, 'treatment_effect_indicator': None, 'treatment_frequency': None}]",
         "3203f46f-9014-4752-9125-2d0d9bd85356"
        ],
        [
         "2",
         "5629fe7e-ee5e-4e2e-bc4b-2c4a99183d61",
         "AP-RA2G",
         "Lung Adenocarcinoma",
         "Bronchus and lung",
         "[{'treatment_id': '9e3b90e2-1905-4368-b23c-6f7fa577493c', 'treatment_submitter_id': 'AP-RA2G-TR', 'days_to_treatment_end': None, 'days_to_treatment_start': None, 'initial_disease_status': None, 'regimen_or_line_of_therapy': None, 'therapeutic_agents': None, 'treatment_anatomic_site': None, 'treatment_effect': None, 'treatment_intent_type': 'Adjuvant', 'treatment_or_therapy': None, 'treatment_outcome': None, 'treatment_type': 'Radiation Therapy, NOS', 'chemo_concurrent_to_radiation': None, 'number_of_cycles': None, 'reason_treatment_ended': None, 'route_of_administration': None, 'treatment_arm': None, 'treatment_dose': None, 'treatment_dose_units': None, 'treatment_effect_indicator': None, 'treatment_frequency': None}]",
         "9e3b90e2-1905-4368-b23c-6f7fa577493c"
        ],
        [
         "3",
         "131b3172-8e24-4bb8-be95-38566b0f84c9",
         "AP-DMUM",
         "Lung Adenocarcinoma",
         "Bronchus and lung",
         "[{'treatment_id': '60126c4d-f1be-4ad1-b358-0c653788c222', 'treatment_submitter_id': 'AP-DMUM-TR', 'days_to_treatment_end': None, 'days_to_treatment_start': None, 'initial_disease_status': None, 'regimen_or_line_of_therapy': None, 'therapeutic_agents': None, 'treatment_anatomic_site': None, 'treatment_effect': None, 'treatment_intent_type': 'Adjuvant', 'treatment_or_therapy': None, 'treatment_outcome': None, 'treatment_type': 'Chemotherapy', 'chemo_concurrent_to_radiation': None, 'number_of_cycles': None, 'reason_treatment_ended': None, 'route_of_administration': None, 'treatment_arm': None, 'treatment_dose': None, 'treatment_dose_units': None, 'treatment_effect_indicator': None, 'treatment_frequency': None}]",
         "60126c4d-f1be-4ad1-b358-0c653788c222"
        ],
        [
         "4",
         "8fba4d73-5cb9-43fc-b073-ddd05b921cac",
         "AP-ZLDH",
         "Lung Adenocarcinoma",
         "Bronchus and lung",
         "[{'treatment_id': 'a4aab2aa-259c-40d6-85b8-0ce758520a74', 'treatment_submitter_id': 'AP-ZLDH-TR', 'days_to_treatment_end': None, 'days_to_treatment_start': None, 'initial_disease_status': None, 'regimen_or_line_of_therapy': None, 'therapeutic_agents': None, 'treatment_anatomic_site': None, 'treatment_effect': None, 'treatment_intent_type': 'Adjuvant', 'treatment_or_therapy': None, 'treatment_outcome': None, 'treatment_type': 'Radiation Therapy, NOS', 'chemo_concurrent_to_radiation': None, 'number_of_cycles': None, 'reason_treatment_ended': None, 'route_of_administration': None, 'treatment_arm': None, 'treatment_dose': None, 'treatment_dose_units': None, 'treatment_effect_indicator': None, 'treatment_frequency': None}, {'treatment_id': 'ee58c18e-e9ca-4966-9d4b-d9024550ba4c', 'treatment_submitter_id': 'AP-ZLDH-TR', 'days_to_treatment_end': None, 'days_to_treatment_start': None, 'initial_disease_status': None, 'regimen_or_line_of_therapy': None, 'therapeutic_agents': None, 'treatment_anatomic_site': None, 'treatment_effect': None, 'treatment_intent_type': 'Adjuvant', 'treatment_or_therapy': None, 'treatment_outcome': None, 'treatment_type': 'Chemotherapy', 'chemo_concurrent_to_radiation': None, 'number_of_cycles': None, 'reason_treatment_ended': None, 'route_of_administration': None, 'treatment_arm': None, 'treatment_dose': None, 'treatment_dose_units': None, 'treatment_effect_indicator': None, 'treatment_frequency': None}]",
         "a4aab2aa-259c-40d6-85b8-0ce758520a74"
        ]
       ],
       "shape": {
        "columns": 6,
        "rows": 5
       }
      },
      "text/html": [
       "<div>\n",
       "<style scoped>\n",
       "    .dataframe tbody tr th:only-of-type {\n",
       "        vertical-align: middle;\n",
       "    }\n",
       "\n",
       "    .dataframe tbody tr th {\n",
       "        vertical-align: top;\n",
       "    }\n",
       "\n",
       "    .dataframe thead th {\n",
       "        text-align: right;\n",
       "    }\n",
       "</style>\n",
       "<table border=\"1\" class=\"dataframe\">\n",
       "  <thead>\n",
       "    <tr style=\"text-align: right;\">\n",
       "      <th></th>\n",
       "      <th>case_id</th>\n",
       "      <th>case_submitter_id</th>\n",
       "      <th>disease_type</th>\n",
       "      <th>primary_site</th>\n",
       "      <th>treatments</th>\n",
       "      <th>treatment_id</th>\n",
       "    </tr>\n",
       "  </thead>\n",
       "  <tbody>\n",
       "    <tr>\n",
       "      <th>0</th>\n",
       "      <td>e3c38f0f-db71-445b-95e6-f189c2504bc0</td>\n",
       "      <td>AP-E98M</td>\n",
       "      <td>Lung Adenocarcinoma</td>\n",
       "      <td>Bronchus and lung</td>\n",
       "      <td>[]</td>\n",
       "      <td>None</td>\n",
       "    </tr>\n",
       "    <tr>\n",
       "      <th>1</th>\n",
       "      <td>90e33601-748b-4df7-bff3-a60ee8a09df3</td>\n",
       "      <td>AP-G79N</td>\n",
       "      <td>Lung Adenocarcinoma</td>\n",
       "      <td>Bronchus and lung</td>\n",
       "      <td>[{'treatment_id': '3203f46f-9014-4752-9125-2d0...</td>\n",
       "      <td>3203f46f-9014-4752-9125-2d0d9bd85356</td>\n",
       "    </tr>\n",
       "    <tr>\n",
       "      <th>2</th>\n",
       "      <td>5629fe7e-ee5e-4e2e-bc4b-2c4a99183d61</td>\n",
       "      <td>AP-RA2G</td>\n",
       "      <td>Lung Adenocarcinoma</td>\n",
       "      <td>Bronchus and lung</td>\n",
       "      <td>[{'treatment_id': '9e3b90e2-1905-4368-b23c-6f7...</td>\n",
       "      <td>9e3b90e2-1905-4368-b23c-6f7fa577493c</td>\n",
       "    </tr>\n",
       "    <tr>\n",
       "      <th>3</th>\n",
       "      <td>131b3172-8e24-4bb8-be95-38566b0f84c9</td>\n",
       "      <td>AP-DMUM</td>\n",
       "      <td>Lung Adenocarcinoma</td>\n",
       "      <td>Bronchus and lung</td>\n",
       "      <td>[{'treatment_id': '60126c4d-f1be-4ad1-b358-0c6...</td>\n",
       "      <td>60126c4d-f1be-4ad1-b358-0c653788c222</td>\n",
       "    </tr>\n",
       "    <tr>\n",
       "      <th>4</th>\n",
       "      <td>8fba4d73-5cb9-43fc-b073-ddd05b921cac</td>\n",
       "      <td>AP-ZLDH</td>\n",
       "      <td>Lung Adenocarcinoma</td>\n",
       "      <td>Bronchus and lung</td>\n",
       "      <td>[{'treatment_id': 'a4aab2aa-259c-40d6-85b8-0ce...</td>\n",
       "      <td>a4aab2aa-259c-40d6-85b8-0ce758520a74</td>\n",
       "    </tr>\n",
       "  </tbody>\n",
       "</table>\n",
       "</div>"
      ],
      "text/plain": [
       "                                case_id case_submitter_id  \\\n",
       "0  e3c38f0f-db71-445b-95e6-f189c2504bc0           AP-E98M   \n",
       "1  90e33601-748b-4df7-bff3-a60ee8a09df3           AP-G79N   \n",
       "2  5629fe7e-ee5e-4e2e-bc4b-2c4a99183d61           AP-RA2G   \n",
       "3  131b3172-8e24-4bb8-be95-38566b0f84c9           AP-DMUM   \n",
       "4  8fba4d73-5cb9-43fc-b073-ddd05b921cac           AP-ZLDH   \n",
       "\n",
       "          disease_type       primary_site  \\\n",
       "0  Lung Adenocarcinoma  Bronchus and lung   \n",
       "1  Lung Adenocarcinoma  Bronchus and lung   \n",
       "2  Lung Adenocarcinoma  Bronchus and lung   \n",
       "3  Lung Adenocarcinoma  Bronchus and lung   \n",
       "4  Lung Adenocarcinoma  Bronchus and lung   \n",
       "\n",
       "                                          treatments  \\\n",
       "0                                                 []   \n",
       "1  [{'treatment_id': '3203f46f-9014-4752-9125-2d0...   \n",
       "2  [{'treatment_id': '9e3b90e2-1905-4368-b23c-6f7...   \n",
       "3  [{'treatment_id': '60126c4d-f1be-4ad1-b358-0c6...   \n",
       "4  [{'treatment_id': 'a4aab2aa-259c-40d6-85b8-0ce...   \n",
       "\n",
       "                           treatment_id  \n",
       "0                                  None  \n",
       "1  3203f46f-9014-4752-9125-2d0d9bd85356  \n",
       "2  9e3b90e2-1905-4368-b23c-6f7fa577493c  \n",
       "3  60126c4d-f1be-4ad1-b358-0c653788c222  \n",
       "4  a4aab2aa-259c-40d6-85b8-0ce758520a74  "
      ]
     },
     "execution_count": 288,
     "metadata": {},
     "output_type": "execute_result"
    }
   ],
   "source": [
    "treatments_data_df['treatment_id'] = treatments_data_df['treatments'].apply(lambda diag_list: diag_list[0]['treatment_id'] if diag_list else None)\n",
    "treatments_data_df.head()"
   ]
  },
  {
   "cell_type": "code",
   "execution_count": 289,
   "metadata": {},
   "outputs": [
    {
     "data": {
      "application/vnd.microsoft.datawrangler.viewer.v0+json": {
       "columns": [
        {
         "name": "index",
         "rawType": "int64",
         "type": "integer"
        },
        {
         "name": "treatment_id",
         "rawType": "object",
         "type": "string"
        },
        {
         "name": "treatment_submitter_id",
         "rawType": "object",
         "type": "string"
        },
        {
         "name": "days_to_treatment_start",
         "rawType": "object",
         "type": "string"
        },
        {
         "name": "initial_disease_status",
         "rawType": "object",
         "type": "string"
        },
        {
         "name": "regimen_or_line_of_therapy",
         "rawType": "object",
         "type": "string"
        },
        {
         "name": "therapeutic_agents",
         "rawType": "object",
         "type": "string"
        },
        {
         "name": "treatment_anatomic_site",
         "rawType": "object",
         "type": "string"
        },
        {
         "name": "treatment_effect",
         "rawType": "object",
         "type": "string"
        },
        {
         "name": "treatment_intent_type",
         "rawType": "object",
         "type": "string"
        },
        {
         "name": "treatment_or_therapy",
         "rawType": "object",
         "type": "string"
        },
        {
         "name": "treatment_outcome",
         "rawType": "object",
         "type": "string"
        },
        {
         "name": "treatment_type",
         "rawType": "object",
         "type": "string"
        },
        {
         "name": "chemo_concurrent_to_radiation",
         "rawType": "object",
         "type": "string"
        },
        {
         "name": "number_of_cycles",
         "rawType": "object",
         "type": "string"
        },
        {
         "name": "reason_treatment_ended",
         "rawType": "object",
         "type": "string"
        },
        {
         "name": "route_of_administration",
         "rawType": "object",
         "type": "string"
        },
        {
         "name": "treatment_arm",
         "rawType": "object",
         "type": "string"
        },
        {
         "name": "treatment_dose",
         "rawType": "object",
         "type": "string"
        },
        {
         "name": "treatment_dose_units",
         "rawType": "object",
         "type": "string"
        },
        {
         "name": "treatment_effect_indicator",
         "rawType": "object",
         "type": "string"
        },
        {
         "name": "treatment_frequency",
         "rawType": "object",
         "type": "string"
        }
       ],
       "conversionMethod": "pd.DataFrame",
       "ref": "08197d36-8e08-49a4-bf36-871b660162a4",
       "rows": [
        [
         "0",
         "3203f46f-9014-4752-9125-2d0d9bd85356",
         "AP-G79N-TR",
         "None",
         "None",
         "None",
         "None",
         "None",
         "None",
         "Adjuvant",
         "None",
         "None",
         "Radiation Therapy, NOS",
         "None",
         "None",
         "None",
         "None",
         "None",
         "None",
         "None",
         "None",
         "None"
        ],
        [
         "1",
         "b087a7bf-7f18-44df-a7c3-d5db211154fe",
         "AP-G79N-TR",
         "None",
         "None",
         "None",
         "None",
         "None",
         "None",
         "Adjuvant",
         "None",
         "None",
         "Chemotherapy",
         "None",
         "None",
         "None",
         "None",
         "None",
         "None",
         "None",
         "None",
         "None"
        ],
        [
         "2",
         "9e3b90e2-1905-4368-b23c-6f7fa577493c",
         "AP-RA2G-TR",
         "None",
         "None",
         "None",
         "None",
         "None",
         "None",
         "Adjuvant",
         "None",
         "None",
         "Radiation Therapy, NOS",
         "None",
         "None",
         "None",
         "None",
         "None",
         "None",
         "None",
         "None",
         "None"
        ],
        [
         "3",
         "60126c4d-f1be-4ad1-b358-0c653788c222",
         "AP-DMUM-TR",
         "None",
         "None",
         "None",
         "None",
         "None",
         "None",
         "Adjuvant",
         "None",
         "None",
         "Chemotherapy",
         "None",
         "None",
         "None",
         "None",
         "None",
         "None",
         "None",
         "None",
         "None"
        ],
        [
         "4",
         "a4aab2aa-259c-40d6-85b8-0ce758520a74",
         "AP-ZLDH-TR",
         "None",
         "None",
         "None",
         "None",
         "None",
         "None",
         "Adjuvant",
         "None",
         "None",
         "Radiation Therapy, NOS",
         "None",
         "None",
         "None",
         "None",
         "None",
         "None",
         "None",
         "None",
         "None"
        ]
       ],
       "shape": {
        "columns": 21,
        "rows": 5
       }
      },
      "text/html": [
       "<div>\n",
       "<style scoped>\n",
       "    .dataframe tbody tr th:only-of-type {\n",
       "        vertical-align: middle;\n",
       "    }\n",
       "\n",
       "    .dataframe tbody tr th {\n",
       "        vertical-align: top;\n",
       "    }\n",
       "\n",
       "    .dataframe thead th {\n",
       "        text-align: right;\n",
       "    }\n",
       "</style>\n",
       "<table border=\"1\" class=\"dataframe\">\n",
       "  <thead>\n",
       "    <tr style=\"text-align: right;\">\n",
       "      <th></th>\n",
       "      <th>treatment_id</th>\n",
       "      <th>treatment_submitter_id</th>\n",
       "      <th>days_to_treatment_start</th>\n",
       "      <th>initial_disease_status</th>\n",
       "      <th>regimen_or_line_of_therapy</th>\n",
       "      <th>therapeutic_agents</th>\n",
       "      <th>treatment_anatomic_site</th>\n",
       "      <th>treatment_effect</th>\n",
       "      <th>treatment_intent_type</th>\n",
       "      <th>treatment_or_therapy</th>\n",
       "      <th>...</th>\n",
       "      <th>treatment_type</th>\n",
       "      <th>chemo_concurrent_to_radiation</th>\n",
       "      <th>number_of_cycles</th>\n",
       "      <th>reason_treatment_ended</th>\n",
       "      <th>route_of_administration</th>\n",
       "      <th>treatment_arm</th>\n",
       "      <th>treatment_dose</th>\n",
       "      <th>treatment_dose_units</th>\n",
       "      <th>treatment_effect_indicator</th>\n",
       "      <th>treatment_frequency</th>\n",
       "    </tr>\n",
       "  </thead>\n",
       "  <tbody>\n",
       "    <tr>\n",
       "      <th>0</th>\n",
       "      <td>3203f46f-9014-4752-9125-2d0d9bd85356</td>\n",
       "      <td>AP-G79N-TR</td>\n",
       "      <td>None</td>\n",
       "      <td>None</td>\n",
       "      <td>None</td>\n",
       "      <td>None</td>\n",
       "      <td>None</td>\n",
       "      <td>None</td>\n",
       "      <td>Adjuvant</td>\n",
       "      <td>None</td>\n",
       "      <td>...</td>\n",
       "      <td>Radiation Therapy, NOS</td>\n",
       "      <td>None</td>\n",
       "      <td>None</td>\n",
       "      <td>None</td>\n",
       "      <td>None</td>\n",
       "      <td>None</td>\n",
       "      <td>None</td>\n",
       "      <td>None</td>\n",
       "      <td>None</td>\n",
       "      <td>None</td>\n",
       "    </tr>\n",
       "    <tr>\n",
       "      <th>1</th>\n",
       "      <td>b087a7bf-7f18-44df-a7c3-d5db211154fe</td>\n",
       "      <td>AP-G79N-TR</td>\n",
       "      <td>None</td>\n",
       "      <td>None</td>\n",
       "      <td>None</td>\n",
       "      <td>None</td>\n",
       "      <td>None</td>\n",
       "      <td>None</td>\n",
       "      <td>Adjuvant</td>\n",
       "      <td>None</td>\n",
       "      <td>...</td>\n",
       "      <td>Chemotherapy</td>\n",
       "      <td>None</td>\n",
       "      <td>None</td>\n",
       "      <td>None</td>\n",
       "      <td>None</td>\n",
       "      <td>None</td>\n",
       "      <td>None</td>\n",
       "      <td>None</td>\n",
       "      <td>None</td>\n",
       "      <td>None</td>\n",
       "    </tr>\n",
       "    <tr>\n",
       "      <th>2</th>\n",
       "      <td>9e3b90e2-1905-4368-b23c-6f7fa577493c</td>\n",
       "      <td>AP-RA2G-TR</td>\n",
       "      <td>None</td>\n",
       "      <td>None</td>\n",
       "      <td>None</td>\n",
       "      <td>None</td>\n",
       "      <td>None</td>\n",
       "      <td>None</td>\n",
       "      <td>Adjuvant</td>\n",
       "      <td>None</td>\n",
       "      <td>...</td>\n",
       "      <td>Radiation Therapy, NOS</td>\n",
       "      <td>None</td>\n",
       "      <td>None</td>\n",
       "      <td>None</td>\n",
       "      <td>None</td>\n",
       "      <td>None</td>\n",
       "      <td>None</td>\n",
       "      <td>None</td>\n",
       "      <td>None</td>\n",
       "      <td>None</td>\n",
       "    </tr>\n",
       "    <tr>\n",
       "      <th>3</th>\n",
       "      <td>60126c4d-f1be-4ad1-b358-0c653788c222</td>\n",
       "      <td>AP-DMUM-TR</td>\n",
       "      <td>None</td>\n",
       "      <td>None</td>\n",
       "      <td>None</td>\n",
       "      <td>None</td>\n",
       "      <td>None</td>\n",
       "      <td>None</td>\n",
       "      <td>Adjuvant</td>\n",
       "      <td>None</td>\n",
       "      <td>...</td>\n",
       "      <td>Chemotherapy</td>\n",
       "      <td>None</td>\n",
       "      <td>None</td>\n",
       "      <td>None</td>\n",
       "      <td>None</td>\n",
       "      <td>None</td>\n",
       "      <td>None</td>\n",
       "      <td>None</td>\n",
       "      <td>None</td>\n",
       "      <td>None</td>\n",
       "    </tr>\n",
       "    <tr>\n",
       "      <th>4</th>\n",
       "      <td>a4aab2aa-259c-40d6-85b8-0ce758520a74</td>\n",
       "      <td>AP-ZLDH-TR</td>\n",
       "      <td>None</td>\n",
       "      <td>None</td>\n",
       "      <td>None</td>\n",
       "      <td>None</td>\n",
       "      <td>None</td>\n",
       "      <td>None</td>\n",
       "      <td>Adjuvant</td>\n",
       "      <td>None</td>\n",
       "      <td>...</td>\n",
       "      <td>Radiation Therapy, NOS</td>\n",
       "      <td>None</td>\n",
       "      <td>None</td>\n",
       "      <td>None</td>\n",
       "      <td>None</td>\n",
       "      <td>None</td>\n",
       "      <td>None</td>\n",
       "      <td>None</td>\n",
       "      <td>None</td>\n",
       "      <td>None</td>\n",
       "    </tr>\n",
       "  </tbody>\n",
       "</table>\n",
       "<p>5 rows × 21 columns</p>\n",
       "</div>"
      ],
      "text/plain": [
       "                           treatment_id treatment_submitter_id  \\\n",
       "0  3203f46f-9014-4752-9125-2d0d9bd85356             AP-G79N-TR   \n",
       "1  b087a7bf-7f18-44df-a7c3-d5db211154fe             AP-G79N-TR   \n",
       "2  9e3b90e2-1905-4368-b23c-6f7fa577493c             AP-RA2G-TR   \n",
       "3  60126c4d-f1be-4ad1-b358-0c653788c222             AP-DMUM-TR   \n",
       "4  a4aab2aa-259c-40d6-85b8-0ce758520a74             AP-ZLDH-TR   \n",
       "\n",
       "  days_to_treatment_start initial_disease_status regimen_or_line_of_therapy  \\\n",
       "0                    None                   None                       None   \n",
       "1                    None                   None                       None   \n",
       "2                    None                   None                       None   \n",
       "3                    None                   None                       None   \n",
       "4                    None                   None                       None   \n",
       "\n",
       "  therapeutic_agents treatment_anatomic_site treatment_effect  \\\n",
       "0               None                    None             None   \n",
       "1               None                    None             None   \n",
       "2               None                    None             None   \n",
       "3               None                    None             None   \n",
       "4               None                    None             None   \n",
       "\n",
       "  treatment_intent_type treatment_or_therapy  ...          treatment_type  \\\n",
       "0              Adjuvant                 None  ...  Radiation Therapy, NOS   \n",
       "1              Adjuvant                 None  ...            Chemotherapy   \n",
       "2              Adjuvant                 None  ...  Radiation Therapy, NOS   \n",
       "3              Adjuvant                 None  ...            Chemotherapy   \n",
       "4              Adjuvant                 None  ...  Radiation Therapy, NOS   \n",
       "\n",
       "  chemo_concurrent_to_radiation number_of_cycles reason_treatment_ended  \\\n",
       "0                          None             None                   None   \n",
       "1                          None             None                   None   \n",
       "2                          None             None                   None   \n",
       "3                          None             None                   None   \n",
       "4                          None             None                   None   \n",
       "\n",
       "  route_of_administration treatment_arm treatment_dose treatment_dose_units  \\\n",
       "0                    None          None           None                 None   \n",
       "1                    None          None           None                 None   \n",
       "2                    None          None           None                 None   \n",
       "3                    None          None           None                 None   \n",
       "4                    None          None           None                 None   \n",
       "\n",
       "  treatment_effect_indicator treatment_frequency  \n",
       "0                       None                None  \n",
       "1                       None                None  \n",
       "2                       None                None  \n",
       "3                       None                None  \n",
       "4                       None                None  \n",
       "\n",
       "[5 rows x 21 columns]"
      ]
     },
     "execution_count": 289,
     "metadata": {},
     "output_type": "execute_result"
    }
   ],
   "source": [
    "treatments_df = for_treatment(matrix = matrix)\n",
    "treatments_df.head()"
   ]
  },
  {
   "cell_type": "code",
   "execution_count": 290,
   "metadata": {},
   "outputs": [
    {
     "data": {
      "text/plain": [
       "Index(['case_id', 'case_submitter_id', 'disease_type', 'primary_site',\n",
       "       'treatments', 'treatment_id', 'treatment_submitter_id',\n",
       "       'days_to_treatment_start', 'initial_disease_status',\n",
       "       'regimen_or_line_of_therapy', 'therapeutic_agents',\n",
       "       'treatment_anatomic_site', 'treatment_effect', 'treatment_intent_type',\n",
       "       'treatment_or_therapy', 'treatment_outcome', 'treatment_type',\n",
       "       'chemo_concurrent_to_radiation', 'number_of_cycles',\n",
       "       'reason_treatment_ended', 'route_of_administration', 'treatment_arm',\n",
       "       'treatment_dose', 'treatment_dose_units', 'treatment_effect_indicator',\n",
       "       'treatment_frequency'],\n",
       "      dtype='object')"
      ]
     },
     "execution_count": 290,
     "metadata": {},
     "output_type": "execute_result"
    }
   ],
   "source": [
    "treatments = pd.merge(left=treatments_data_df, right=treatments_df, on=\"treatment_id\")\n",
    "treatments.columns"
   ]
  },
  {
   "cell_type": "code",
   "execution_count": 291,
   "metadata": {},
   "outputs": [],
   "source": [
    "check_names = ['case_submitter_id', 'chemo_concurrent_to_radiation', \n",
    "               'days_to_treatment_end', 'days_to_treatment_start', \n",
    "               'initial_disease_status', 'number_of_cycles', 'reason_treatment_ended', \n",
    "               'regimen_or_line_of_therapy', 'route_of_administration', \n",
    "               'therapeutic_agents', 'treatment_anatomic_site', 'treatment_arm', \n",
    "               'treatment_dose', 'treatment_dose_units', 'treatment_effect', \n",
    "               'treatment_effect_indicator', 'treatment_frequency', 'treatment_intent_type', \n",
    "               'treatment_or_therapy', 'treatment_outcome', 'treatment_type']\n",
    "to_remove = list(set(treatments.columns).difference(check_names))"
   ]
  },
  {
   "cell_type": "code",
   "execution_count": 292,
   "metadata": {},
   "outputs": [
    {
     "data": {
      "application/vnd.microsoft.datawrangler.viewer.v0+json": {
       "columns": [
        {
         "name": "index",
         "rawType": "int64",
         "type": "integer"
        },
        {
         "name": "case_submitter_id",
         "rawType": "object",
         "type": "string"
        },
        {
         "name": "chemo_concurrent_to_radiation",
         "rawType": "object",
         "type": "string"
        },
        {
         "name": "days_to_treatment_end",
         "rawType": "float64",
         "type": "float"
        },
        {
         "name": "days_to_treatment_start",
         "rawType": "object",
         "type": "string"
        },
        {
         "name": "initial_disease_status",
         "rawType": "object",
         "type": "string"
        },
        {
         "name": "number_of_cycles",
         "rawType": "object",
         "type": "string"
        },
        {
         "name": "reason_treatment_ended",
         "rawType": "object",
         "type": "string"
        },
        {
         "name": "regimen_or_line_of_therapy",
         "rawType": "object",
         "type": "string"
        },
        {
         "name": "route_of_administration",
         "rawType": "object",
         "type": "string"
        },
        {
         "name": "therapeutic_agents",
         "rawType": "object",
         "type": "string"
        },
        {
         "name": "treatment_anatomic_site",
         "rawType": "object",
         "type": "string"
        },
        {
         "name": "treatment_arm",
         "rawType": "object",
         "type": "string"
        },
        {
         "name": "treatment_dose",
         "rawType": "object",
         "type": "string"
        },
        {
         "name": "treatment_dose_units",
         "rawType": "object",
         "type": "string"
        },
        {
         "name": "treatment_effect",
         "rawType": "object",
         "type": "string"
        },
        {
         "name": "treatment_effect_indicator",
         "rawType": "object",
         "type": "string"
        },
        {
         "name": "treatment_frequency",
         "rawType": "object",
         "type": "string"
        },
        {
         "name": "treatment_intent_type",
         "rawType": "object",
         "type": "string"
        },
        {
         "name": "treatment_or_therapy",
         "rawType": "object",
         "type": "string"
        },
        {
         "name": "treatment_outcome",
         "rawType": "object",
         "type": "string"
        },
        {
         "name": "treatment_type",
         "rawType": "object",
         "type": "string"
        }
       ],
       "conversionMethod": "pd.DataFrame",
       "ref": "f0af65bb-e100-48f5-b712-90dd37f3a965",
       "rows": [
        [
         "0",
         "AP-G79N",
         "None",
         null,
         "None",
         "None",
         "None",
         "None",
         "None",
         "None",
         "None",
         "None",
         "None",
         "None",
         "None",
         "None",
         "None",
         "None",
         "Adjuvant",
         "None",
         "None",
         "Radiation Therapy, NOS"
        ],
        [
         "1",
         "AP-RA2G",
         "None",
         null,
         "None",
         "None",
         "None",
         "None",
         "None",
         "None",
         "None",
         "None",
         "None",
         "None",
         "None",
         "None",
         "None",
         "None",
         "Adjuvant",
         "None",
         "None",
         "Radiation Therapy, NOS"
        ],
        [
         "2",
         "AP-DMUM",
         "None",
         null,
         "None",
         "None",
         "None",
         "None",
         "None",
         "None",
         "None",
         "None",
         "None",
         "None",
         "None",
         "None",
         "None",
         "None",
         "Adjuvant",
         "None",
         "None",
         "Chemotherapy"
        ],
        [
         "3",
         "AP-ZLDH",
         "None",
         null,
         "None",
         "None",
         "None",
         "None",
         "None",
         "None",
         "None",
         "None",
         "None",
         "None",
         "None",
         "None",
         "None",
         "None",
         "Adjuvant",
         "None",
         "None",
         "Radiation Therapy, NOS"
        ],
        [
         "4",
         "AP-WTXJ",
         "None",
         null,
         "None",
         "None",
         "None",
         "None",
         "None",
         "None",
         "None",
         "None",
         "None",
         "None",
         "None",
         "None",
         "None",
         "None",
         "Adjuvant",
         "None",
         "None",
         "Chemotherapy"
        ]
       ],
       "shape": {
        "columns": 21,
        "rows": 5
       }
      },
      "text/html": [
       "<div>\n",
       "<style scoped>\n",
       "    .dataframe tbody tr th:only-of-type {\n",
       "        vertical-align: middle;\n",
       "    }\n",
       "\n",
       "    .dataframe tbody tr th {\n",
       "        vertical-align: top;\n",
       "    }\n",
       "\n",
       "    .dataframe thead th {\n",
       "        text-align: right;\n",
       "    }\n",
       "</style>\n",
       "<table border=\"1\" class=\"dataframe\">\n",
       "  <thead>\n",
       "    <tr style=\"text-align: right;\">\n",
       "      <th></th>\n",
       "      <th>case_submitter_id</th>\n",
       "      <th>chemo_concurrent_to_radiation</th>\n",
       "      <th>days_to_treatment_end</th>\n",
       "      <th>days_to_treatment_start</th>\n",
       "      <th>initial_disease_status</th>\n",
       "      <th>number_of_cycles</th>\n",
       "      <th>reason_treatment_ended</th>\n",
       "      <th>regimen_or_line_of_therapy</th>\n",
       "      <th>route_of_administration</th>\n",
       "      <th>therapeutic_agents</th>\n",
       "      <th>...</th>\n",
       "      <th>treatment_arm</th>\n",
       "      <th>treatment_dose</th>\n",
       "      <th>treatment_dose_units</th>\n",
       "      <th>treatment_effect</th>\n",
       "      <th>treatment_effect_indicator</th>\n",
       "      <th>treatment_frequency</th>\n",
       "      <th>treatment_intent_type</th>\n",
       "      <th>treatment_or_therapy</th>\n",
       "      <th>treatment_outcome</th>\n",
       "      <th>treatment_type</th>\n",
       "    </tr>\n",
       "  </thead>\n",
       "  <tbody>\n",
       "    <tr>\n",
       "      <th>0</th>\n",
       "      <td>AP-G79N</td>\n",
       "      <td>None</td>\n",
       "      <td>NaN</td>\n",
       "      <td>None</td>\n",
       "      <td>None</td>\n",
       "      <td>None</td>\n",
       "      <td>None</td>\n",
       "      <td>None</td>\n",
       "      <td>None</td>\n",
       "      <td>None</td>\n",
       "      <td>...</td>\n",
       "      <td>None</td>\n",
       "      <td>None</td>\n",
       "      <td>None</td>\n",
       "      <td>None</td>\n",
       "      <td>None</td>\n",
       "      <td>None</td>\n",
       "      <td>Adjuvant</td>\n",
       "      <td>None</td>\n",
       "      <td>None</td>\n",
       "      <td>Radiation Therapy, NOS</td>\n",
       "    </tr>\n",
       "    <tr>\n",
       "      <th>1</th>\n",
       "      <td>AP-RA2G</td>\n",
       "      <td>None</td>\n",
       "      <td>NaN</td>\n",
       "      <td>None</td>\n",
       "      <td>None</td>\n",
       "      <td>None</td>\n",
       "      <td>None</td>\n",
       "      <td>None</td>\n",
       "      <td>None</td>\n",
       "      <td>None</td>\n",
       "      <td>...</td>\n",
       "      <td>None</td>\n",
       "      <td>None</td>\n",
       "      <td>None</td>\n",
       "      <td>None</td>\n",
       "      <td>None</td>\n",
       "      <td>None</td>\n",
       "      <td>Adjuvant</td>\n",
       "      <td>None</td>\n",
       "      <td>None</td>\n",
       "      <td>Radiation Therapy, NOS</td>\n",
       "    </tr>\n",
       "    <tr>\n",
       "      <th>2</th>\n",
       "      <td>AP-DMUM</td>\n",
       "      <td>None</td>\n",
       "      <td>NaN</td>\n",
       "      <td>None</td>\n",
       "      <td>None</td>\n",
       "      <td>None</td>\n",
       "      <td>None</td>\n",
       "      <td>None</td>\n",
       "      <td>None</td>\n",
       "      <td>None</td>\n",
       "      <td>...</td>\n",
       "      <td>None</td>\n",
       "      <td>None</td>\n",
       "      <td>None</td>\n",
       "      <td>None</td>\n",
       "      <td>None</td>\n",
       "      <td>None</td>\n",
       "      <td>Adjuvant</td>\n",
       "      <td>None</td>\n",
       "      <td>None</td>\n",
       "      <td>Chemotherapy</td>\n",
       "    </tr>\n",
       "    <tr>\n",
       "      <th>3</th>\n",
       "      <td>AP-ZLDH</td>\n",
       "      <td>None</td>\n",
       "      <td>NaN</td>\n",
       "      <td>None</td>\n",
       "      <td>None</td>\n",
       "      <td>None</td>\n",
       "      <td>None</td>\n",
       "      <td>None</td>\n",
       "      <td>None</td>\n",
       "      <td>None</td>\n",
       "      <td>...</td>\n",
       "      <td>None</td>\n",
       "      <td>None</td>\n",
       "      <td>None</td>\n",
       "      <td>None</td>\n",
       "      <td>None</td>\n",
       "      <td>None</td>\n",
       "      <td>Adjuvant</td>\n",
       "      <td>None</td>\n",
       "      <td>None</td>\n",
       "      <td>Radiation Therapy, NOS</td>\n",
       "    </tr>\n",
       "    <tr>\n",
       "      <th>4</th>\n",
       "      <td>AP-WTXJ</td>\n",
       "      <td>None</td>\n",
       "      <td>NaN</td>\n",
       "      <td>None</td>\n",
       "      <td>None</td>\n",
       "      <td>None</td>\n",
       "      <td>None</td>\n",
       "      <td>None</td>\n",
       "      <td>None</td>\n",
       "      <td>None</td>\n",
       "      <td>...</td>\n",
       "      <td>None</td>\n",
       "      <td>None</td>\n",
       "      <td>None</td>\n",
       "      <td>None</td>\n",
       "      <td>None</td>\n",
       "      <td>None</td>\n",
       "      <td>Adjuvant</td>\n",
       "      <td>None</td>\n",
       "      <td>None</td>\n",
       "      <td>Chemotherapy</td>\n",
       "    </tr>\n",
       "  </tbody>\n",
       "</table>\n",
       "<p>5 rows × 21 columns</p>\n",
       "</div>"
      ],
      "text/plain": [
       "  case_submitter_id chemo_concurrent_to_radiation  days_to_treatment_end  \\\n",
       "0           AP-G79N                          None                    NaN   \n",
       "1           AP-RA2G                          None                    NaN   \n",
       "2           AP-DMUM                          None                    NaN   \n",
       "3           AP-ZLDH                          None                    NaN   \n",
       "4           AP-WTXJ                          None                    NaN   \n",
       "\n",
       "  days_to_treatment_start initial_disease_status number_of_cycles  \\\n",
       "0                    None                   None             None   \n",
       "1                    None                   None             None   \n",
       "2                    None                   None             None   \n",
       "3                    None                   None             None   \n",
       "4                    None                   None             None   \n",
       "\n",
       "  reason_treatment_ended regimen_or_line_of_therapy route_of_administration  \\\n",
       "0                   None                       None                    None   \n",
       "1                   None                       None                    None   \n",
       "2                   None                       None                    None   \n",
       "3                   None                       None                    None   \n",
       "4                   None                       None                    None   \n",
       "\n",
       "  therapeutic_agents  ... treatment_arm treatment_dose treatment_dose_units  \\\n",
       "0               None  ...          None           None                 None   \n",
       "1               None  ...          None           None                 None   \n",
       "2               None  ...          None           None                 None   \n",
       "3               None  ...          None           None                 None   \n",
       "4               None  ...          None           None                 None   \n",
       "\n",
       "  treatment_effect treatment_effect_indicator treatment_frequency  \\\n",
       "0             None                       None                None   \n",
       "1             None                       None                None   \n",
       "2             None                       None                None   \n",
       "3             None                       None                None   \n",
       "4             None                       None                None   \n",
       "\n",
       "  treatment_intent_type treatment_or_therapy treatment_outcome  \\\n",
       "0              Adjuvant                 None              None   \n",
       "1              Adjuvant                 None              None   \n",
       "2              Adjuvant                 None              None   \n",
       "3              Adjuvant                 None              None   \n",
       "4              Adjuvant                 None              None   \n",
       "\n",
       "           treatment_type  \n",
       "0  Radiation Therapy, NOS  \n",
       "1  Radiation Therapy, NOS  \n",
       "2            Chemotherapy  \n",
       "3  Radiation Therapy, NOS  \n",
       "4            Chemotherapy  \n",
       "\n",
       "[5 rows x 21 columns]"
      ]
     },
     "execution_count": 292,
     "metadata": {},
     "output_type": "execute_result"
    }
   ],
   "source": [
    "treatments = treatments.drop(columns=to_remove)\n",
    "treatments = treatments.reindex(columns=check_names)\n",
    "treatments.head()"
   ]
  },
  {
   "cell_type": "markdown",
   "metadata": {},
   "source": [
    "# Follow up"
   ]
  },
  {
   "cell_type": "code",
   "execution_count": 293,
   "metadata": {},
   "outputs": [
    {
     "name": "stdout",
     "output_type": "stream",
     "text": [
      "Sending query.\n"
     ]
    },
    {
     "data": {
      "application/vnd.microsoft.datawrangler.viewer.v0+json": {
       "columns": [
        {
         "name": "index",
         "rawType": "int64",
         "type": "integer"
        },
        {
         "name": "case_id",
         "rawType": "object",
         "type": "string"
        },
        {
         "name": "case_submitter_id",
         "rawType": "object",
         "type": "string"
        },
        {
         "name": "disease_type",
         "rawType": "object",
         "type": "string"
        },
        {
         "name": "primary_site",
         "rawType": "object",
         "type": "string"
        },
        {
         "name": "follow_ups",
         "rawType": "object",
         "type": "unknown"
        }
       ],
       "conversionMethod": "pd.DataFrame",
       "ref": "d37661a2-eded-46d6-936f-9ed9eac891ce",
       "rows": [
        [
         "0",
         "e3c38f0f-db71-445b-95e6-f189c2504bc0",
         "AP-E98M",
         "Lung Adenocarcinoma",
         "Bronchus and lung",
         "[]"
        ],
        [
         "1",
         "90e33601-748b-4df7-bff3-a60ee8a09df3",
         "AP-G79N",
         "Lung Adenocarcinoma",
         "Bronchus and lung",
         "[{'follow_up_id': '14eb782e-c701-45de-8a79-d77726e0bc14', 'follow_up_submitter_id': 'AP-G79N-FL', 'adverse_event': None, 'barretts_esophagus_goblet_cells_present': None, 'bmi': None, 'cause_of_response': None, 'comorbidity': None, 'comorbidity_method_of_diagnosis': None, 'days_to_adverse_event': None, 'days_to_comorbidity': None, 'days_to_follow_up': '670', 'days_to_progression': None, 'days_to_progression_free': None, 'days_to_recurrence': '670', 'diabetes_treatment_type': None, 'disease_response': None, 'dlco_ref_predictive_percent': None, 'ecog_performance_status': None, 'fev1_ref_post_bronch_percent': None, 'fev1_ref_pre_bronch_percent': None, 'fev1_fvc_pre_bronch_percent': None, 'fev1_fvc_post_bronch_percent': None, 'height': None, 'hepatitis_sustained_virological_response': None, 'hpv_positive_type': None, 'karnofsky_performance_status': None, 'menopause_status': None, 'pancreatitis_onset_year': None, 'progression_or_recurrence': 'Yes', 'progression_or_recurrence_anatomic_site': None, 'progression_or_recurrence_type': 'Distant', 'reflux_treatment_type': None, 'risk_factor': None, 'risk_factor_treatment': None, 'viral_hepatitis_serologies': None, 'weight': None, 'adverse_event_grade': None, 'aids_risk_factors': None, 'body_surface_area': None, 'cd4_count': None, 'cdc_hiv_risk_factors': None, 'days_to_imaging': None, 'evidence_of_recurrence_type': None, 'eye_color': None, 'haart_treatment_indicator': None, 'history_of_tumor': None, 'history_of_tumor_type': None, 'hiv_viral_load': None, 'hormonal_contraceptive_type': None, 'hormonal_contraceptive_use': None, 'hormone_replacement_therapy_type': None, 'hysterectomy_margins_involved': None, 'hysterectomy_type': None, 'imaging_result': None, 'imaging_type': None, 'immunosuppressive_treatment_type': None, 'nadir_cd4_count': None, 'pregnancy_outcome': None, 'procedures_performed': None, 'recist_targeted_regions_number': None, 'recist_targeted_regions_sum': None, 'scan_tracer_used': None, 'undescended_testis_corrected': None, 'undescended_testis_corrected_age': None, 'undescended_testis_corrected_laterality': None, 'undescended_testis_corrected_method': None, 'undescended_testis_history': None, 'undescended_testis_history_laterality': None}]"
        ],
        [
         "2",
         "5629fe7e-ee5e-4e2e-bc4b-2c4a99183d61",
         "AP-RA2G",
         "Lung Adenocarcinoma",
         "Bronchus and lung",
         "[]"
        ],
        [
         "3",
         "131b3172-8e24-4bb8-be95-38566b0f84c9",
         "AP-DMUM",
         "Lung Adenocarcinoma",
         "Bronchus and lung",
         "[{'follow_up_id': 'ed050783-ee70-40e1-8a9c-d954e7c011c2', 'follow_up_submitter_id': 'AP-DMUM-FL', 'adverse_event': None, 'barretts_esophagus_goblet_cells_present': None, 'bmi': None, 'cause_of_response': None, 'comorbidity': None, 'comorbidity_method_of_diagnosis': None, 'days_to_adverse_event': None, 'days_to_comorbidity': None, 'days_to_follow_up': '676', 'days_to_progression': None, 'days_to_progression_free': None, 'days_to_recurrence': '676', 'diabetes_treatment_type': None, 'disease_response': None, 'dlco_ref_predictive_percent': None, 'ecog_performance_status': None, 'fev1_ref_post_bronch_percent': None, 'fev1_ref_pre_bronch_percent': None, 'fev1_fvc_pre_bronch_percent': None, 'fev1_fvc_post_bronch_percent': None, 'height': None, 'hepatitis_sustained_virological_response': None, 'hpv_positive_type': None, 'karnofsky_performance_status': None, 'menopause_status': None, 'pancreatitis_onset_year': None, 'progression_or_recurrence': 'Yes', 'progression_or_recurrence_anatomic_site': None, 'progression_or_recurrence_type': 'Distant', 'reflux_treatment_type': None, 'risk_factor': None, 'risk_factor_treatment': None, 'viral_hepatitis_serologies': None, 'weight': None, 'adverse_event_grade': None, 'aids_risk_factors': None, 'body_surface_area': None, 'cd4_count': None, 'cdc_hiv_risk_factors': None, 'days_to_imaging': None, 'evidence_of_recurrence_type': None, 'eye_color': None, 'haart_treatment_indicator': None, 'history_of_tumor': None, 'history_of_tumor_type': None, 'hiv_viral_load': None, 'hormonal_contraceptive_type': None, 'hormonal_contraceptive_use': None, 'hormone_replacement_therapy_type': None, 'hysterectomy_margins_involved': None, 'hysterectomy_type': None, 'imaging_result': None, 'imaging_type': None, 'immunosuppressive_treatment_type': None, 'nadir_cd4_count': None, 'pregnancy_outcome': None, 'procedures_performed': None, 'recist_targeted_regions_number': None, 'recist_targeted_regions_sum': None, 'scan_tracer_used': None, 'undescended_testis_corrected': None, 'undescended_testis_corrected_age': None, 'undescended_testis_corrected_laterality': None, 'undescended_testis_corrected_method': None, 'undescended_testis_history': None, 'undescended_testis_history_laterality': None}]"
        ],
        [
         "4",
         "8fba4d73-5cb9-43fc-b073-ddd05b921cac",
         "AP-ZLDH",
         "Lung Adenocarcinoma",
         "Bronchus and lung",
         "[{'follow_up_id': '5a32a0ea-e70e-4f1a-9085-efef900e4dbe', 'follow_up_submitter_id': 'AP-ZLDH-FL', 'adverse_event': None, 'barretts_esophagus_goblet_cells_present': None, 'bmi': None, 'cause_of_response': None, 'comorbidity': None, 'comorbidity_method_of_diagnosis': None, 'days_to_adverse_event': None, 'days_to_comorbidity': None, 'days_to_follow_up': '510', 'days_to_progression': None, 'days_to_progression_free': None, 'days_to_recurrence': '510', 'diabetes_treatment_type': None, 'disease_response': None, 'dlco_ref_predictive_percent': None, 'ecog_performance_status': None, 'fev1_ref_post_bronch_percent': None, 'fev1_ref_pre_bronch_percent': None, 'fev1_fvc_pre_bronch_percent': None, 'fev1_fvc_post_bronch_percent': None, 'height': None, 'hepatitis_sustained_virological_response': None, 'hpv_positive_type': None, 'karnofsky_performance_status': None, 'menopause_status': None, 'pancreatitis_onset_year': None, 'progression_or_recurrence': 'Yes', 'progression_or_recurrence_anatomic_site': None, 'progression_or_recurrence_type': 'Distant', 'reflux_treatment_type': None, 'risk_factor': None, 'risk_factor_treatment': None, 'viral_hepatitis_serologies': None, 'weight': None, 'adverse_event_grade': None, 'aids_risk_factors': None, 'body_surface_area': None, 'cd4_count': None, 'cdc_hiv_risk_factors': None, 'days_to_imaging': None, 'evidence_of_recurrence_type': None, 'eye_color': None, 'haart_treatment_indicator': None, 'history_of_tumor': None, 'history_of_tumor_type': None, 'hiv_viral_load': None, 'hormonal_contraceptive_type': None, 'hormonal_contraceptive_use': None, 'hormone_replacement_therapy_type': None, 'hysterectomy_margins_involved': None, 'hysterectomy_type': None, 'imaging_result': None, 'imaging_type': None, 'immunosuppressive_treatment_type': None, 'nadir_cd4_count': None, 'pregnancy_outcome': None, 'procedures_performed': None, 'recist_targeted_regions_number': None, 'recist_targeted_regions_sum': None, 'scan_tracer_used': None, 'undescended_testis_corrected': None, 'undescended_testis_corrected_age': None, 'undescended_testis_corrected_laterality': None, 'undescended_testis_corrected_method': None, 'undescended_testis_history': None, 'undescended_testis_history_laterality': None}]"
        ]
       ],
       "shape": {
        "columns": 5,
        "rows": 5
       }
      },
      "text/html": [
       "<div>\n",
       "<style scoped>\n",
       "    .dataframe tbody tr th:only-of-type {\n",
       "        vertical-align: middle;\n",
       "    }\n",
       "\n",
       "    .dataframe tbody tr th {\n",
       "        vertical-align: top;\n",
       "    }\n",
       "\n",
       "    .dataframe thead th {\n",
       "        text-align: right;\n",
       "    }\n",
       "</style>\n",
       "<table border=\"1\" class=\"dataframe\">\n",
       "  <thead>\n",
       "    <tr style=\"text-align: right;\">\n",
       "      <th></th>\n",
       "      <th>case_id</th>\n",
       "      <th>case_submitter_id</th>\n",
       "      <th>disease_type</th>\n",
       "      <th>primary_site</th>\n",
       "      <th>follow_ups</th>\n",
       "    </tr>\n",
       "  </thead>\n",
       "  <tbody>\n",
       "    <tr>\n",
       "      <th>0</th>\n",
       "      <td>e3c38f0f-db71-445b-95e6-f189c2504bc0</td>\n",
       "      <td>AP-E98M</td>\n",
       "      <td>Lung Adenocarcinoma</td>\n",
       "      <td>Bronchus and lung</td>\n",
       "      <td>[]</td>\n",
       "    </tr>\n",
       "    <tr>\n",
       "      <th>1</th>\n",
       "      <td>90e33601-748b-4df7-bff3-a60ee8a09df3</td>\n",
       "      <td>AP-G79N</td>\n",
       "      <td>Lung Adenocarcinoma</td>\n",
       "      <td>Bronchus and lung</td>\n",
       "      <td>[{'follow_up_id': '14eb782e-c701-45de-8a79-d77...</td>\n",
       "    </tr>\n",
       "    <tr>\n",
       "      <th>2</th>\n",
       "      <td>5629fe7e-ee5e-4e2e-bc4b-2c4a99183d61</td>\n",
       "      <td>AP-RA2G</td>\n",
       "      <td>Lung Adenocarcinoma</td>\n",
       "      <td>Bronchus and lung</td>\n",
       "      <td>[]</td>\n",
       "    </tr>\n",
       "    <tr>\n",
       "      <th>3</th>\n",
       "      <td>131b3172-8e24-4bb8-be95-38566b0f84c9</td>\n",
       "      <td>AP-DMUM</td>\n",
       "      <td>Lung Adenocarcinoma</td>\n",
       "      <td>Bronchus and lung</td>\n",
       "      <td>[{'follow_up_id': 'ed050783-ee70-40e1-8a9c-d95...</td>\n",
       "    </tr>\n",
       "    <tr>\n",
       "      <th>4</th>\n",
       "      <td>8fba4d73-5cb9-43fc-b073-ddd05b921cac</td>\n",
       "      <td>AP-ZLDH</td>\n",
       "      <td>Lung Adenocarcinoma</td>\n",
       "      <td>Bronchus and lung</td>\n",
       "      <td>[{'follow_up_id': '5a32a0ea-e70e-4f1a-9085-efe...</td>\n",
       "    </tr>\n",
       "  </tbody>\n",
       "</table>\n",
       "</div>"
      ],
      "text/plain": [
       "                                case_id case_submitter_id  \\\n",
       "0  e3c38f0f-db71-445b-95e6-f189c2504bc0           AP-E98M   \n",
       "1  90e33601-748b-4df7-bff3-a60ee8a09df3           AP-G79N   \n",
       "2  5629fe7e-ee5e-4e2e-bc4b-2c4a99183d61           AP-RA2G   \n",
       "3  131b3172-8e24-4bb8-be95-38566b0f84c9           AP-DMUM   \n",
       "4  8fba4d73-5cb9-43fc-b073-ddd05b921cac           AP-ZLDH   \n",
       "\n",
       "          disease_type       primary_site  \\\n",
       "0  Lung Adenocarcinoma  Bronchus and lung   \n",
       "1  Lung Adenocarcinoma  Bronchus and lung   \n",
       "2  Lung Adenocarcinoma  Bronchus and lung   \n",
       "3  Lung Adenocarcinoma  Bronchus and lung   \n",
       "4  Lung Adenocarcinoma  Bronchus and lung   \n",
       "\n",
       "                                          follow_ups  \n",
       "0                                                 []  \n",
       "1  [{'follow_up_id': '14eb782e-c701-45de-8a79-d77...  \n",
       "2                                                 []  \n",
       "3  [{'follow_up_id': 'ed050783-ee70-40e1-8a9c-d95...  \n",
       "4  [{'follow_up_id': '5a32a0ea-e70e-4f1a-9085-efe...  "
      ]
     },
     "execution_count": 293,
     "metadata": {},
     "output_type": "execute_result"
    }
   ],
   "source": [
    "follow_up_data = query_pdc(query= query_follow_up, variables=variables)\n",
    "matrix = json.loads(follow_up_data.content)['data'][\"paginatedCaseFollowUpsPerStudy\"]['caseFollowUpsPerStudy']\n",
    "follow_up_data_df = pd.DataFrame(matrix[1:], columns=matrix[0])\n",
    "follow_up_data_df.head()"
   ]
  },
  {
   "cell_type": "code",
   "execution_count": 294,
   "metadata": {},
   "outputs": [
    {
     "data": {
      "application/vnd.microsoft.datawrangler.viewer.v0+json": {
       "columns": [
        {
         "name": "index",
         "rawType": "int64",
         "type": "integer"
        },
        {
         "name": "case_id",
         "rawType": "object",
         "type": "string"
        },
        {
         "name": "case_submitter_id",
         "rawType": "object",
         "type": "string"
        },
        {
         "name": "disease_type",
         "rawType": "object",
         "type": "string"
        },
        {
         "name": "primary_site",
         "rawType": "object",
         "type": "string"
        },
        {
         "name": "follow_ups",
         "rawType": "object",
         "type": "unknown"
        },
        {
         "name": "follow_up_id",
         "rawType": "object",
         "type": "unknown"
        }
       ],
       "conversionMethod": "pd.DataFrame",
       "ref": "bd75697f-a7a3-49bb-b647-e240013d33f2",
       "rows": [
        [
         "0",
         "e3c38f0f-db71-445b-95e6-f189c2504bc0",
         "AP-E98M",
         "Lung Adenocarcinoma",
         "Bronchus and lung",
         "[]",
         null
        ],
        [
         "1",
         "90e33601-748b-4df7-bff3-a60ee8a09df3",
         "AP-G79N",
         "Lung Adenocarcinoma",
         "Bronchus and lung",
         "[{'follow_up_id': '14eb782e-c701-45de-8a79-d77726e0bc14', 'follow_up_submitter_id': 'AP-G79N-FL', 'adverse_event': None, 'barretts_esophagus_goblet_cells_present': None, 'bmi': None, 'cause_of_response': None, 'comorbidity': None, 'comorbidity_method_of_diagnosis': None, 'days_to_adverse_event': None, 'days_to_comorbidity': None, 'days_to_follow_up': '670', 'days_to_progression': None, 'days_to_progression_free': None, 'days_to_recurrence': '670', 'diabetes_treatment_type': None, 'disease_response': None, 'dlco_ref_predictive_percent': None, 'ecog_performance_status': None, 'fev1_ref_post_bronch_percent': None, 'fev1_ref_pre_bronch_percent': None, 'fev1_fvc_pre_bronch_percent': None, 'fev1_fvc_post_bronch_percent': None, 'height': None, 'hepatitis_sustained_virological_response': None, 'hpv_positive_type': None, 'karnofsky_performance_status': None, 'menopause_status': None, 'pancreatitis_onset_year': None, 'progression_or_recurrence': 'Yes', 'progression_or_recurrence_anatomic_site': None, 'progression_or_recurrence_type': 'Distant', 'reflux_treatment_type': None, 'risk_factor': None, 'risk_factor_treatment': None, 'viral_hepatitis_serologies': None, 'weight': None, 'adverse_event_grade': None, 'aids_risk_factors': None, 'body_surface_area': None, 'cd4_count': None, 'cdc_hiv_risk_factors': None, 'days_to_imaging': None, 'evidence_of_recurrence_type': None, 'eye_color': None, 'haart_treatment_indicator': None, 'history_of_tumor': None, 'history_of_tumor_type': None, 'hiv_viral_load': None, 'hormonal_contraceptive_type': None, 'hormonal_contraceptive_use': None, 'hormone_replacement_therapy_type': None, 'hysterectomy_margins_involved': None, 'hysterectomy_type': None, 'imaging_result': None, 'imaging_type': None, 'immunosuppressive_treatment_type': None, 'nadir_cd4_count': None, 'pregnancy_outcome': None, 'procedures_performed': None, 'recist_targeted_regions_number': None, 'recist_targeted_regions_sum': None, 'scan_tracer_used': None, 'undescended_testis_corrected': None, 'undescended_testis_corrected_age': None, 'undescended_testis_corrected_laterality': None, 'undescended_testis_corrected_method': None, 'undescended_testis_history': None, 'undescended_testis_history_laterality': None}]",
         "14eb782e-c701-45de-8a79-d77726e0bc14"
        ],
        [
         "2",
         "5629fe7e-ee5e-4e2e-bc4b-2c4a99183d61",
         "AP-RA2G",
         "Lung Adenocarcinoma",
         "Bronchus and lung",
         "[]",
         null
        ],
        [
         "3",
         "131b3172-8e24-4bb8-be95-38566b0f84c9",
         "AP-DMUM",
         "Lung Adenocarcinoma",
         "Bronchus and lung",
         "[{'follow_up_id': 'ed050783-ee70-40e1-8a9c-d954e7c011c2', 'follow_up_submitter_id': 'AP-DMUM-FL', 'adverse_event': None, 'barretts_esophagus_goblet_cells_present': None, 'bmi': None, 'cause_of_response': None, 'comorbidity': None, 'comorbidity_method_of_diagnosis': None, 'days_to_adverse_event': None, 'days_to_comorbidity': None, 'days_to_follow_up': '676', 'days_to_progression': None, 'days_to_progression_free': None, 'days_to_recurrence': '676', 'diabetes_treatment_type': None, 'disease_response': None, 'dlco_ref_predictive_percent': None, 'ecog_performance_status': None, 'fev1_ref_post_bronch_percent': None, 'fev1_ref_pre_bronch_percent': None, 'fev1_fvc_pre_bronch_percent': None, 'fev1_fvc_post_bronch_percent': None, 'height': None, 'hepatitis_sustained_virological_response': None, 'hpv_positive_type': None, 'karnofsky_performance_status': None, 'menopause_status': None, 'pancreatitis_onset_year': None, 'progression_or_recurrence': 'Yes', 'progression_or_recurrence_anatomic_site': None, 'progression_or_recurrence_type': 'Distant', 'reflux_treatment_type': None, 'risk_factor': None, 'risk_factor_treatment': None, 'viral_hepatitis_serologies': None, 'weight': None, 'adverse_event_grade': None, 'aids_risk_factors': None, 'body_surface_area': None, 'cd4_count': None, 'cdc_hiv_risk_factors': None, 'days_to_imaging': None, 'evidence_of_recurrence_type': None, 'eye_color': None, 'haart_treatment_indicator': None, 'history_of_tumor': None, 'history_of_tumor_type': None, 'hiv_viral_load': None, 'hormonal_contraceptive_type': None, 'hormonal_contraceptive_use': None, 'hormone_replacement_therapy_type': None, 'hysterectomy_margins_involved': None, 'hysterectomy_type': None, 'imaging_result': None, 'imaging_type': None, 'immunosuppressive_treatment_type': None, 'nadir_cd4_count': None, 'pregnancy_outcome': None, 'procedures_performed': None, 'recist_targeted_regions_number': None, 'recist_targeted_regions_sum': None, 'scan_tracer_used': None, 'undescended_testis_corrected': None, 'undescended_testis_corrected_age': None, 'undescended_testis_corrected_laterality': None, 'undescended_testis_corrected_method': None, 'undescended_testis_history': None, 'undescended_testis_history_laterality': None}]",
         "ed050783-ee70-40e1-8a9c-d954e7c011c2"
        ],
        [
         "4",
         "8fba4d73-5cb9-43fc-b073-ddd05b921cac",
         "AP-ZLDH",
         "Lung Adenocarcinoma",
         "Bronchus and lung",
         "[{'follow_up_id': '5a32a0ea-e70e-4f1a-9085-efef900e4dbe', 'follow_up_submitter_id': 'AP-ZLDH-FL', 'adverse_event': None, 'barretts_esophagus_goblet_cells_present': None, 'bmi': None, 'cause_of_response': None, 'comorbidity': None, 'comorbidity_method_of_diagnosis': None, 'days_to_adverse_event': None, 'days_to_comorbidity': None, 'days_to_follow_up': '510', 'days_to_progression': None, 'days_to_progression_free': None, 'days_to_recurrence': '510', 'diabetes_treatment_type': None, 'disease_response': None, 'dlco_ref_predictive_percent': None, 'ecog_performance_status': None, 'fev1_ref_post_bronch_percent': None, 'fev1_ref_pre_bronch_percent': None, 'fev1_fvc_pre_bronch_percent': None, 'fev1_fvc_post_bronch_percent': None, 'height': None, 'hepatitis_sustained_virological_response': None, 'hpv_positive_type': None, 'karnofsky_performance_status': None, 'menopause_status': None, 'pancreatitis_onset_year': None, 'progression_or_recurrence': 'Yes', 'progression_or_recurrence_anatomic_site': None, 'progression_or_recurrence_type': 'Distant', 'reflux_treatment_type': None, 'risk_factor': None, 'risk_factor_treatment': None, 'viral_hepatitis_serologies': None, 'weight': None, 'adverse_event_grade': None, 'aids_risk_factors': None, 'body_surface_area': None, 'cd4_count': None, 'cdc_hiv_risk_factors': None, 'days_to_imaging': None, 'evidence_of_recurrence_type': None, 'eye_color': None, 'haart_treatment_indicator': None, 'history_of_tumor': None, 'history_of_tumor_type': None, 'hiv_viral_load': None, 'hormonal_contraceptive_type': None, 'hormonal_contraceptive_use': None, 'hormone_replacement_therapy_type': None, 'hysterectomy_margins_involved': None, 'hysterectomy_type': None, 'imaging_result': None, 'imaging_type': None, 'immunosuppressive_treatment_type': None, 'nadir_cd4_count': None, 'pregnancy_outcome': None, 'procedures_performed': None, 'recist_targeted_regions_number': None, 'recist_targeted_regions_sum': None, 'scan_tracer_used': None, 'undescended_testis_corrected': None, 'undescended_testis_corrected_age': None, 'undescended_testis_corrected_laterality': None, 'undescended_testis_corrected_method': None, 'undescended_testis_history': None, 'undescended_testis_history_laterality': None}]",
         "5a32a0ea-e70e-4f1a-9085-efef900e4dbe"
        ]
       ],
       "shape": {
        "columns": 6,
        "rows": 5
       }
      },
      "text/html": [
       "<div>\n",
       "<style scoped>\n",
       "    .dataframe tbody tr th:only-of-type {\n",
       "        vertical-align: middle;\n",
       "    }\n",
       "\n",
       "    .dataframe tbody tr th {\n",
       "        vertical-align: top;\n",
       "    }\n",
       "\n",
       "    .dataframe thead th {\n",
       "        text-align: right;\n",
       "    }\n",
       "</style>\n",
       "<table border=\"1\" class=\"dataframe\">\n",
       "  <thead>\n",
       "    <tr style=\"text-align: right;\">\n",
       "      <th></th>\n",
       "      <th>case_id</th>\n",
       "      <th>case_submitter_id</th>\n",
       "      <th>disease_type</th>\n",
       "      <th>primary_site</th>\n",
       "      <th>follow_ups</th>\n",
       "      <th>follow_up_id</th>\n",
       "    </tr>\n",
       "  </thead>\n",
       "  <tbody>\n",
       "    <tr>\n",
       "      <th>0</th>\n",
       "      <td>e3c38f0f-db71-445b-95e6-f189c2504bc0</td>\n",
       "      <td>AP-E98M</td>\n",
       "      <td>Lung Adenocarcinoma</td>\n",
       "      <td>Bronchus and lung</td>\n",
       "      <td>[]</td>\n",
       "      <td>None</td>\n",
       "    </tr>\n",
       "    <tr>\n",
       "      <th>1</th>\n",
       "      <td>90e33601-748b-4df7-bff3-a60ee8a09df3</td>\n",
       "      <td>AP-G79N</td>\n",
       "      <td>Lung Adenocarcinoma</td>\n",
       "      <td>Bronchus and lung</td>\n",
       "      <td>[{'follow_up_id': '14eb782e-c701-45de-8a79-d77...</td>\n",
       "      <td>14eb782e-c701-45de-8a79-d77726e0bc14</td>\n",
       "    </tr>\n",
       "    <tr>\n",
       "      <th>2</th>\n",
       "      <td>5629fe7e-ee5e-4e2e-bc4b-2c4a99183d61</td>\n",
       "      <td>AP-RA2G</td>\n",
       "      <td>Lung Adenocarcinoma</td>\n",
       "      <td>Bronchus and lung</td>\n",
       "      <td>[]</td>\n",
       "      <td>None</td>\n",
       "    </tr>\n",
       "    <tr>\n",
       "      <th>3</th>\n",
       "      <td>131b3172-8e24-4bb8-be95-38566b0f84c9</td>\n",
       "      <td>AP-DMUM</td>\n",
       "      <td>Lung Adenocarcinoma</td>\n",
       "      <td>Bronchus and lung</td>\n",
       "      <td>[{'follow_up_id': 'ed050783-ee70-40e1-8a9c-d95...</td>\n",
       "      <td>ed050783-ee70-40e1-8a9c-d954e7c011c2</td>\n",
       "    </tr>\n",
       "    <tr>\n",
       "      <th>4</th>\n",
       "      <td>8fba4d73-5cb9-43fc-b073-ddd05b921cac</td>\n",
       "      <td>AP-ZLDH</td>\n",
       "      <td>Lung Adenocarcinoma</td>\n",
       "      <td>Bronchus and lung</td>\n",
       "      <td>[{'follow_up_id': '5a32a0ea-e70e-4f1a-9085-efe...</td>\n",
       "      <td>5a32a0ea-e70e-4f1a-9085-efef900e4dbe</td>\n",
       "    </tr>\n",
       "  </tbody>\n",
       "</table>\n",
       "</div>"
      ],
      "text/plain": [
       "                                case_id case_submitter_id  \\\n",
       "0  e3c38f0f-db71-445b-95e6-f189c2504bc0           AP-E98M   \n",
       "1  90e33601-748b-4df7-bff3-a60ee8a09df3           AP-G79N   \n",
       "2  5629fe7e-ee5e-4e2e-bc4b-2c4a99183d61           AP-RA2G   \n",
       "3  131b3172-8e24-4bb8-be95-38566b0f84c9           AP-DMUM   \n",
       "4  8fba4d73-5cb9-43fc-b073-ddd05b921cac           AP-ZLDH   \n",
       "\n",
       "          disease_type       primary_site  \\\n",
       "0  Lung Adenocarcinoma  Bronchus and lung   \n",
       "1  Lung Adenocarcinoma  Bronchus and lung   \n",
       "2  Lung Adenocarcinoma  Bronchus and lung   \n",
       "3  Lung Adenocarcinoma  Bronchus and lung   \n",
       "4  Lung Adenocarcinoma  Bronchus and lung   \n",
       "\n",
       "                                          follow_ups  \\\n",
       "0                                                 []   \n",
       "1  [{'follow_up_id': '14eb782e-c701-45de-8a79-d77...   \n",
       "2                                                 []   \n",
       "3  [{'follow_up_id': 'ed050783-ee70-40e1-8a9c-d95...   \n",
       "4  [{'follow_up_id': '5a32a0ea-e70e-4f1a-9085-efe...   \n",
       "\n",
       "                           follow_up_id  \n",
       "0                                  None  \n",
       "1  14eb782e-c701-45de-8a79-d77726e0bc14  \n",
       "2                                  None  \n",
       "3  ed050783-ee70-40e1-8a9c-d954e7c011c2  \n",
       "4  5a32a0ea-e70e-4f1a-9085-efef900e4dbe  "
      ]
     },
     "execution_count": 294,
     "metadata": {},
     "output_type": "execute_result"
    }
   ],
   "source": [
    "follow_up_data_df['follow_up_id'] = follow_up_data_df['follow_ups'].apply(lambda diag_list: diag_list[0]['follow_up_id'] if diag_list else None)\n",
    "follow_up_data_df.head()"
   ]
  },
  {
   "cell_type": "code",
   "execution_count": 295,
   "metadata": {},
   "outputs": [
    {
     "data": {
      "application/vnd.microsoft.datawrangler.viewer.v0+json": {
       "columns": [
        {
         "name": "index",
         "rawType": "int64",
         "type": "integer"
        },
        {
         "name": "follow_up_id",
         "rawType": "object",
         "type": "string"
        },
        {
         "name": "follow_up_submitter_id",
         "rawType": "object",
         "type": "string"
        },
        {
         "name": "adverse_event",
         "rawType": "object",
         "type": "string"
        },
        {
         "name": "barretts_esophagus_goblet_cells_present",
         "rawType": "object",
         "type": "string"
        },
        {
         "name": "bmi",
         "rawType": "object",
         "type": "string"
        },
        {
         "name": "cause_of_response",
         "rawType": "object",
         "type": "string"
        },
        {
         "name": "comorbidity",
         "rawType": "object",
         "type": "string"
        },
        {
         "name": "comorbidity_method_of_diagnosis",
         "rawType": "object",
         "type": "string"
        },
        {
         "name": "days_to_adverse_event",
         "rawType": "object",
         "type": "string"
        },
        {
         "name": "days_to_comorbidity",
         "rawType": "object",
         "type": "string"
        },
        {
         "name": "days_to_follow_up",
         "rawType": "object",
         "type": "string"
        },
        {
         "name": "days_to_progression",
         "rawType": "object",
         "type": "string"
        },
        {
         "name": "days_to_progression_free",
         "rawType": "object",
         "type": "string"
        },
        {
         "name": "days_to_recurrence",
         "rawType": "object",
         "type": "string"
        },
        {
         "name": "diabetes_treatment_type",
         "rawType": "object",
         "type": "string"
        },
        {
         "name": "disease_response",
         "rawType": "object",
         "type": "string"
        },
        {
         "name": "dlco_ref_predictive_percent",
         "rawType": "object",
         "type": "string"
        },
        {
         "name": "ecog_performance_status",
         "rawType": "object",
         "type": "string"
        },
        {
         "name": "fev1_ref_post_bronch_percent",
         "rawType": "object",
         "type": "string"
        },
        {
         "name": "fev1_ref_pre_bronch_percent",
         "rawType": "object",
         "type": "string"
        },
        {
         "name": "fev1_fvc_pre_bronch_percent",
         "rawType": "object",
         "type": "string"
        },
        {
         "name": "fev1_fvc_post_bronch_percent",
         "rawType": "object",
         "type": "string"
        },
        {
         "name": "height",
         "rawType": "object",
         "type": "string"
        },
        {
         "name": "hepatitis_sustained_virological_response",
         "rawType": "object",
         "type": "string"
        },
        {
         "name": "hpv_positive_type",
         "rawType": "object",
         "type": "string"
        },
        {
         "name": "karnofsky_performance_status",
         "rawType": "object",
         "type": "string"
        },
        {
         "name": "menopause_status",
         "rawType": "object",
         "type": "string"
        },
        {
         "name": "pancreatitis_onset_year",
         "rawType": "object",
         "type": "string"
        },
        {
         "name": "progression_or_recurrence",
         "rawType": "object",
         "type": "string"
        },
        {
         "name": "progression_or_recurrence_anatomic_site",
         "rawType": "object",
         "type": "string"
        },
        {
         "name": "progression_or_recurrence_type",
         "rawType": "object",
         "type": "string"
        },
        {
         "name": "reflux_treatment_type",
         "rawType": "object",
         "type": "string"
        },
        {
         "name": "risk_factor",
         "rawType": "object",
         "type": "string"
        },
        {
         "name": "risk_factor_treatment",
         "rawType": "object",
         "type": "string"
        },
        {
         "name": "viral_hepatitis_serologies",
         "rawType": "object",
         "type": "string"
        },
        {
         "name": "weight",
         "rawType": "object",
         "type": "string"
        },
        {
         "name": "adverse_event_grade",
         "rawType": "object",
         "type": "string"
        },
        {
         "name": "aids_risk_factors",
         "rawType": "object",
         "type": "string"
        },
        {
         "name": "body_surface_area",
         "rawType": "object",
         "type": "string"
        },
        {
         "name": "cd4_count",
         "rawType": "object",
         "type": "string"
        },
        {
         "name": "cdc_hiv_risk_factors",
         "rawType": "object",
         "type": "string"
        },
        {
         "name": "days_to_imaging",
         "rawType": "object",
         "type": "string"
        },
        {
         "name": "evidence_of_recurrence_type",
         "rawType": "object",
         "type": "string"
        },
        {
         "name": "eye_color",
         "rawType": "object",
         "type": "string"
        },
        {
         "name": "haart_treatment_indicator",
         "rawType": "object",
         "type": "string"
        },
        {
         "name": "history_of_tumor",
         "rawType": "object",
         "type": "string"
        },
        {
         "name": "history_of_tumor_type",
         "rawType": "object",
         "type": "string"
        },
        {
         "name": "hiv_viral_load",
         "rawType": "object",
         "type": "string"
        },
        {
         "name": "hormonal_contraceptive_type",
         "rawType": "object",
         "type": "string"
        },
        {
         "name": "hormonal_contraceptive_use",
         "rawType": "object",
         "type": "string"
        },
        {
         "name": "hormone_replacement_therapy_type",
         "rawType": "object",
         "type": "string"
        },
        {
         "name": "hysterectomy_margins_involved",
         "rawType": "object",
         "type": "string"
        },
        {
         "name": "hysterectomy_type",
         "rawType": "object",
         "type": "string"
        },
        {
         "name": "imaging_result",
         "rawType": "object",
         "type": "string"
        },
        {
         "name": "imaging_type",
         "rawType": "object",
         "type": "string"
        },
        {
         "name": "immunosuppressive_treatment_type",
         "rawType": "object",
         "type": "string"
        },
        {
         "name": "nadir_cd4_count",
         "rawType": "object",
         "type": "string"
        },
        {
         "name": "pregnancy_outcome",
         "rawType": "object",
         "type": "string"
        },
        {
         "name": "procedures_performed",
         "rawType": "object",
         "type": "string"
        },
        {
         "name": "recist_targeted_regions_number",
         "rawType": "object",
         "type": "string"
        },
        {
         "name": "recist_targeted_regions_sum",
         "rawType": "object",
         "type": "string"
        },
        {
         "name": "scan_tracer_used",
         "rawType": "object",
         "type": "string"
        },
        {
         "name": "undescended_testis_corrected",
         "rawType": "object",
         "type": "string"
        },
        {
         "name": "undescended_testis_corrected_age",
         "rawType": "object",
         "type": "string"
        },
        {
         "name": "undescended_testis_corrected_laterality",
         "rawType": "object",
         "type": "string"
        },
        {
         "name": "undescended_testis_corrected_method",
         "rawType": "object",
         "type": "string"
        },
        {
         "name": "undescended_testis_history",
         "rawType": "object",
         "type": "string"
        },
        {
         "name": "undescended_testis_history_laterality",
         "rawType": "object",
         "type": "string"
        }
       ],
       "conversionMethod": "pd.DataFrame",
       "ref": "84b62d0b-52bc-4c86-884c-b956de95bd62",
       "rows": [
        [
         "0",
         "14eb782e-c701-45de-8a79-d77726e0bc14",
         "AP-G79N-FL",
         "None",
         "None",
         "None",
         "None",
         "None",
         "None",
         "None",
         "None",
         "670",
         "None",
         "None",
         "670",
         "None",
         "None",
         "None",
         "None",
         "None",
         "None",
         "None",
         "None",
         "None",
         "None",
         "None",
         "None",
         "None",
         "None",
         "Yes",
         "None",
         "Distant",
         "None",
         "None",
         "None",
         "None",
         "None",
         "None",
         "None",
         "None",
         "None",
         "None",
         "None",
         "None",
         "None",
         "None",
         "None",
         "None",
         "None",
         "None",
         "None",
         "None",
         "None",
         "None",
         "None",
         "None",
         "None",
         "None",
         "None",
         "None",
         "None",
         "None",
         "None",
         "None",
         "None",
         "None",
         "None",
         "None",
         "None"
        ],
        [
         "1",
         "ed050783-ee70-40e1-8a9c-d954e7c011c2",
         "AP-DMUM-FL",
         "None",
         "None",
         "None",
         "None",
         "None",
         "None",
         "None",
         "None",
         "676",
         "None",
         "None",
         "676",
         "None",
         "None",
         "None",
         "None",
         "None",
         "None",
         "None",
         "None",
         "None",
         "None",
         "None",
         "None",
         "None",
         "None",
         "Yes",
         "None",
         "Distant",
         "None",
         "None",
         "None",
         "None",
         "None",
         "None",
         "None",
         "None",
         "None",
         "None",
         "None",
         "None",
         "None",
         "None",
         "None",
         "None",
         "None",
         "None",
         "None",
         "None",
         "None",
         "None",
         "None",
         "None",
         "None",
         "None",
         "None",
         "None",
         "None",
         "None",
         "None",
         "None",
         "None",
         "None",
         "None",
         "None",
         "None"
        ],
        [
         "2",
         "5a32a0ea-e70e-4f1a-9085-efef900e4dbe",
         "AP-ZLDH-FL",
         "None",
         "None",
         "None",
         "None",
         "None",
         "None",
         "None",
         "None",
         "510",
         "None",
         "None",
         "510",
         "None",
         "None",
         "None",
         "None",
         "None",
         "None",
         "None",
         "None",
         "None",
         "None",
         "None",
         "None",
         "None",
         "None",
         "Yes",
         "None",
         "Distant",
         "None",
         "None",
         "None",
         "None",
         "None",
         "None",
         "None",
         "None",
         "None",
         "None",
         "None",
         "None",
         "None",
         "None",
         "None",
         "None",
         "None",
         "None",
         "None",
         "None",
         "None",
         "None",
         "None",
         "None",
         "None",
         "None",
         "None",
         "None",
         "None",
         "None",
         "None",
         "None",
         "None",
         "None",
         "None",
         "None",
         "None"
        ],
        [
         "3",
         "64eab365-2d47-4a54-90cf-31d56fe9003c",
         "AP-WTXJ-FL",
         "None",
         "None",
         "None",
         "None",
         "None",
         "None",
         "None",
         "None",
         "453",
         "None",
         "None",
         "453",
         "None",
         "None",
         "None",
         "None",
         "None",
         "None",
         "None",
         "None",
         "None",
         "None",
         "None",
         "None",
         "None",
         "None",
         "Yes",
         "None",
         "Distant",
         "None",
         "None",
         "None",
         "None",
         "None",
         "None",
         "None",
         "None",
         "None",
         "None",
         "None",
         "None",
         "None",
         "None",
         "None",
         "None",
         "None",
         "None",
         "None",
         "None",
         "None",
         "None",
         "None",
         "None",
         "None",
         "None",
         "None",
         "None",
         "None",
         "None",
         "None",
         "None",
         "None",
         "None",
         "None",
         "None",
         "None"
        ],
        [
         "4",
         "df135c69-a3eb-433c-af7f-a59dee0235ae",
         "AP-5JDU-FL",
         "None",
         "None",
         "None",
         "None",
         "None",
         "None",
         "None",
         "None",
         "913",
         "None",
         "None",
         "913",
         "None",
         "None",
         "None",
         "None",
         "None",
         "None",
         "None",
         "None",
         "None",
         "None",
         "None",
         "None",
         "None",
         "None",
         "Yes",
         "None",
         "Distant",
         "None",
         "None",
         "None",
         "None",
         "None",
         "None",
         "None",
         "None",
         "None",
         "None",
         "None",
         "None",
         "None",
         "None",
         "None",
         "None",
         "None",
         "None",
         "None",
         "None",
         "None",
         "None",
         "None",
         "None",
         "None",
         "None",
         "None",
         "None",
         "None",
         "None",
         "None",
         "None",
         "None",
         "None",
         "None",
         "None",
         "None"
        ]
       ],
       "shape": {
        "columns": 68,
        "rows": 5
       }
      },
      "text/html": [
       "<div>\n",
       "<style scoped>\n",
       "    .dataframe tbody tr th:only-of-type {\n",
       "        vertical-align: middle;\n",
       "    }\n",
       "\n",
       "    .dataframe tbody tr th {\n",
       "        vertical-align: top;\n",
       "    }\n",
       "\n",
       "    .dataframe thead th {\n",
       "        text-align: right;\n",
       "    }\n",
       "</style>\n",
       "<table border=\"1\" class=\"dataframe\">\n",
       "  <thead>\n",
       "    <tr style=\"text-align: right;\">\n",
       "      <th></th>\n",
       "      <th>follow_up_id</th>\n",
       "      <th>follow_up_submitter_id</th>\n",
       "      <th>adverse_event</th>\n",
       "      <th>barretts_esophagus_goblet_cells_present</th>\n",
       "      <th>bmi</th>\n",
       "      <th>cause_of_response</th>\n",
       "      <th>comorbidity</th>\n",
       "      <th>comorbidity_method_of_diagnosis</th>\n",
       "      <th>days_to_adverse_event</th>\n",
       "      <th>days_to_comorbidity</th>\n",
       "      <th>...</th>\n",
       "      <th>procedures_performed</th>\n",
       "      <th>recist_targeted_regions_number</th>\n",
       "      <th>recist_targeted_regions_sum</th>\n",
       "      <th>scan_tracer_used</th>\n",
       "      <th>undescended_testis_corrected</th>\n",
       "      <th>undescended_testis_corrected_age</th>\n",
       "      <th>undescended_testis_corrected_laterality</th>\n",
       "      <th>undescended_testis_corrected_method</th>\n",
       "      <th>undescended_testis_history</th>\n",
       "      <th>undescended_testis_history_laterality</th>\n",
       "    </tr>\n",
       "  </thead>\n",
       "  <tbody>\n",
       "    <tr>\n",
       "      <th>0</th>\n",
       "      <td>14eb782e-c701-45de-8a79-d77726e0bc14</td>\n",
       "      <td>AP-G79N-FL</td>\n",
       "      <td>None</td>\n",
       "      <td>None</td>\n",
       "      <td>None</td>\n",
       "      <td>None</td>\n",
       "      <td>None</td>\n",
       "      <td>None</td>\n",
       "      <td>None</td>\n",
       "      <td>None</td>\n",
       "      <td>...</td>\n",
       "      <td>None</td>\n",
       "      <td>None</td>\n",
       "      <td>None</td>\n",
       "      <td>None</td>\n",
       "      <td>None</td>\n",
       "      <td>None</td>\n",
       "      <td>None</td>\n",
       "      <td>None</td>\n",
       "      <td>None</td>\n",
       "      <td>None</td>\n",
       "    </tr>\n",
       "    <tr>\n",
       "      <th>1</th>\n",
       "      <td>ed050783-ee70-40e1-8a9c-d954e7c011c2</td>\n",
       "      <td>AP-DMUM-FL</td>\n",
       "      <td>None</td>\n",
       "      <td>None</td>\n",
       "      <td>None</td>\n",
       "      <td>None</td>\n",
       "      <td>None</td>\n",
       "      <td>None</td>\n",
       "      <td>None</td>\n",
       "      <td>None</td>\n",
       "      <td>...</td>\n",
       "      <td>None</td>\n",
       "      <td>None</td>\n",
       "      <td>None</td>\n",
       "      <td>None</td>\n",
       "      <td>None</td>\n",
       "      <td>None</td>\n",
       "      <td>None</td>\n",
       "      <td>None</td>\n",
       "      <td>None</td>\n",
       "      <td>None</td>\n",
       "    </tr>\n",
       "    <tr>\n",
       "      <th>2</th>\n",
       "      <td>5a32a0ea-e70e-4f1a-9085-efef900e4dbe</td>\n",
       "      <td>AP-ZLDH-FL</td>\n",
       "      <td>None</td>\n",
       "      <td>None</td>\n",
       "      <td>None</td>\n",
       "      <td>None</td>\n",
       "      <td>None</td>\n",
       "      <td>None</td>\n",
       "      <td>None</td>\n",
       "      <td>None</td>\n",
       "      <td>...</td>\n",
       "      <td>None</td>\n",
       "      <td>None</td>\n",
       "      <td>None</td>\n",
       "      <td>None</td>\n",
       "      <td>None</td>\n",
       "      <td>None</td>\n",
       "      <td>None</td>\n",
       "      <td>None</td>\n",
       "      <td>None</td>\n",
       "      <td>None</td>\n",
       "    </tr>\n",
       "    <tr>\n",
       "      <th>3</th>\n",
       "      <td>64eab365-2d47-4a54-90cf-31d56fe9003c</td>\n",
       "      <td>AP-WTXJ-FL</td>\n",
       "      <td>None</td>\n",
       "      <td>None</td>\n",
       "      <td>None</td>\n",
       "      <td>None</td>\n",
       "      <td>None</td>\n",
       "      <td>None</td>\n",
       "      <td>None</td>\n",
       "      <td>None</td>\n",
       "      <td>...</td>\n",
       "      <td>None</td>\n",
       "      <td>None</td>\n",
       "      <td>None</td>\n",
       "      <td>None</td>\n",
       "      <td>None</td>\n",
       "      <td>None</td>\n",
       "      <td>None</td>\n",
       "      <td>None</td>\n",
       "      <td>None</td>\n",
       "      <td>None</td>\n",
       "    </tr>\n",
       "    <tr>\n",
       "      <th>4</th>\n",
       "      <td>df135c69-a3eb-433c-af7f-a59dee0235ae</td>\n",
       "      <td>AP-5JDU-FL</td>\n",
       "      <td>None</td>\n",
       "      <td>None</td>\n",
       "      <td>None</td>\n",
       "      <td>None</td>\n",
       "      <td>None</td>\n",
       "      <td>None</td>\n",
       "      <td>None</td>\n",
       "      <td>None</td>\n",
       "      <td>...</td>\n",
       "      <td>None</td>\n",
       "      <td>None</td>\n",
       "      <td>None</td>\n",
       "      <td>None</td>\n",
       "      <td>None</td>\n",
       "      <td>None</td>\n",
       "      <td>None</td>\n",
       "      <td>None</td>\n",
       "      <td>None</td>\n",
       "      <td>None</td>\n",
       "    </tr>\n",
       "  </tbody>\n",
       "</table>\n",
       "<p>5 rows × 68 columns</p>\n",
       "</div>"
      ],
      "text/plain": [
       "                           follow_up_id follow_up_submitter_id adverse_event  \\\n",
       "0  14eb782e-c701-45de-8a79-d77726e0bc14             AP-G79N-FL          None   \n",
       "1  ed050783-ee70-40e1-8a9c-d954e7c011c2             AP-DMUM-FL          None   \n",
       "2  5a32a0ea-e70e-4f1a-9085-efef900e4dbe             AP-ZLDH-FL          None   \n",
       "3  64eab365-2d47-4a54-90cf-31d56fe9003c             AP-WTXJ-FL          None   \n",
       "4  df135c69-a3eb-433c-af7f-a59dee0235ae             AP-5JDU-FL          None   \n",
       "\n",
       "  barretts_esophagus_goblet_cells_present   bmi cause_of_response comorbidity  \\\n",
       "0                                    None  None              None        None   \n",
       "1                                    None  None              None        None   \n",
       "2                                    None  None              None        None   \n",
       "3                                    None  None              None        None   \n",
       "4                                    None  None              None        None   \n",
       "\n",
       "  comorbidity_method_of_diagnosis days_to_adverse_event days_to_comorbidity  \\\n",
       "0                            None                  None                None   \n",
       "1                            None                  None                None   \n",
       "2                            None                  None                None   \n",
       "3                            None                  None                None   \n",
       "4                            None                  None                None   \n",
       "\n",
       "   ... procedures_performed recist_targeted_regions_number  \\\n",
       "0  ...                 None                           None   \n",
       "1  ...                 None                           None   \n",
       "2  ...                 None                           None   \n",
       "3  ...                 None                           None   \n",
       "4  ...                 None                           None   \n",
       "\n",
       "  recist_targeted_regions_sum scan_tracer_used undescended_testis_corrected  \\\n",
       "0                        None             None                         None   \n",
       "1                        None             None                         None   \n",
       "2                        None             None                         None   \n",
       "3                        None             None                         None   \n",
       "4                        None             None                         None   \n",
       "\n",
       "  undescended_testis_corrected_age undescended_testis_corrected_laterality  \\\n",
       "0                             None                                    None   \n",
       "1                             None                                    None   \n",
       "2                             None                                    None   \n",
       "3                             None                                    None   \n",
       "4                             None                                    None   \n",
       "\n",
       "  undescended_testis_corrected_method undescended_testis_history  \\\n",
       "0                                None                       None   \n",
       "1                                None                       None   \n",
       "2                                None                       None   \n",
       "3                                None                       None   \n",
       "4                                None                       None   \n",
       "\n",
       "  undescended_testis_history_laterality  \n",
       "0                                  None  \n",
       "1                                  None  \n",
       "2                                  None  \n",
       "3                                  None  \n",
       "4                                  None  \n",
       "\n",
       "[5 rows x 68 columns]"
      ]
     },
     "execution_count": 295,
     "metadata": {},
     "output_type": "execute_result"
    }
   ],
   "source": [
    "follow_up_df = for_follows_up(matrix = matrix)\n",
    "follow_up_df.head()"
   ]
  },
  {
   "cell_type": "code",
   "execution_count": 296,
   "metadata": {},
   "outputs": [
    {
     "data": {
      "text/plain": [
       "Index(['case_id', 'case_submitter_id', 'disease_type', 'primary_site',\n",
       "       'follow_ups', 'follow_up_id', 'follow_up_submitter_id', 'adverse_event',\n",
       "       'barretts_esophagus_goblet_cells_present', 'bmi', 'cause_of_response',\n",
       "       'comorbidity', 'comorbidity_method_of_diagnosis',\n",
       "       'days_to_adverse_event', 'days_to_comorbidity', 'days_to_follow_up',\n",
       "       'days_to_progression', 'days_to_progression_free', 'days_to_recurrence',\n",
       "       'diabetes_treatment_type', 'disease_response',\n",
       "       'dlco_ref_predictive_percent', 'ecog_performance_status',\n",
       "       'fev1_ref_post_bronch_percent', 'fev1_ref_pre_bronch_percent',\n",
       "       'fev1_fvc_pre_bronch_percent', 'fev1_fvc_post_bronch_percent', 'height',\n",
       "       'hepatitis_sustained_virological_response', 'hpv_positive_type',\n",
       "       'karnofsky_performance_status', 'menopause_status',\n",
       "       'pancreatitis_onset_year', 'progression_or_recurrence',\n",
       "       'progression_or_recurrence_anatomic_site',\n",
       "       'progression_or_recurrence_type', 'reflux_treatment_type',\n",
       "       'risk_factor', 'risk_factor_treatment', 'viral_hepatitis_serologies',\n",
       "       'weight', 'adverse_event_grade', 'aids_risk_factors',\n",
       "       'body_surface_area', 'cd4_count', 'cdc_hiv_risk_factors',\n",
       "       'days_to_imaging', 'evidence_of_recurrence_type', 'eye_color',\n",
       "       'haart_treatment_indicator', 'history_of_tumor',\n",
       "       'history_of_tumor_type', 'hiv_viral_load',\n",
       "       'hormonal_contraceptive_type', 'hormonal_contraceptive_use',\n",
       "       'hormone_replacement_therapy_type', 'hysterectomy_margins_involved',\n",
       "       'hysterectomy_type', 'imaging_result', 'imaging_type',\n",
       "       'immunosuppressive_treatment_type', 'nadir_cd4_count',\n",
       "       'pregnancy_outcome', 'procedures_performed',\n",
       "       'recist_targeted_regions_number', 'recist_targeted_regions_sum',\n",
       "       'scan_tracer_used', 'undescended_testis_corrected',\n",
       "       'undescended_testis_corrected_age',\n",
       "       'undescended_testis_corrected_laterality',\n",
       "       'undescended_testis_corrected_method', 'undescended_testis_history',\n",
       "       'undescended_testis_history_laterality'],\n",
       "      dtype='object')"
      ]
     },
     "execution_count": 296,
     "metadata": {},
     "output_type": "execute_result"
    }
   ],
   "source": [
    "follow_ups = pd.merge(left=follow_up_data_df, right=follow_up_df, on=\"follow_up_id\")\n",
    "follow_ups.columns"
   ]
  },
  {
   "cell_type": "code",
   "execution_count": 299,
   "metadata": {},
   "outputs": [],
   "source": [
    "check_names = ['case_submitter_id', 'days_to_follow_up', 'adverse_event',\n",
    "       'adverse_event_grade', 'aids_risk_factors',\n",
    "       'barretts_esophagus_goblet_cells_present', 'bmi', 'body_surface_area',\n",
    "       'cause_of_response', 'cd4_count', 'cdc_hiv_risk_factors', 'comorbidity',\n",
    "       'comorbidity_method_of_diagnosis', 'days_to_adverse_event',\n",
    "       'days_to_comorbidity', 'days_to_imaging', 'days_to_progression',\n",
    "       'days_to_progression_free', 'days_to_recurrence',\n",
    "       'diabetes_treatment_type', 'disease_response',\n",
    "       'dlco_ref_predictive_percent', 'ecog_performance_status',\n",
    "       'evidence_of_recurrence_type', 'eye_color',\n",
    "       'fev1_fvc_post_bronch_percent', 'fev1_fvc_pre_bronch_percent',\n",
    "       'fev1_ref_post_bronch_percent', 'fev1_ref_pre_bronch_percent',\n",
    "       'haart_treatment_indicator', 'height',\n",
    "       'hepatitis_sustained_virological_response', 'history_of_tumor',\n",
    "       'history_of_tumor_type', 'hiv_viral_load',\n",
    "       'hormonal_contraceptive_type', 'hormonal_contraceptive_use',\n",
    "       'hormone_replacement_therapy_type', 'hpv_positive_type',\n",
    "       'hysterectomy_margins_involved', 'hysterectomy_type', 'imaging_result',\n",
    "       'imaging_type', 'immunosuppressive_treatment_type',\n",
    "       'karnofsky_performance_status', 'menopause_status', 'nadir_cd4_count',\n",
    "       'pancreatitis_onset_year', 'pregnancy_outcome', 'procedures_performed',\n",
    "       'progression_or_recurrence', 'progression_or_recurrence_anatomic_site',\n",
    "       'progression_or_recurrence_type', 'recist_targeted_regions_number',\n",
    "       'recist_targeted_regions_sum', 'reflux_treatment_type', 'risk_factor',\n",
    "       'risk_factor_treatment', 'scan_tracer_used',\n",
    "       'undescended_testis_corrected', 'undescended_testis_corrected_age',\n",
    "       'undescended_testis_corrected_laterality',\n",
    "       'undescended_testis_corrected_method', 'undescended_testis_history',\n",
    "       'undescended_testis_history_laterality', 'viral_hepatitis_serologies',\n",
    "       'weight']\n",
    "to_remove = list(set(follow_ups.columns).difference(check_names))"
   ]
  },
  {
   "cell_type": "code",
   "execution_count": 302,
   "metadata": {},
   "outputs": [
    {
     "data": {
      "application/vnd.microsoft.datawrangler.viewer.v0+json": {
       "columns": [
        {
         "name": "index",
         "rawType": "int64",
         "type": "integer"
        },
        {
         "name": "case_submitter_id",
         "rawType": "object",
         "type": "string"
        },
        {
         "name": "days_to_follow_up",
         "rawType": "object",
         "type": "string"
        },
        {
         "name": "adverse_event",
         "rawType": "object",
         "type": "string"
        },
        {
         "name": "adverse_event_grade",
         "rawType": "object",
         "type": "string"
        },
        {
         "name": "aids_risk_factors",
         "rawType": "object",
         "type": "string"
        },
        {
         "name": "barretts_esophagus_goblet_cells_present",
         "rawType": "object",
         "type": "string"
        },
        {
         "name": "bmi",
         "rawType": "object",
         "type": "string"
        },
        {
         "name": "body_surface_area",
         "rawType": "object",
         "type": "string"
        },
        {
         "name": "cause_of_response",
         "rawType": "object",
         "type": "string"
        },
        {
         "name": "cd4_count",
         "rawType": "object",
         "type": "string"
        },
        {
         "name": "cdc_hiv_risk_factors",
         "rawType": "object",
         "type": "string"
        },
        {
         "name": "comorbidity",
         "rawType": "object",
         "type": "string"
        },
        {
         "name": "comorbidity_method_of_diagnosis",
         "rawType": "object",
         "type": "string"
        },
        {
         "name": "days_to_adverse_event",
         "rawType": "object",
         "type": "string"
        },
        {
         "name": "days_to_comorbidity",
         "rawType": "object",
         "type": "string"
        },
        {
         "name": "days_to_imaging",
         "rawType": "object",
         "type": "string"
        },
        {
         "name": "days_to_progression",
         "rawType": "object",
         "type": "string"
        },
        {
         "name": "days_to_progression_free",
         "rawType": "object",
         "type": "string"
        },
        {
         "name": "days_to_recurrence",
         "rawType": "object",
         "type": "string"
        },
        {
         "name": "diabetes_treatment_type",
         "rawType": "object",
         "type": "string"
        },
        {
         "name": "disease_response",
         "rawType": "object",
         "type": "string"
        },
        {
         "name": "dlco_ref_predictive_percent",
         "rawType": "object",
         "type": "string"
        },
        {
         "name": "ecog_performance_status",
         "rawType": "object",
         "type": "string"
        },
        {
         "name": "evidence_of_recurrence_type",
         "rawType": "object",
         "type": "string"
        },
        {
         "name": "eye_color",
         "rawType": "object",
         "type": "string"
        },
        {
         "name": "fev1_fvc_post_bronch_percent",
         "rawType": "object",
         "type": "string"
        },
        {
         "name": "fev1_fvc_pre_bronch_percent",
         "rawType": "object",
         "type": "string"
        },
        {
         "name": "fev1_ref_post_bronch_percent",
         "rawType": "object",
         "type": "string"
        },
        {
         "name": "fev1_ref_pre_bronch_percent",
         "rawType": "object",
         "type": "string"
        },
        {
         "name": "haart_treatment_indicator",
         "rawType": "object",
         "type": "string"
        },
        {
         "name": "height",
         "rawType": "object",
         "type": "string"
        },
        {
         "name": "hepatitis_sustained_virological_response",
         "rawType": "object",
         "type": "string"
        },
        {
         "name": "history_of_tumor",
         "rawType": "object",
         "type": "string"
        },
        {
         "name": "history_of_tumor_type",
         "rawType": "object",
         "type": "string"
        },
        {
         "name": "hiv_viral_load",
         "rawType": "object",
         "type": "string"
        },
        {
         "name": "hormonal_contraceptive_type",
         "rawType": "object",
         "type": "string"
        },
        {
         "name": "hormonal_contraceptive_use",
         "rawType": "object",
         "type": "string"
        },
        {
         "name": "hormone_replacement_therapy_type",
         "rawType": "object",
         "type": "string"
        },
        {
         "name": "hpv_positive_type",
         "rawType": "object",
         "type": "string"
        },
        {
         "name": "hysterectomy_margins_involved",
         "rawType": "object",
         "type": "string"
        },
        {
         "name": "hysterectomy_type",
         "rawType": "object",
         "type": "string"
        },
        {
         "name": "imaging_result",
         "rawType": "object",
         "type": "string"
        },
        {
         "name": "imaging_type",
         "rawType": "object",
         "type": "string"
        },
        {
         "name": "immunosuppressive_treatment_type",
         "rawType": "object",
         "type": "string"
        },
        {
         "name": "karnofsky_performance_status",
         "rawType": "object",
         "type": "string"
        },
        {
         "name": "menopause_status",
         "rawType": "object",
         "type": "string"
        },
        {
         "name": "nadir_cd4_count",
         "rawType": "object",
         "type": "string"
        },
        {
         "name": "pancreatitis_onset_year",
         "rawType": "object",
         "type": "string"
        },
        {
         "name": "pregnancy_outcome",
         "rawType": "object",
         "type": "string"
        },
        {
         "name": "procedures_performed",
         "rawType": "object",
         "type": "string"
        },
        {
         "name": "progression_or_recurrence",
         "rawType": "object",
         "type": "string"
        },
        {
         "name": "progression_or_recurrence_anatomic_site",
         "rawType": "object",
         "type": "string"
        },
        {
         "name": "progression_or_recurrence_type",
         "rawType": "object",
         "type": "string"
        },
        {
         "name": "recist_targeted_regions_number",
         "rawType": "object",
         "type": "string"
        },
        {
         "name": "recist_targeted_regions_sum",
         "rawType": "object",
         "type": "string"
        },
        {
         "name": "reflux_treatment_type",
         "rawType": "object",
         "type": "string"
        },
        {
         "name": "risk_factor",
         "rawType": "object",
         "type": "string"
        },
        {
         "name": "risk_factor_treatment",
         "rawType": "object",
         "type": "string"
        },
        {
         "name": "scan_tracer_used",
         "rawType": "object",
         "type": "string"
        },
        {
         "name": "undescended_testis_corrected",
         "rawType": "object",
         "type": "string"
        },
        {
         "name": "undescended_testis_corrected_age",
         "rawType": "object",
         "type": "string"
        },
        {
         "name": "undescended_testis_corrected_laterality",
         "rawType": "object",
         "type": "string"
        },
        {
         "name": "undescended_testis_corrected_method",
         "rawType": "object",
         "type": "string"
        },
        {
         "name": "undescended_testis_history",
         "rawType": "object",
         "type": "string"
        },
        {
         "name": "undescended_testis_history_laterality",
         "rawType": "object",
         "type": "string"
        },
        {
         "name": "viral_hepatitis_serologies",
         "rawType": "object",
         "type": "string"
        },
        {
         "name": "weight",
         "rawType": "object",
         "type": "string"
        }
       ],
       "conversionMethod": "pd.DataFrame",
       "ref": "436e0456-9b70-4759-bf64-1b4f3f7bb968",
       "rows": [
        [
         "0",
         "AP-G79N",
         "670",
         "None",
         "None",
         "None",
         "None",
         "None",
         "None",
         "None",
         "None",
         "None",
         "None",
         "None",
         "None",
         "None",
         "None",
         "None",
         "None",
         "670",
         "None",
         "None",
         "None",
         "None",
         "None",
         "None",
         "None",
         "None",
         "None",
         "None",
         "None",
         "None",
         "None",
         "None",
         "None",
         "None",
         "None",
         "None",
         "None",
         "None",
         "None",
         "None",
         "None",
         "None",
         "None",
         "None",
         "None",
         "None",
         "None",
         "None",
         "None",
         "Yes",
         "None",
         "Distant",
         "None",
         "None",
         "None",
         "None",
         "None",
         "None",
         "None",
         "None",
         "None",
         "None",
         "None",
         "None",
         "None",
         "None"
        ],
        [
         "1",
         "AP-DMUM",
         "676",
         "None",
         "None",
         "None",
         "None",
         "None",
         "None",
         "None",
         "None",
         "None",
         "None",
         "None",
         "None",
         "None",
         "None",
         "None",
         "None",
         "676",
         "None",
         "None",
         "None",
         "None",
         "None",
         "None",
         "None",
         "None",
         "None",
         "None",
         "None",
         "None",
         "None",
         "None",
         "None",
         "None",
         "None",
         "None",
         "None",
         "None",
         "None",
         "None",
         "None",
         "None",
         "None",
         "None",
         "None",
         "None",
         "None",
         "None",
         "None",
         "Yes",
         "None",
         "Distant",
         "None",
         "None",
         "None",
         "None",
         "None",
         "None",
         "None",
         "None",
         "None",
         "None",
         "None",
         "None",
         "None",
         "None"
        ],
        [
         "2",
         "AP-ZLDH",
         "510",
         "None",
         "None",
         "None",
         "None",
         "None",
         "None",
         "None",
         "None",
         "None",
         "None",
         "None",
         "None",
         "None",
         "None",
         "None",
         "None",
         "510",
         "None",
         "None",
         "None",
         "None",
         "None",
         "None",
         "None",
         "None",
         "None",
         "None",
         "None",
         "None",
         "None",
         "None",
         "None",
         "None",
         "None",
         "None",
         "None",
         "None",
         "None",
         "None",
         "None",
         "None",
         "None",
         "None",
         "None",
         "None",
         "None",
         "None",
         "None",
         "Yes",
         "None",
         "Distant",
         "None",
         "None",
         "None",
         "None",
         "None",
         "None",
         "None",
         "None",
         "None",
         "None",
         "None",
         "None",
         "None",
         "None"
        ],
        [
         "3",
         "AP-WTXJ",
         "453",
         "None",
         "None",
         "None",
         "None",
         "None",
         "None",
         "None",
         "None",
         "None",
         "None",
         "None",
         "None",
         "None",
         "None",
         "None",
         "None",
         "453",
         "None",
         "None",
         "None",
         "None",
         "None",
         "None",
         "None",
         "None",
         "None",
         "None",
         "None",
         "None",
         "None",
         "None",
         "None",
         "None",
         "None",
         "None",
         "None",
         "None",
         "None",
         "None",
         "None",
         "None",
         "None",
         "None",
         "None",
         "None",
         "None",
         "None",
         "None",
         "Yes",
         "None",
         "Distant",
         "None",
         "None",
         "None",
         "None",
         "None",
         "None",
         "None",
         "None",
         "None",
         "None",
         "None",
         "None",
         "None",
         "None"
        ],
        [
         "4",
         "AP-5JDU",
         "913",
         "None",
         "None",
         "None",
         "None",
         "None",
         "None",
         "None",
         "None",
         "None",
         "None",
         "None",
         "None",
         "None",
         "None",
         "None",
         "None",
         "913",
         "None",
         "None",
         "None",
         "None",
         "None",
         "None",
         "None",
         "None",
         "None",
         "None",
         "None",
         "None",
         "None",
         "None",
         "None",
         "None",
         "None",
         "None",
         "None",
         "None",
         "None",
         "None",
         "None",
         "None",
         "None",
         "None",
         "None",
         "None",
         "None",
         "None",
         "None",
         "Yes",
         "None",
         "Distant",
         "None",
         "None",
         "None",
         "None",
         "None",
         "None",
         "None",
         "None",
         "None",
         "None",
         "None",
         "None",
         "None",
         "None"
        ]
       ],
       "shape": {
        "columns": 67,
        "rows": 5
       }
      },
      "text/html": [
       "<div>\n",
       "<style scoped>\n",
       "    .dataframe tbody tr th:only-of-type {\n",
       "        vertical-align: middle;\n",
       "    }\n",
       "\n",
       "    .dataframe tbody tr th {\n",
       "        vertical-align: top;\n",
       "    }\n",
       "\n",
       "    .dataframe thead th {\n",
       "        text-align: right;\n",
       "    }\n",
       "</style>\n",
       "<table border=\"1\" class=\"dataframe\">\n",
       "  <thead>\n",
       "    <tr style=\"text-align: right;\">\n",
       "      <th></th>\n",
       "      <th>case_submitter_id</th>\n",
       "      <th>days_to_follow_up</th>\n",
       "      <th>adverse_event</th>\n",
       "      <th>adverse_event_grade</th>\n",
       "      <th>aids_risk_factors</th>\n",
       "      <th>barretts_esophagus_goblet_cells_present</th>\n",
       "      <th>bmi</th>\n",
       "      <th>body_surface_area</th>\n",
       "      <th>cause_of_response</th>\n",
       "      <th>cd4_count</th>\n",
       "      <th>...</th>\n",
       "      <th>risk_factor_treatment</th>\n",
       "      <th>scan_tracer_used</th>\n",
       "      <th>undescended_testis_corrected</th>\n",
       "      <th>undescended_testis_corrected_age</th>\n",
       "      <th>undescended_testis_corrected_laterality</th>\n",
       "      <th>undescended_testis_corrected_method</th>\n",
       "      <th>undescended_testis_history</th>\n",
       "      <th>undescended_testis_history_laterality</th>\n",
       "      <th>viral_hepatitis_serologies</th>\n",
       "      <th>weight</th>\n",
       "    </tr>\n",
       "  </thead>\n",
       "  <tbody>\n",
       "    <tr>\n",
       "      <th>0</th>\n",
       "      <td>AP-G79N</td>\n",
       "      <td>670</td>\n",
       "      <td>None</td>\n",
       "      <td>None</td>\n",
       "      <td>None</td>\n",
       "      <td>None</td>\n",
       "      <td>None</td>\n",
       "      <td>None</td>\n",
       "      <td>None</td>\n",
       "      <td>None</td>\n",
       "      <td>...</td>\n",
       "      <td>None</td>\n",
       "      <td>None</td>\n",
       "      <td>None</td>\n",
       "      <td>None</td>\n",
       "      <td>None</td>\n",
       "      <td>None</td>\n",
       "      <td>None</td>\n",
       "      <td>None</td>\n",
       "      <td>None</td>\n",
       "      <td>None</td>\n",
       "    </tr>\n",
       "    <tr>\n",
       "      <th>1</th>\n",
       "      <td>AP-DMUM</td>\n",
       "      <td>676</td>\n",
       "      <td>None</td>\n",
       "      <td>None</td>\n",
       "      <td>None</td>\n",
       "      <td>None</td>\n",
       "      <td>None</td>\n",
       "      <td>None</td>\n",
       "      <td>None</td>\n",
       "      <td>None</td>\n",
       "      <td>...</td>\n",
       "      <td>None</td>\n",
       "      <td>None</td>\n",
       "      <td>None</td>\n",
       "      <td>None</td>\n",
       "      <td>None</td>\n",
       "      <td>None</td>\n",
       "      <td>None</td>\n",
       "      <td>None</td>\n",
       "      <td>None</td>\n",
       "      <td>None</td>\n",
       "    </tr>\n",
       "    <tr>\n",
       "      <th>2</th>\n",
       "      <td>AP-ZLDH</td>\n",
       "      <td>510</td>\n",
       "      <td>None</td>\n",
       "      <td>None</td>\n",
       "      <td>None</td>\n",
       "      <td>None</td>\n",
       "      <td>None</td>\n",
       "      <td>None</td>\n",
       "      <td>None</td>\n",
       "      <td>None</td>\n",
       "      <td>...</td>\n",
       "      <td>None</td>\n",
       "      <td>None</td>\n",
       "      <td>None</td>\n",
       "      <td>None</td>\n",
       "      <td>None</td>\n",
       "      <td>None</td>\n",
       "      <td>None</td>\n",
       "      <td>None</td>\n",
       "      <td>None</td>\n",
       "      <td>None</td>\n",
       "    </tr>\n",
       "    <tr>\n",
       "      <th>3</th>\n",
       "      <td>AP-WTXJ</td>\n",
       "      <td>453</td>\n",
       "      <td>None</td>\n",
       "      <td>None</td>\n",
       "      <td>None</td>\n",
       "      <td>None</td>\n",
       "      <td>None</td>\n",
       "      <td>None</td>\n",
       "      <td>None</td>\n",
       "      <td>None</td>\n",
       "      <td>...</td>\n",
       "      <td>None</td>\n",
       "      <td>None</td>\n",
       "      <td>None</td>\n",
       "      <td>None</td>\n",
       "      <td>None</td>\n",
       "      <td>None</td>\n",
       "      <td>None</td>\n",
       "      <td>None</td>\n",
       "      <td>None</td>\n",
       "      <td>None</td>\n",
       "    </tr>\n",
       "    <tr>\n",
       "      <th>4</th>\n",
       "      <td>AP-5JDU</td>\n",
       "      <td>913</td>\n",
       "      <td>None</td>\n",
       "      <td>None</td>\n",
       "      <td>None</td>\n",
       "      <td>None</td>\n",
       "      <td>None</td>\n",
       "      <td>None</td>\n",
       "      <td>None</td>\n",
       "      <td>None</td>\n",
       "      <td>...</td>\n",
       "      <td>None</td>\n",
       "      <td>None</td>\n",
       "      <td>None</td>\n",
       "      <td>None</td>\n",
       "      <td>None</td>\n",
       "      <td>None</td>\n",
       "      <td>None</td>\n",
       "      <td>None</td>\n",
       "      <td>None</td>\n",
       "      <td>None</td>\n",
       "    </tr>\n",
       "  </tbody>\n",
       "</table>\n",
       "<p>5 rows × 67 columns</p>\n",
       "</div>"
      ],
      "text/plain": [
       "  case_submitter_id days_to_follow_up adverse_event adverse_event_grade  \\\n",
       "0           AP-G79N               670          None                None   \n",
       "1           AP-DMUM               676          None                None   \n",
       "2           AP-ZLDH               510          None                None   \n",
       "3           AP-WTXJ               453          None                None   \n",
       "4           AP-5JDU               913          None                None   \n",
       "\n",
       "  aids_risk_factors barretts_esophagus_goblet_cells_present   bmi  \\\n",
       "0              None                                    None  None   \n",
       "1              None                                    None  None   \n",
       "2              None                                    None  None   \n",
       "3              None                                    None  None   \n",
       "4              None                                    None  None   \n",
       "\n",
       "  body_surface_area cause_of_response cd4_count  ... risk_factor_treatment  \\\n",
       "0              None              None      None  ...                  None   \n",
       "1              None              None      None  ...                  None   \n",
       "2              None              None      None  ...                  None   \n",
       "3              None              None      None  ...                  None   \n",
       "4              None              None      None  ...                  None   \n",
       "\n",
       "  scan_tracer_used undescended_testis_corrected  \\\n",
       "0             None                         None   \n",
       "1             None                         None   \n",
       "2             None                         None   \n",
       "3             None                         None   \n",
       "4             None                         None   \n",
       "\n",
       "  undescended_testis_corrected_age undescended_testis_corrected_laterality  \\\n",
       "0                             None                                    None   \n",
       "1                             None                                    None   \n",
       "2                             None                                    None   \n",
       "3                             None                                    None   \n",
       "4                             None                                    None   \n",
       "\n",
       "  undescended_testis_corrected_method undescended_testis_history  \\\n",
       "0                                None                       None   \n",
       "1                                None                       None   \n",
       "2                                None                       None   \n",
       "3                                None                       None   \n",
       "4                                None                       None   \n",
       "\n",
       "  undescended_testis_history_laterality viral_hepatitis_serologies weight  \n",
       "0                                  None                       None   None  \n",
       "1                                  None                       None   None  \n",
       "2                                  None                       None   None  \n",
       "3                                  None                       None   None  \n",
       "4                                  None                       None   None  \n",
       "\n",
       "[5 rows x 67 columns]"
      ]
     },
     "execution_count": 302,
     "metadata": {},
     "output_type": "execute_result"
    }
   ],
   "source": [
    "follow_ups = follow_ups.drop(columns=to_remove)\n",
    "follow_ups = follow_ups.reindex(columns=check_names)\n",
    "follow_ups.head()"
   ]
  },
  {
   "cell_type": "markdown",
   "metadata": {},
   "source": [
    "# Sample -- to do"
   ]
  },
  {
   "cell_type": "code",
   "execution_count": 304,
   "metadata": {},
   "outputs": [],
   "source": [
    "matrix = json.loads(case_data.content)['data']['case']\n",
    "case_data_df = pd.DataFrame(matrix)"
   ]
  },
  {
   "cell_type": "code",
   "execution_count": 305,
   "metadata": {},
   "outputs": [],
   "source": [
    "sample_df = for_sample(matrix = matrix)"
   ]
  },
  {
   "cell_type": "code",
   "execution_count": 311,
   "metadata": {},
   "outputs": [],
   "source": [
    "check_names = ['sample_submitter_id', 'composition', 'pool', 'sample_type', 'status',\n",
    "       'tissue_type', 'gdc_project_id', 'gdc_sample_id',\n",
    "       'biospecimen_anatomic_site', 'biospecimen_laterality',\n",
    "       'catalog_reference', 'current_weight', 'days_to_collection',\n",
    "       'days_to_sample_procurement', 'diagnosis_pathologically_confirmed',\n",
    "       'distance_normal_to_tumor', 'distributor_reference', 'freezing_method',\n",
    "       'growth_rate', 'initial_weight', 'intermediate_dimension',\n",
    "       'longest_dimension', 'method_of_sample_procurement', 'passage_count',\n",
    "       'pathology_report_uuid', 'preservation_method', 'sample_is_ref',\n",
    "       'sample_ordinal', 'sample_type_id', 'shortest_dimension',\n",
    "       'time_between_clamping_and_freezing',\n",
    "       'time_between_excision_and_freezing', 'tissue_collection_type',\n",
    "       'tumor_code', 'tumor_code_id', 'tumor_descriptor']\n",
    "to_remove = list(set(sample_df.columns).difference(check_names))"
   ]
  },
  {
   "cell_type": "code",
   "execution_count": 313,
   "metadata": {},
   "outputs": [
    {
     "data": {
      "application/vnd.microsoft.datawrangler.viewer.v0+json": {
       "columns": [
        {
         "name": "index",
         "rawType": "int64",
         "type": "integer"
        },
        {
         "name": "sample_submitter_id",
         "rawType": "object",
         "type": "string"
        },
        {
         "name": "composition",
         "rawType": "object",
         "type": "string"
        },
        {
         "name": "pool",
         "rawType": "float64",
         "type": "float"
        },
        {
         "name": "sample_type",
         "rawType": "object",
         "type": "string"
        },
        {
         "name": "status",
         "rawType": "float64",
         "type": "float"
        },
        {
         "name": "tissue_type",
         "rawType": "object",
         "type": "string"
        },
        {
         "name": "gdc_project_id",
         "rawType": "object",
         "type": "string"
        },
        {
         "name": "gdc_sample_id",
         "rawType": "object",
         "type": "string"
        },
        {
         "name": "biospecimen_anatomic_site",
         "rawType": "object",
         "type": "string"
        },
        {
         "name": "biospecimen_laterality",
         "rawType": "object",
         "type": "string"
        },
        {
         "name": "catalog_reference",
         "rawType": "object",
         "type": "string"
        },
        {
         "name": "current_weight",
         "rawType": "object",
         "type": "string"
        },
        {
         "name": "days_to_collection",
         "rawType": "object",
         "type": "string"
        },
        {
         "name": "days_to_sample_procurement",
         "rawType": "object",
         "type": "string"
        },
        {
         "name": "diagnosis_pathologically_confirmed",
         "rawType": "object",
         "type": "string"
        },
        {
         "name": "distance_normal_to_tumor",
         "rawType": "object",
         "type": "string"
        },
        {
         "name": "distributor_reference",
         "rawType": "object",
         "type": "string"
        },
        {
         "name": "freezing_method",
         "rawType": "object",
         "type": "string"
        },
        {
         "name": "growth_rate",
         "rawType": "object",
         "type": "string"
        },
        {
         "name": "initial_weight",
         "rawType": "object",
         "type": "string"
        },
        {
         "name": "intermediate_dimension",
         "rawType": "object",
         "type": "string"
        },
        {
         "name": "longest_dimension",
         "rawType": "object",
         "type": "string"
        },
        {
         "name": "method_of_sample_procurement",
         "rawType": "object",
         "type": "string"
        },
        {
         "name": "passage_count",
         "rawType": "object",
         "type": "string"
        },
        {
         "name": "pathology_report_uuid",
         "rawType": "object",
         "type": "string"
        },
        {
         "name": "preservation_method",
         "rawType": "object",
         "type": "string"
        },
        {
         "name": "sample_is_ref",
         "rawType": "float64",
         "type": "float"
        },
        {
         "name": "sample_ordinal",
         "rawType": "object",
         "type": "string"
        },
        {
         "name": "sample_type_id",
         "rawType": "object",
         "type": "string"
        },
        {
         "name": "shortest_dimension",
         "rawType": "object",
         "type": "string"
        },
        {
         "name": "time_between_clamping_and_freezing",
         "rawType": "object",
         "type": "string"
        },
        {
         "name": "time_between_excision_and_freezing",
         "rawType": "object",
         "type": "string"
        },
        {
         "name": "tissue_collection_type",
         "rawType": "object",
         "type": "string"
        },
        {
         "name": "tumor_code",
         "rawType": "object",
         "type": "string"
        },
        {
         "name": "tumor_code_id",
         "rawType": "object",
         "type": "string"
        },
        {
         "name": "tumor_descriptor",
         "rawType": "object",
         "type": "string"
        }
       ],
       "conversionMethod": "pd.DataFrame",
       "ref": "b2ddc0d6-9fb8-41fb-9428-8fb5e16a14a4",
       "rows": [
        [
         "0",
         "AP-LM5A",
         "Solid Tissue",
         null,
         "Primary Tumor",
         null,
         "Tumor",
         "None",
         "None",
         "None",
         "None",
         "None",
         "None",
         "None",
         "None",
         "None",
         "None",
         "None",
         "None",
         "None",
         "None",
         "None",
         "None",
         "None",
         "None",
         "None",
         "None",
         null,
         "None",
         "None",
         "None",
         "None",
         "None",
         "None",
         "None",
         "None",
         "None"
        ],
        [
         "1",
         "AP-U8GL",
         "Solid Tissue",
         null,
         "Metastatic",
         null,
         "Tumor",
         "None",
         "None",
         "None",
         "None",
         "None",
         "None",
         "None",
         "None",
         "None",
         "None",
         "None",
         "None",
         "None",
         "None",
         "None",
         "None",
         "None",
         "None",
         "None",
         "None",
         null,
         "None",
         "None",
         "None",
         "None",
         "None",
         "None",
         "None",
         "None",
         "None"
        ],
        [
         "2",
         "AP-WC9B",
         "Solid Tissue",
         null,
         "Metastatic",
         null,
         "Tumor",
         "None",
         "None",
         "None",
         "None",
         "None",
         "None",
         "None",
         "None",
         "None",
         "None",
         "None",
         "None",
         "None",
         "None",
         "None",
         "None",
         "None",
         "None",
         "None",
         "None",
         null,
         "None",
         "None",
         "None",
         "None",
         "None",
         "None",
         "None",
         "None",
         "None"
        ],
        [
         "3",
         "AP-LU5F",
         "Solid Tissue",
         null,
         "Metastatic",
         null,
         "Tumor",
         "None",
         "None",
         "None",
         "None",
         "None",
         "None",
         "None",
         "None",
         "None",
         "None",
         "None",
         "None",
         "None",
         "None",
         "None",
         "None",
         "None",
         "None",
         "None",
         "None",
         null,
         "None",
         "None",
         "None",
         "None",
         "None",
         "None",
         "None",
         "None",
         "None"
        ],
        [
         "4",
         "AP-2WDT",
         "Solid Tissue",
         null,
         "Primary Tumor",
         null,
         "Tumor",
         "None",
         "None",
         "None",
         "None",
         "None",
         "None",
         "None",
         "None",
         "None",
         "None",
         "None",
         "None",
         "None",
         "None",
         "None",
         "None",
         "None",
         "None",
         "None",
         "None",
         null,
         "None",
         "None",
         "None",
         "None",
         "None",
         "None",
         "None",
         "None",
         "None"
        ]
       ],
       "shape": {
        "columns": 36,
        "rows": 5
       }
      },
      "text/html": [
       "<div>\n",
       "<style scoped>\n",
       "    .dataframe tbody tr th:only-of-type {\n",
       "        vertical-align: middle;\n",
       "    }\n",
       "\n",
       "    .dataframe tbody tr th {\n",
       "        vertical-align: top;\n",
       "    }\n",
       "\n",
       "    .dataframe thead th {\n",
       "        text-align: right;\n",
       "    }\n",
       "</style>\n",
       "<table border=\"1\" class=\"dataframe\">\n",
       "  <thead>\n",
       "    <tr style=\"text-align: right;\">\n",
       "      <th></th>\n",
       "      <th>sample_submitter_id</th>\n",
       "      <th>composition</th>\n",
       "      <th>pool</th>\n",
       "      <th>sample_type</th>\n",
       "      <th>status</th>\n",
       "      <th>tissue_type</th>\n",
       "      <th>gdc_project_id</th>\n",
       "      <th>gdc_sample_id</th>\n",
       "      <th>biospecimen_anatomic_site</th>\n",
       "      <th>biospecimen_laterality</th>\n",
       "      <th>...</th>\n",
       "      <th>sample_is_ref</th>\n",
       "      <th>sample_ordinal</th>\n",
       "      <th>sample_type_id</th>\n",
       "      <th>shortest_dimension</th>\n",
       "      <th>time_between_clamping_and_freezing</th>\n",
       "      <th>time_between_excision_and_freezing</th>\n",
       "      <th>tissue_collection_type</th>\n",
       "      <th>tumor_code</th>\n",
       "      <th>tumor_code_id</th>\n",
       "      <th>tumor_descriptor</th>\n",
       "    </tr>\n",
       "  </thead>\n",
       "  <tbody>\n",
       "    <tr>\n",
       "      <th>0</th>\n",
       "      <td>AP-LM5A</td>\n",
       "      <td>Solid Tissue</td>\n",
       "      <td>NaN</td>\n",
       "      <td>Primary Tumor</td>\n",
       "      <td>NaN</td>\n",
       "      <td>Tumor</td>\n",
       "      <td>None</td>\n",
       "      <td>None</td>\n",
       "      <td>None</td>\n",
       "      <td>None</td>\n",
       "      <td>...</td>\n",
       "      <td>NaN</td>\n",
       "      <td>None</td>\n",
       "      <td>None</td>\n",
       "      <td>None</td>\n",
       "      <td>None</td>\n",
       "      <td>None</td>\n",
       "      <td>None</td>\n",
       "      <td>None</td>\n",
       "      <td>None</td>\n",
       "      <td>None</td>\n",
       "    </tr>\n",
       "    <tr>\n",
       "      <th>1</th>\n",
       "      <td>AP-U8GL</td>\n",
       "      <td>Solid Tissue</td>\n",
       "      <td>NaN</td>\n",
       "      <td>Metastatic</td>\n",
       "      <td>NaN</td>\n",
       "      <td>Tumor</td>\n",
       "      <td>None</td>\n",
       "      <td>None</td>\n",
       "      <td>None</td>\n",
       "      <td>None</td>\n",
       "      <td>...</td>\n",
       "      <td>NaN</td>\n",
       "      <td>None</td>\n",
       "      <td>None</td>\n",
       "      <td>None</td>\n",
       "      <td>None</td>\n",
       "      <td>None</td>\n",
       "      <td>None</td>\n",
       "      <td>None</td>\n",
       "      <td>None</td>\n",
       "      <td>None</td>\n",
       "    </tr>\n",
       "    <tr>\n",
       "      <th>2</th>\n",
       "      <td>AP-WC9B</td>\n",
       "      <td>Solid Tissue</td>\n",
       "      <td>NaN</td>\n",
       "      <td>Metastatic</td>\n",
       "      <td>NaN</td>\n",
       "      <td>Tumor</td>\n",
       "      <td>None</td>\n",
       "      <td>None</td>\n",
       "      <td>None</td>\n",
       "      <td>None</td>\n",
       "      <td>...</td>\n",
       "      <td>NaN</td>\n",
       "      <td>None</td>\n",
       "      <td>None</td>\n",
       "      <td>None</td>\n",
       "      <td>None</td>\n",
       "      <td>None</td>\n",
       "      <td>None</td>\n",
       "      <td>None</td>\n",
       "      <td>None</td>\n",
       "      <td>None</td>\n",
       "    </tr>\n",
       "    <tr>\n",
       "      <th>3</th>\n",
       "      <td>AP-LU5F</td>\n",
       "      <td>Solid Tissue</td>\n",
       "      <td>NaN</td>\n",
       "      <td>Metastatic</td>\n",
       "      <td>NaN</td>\n",
       "      <td>Tumor</td>\n",
       "      <td>None</td>\n",
       "      <td>None</td>\n",
       "      <td>None</td>\n",
       "      <td>None</td>\n",
       "      <td>...</td>\n",
       "      <td>NaN</td>\n",
       "      <td>None</td>\n",
       "      <td>None</td>\n",
       "      <td>None</td>\n",
       "      <td>None</td>\n",
       "      <td>None</td>\n",
       "      <td>None</td>\n",
       "      <td>None</td>\n",
       "      <td>None</td>\n",
       "      <td>None</td>\n",
       "    </tr>\n",
       "    <tr>\n",
       "      <th>4</th>\n",
       "      <td>AP-2WDT</td>\n",
       "      <td>Solid Tissue</td>\n",
       "      <td>NaN</td>\n",
       "      <td>Primary Tumor</td>\n",
       "      <td>NaN</td>\n",
       "      <td>Tumor</td>\n",
       "      <td>None</td>\n",
       "      <td>None</td>\n",
       "      <td>None</td>\n",
       "      <td>None</td>\n",
       "      <td>...</td>\n",
       "      <td>NaN</td>\n",
       "      <td>None</td>\n",
       "      <td>None</td>\n",
       "      <td>None</td>\n",
       "      <td>None</td>\n",
       "      <td>None</td>\n",
       "      <td>None</td>\n",
       "      <td>None</td>\n",
       "      <td>None</td>\n",
       "      <td>None</td>\n",
       "    </tr>\n",
       "  </tbody>\n",
       "</table>\n",
       "<p>5 rows × 36 columns</p>\n",
       "</div>"
      ],
      "text/plain": [
       "  sample_submitter_id   composition  pool    sample_type  status tissue_type  \\\n",
       "0             AP-LM5A  Solid Tissue   NaN  Primary Tumor     NaN       Tumor   \n",
       "1             AP-U8GL  Solid Tissue   NaN     Metastatic     NaN       Tumor   \n",
       "2             AP-WC9B  Solid Tissue   NaN     Metastatic     NaN       Tumor   \n",
       "3             AP-LU5F  Solid Tissue   NaN     Metastatic     NaN       Tumor   \n",
       "4             AP-2WDT  Solid Tissue   NaN  Primary Tumor     NaN       Tumor   \n",
       "\n",
       "  gdc_project_id gdc_sample_id biospecimen_anatomic_site  \\\n",
       "0           None          None                      None   \n",
       "1           None          None                      None   \n",
       "2           None          None                      None   \n",
       "3           None          None                      None   \n",
       "4           None          None                      None   \n",
       "\n",
       "  biospecimen_laterality  ... sample_is_ref sample_ordinal sample_type_id  \\\n",
       "0                   None  ...           NaN           None           None   \n",
       "1                   None  ...           NaN           None           None   \n",
       "2                   None  ...           NaN           None           None   \n",
       "3                   None  ...           NaN           None           None   \n",
       "4                   None  ...           NaN           None           None   \n",
       "\n",
       "  shortest_dimension time_between_clamping_and_freezing  \\\n",
       "0               None                               None   \n",
       "1               None                               None   \n",
       "2               None                               None   \n",
       "3               None                               None   \n",
       "4               None                               None   \n",
       "\n",
       "  time_between_excision_and_freezing tissue_collection_type tumor_code  \\\n",
       "0                               None                   None       None   \n",
       "1                               None                   None       None   \n",
       "2                               None                   None       None   \n",
       "3                               None                   None       None   \n",
       "4                               None                   None       None   \n",
       "\n",
       "  tumor_code_id tumor_descriptor  \n",
       "0          None             None  \n",
       "1          None             None  \n",
       "2          None             None  \n",
       "3          None             None  \n",
       "4          None             None  \n",
       "\n",
       "[5 rows x 36 columns]"
      ]
     },
     "execution_count": 313,
     "metadata": {},
     "output_type": "execute_result"
    }
   ],
   "source": [
    "samples = sample_df.drop(columns=to_remove)\n",
    "samples = samples.reindex(columns=check_names)\n",
    "samples.head()"
   ]
  },
  {
   "cell_type": "markdown",
   "metadata": {},
   "source": [
    "# Aliquots -- to do"
   ]
  },
  {
   "cell_type": "code",
   "execution_count": 315,
   "metadata": {},
   "outputs": [
    {
     "data": {
      "text/plain": [
       "Index(['aliquot_id', 'sample_id', 'case_id', 'aliquot_submitter_id',\n",
       "       'sample_submitter_id', 'case_submitter_id', 'aliquot_status',\n",
       "       'case_status', 'sample_status', 'project_name', 'sample_type',\n",
       "       'disease_type', 'primary_site', 'pool', 'taxon', 'externalReferences'],\n",
       "      dtype='object')"
      ]
     },
     "execution_count": 315,
     "metadata": {},
     "output_type": "execute_result"
    }
   ],
   "source": [
    "biospecimen_df.columns"
   ]
  },
  {
   "cell_type": "markdown",
   "metadata": {},
   "source": [
    "aliquot_submitter_id', 'aliquot_is_ref', 'pool', 'status',\n",
    "       'aliquot_quantity', 'aliquot_volume', 'amount', 'analyte_type',\n",
    "       'analyte_type_id', 'concentration'"
   ]
  },
  {
   "cell_type": "markdown",
   "metadata": {},
   "source": [
    "# Study"
   ]
  },
  {
   "cell_type": "code",
   "execution_count": 316,
   "metadata": {},
   "outputs": [
    {
     "name": "stdout",
     "output_type": "stream",
     "text": [
      "Sending query.\n"
     ]
    },
    {
     "data": {
      "application/vnd.microsoft.datawrangler.viewer.v0+json": {
       "columns": [
        {
         "name": "index",
         "rawType": "int64",
         "type": "integer"
        },
        {
         "name": "study_id",
         "rawType": "object",
         "type": "string"
        },
        {
         "name": "pdc_study_id",
         "rawType": "object",
         "type": "string"
        },
        {
         "name": "study_submitter_id",
         "rawType": "object",
         "type": "string"
        },
        {
         "name": "program_id",
         "rawType": "object",
         "type": "string"
        },
        {
         "name": "project_id",
         "rawType": "object",
         "type": "string"
        },
        {
         "name": "study_name",
         "rawType": "object",
         "type": "string"
        },
        {
         "name": "study_description",
         "rawType": "object",
         "type": "string"
        },
        {
         "name": "program_name",
         "rawType": "object",
         "type": "string"
        },
        {
         "name": "project_name",
         "rawType": "object",
         "type": "string"
        },
        {
         "name": "disease_type",
         "rawType": "object",
         "type": "string"
        },
        {
         "name": "primary_site",
         "rawType": "object",
         "type": "string"
        },
        {
         "name": "analytical_fraction",
         "rawType": "object",
         "type": "string"
        },
        {
         "name": "experiment_type",
         "rawType": "object",
         "type": "string"
        },
        {
         "name": "cases_count",
         "rawType": "int64",
         "type": "integer"
        },
        {
         "name": "aliquots_count",
         "rawType": "int64",
         "type": "integer"
        },
        {
         "name": "filesCount",
         "rawType": "object",
         "type": "unknown"
        }
       ],
       "conversionMethod": "pd.DataFrame",
       "ref": "d2c0dccd-3cdc-4617-90d9-62f37901c8f5",
       "rows": [
        [
         "0",
         "8961afcf-05de-4b7c-b471-ca1a4887ed36",
         "PDC000436",
         "APOLLO LUAD - Phosphoproteome - FeNTA",
         "fa99a299-0d83-11ea-9bfa-0a42f3c845fe",
         "d253b105-b08e-40d2-a70f-a83313f6ea39",
         "APOLLO LUAD - Phosphoproteome - FeNTA",
         "We present a deep proteogenomic profiling study of 87 lung adenocarcinoma (LUAD) tumors obtained in the United States, integrating whole genome sequencing, transcriptome sequencing, proteomics and phosphoproteomics by mass spectrometry and reverse phase protein arrays.  Somatic genome signature analysis reveals three subtypes including a transition-high subtype enriched with never-smokers, a transversion-high subtype enriched with current smokers, and a structurally-altered subtype enriched with former smokers, TP53 alterations, and genome-wide structural alterations. We show that within-tumor correlations of RNA and protein expression associate with tumor purity, grade, immune cell profiles, and expression subtype.  We detect and independently validate RNA and protein expression signatures predicting patient survival.  Among co-measured genes, more proteins than RNAs associate with patient survival.  Integrative analysis characterizes three expression subtypes with divergent mutations, proteomic regulatory networks, and therapeutic vulnerabilities. Ultimately, this proteogenomic characterization provides a foundation for the development of molecularly-informed medicine in LUAD.",
         "Applied Proteogenomics OrganizationaL Learning and Outcomes - APOLLO",
         "APOLLO1",
         "Lung Adenocarcinoma;Other",
         "Bronchus and lung;Not Reported",
         "Phosphoproteome",
         "TMT11",
         "101",
         "101",
         "[{'data_category': 'Other Metadata', 'file_type': 'Document', 'files_count': 1}, {'data_category': 'Peptide Spectral Matches', 'file_type': 'Open Standard', 'files_count': 120}, {'data_category': 'Peptide Spectral Matches', 'file_type': 'Text', 'files_count': 120}, {'data_category': 'Processed Mass Spectra', 'file_type': 'Open Standard', 'files_count': 120}, {'data_category': 'Protein Assembly', 'file_type': 'Text', 'files_count': 6}, {'data_category': 'Quality Metrics', 'file_type': 'Text', 'files_count': 1}, {'data_category': 'Quality Metrics', 'file_type': 'Web', 'files_count': 1}, {'data_category': 'Raw Mass Spectra', 'file_type': 'Proprietary', 'files_count': 120}]"
        ]
       ],
       "shape": {
        "columns": 16,
        "rows": 1
       }
      },
      "text/html": [
       "<div>\n",
       "<style scoped>\n",
       "    .dataframe tbody tr th:only-of-type {\n",
       "        vertical-align: middle;\n",
       "    }\n",
       "\n",
       "    .dataframe tbody tr th {\n",
       "        vertical-align: top;\n",
       "    }\n",
       "\n",
       "    .dataframe thead th {\n",
       "        text-align: right;\n",
       "    }\n",
       "</style>\n",
       "<table border=\"1\" class=\"dataframe\">\n",
       "  <thead>\n",
       "    <tr style=\"text-align: right;\">\n",
       "      <th></th>\n",
       "      <th>study_id</th>\n",
       "      <th>pdc_study_id</th>\n",
       "      <th>study_submitter_id</th>\n",
       "      <th>program_id</th>\n",
       "      <th>project_id</th>\n",
       "      <th>study_name</th>\n",
       "      <th>study_description</th>\n",
       "      <th>program_name</th>\n",
       "      <th>project_name</th>\n",
       "      <th>disease_type</th>\n",
       "      <th>primary_site</th>\n",
       "      <th>analytical_fraction</th>\n",
       "      <th>experiment_type</th>\n",
       "      <th>cases_count</th>\n",
       "      <th>aliquots_count</th>\n",
       "      <th>filesCount</th>\n",
       "    </tr>\n",
       "  </thead>\n",
       "  <tbody>\n",
       "    <tr>\n",
       "      <th>0</th>\n",
       "      <td>8961afcf-05de-4b7c-b471-ca1a4887ed36</td>\n",
       "      <td>PDC000436</td>\n",
       "      <td>APOLLO LUAD - Phosphoproteome - FeNTA</td>\n",
       "      <td>fa99a299-0d83-11ea-9bfa-0a42f3c845fe</td>\n",
       "      <td>d253b105-b08e-40d2-a70f-a83313f6ea39</td>\n",
       "      <td>APOLLO LUAD - Phosphoproteome - FeNTA</td>\n",
       "      <td>We present a deep proteogenomic profiling stud...</td>\n",
       "      <td>Applied Proteogenomics OrganizationaL Learning...</td>\n",
       "      <td>APOLLO1</td>\n",
       "      <td>Lung Adenocarcinoma;Other</td>\n",
       "      <td>Bronchus and lung;Not Reported</td>\n",
       "      <td>Phosphoproteome</td>\n",
       "      <td>TMT11</td>\n",
       "      <td>101</td>\n",
       "      <td>101</td>\n",
       "      <td>[{'data_category': 'Other Metadata', 'file_typ...</td>\n",
       "    </tr>\n",
       "  </tbody>\n",
       "</table>\n",
       "</div>"
      ],
      "text/plain": [
       "                               study_id pdc_study_id  \\\n",
       "0  8961afcf-05de-4b7c-b471-ca1a4887ed36    PDC000436   \n",
       "\n",
       "                      study_submitter_id  \\\n",
       "0  APOLLO LUAD - Phosphoproteome - FeNTA   \n",
       "\n",
       "                             program_id                            project_id  \\\n",
       "0  fa99a299-0d83-11ea-9bfa-0a42f3c845fe  d253b105-b08e-40d2-a70f-a83313f6ea39   \n",
       "\n",
       "                              study_name  \\\n",
       "0  APOLLO LUAD - Phosphoproteome - FeNTA   \n",
       "\n",
       "                                   study_description  \\\n",
       "0  We present a deep proteogenomic profiling stud...   \n",
       "\n",
       "                                        program_name project_name  \\\n",
       "0  Applied Proteogenomics OrganizationaL Learning...      APOLLO1   \n",
       "\n",
       "                disease_type                    primary_site  \\\n",
       "0  Lung Adenocarcinoma;Other  Bronchus and lung;Not Reported   \n",
       "\n",
       "  analytical_fraction experiment_type  cases_count  aliquots_count  \\\n",
       "0     Phosphoproteome           TMT11          101             101   \n",
       "\n",
       "                                          filesCount  \n",
       "0  [{'data_category': 'Other Metadata', 'file_typ...  "
      ]
     },
     "execution_count": 316,
     "metadata": {},
     "output_type": "execute_result"
    }
   ],
   "source": [
    "study_data = query_pdc(query= query_study_info, variables=variables)\n",
    "matrix = json.loads(study_data.content)['data']['study']\n",
    "study_df = pd.DataFrame(matrix)\n",
    "study_df.head()"
   ]
  },
  {
   "cell_type": "code",
   "execution_count": 317,
   "metadata": {},
   "outputs": [],
   "source": [
    "check_names = ['study_submitter_id', 'analytical_fraction', 'experiment_type',\n",
    "       'acquisition_type', 'study_description', 'embargo_date']\n",
    "to_remove = list(set(study_df.columns).difference(check_names))"
   ]
  },
  {
   "cell_type": "code",
   "execution_count": 318,
   "metadata": {},
   "outputs": [
    {
     "data": {
      "application/vnd.microsoft.datawrangler.viewer.v0+json": {
       "columns": [
        {
         "name": "index",
         "rawType": "int64",
         "type": "integer"
        },
        {
         "name": "study_submitter_id",
         "rawType": "object",
         "type": "string"
        },
        {
         "name": "analytical_fraction",
         "rawType": "object",
         "type": "string"
        },
        {
         "name": "experiment_type",
         "rawType": "object",
         "type": "string"
        },
        {
         "name": "acquisition_type",
         "rawType": "float64",
         "type": "float"
        },
        {
         "name": "study_description",
         "rawType": "object",
         "type": "string"
        },
        {
         "name": "embargo_date",
         "rawType": "float64",
         "type": "float"
        }
       ],
       "conversionMethod": "pd.DataFrame",
       "ref": "82dece0f-384a-45ea-b0ff-0976ef4a3ca0",
       "rows": [
        [
         "0",
         "APOLLO LUAD - Phosphoproteome - FeNTA",
         "Phosphoproteome",
         "TMT11",
         null,
         "We present a deep proteogenomic profiling study of 87 lung adenocarcinoma (LUAD) tumors obtained in the United States, integrating whole genome sequencing, transcriptome sequencing, proteomics and phosphoproteomics by mass spectrometry and reverse phase protein arrays.  Somatic genome signature analysis reveals three subtypes including a transition-high subtype enriched with never-smokers, a transversion-high subtype enriched with current smokers, and a structurally-altered subtype enriched with former smokers, TP53 alterations, and genome-wide structural alterations. We show that within-tumor correlations of RNA and protein expression associate with tumor purity, grade, immune cell profiles, and expression subtype.  We detect and independently validate RNA and protein expression signatures predicting patient survival.  Among co-measured genes, more proteins than RNAs associate with patient survival.  Integrative analysis characterizes three expression subtypes with divergent mutations, proteomic regulatory networks, and therapeutic vulnerabilities. Ultimately, this proteogenomic characterization provides a foundation for the development of molecularly-informed medicine in LUAD.",
         null
        ]
       ],
       "shape": {
        "columns": 6,
        "rows": 1
       }
      },
      "text/html": [
       "<div>\n",
       "<style scoped>\n",
       "    .dataframe tbody tr th:only-of-type {\n",
       "        vertical-align: middle;\n",
       "    }\n",
       "\n",
       "    .dataframe tbody tr th {\n",
       "        vertical-align: top;\n",
       "    }\n",
       "\n",
       "    .dataframe thead th {\n",
       "        text-align: right;\n",
       "    }\n",
       "</style>\n",
       "<table border=\"1\" class=\"dataframe\">\n",
       "  <thead>\n",
       "    <tr style=\"text-align: right;\">\n",
       "      <th></th>\n",
       "      <th>study_submitter_id</th>\n",
       "      <th>analytical_fraction</th>\n",
       "      <th>experiment_type</th>\n",
       "      <th>acquisition_type</th>\n",
       "      <th>study_description</th>\n",
       "      <th>embargo_date</th>\n",
       "    </tr>\n",
       "  </thead>\n",
       "  <tbody>\n",
       "    <tr>\n",
       "      <th>0</th>\n",
       "      <td>APOLLO LUAD - Phosphoproteome - FeNTA</td>\n",
       "      <td>Phosphoproteome</td>\n",
       "      <td>TMT11</td>\n",
       "      <td>NaN</td>\n",
       "      <td>We present a deep proteogenomic profiling stud...</td>\n",
       "      <td>NaN</td>\n",
       "    </tr>\n",
       "  </tbody>\n",
       "</table>\n",
       "</div>"
      ],
      "text/plain": [
       "                      study_submitter_id analytical_fraction experiment_type  \\\n",
       "0  APOLLO LUAD - Phosphoproteome - FeNTA     Phosphoproteome           TMT11   \n",
       "\n",
       "   acquisition_type                                  study_description  \\\n",
       "0               NaN  We present a deep proteogenomic profiling stud...   \n",
       "\n",
       "   embargo_date  \n",
       "0           NaN  "
      ]
     },
     "execution_count": 318,
     "metadata": {},
     "output_type": "execute_result"
    }
   ],
   "source": [
    "study = study_df.drop(columns=to_remove)\n",
    "study = study.reindex(columns=check_names)\n",
    "study"
   ]
  },
  {
   "cell_type": "markdown",
   "metadata": {},
   "source": [
    "# Protocol"
   ]
  },
  {
   "cell_type": "markdown",
   "metadata": {},
   "source": []
  },
  {
   "cell_type": "code",
   "execution_count": 319,
   "metadata": {},
   "outputs": [
    {
     "name": "stdout",
     "output_type": "stream",
     "text": [
      "Sending query.\n"
     ]
    },
    {
     "data": {
      "application/vnd.microsoft.datawrangler.viewer.v0+json": {
       "columns": [
        {
         "name": "index",
         "rawType": "int64",
         "type": "integer"
        },
        {
         "name": "protocol_id",
         "rawType": "object",
         "type": "string"
        },
        {
         "name": "protocol_submitter_id",
         "rawType": "object",
         "type": "string"
        },
        {
         "name": "study_id",
         "rawType": "object",
         "type": "string"
        },
        {
         "name": "pdc_study_id",
         "rawType": "object",
         "type": "string"
        },
        {
         "name": "study_submitter_id",
         "rawType": "object",
         "type": "string"
        },
        {
         "name": "program_id",
         "rawType": "object",
         "type": "string"
        },
        {
         "name": "program_submitter_id",
         "rawType": "object",
         "type": "string"
        },
        {
         "name": "protocol_name",
         "rawType": "object",
         "type": "string"
        },
        {
         "name": "protocol_date",
         "rawType": "object",
         "type": "string"
        },
        {
         "name": "document_name",
         "rawType": "object",
         "type": "unknown"
        },
        {
         "name": "quantitation_strategy",
         "rawType": "object",
         "type": "string"
        },
        {
         "name": "experiment_type",
         "rawType": "object",
         "type": "string"
        },
        {
         "name": "label_free_quantitation",
         "rawType": "object",
         "type": "string"
        },
        {
         "name": "labeled_quantitation",
         "rawType": "object",
         "type": "string"
        },
        {
         "name": "isobaric_labeling_reagent",
         "rawType": "object",
         "type": "string"
        },
        {
         "name": "reporter_ion_ms_level",
         "rawType": "object",
         "type": "string"
        },
        {
         "name": "starting_amount",
         "rawType": "object",
         "type": "string"
        },
        {
         "name": "starting_amount_uom",
         "rawType": "object",
         "type": "string"
        },
        {
         "name": "digestion_reagent",
         "rawType": "object",
         "type": "string"
        },
        {
         "name": "alkylation_reagent",
         "rawType": "object",
         "type": "string"
        },
        {
         "name": "enrichment_strategy",
         "rawType": "object",
         "type": "string"
        },
        {
         "name": "enrichment",
         "rawType": "object",
         "type": "string"
        },
        {
         "name": "chromatography_dimensions_count",
         "rawType": "object",
         "type": "string"
        },
        {
         "name": "one_d_chromatography_type",
         "rawType": "object",
         "type": "string"
        },
        {
         "name": "two_d_chromatography_type",
         "rawType": "object",
         "type": "string"
        },
        {
         "name": "fractions_analyzed_count",
         "rawType": "object",
         "type": "string"
        },
        {
         "name": "column_type",
         "rawType": "object",
         "type": "string"
        },
        {
         "name": "amount_on_column",
         "rawType": "object",
         "type": "string"
        },
        {
         "name": "amount_on_column_uom",
         "rawType": "object",
         "type": "string"
        },
        {
         "name": "column_length",
         "rawType": "object",
         "type": "string"
        },
        {
         "name": "column_length_uom",
         "rawType": "object",
         "type": "string"
        },
        {
         "name": "column_inner_diameter",
         "rawType": "object",
         "type": "string"
        },
        {
         "name": "column_inner_diameter_uom",
         "rawType": "object",
         "type": "string"
        },
        {
         "name": "particle_size",
         "rawType": "object",
         "type": "string"
        },
        {
         "name": "particle_size_uom",
         "rawType": "object",
         "type": "string"
        },
        {
         "name": "particle_type",
         "rawType": "object",
         "type": "string"
        },
        {
         "name": "gradient_length",
         "rawType": "object",
         "type": "string"
        },
        {
         "name": "gradient_length_uom",
         "rawType": "object",
         "type": "string"
        },
        {
         "name": "instrument_make",
         "rawType": "object",
         "type": "string"
        },
        {
         "name": "instrument_model",
         "rawType": "object",
         "type": "string"
        },
        {
         "name": "dissociation_type",
         "rawType": "object",
         "type": "string"
        },
        {
         "name": "ms1_resolution",
         "rawType": "object",
         "type": "string"
        },
        {
         "name": "ms2_resolution",
         "rawType": "object",
         "type": "string"
        },
        {
         "name": "dda_topn",
         "rawType": "object",
         "type": "string"
        },
        {
         "name": "normalized_collision_energy",
         "rawType": "object",
         "type": "string"
        },
        {
         "name": "acquistion_type",
         "rawType": "object",
         "type": "string"
        },
        {
         "name": "dia_multiplexing",
         "rawType": "object",
         "type": "string"
        },
        {
         "name": "dia_ims",
         "rawType": "object",
         "type": "string"
        },
        {
         "name": "analytical_technique",
         "rawType": "object",
         "type": "unknown"
        },
        {
         "name": "chromatography_instrument_make",
         "rawType": "object",
         "type": "unknown"
        },
        {
         "name": "chromatography_instrument_model",
         "rawType": "object",
         "type": "unknown"
        },
        {
         "name": "polarity",
         "rawType": "object",
         "type": "unknown"
        },
        {
         "name": "reconstitution_solvent",
         "rawType": "object",
         "type": "unknown"
        },
        {
         "name": "reconstitution_volume",
         "rawType": "object",
         "type": "unknown"
        },
        {
         "name": "reconstitution_volume_uom",
         "rawType": "object",
         "type": "unknown"
        },
        {
         "name": "internal_standards",
         "rawType": "object",
         "type": "unknown"
        },
        {
         "name": "extraction_method",
         "rawType": "object",
         "type": "unknown"
        },
        {
         "name": "ionization_mode",
         "rawType": "object",
         "type": "unknown"
        }
       ],
       "conversionMethod": "pd.DataFrame",
       "ref": "4ec7791a-713f-45ee-8a9f-d7c96948fb45",
       "rows": [
        [
         "0",
         "89764a76-1053-4d1f-8be2-825ebeb08724",
         "APOLLO LUAD - Phosphoproteome - FeNTA",
         "8961afcf-05de-4b7c-b471-ca1a4887ed36",
         "PDC000436",
         "APOLLO LUAD - Phosphoproteome - FeNTA",
         "fa99a299-0d83-11ea-9bfa-0a42f3c845fe",
         "Applied Proteogenomics OrganizationaL Learning and Outcomes (APOLLO)",
         "APOLLO LUAD - Phosphoproteome - FeNTA",
         "2022-10-10",
         null,
         "Isobaric label quantitation analysis",
         "TMT11",
         "N/A",
         "TMT",
         "TMT11",
         "MS2",
         "297.00",
         "µg",
         "SMART Trypsin",
         "None",
         "Phosphoproteome",
         "Fe-NTA",
         "2",
         "bRPLC (pH 8)",
         "RPLC",
         "12",
         "C18",
         "0.45",
         "µg",
         "50.0",
         "cm",
         "75.00",
         "µm",
         "2.0",
         "µm",
         "PepMap RSLC, C18",
         "120.0",
         "min",
         "Thermo Fisher Scientific",
         "Q Exactive HF",
         "HCD",
         "60000",
         "60000",
         "top 12",
         "34",
         "DDA",
         "N/A",
         "N/A",
         null,
         null,
         null,
         null,
         null,
         null,
         null,
         null,
         null,
         null
        ]
       ],
       "shape": {
        "columns": 58,
        "rows": 1
       }
      },
      "text/html": [
       "<div>\n",
       "<style scoped>\n",
       "    .dataframe tbody tr th:only-of-type {\n",
       "        vertical-align: middle;\n",
       "    }\n",
       "\n",
       "    .dataframe tbody tr th {\n",
       "        vertical-align: top;\n",
       "    }\n",
       "\n",
       "    .dataframe thead th {\n",
       "        text-align: right;\n",
       "    }\n",
       "</style>\n",
       "<table border=\"1\" class=\"dataframe\">\n",
       "  <thead>\n",
       "    <tr style=\"text-align: right;\">\n",
       "      <th></th>\n",
       "      <th>protocol_id</th>\n",
       "      <th>protocol_submitter_id</th>\n",
       "      <th>study_id</th>\n",
       "      <th>pdc_study_id</th>\n",
       "      <th>study_submitter_id</th>\n",
       "      <th>program_id</th>\n",
       "      <th>program_submitter_id</th>\n",
       "      <th>protocol_name</th>\n",
       "      <th>protocol_date</th>\n",
       "      <th>document_name</th>\n",
       "      <th>...</th>\n",
       "      <th>analytical_technique</th>\n",
       "      <th>chromatography_instrument_make</th>\n",
       "      <th>chromatography_instrument_model</th>\n",
       "      <th>polarity</th>\n",
       "      <th>reconstitution_solvent</th>\n",
       "      <th>reconstitution_volume</th>\n",
       "      <th>reconstitution_volume_uom</th>\n",
       "      <th>internal_standards</th>\n",
       "      <th>extraction_method</th>\n",
       "      <th>ionization_mode</th>\n",
       "    </tr>\n",
       "  </thead>\n",
       "  <tbody>\n",
       "    <tr>\n",
       "      <th>0</th>\n",
       "      <td>89764a76-1053-4d1f-8be2-825ebeb08724</td>\n",
       "      <td>APOLLO LUAD - Phosphoproteome - FeNTA</td>\n",
       "      <td>8961afcf-05de-4b7c-b471-ca1a4887ed36</td>\n",
       "      <td>PDC000436</td>\n",
       "      <td>APOLLO LUAD - Phosphoproteome - FeNTA</td>\n",
       "      <td>fa99a299-0d83-11ea-9bfa-0a42f3c845fe</td>\n",
       "      <td>Applied Proteogenomics OrganizationaL Learning...</td>\n",
       "      <td>APOLLO LUAD - Phosphoproteome - FeNTA</td>\n",
       "      <td>2022-10-10</td>\n",
       "      <td>None</td>\n",
       "      <td>...</td>\n",
       "      <td>None</td>\n",
       "      <td>None</td>\n",
       "      <td>None</td>\n",
       "      <td>None</td>\n",
       "      <td>None</td>\n",
       "      <td>None</td>\n",
       "      <td>None</td>\n",
       "      <td>None</td>\n",
       "      <td>None</td>\n",
       "      <td>None</td>\n",
       "    </tr>\n",
       "  </tbody>\n",
       "</table>\n",
       "<p>1 rows × 58 columns</p>\n",
       "</div>"
      ],
      "text/plain": [
       "                            protocol_id  \\\n",
       "0  89764a76-1053-4d1f-8be2-825ebeb08724   \n",
       "\n",
       "                   protocol_submitter_id  \\\n",
       "0  APOLLO LUAD - Phosphoproteome - FeNTA   \n",
       "\n",
       "                               study_id pdc_study_id  \\\n",
       "0  8961afcf-05de-4b7c-b471-ca1a4887ed36    PDC000436   \n",
       "\n",
       "                      study_submitter_id  \\\n",
       "0  APOLLO LUAD - Phosphoproteome - FeNTA   \n",
       "\n",
       "                             program_id  \\\n",
       "0  fa99a299-0d83-11ea-9bfa-0a42f3c845fe   \n",
       "\n",
       "                                program_submitter_id  \\\n",
       "0  Applied Proteogenomics OrganizationaL Learning...   \n",
       "\n",
       "                           protocol_name protocol_date document_name  ...  \\\n",
       "0  APOLLO LUAD - Phosphoproteome - FeNTA    2022-10-10          None  ...   \n",
       "\n",
       "  analytical_technique chromatography_instrument_make  \\\n",
       "0                 None                           None   \n",
       "\n",
       "  chromatography_instrument_model polarity reconstitution_solvent  \\\n",
       "0                            None     None                   None   \n",
       "\n",
       "  reconstitution_volume reconstitution_volume_uom internal_standards  \\\n",
       "0                  None                      None               None   \n",
       "\n",
       "  extraction_method ionization_mode  \n",
       "0              None            None  \n",
       "\n",
       "[1 rows x 58 columns]"
      ]
     },
     "execution_count": 319,
     "metadata": {},
     "output_type": "execute_result"
    }
   ],
   "source": [
    "protocol_Data = query_pdc(query= query_protocol, variables=variables)\n",
    "matrix = json.loads(protocol_Data.content)['data']['protocolPerStudy']\n",
    "protocol_df = pd.DataFrame(matrix)\n",
    "protocol_df.head()"
   ]
  },
  {
   "cell_type": "code",
   "execution_count": 320,
   "metadata": {},
   "outputs": [],
   "source": [
    "check_names = ['study_submitter_id', 'protocol_name', 'protocol_date', 'document_name',\n",
    "       'quantitation_strategy', 'experiment_type', 'label_free_quantitation',\n",
    "       'labeled_quantitation', 'isobaric_labeling_reagent',\n",
    "       'reporter_ion_ms_level', 'starting_amount', 'starting_amount_uom',\n",
    "       'digestion_reagent', 'alkylation_reagent', 'enrichment_strategy',\n",
    "       'enrichment', 'chromatography_dimensions_count',\n",
    "       '1d_chromatography_type', '2d_chromatography_type',\n",
    "       'fractions_analyzed_count', 'column_type', 'amount_on_column',\n",
    "       'amount_on_column_uom', 'column_length', 'column_length_uom',\n",
    "       'column_inner_diameter', 'column_inner_diameter_uom', 'particle_size',\n",
    "       'particle_size_uom', 'particle_type', 'gradient_length',\n",
    "       'gradient_length_uom', 'instrument_make', 'instrument_model',\n",
    "       'serial_number', 'dissociation_type', 'ms1_resolution',\n",
    "       'ms2_resolution', 'dda_topn', 'normalized_collision_energy',\n",
    "       'acquistion_type', 'dia_multiplexing', 'dia_ims']\n",
    "to_remove = list(set(protocol_df.columns).difference(check_names))"
   ]
  },
  {
   "cell_type": "code",
   "execution_count": 321,
   "metadata": {},
   "outputs": [
    {
     "data": {
      "application/vnd.microsoft.datawrangler.viewer.v0+json": {
       "columns": [
        {
         "name": "index",
         "rawType": "int64",
         "type": "integer"
        },
        {
         "name": "study_submitter_id",
         "rawType": "object",
         "type": "string"
        },
        {
         "name": "protocol_name",
         "rawType": "object",
         "type": "string"
        },
        {
         "name": "protocol_date",
         "rawType": "object",
         "type": "string"
        },
        {
         "name": "document_name",
         "rawType": "object",
         "type": "unknown"
        },
        {
         "name": "quantitation_strategy",
         "rawType": "object",
         "type": "string"
        },
        {
         "name": "experiment_type",
         "rawType": "object",
         "type": "string"
        },
        {
         "name": "label_free_quantitation",
         "rawType": "object",
         "type": "string"
        },
        {
         "name": "labeled_quantitation",
         "rawType": "object",
         "type": "string"
        },
        {
         "name": "isobaric_labeling_reagent",
         "rawType": "object",
         "type": "string"
        },
        {
         "name": "reporter_ion_ms_level",
         "rawType": "object",
         "type": "string"
        },
        {
         "name": "starting_amount",
         "rawType": "object",
         "type": "string"
        },
        {
         "name": "starting_amount_uom",
         "rawType": "object",
         "type": "string"
        },
        {
         "name": "digestion_reagent",
         "rawType": "object",
         "type": "string"
        },
        {
         "name": "alkylation_reagent",
         "rawType": "object",
         "type": "string"
        },
        {
         "name": "enrichment_strategy",
         "rawType": "object",
         "type": "string"
        },
        {
         "name": "enrichment",
         "rawType": "object",
         "type": "string"
        },
        {
         "name": "chromatography_dimensions_count",
         "rawType": "object",
         "type": "string"
        },
        {
         "name": "1d_chromatography_type",
         "rawType": "float64",
         "type": "float"
        },
        {
         "name": "2d_chromatography_type",
         "rawType": "float64",
         "type": "float"
        },
        {
         "name": "fractions_analyzed_count",
         "rawType": "object",
         "type": "string"
        },
        {
         "name": "column_type",
         "rawType": "object",
         "type": "string"
        },
        {
         "name": "amount_on_column",
         "rawType": "object",
         "type": "string"
        },
        {
         "name": "amount_on_column_uom",
         "rawType": "object",
         "type": "string"
        },
        {
         "name": "column_length",
         "rawType": "object",
         "type": "string"
        },
        {
         "name": "column_length_uom",
         "rawType": "object",
         "type": "string"
        },
        {
         "name": "column_inner_diameter",
         "rawType": "object",
         "type": "string"
        },
        {
         "name": "column_inner_diameter_uom",
         "rawType": "object",
         "type": "string"
        },
        {
         "name": "particle_size",
         "rawType": "object",
         "type": "string"
        },
        {
         "name": "particle_size_uom",
         "rawType": "object",
         "type": "string"
        },
        {
         "name": "particle_type",
         "rawType": "object",
         "type": "string"
        },
        {
         "name": "gradient_length",
         "rawType": "object",
         "type": "string"
        },
        {
         "name": "gradient_length_uom",
         "rawType": "object",
         "type": "string"
        },
        {
         "name": "instrument_make",
         "rawType": "object",
         "type": "string"
        },
        {
         "name": "instrument_model",
         "rawType": "object",
         "type": "string"
        },
        {
         "name": "serial_number",
         "rawType": "float64",
         "type": "float"
        },
        {
         "name": "dissociation_type",
         "rawType": "object",
         "type": "string"
        },
        {
         "name": "ms1_resolution",
         "rawType": "object",
         "type": "string"
        },
        {
         "name": "ms2_resolution",
         "rawType": "object",
         "type": "string"
        },
        {
         "name": "dda_topn",
         "rawType": "object",
         "type": "string"
        },
        {
         "name": "normalized_collision_energy",
         "rawType": "object",
         "type": "string"
        },
        {
         "name": "acquistion_type",
         "rawType": "object",
         "type": "string"
        },
        {
         "name": "dia_multiplexing",
         "rawType": "object",
         "type": "string"
        },
        {
         "name": "dia_ims",
         "rawType": "object",
         "type": "string"
        }
       ],
       "conversionMethod": "pd.DataFrame",
       "ref": "ba320fb7-0ceb-41b6-9e93-c6238eb2d4f4",
       "rows": [
        [
         "0",
         "APOLLO LUAD - Phosphoproteome - FeNTA",
         "APOLLO LUAD - Phosphoproteome - FeNTA",
         "2022-10-10",
         null,
         "Isobaric label quantitation analysis",
         "TMT11",
         "N/A",
         "TMT",
         "TMT11",
         "MS2",
         "297.00",
         "µg",
         "SMART Trypsin",
         "None",
         "Phosphoproteome",
         "Fe-NTA",
         "2",
         null,
         null,
         "12",
         "C18",
         "0.45",
         "µg",
         "50.0",
         "cm",
         "75.00",
         "µm",
         "2.0",
         "µm",
         "PepMap RSLC, C18",
         "120.0",
         "min",
         "Thermo Fisher Scientific",
         "Q Exactive HF",
         null,
         "HCD",
         "60000",
         "60000",
         "top 12",
         "34",
         "DDA",
         "N/A",
         "N/A"
        ]
       ],
       "shape": {
        "columns": 43,
        "rows": 1
       }
      },
      "text/html": [
       "<div>\n",
       "<style scoped>\n",
       "    .dataframe tbody tr th:only-of-type {\n",
       "        vertical-align: middle;\n",
       "    }\n",
       "\n",
       "    .dataframe tbody tr th {\n",
       "        vertical-align: top;\n",
       "    }\n",
       "\n",
       "    .dataframe thead th {\n",
       "        text-align: right;\n",
       "    }\n",
       "</style>\n",
       "<table border=\"1\" class=\"dataframe\">\n",
       "  <thead>\n",
       "    <tr style=\"text-align: right;\">\n",
       "      <th></th>\n",
       "      <th>study_submitter_id</th>\n",
       "      <th>protocol_name</th>\n",
       "      <th>protocol_date</th>\n",
       "      <th>document_name</th>\n",
       "      <th>quantitation_strategy</th>\n",
       "      <th>experiment_type</th>\n",
       "      <th>label_free_quantitation</th>\n",
       "      <th>labeled_quantitation</th>\n",
       "      <th>isobaric_labeling_reagent</th>\n",
       "      <th>reporter_ion_ms_level</th>\n",
       "      <th>...</th>\n",
       "      <th>instrument_model</th>\n",
       "      <th>serial_number</th>\n",
       "      <th>dissociation_type</th>\n",
       "      <th>ms1_resolution</th>\n",
       "      <th>ms2_resolution</th>\n",
       "      <th>dda_topn</th>\n",
       "      <th>normalized_collision_energy</th>\n",
       "      <th>acquistion_type</th>\n",
       "      <th>dia_multiplexing</th>\n",
       "      <th>dia_ims</th>\n",
       "    </tr>\n",
       "  </thead>\n",
       "  <tbody>\n",
       "    <tr>\n",
       "      <th>0</th>\n",
       "      <td>APOLLO LUAD - Phosphoproteome - FeNTA</td>\n",
       "      <td>APOLLO LUAD - Phosphoproteome - FeNTA</td>\n",
       "      <td>2022-10-10</td>\n",
       "      <td>None</td>\n",
       "      <td>Isobaric label quantitation analysis</td>\n",
       "      <td>TMT11</td>\n",
       "      <td>N/A</td>\n",
       "      <td>TMT</td>\n",
       "      <td>TMT11</td>\n",
       "      <td>MS2</td>\n",
       "      <td>...</td>\n",
       "      <td>Q Exactive HF</td>\n",
       "      <td>NaN</td>\n",
       "      <td>HCD</td>\n",
       "      <td>60000</td>\n",
       "      <td>60000</td>\n",
       "      <td>top 12</td>\n",
       "      <td>34</td>\n",
       "      <td>DDA</td>\n",
       "      <td>N/A</td>\n",
       "      <td>N/A</td>\n",
       "    </tr>\n",
       "  </tbody>\n",
       "</table>\n",
       "<p>1 rows × 43 columns</p>\n",
       "</div>"
      ],
      "text/plain": [
       "                      study_submitter_id  \\\n",
       "0  APOLLO LUAD - Phosphoproteome - FeNTA   \n",
       "\n",
       "                           protocol_name protocol_date document_name  \\\n",
       "0  APOLLO LUAD - Phosphoproteome - FeNTA    2022-10-10          None   \n",
       "\n",
       "                  quantitation_strategy experiment_type  \\\n",
       "0  Isobaric label quantitation analysis           TMT11   \n",
       "\n",
       "  label_free_quantitation labeled_quantitation isobaric_labeling_reagent  \\\n",
       "0                     N/A                  TMT                     TMT11   \n",
       "\n",
       "  reporter_ion_ms_level  ... instrument_model serial_number dissociation_type  \\\n",
       "0                   MS2  ...    Q Exactive HF           NaN               HCD   \n",
       "\n",
       "  ms1_resolution ms2_resolution dda_topn normalized_collision_energy  \\\n",
       "0          60000          60000   top 12                          34   \n",
       "\n",
       "   acquistion_type  dia_multiplexing dia_ims  \n",
       "0              DDA               N/A     N/A  \n",
       "\n",
       "[1 rows x 43 columns]"
      ]
     },
     "execution_count": 321,
     "metadata": {},
     "output_type": "execute_result"
    }
   ],
   "source": [
    "protocol = protocol_df.drop(columns=to_remove)\n",
    "protocol = protocol.reindex(columns=check_names)\n",
    "protocol"
   ]
  },
  {
   "cell_type": "markdown",
   "metadata": {},
   "source": [
    "# Exp_Metadata"
   ]
  },
  {
   "cell_type": "code",
   "execution_count": 352,
   "metadata": {},
   "outputs": [
    {
     "name": "stdout",
     "output_type": "stream",
     "text": [
      "Sending query.\n"
     ]
    },
    {
     "data": {
      "application/vnd.microsoft.datawrangler.viewer.v0+json": {
       "columns": [
        {
         "name": "index",
         "rawType": "int64",
         "type": "integer"
        },
        {
         "name": "pdc_study_id",
         "rawType": "object",
         "type": "string"
        },
        {
         "name": "study_run_metadata_id",
         "rawType": "object",
         "type": "string"
        },
        {
         "name": "study_run_metadata_submitter_id",
         "rawType": "object",
         "type": "string"
        },
        {
         "name": "study_id",
         "rawType": "object",
         "type": "string"
        },
        {
         "name": "study_submitter_id",
         "rawType": "object",
         "type": "string"
        },
        {
         "name": "analyte",
         "rawType": "object",
         "type": "string"
        },
        {
         "name": "acquisition_type",
         "rawType": "object",
         "type": "string"
        },
        {
         "name": "protocol_id",
         "rawType": "object",
         "type": "string"
        },
        {
         "name": "protocol_submitter_id",
         "rawType": "object",
         "type": "string"
        },
        {
         "name": "polarity",
         "rawType": "object",
         "type": "unknown"
        },
        {
         "name": "experiment_type",
         "rawType": "object",
         "type": "string"
        },
        {
         "name": "plex_dataset_name",
         "rawType": "object",
         "type": "string"
        },
        {
         "name": "experiment_number",
         "rawType": "int64",
         "type": "integer"
        },
        {
         "name": "number_of_fractions",
         "rawType": "object",
         "type": "string"
        },
        {
         "name": "label_free",
         "rawType": "object",
         "type": "unknown"
        },
        {
         "name": "itraq_113",
         "rawType": "object",
         "type": "unknown"
        },
        {
         "name": "itraq_114",
         "rawType": "object",
         "type": "unknown"
        },
        {
         "name": "itraq_115",
         "rawType": "object",
         "type": "unknown"
        },
        {
         "name": "itraq_116",
         "rawType": "object",
         "type": "unknown"
        },
        {
         "name": "itraq_117",
         "rawType": "object",
         "type": "unknown"
        },
        {
         "name": "itraq_118",
         "rawType": "object",
         "type": "unknown"
        },
        {
         "name": "itraq_119",
         "rawType": "object",
         "type": "unknown"
        },
        {
         "name": "itraq_121",
         "rawType": "object",
         "type": "unknown"
        },
        {
         "name": "tmt_126",
         "rawType": "object",
         "type": "unknown"
        },
        {
         "name": "tmt_127n",
         "rawType": "object",
         "type": "unknown"
        },
        {
         "name": "tmt_127c",
         "rawType": "object",
         "type": "unknown"
        },
        {
         "name": "tmt_128n",
         "rawType": "object",
         "type": "unknown"
        },
        {
         "name": "tmt_128c",
         "rawType": "object",
         "type": "unknown"
        },
        {
         "name": "tmt_129n",
         "rawType": "object",
         "type": "unknown"
        },
        {
         "name": "tmt_129c",
         "rawType": "object",
         "type": "unknown"
        },
        {
         "name": "tmt_130n",
         "rawType": "object",
         "type": "unknown"
        },
        {
         "name": "tmt_130c",
         "rawType": "object",
         "type": "unknown"
        },
        {
         "name": "tmt_131",
         "rawType": "object",
         "type": "unknown"
        },
        {
         "name": "tmt_131c",
         "rawType": "object",
         "type": "unknown"
        },
        {
         "name": "tmt_132n",
         "rawType": "object",
         "type": "unknown"
        },
        {
         "name": "tmt_132c",
         "rawType": "object",
         "type": "unknown"
        },
        {
         "name": "tmt_133n",
         "rawType": "object",
         "type": "unknown"
        },
        {
         "name": "tmt_133c",
         "rawType": "object",
         "type": "unknown"
        },
        {
         "name": "tmt_134n",
         "rawType": "object",
         "type": "unknown"
        },
        {
         "name": "tmt_134c",
         "rawType": "object",
         "type": "unknown"
        },
        {
         "name": "tmt_135n",
         "rawType": "object",
         "type": "unknown"
        }
       ],
       "conversionMethod": "pd.DataFrame",
       "ref": "52c9165a-2eb7-484a-9c67-222380d21893",
       "rows": [
        [
         "0",
         "PDC000436",
         "4df8b7a1-ff19-4a0e-8186-eda36e8ac680",
         "AP1_QEHF1_AP1_1_FeNTA",
         "8961afcf-05de-4b7c-b471-ca1a4887ed36",
         "APOLLO LUAD - Phosphoproteome - FeNTA",
         "Phosphoproteome",
         "DDA",
         "89764a76-1053-4d1f-8be2-825ebeb08724",
         "APOLLO LUAD - Phosphoproteome - FeNTA",
         null,
         "TMT11",
         "AP1_QEHF1_AP1_1_FeNTA",
         "8",
         "48",
         null,
         null,
         null,
         null,
         null,
         null,
         null,
         null,
         null,
         "[{'aliquot_id': '7f339198-c201-4e18-92a7-82c9453ba817', 'aliquot_run_metadata_id': '4d64b749-2d6e-4377-b762-2d4424f911b6', 'aliquot_submitter_id': 'Pool'}]",
         "[{'aliquot_id': '0787210a-ff06-40e0-9948-28908968a939', 'aliquot_run_metadata_id': '09a89b52-391d-4879-a450-2422611f5717', 'aliquot_submitter_id': 'AP-JK59'}]",
         "[{'aliquot_id': '5b0b5037-0b1b-4511-bf75-5762a84756bd', 'aliquot_run_metadata_id': 'ada78a19-0189-4d78-9462-79be39722b74', 'aliquot_submitter_id': 'AP-7KJ6'}]",
         "[{'aliquot_id': 'afdce9e2-51ef-4217-b6de-6989bfef865c', 'aliquot_run_metadata_id': 'fe379846-55fb-4780-9073-e1c67a8ae5d4', 'aliquot_submitter_id': 'AP-KXUT'}]",
         "[{'aliquot_id': '9424fa73-d0ba-4d73-b0f7-27f9b972ffb5', 'aliquot_run_metadata_id': '00fdf28d-025b-4f60-868c-fceecee5aa5a', 'aliquot_submitter_id': 'AP-E98M'}]",
         "[{'aliquot_id': '397e9578-1b52-4b0e-953f-611eedfe78da', 'aliquot_run_metadata_id': 'd811972e-a163-43c8-95cf-c8ba6527dd83', 'aliquot_submitter_id': 'AP-WEHE'}]",
         "[{'aliquot_id': '806ebadd-f1ae-4744-8c7d-7cbe4d040046', 'aliquot_run_metadata_id': '34e20cb3-4a94-4ae5-86d3-d415f04fcc42', 'aliquot_submitter_id': 'AP-B2SL'}]",
         "[{'aliquot_id': 'acc7c079-f1b7-4e7e-87e1-2ddfad807d07', 'aliquot_run_metadata_id': 'd3f30cc7-a222-47b2-82bc-e47f7ae628e5', 'aliquot_submitter_id': 'AP-QUHC'}]",
         "[{'aliquot_id': '7ba60b55-fafd-4e1b-a870-ca1313e637d8', 'aliquot_run_metadata_id': '745af4e5-0215-4fcb-922a-2cb203c7a05a', 'aliquot_submitter_id': 'AP-QAHT'}]",
         "[{'aliquot_id': '76fa308b-7212-4721-97ed-df37c85aa7d2', 'aliquot_run_metadata_id': '11c8c039-a873-4818-9e40-5e021e936306', 'aliquot_submitter_id': 'AP-9UHJ'}]",
         "[{'aliquot_id': 'f1ff9002-0115-4578-bd92-4880df97968c', 'aliquot_run_metadata_id': 'c7b2f315-0345-4c0d-bc07-42ed4b99cf48', 'aliquot_submitter_id': 'AP-NMZS'}]",
         null,
         null,
         null,
         null,
         null,
         null,
         null
        ],
        [
         "1",
         "PDC000436",
         "2ad1562f-9fc5-4a0c-9207-59efb43abafe",
         "AP1_QEHF1_AP1_4_FeNTA",
         "8961afcf-05de-4b7c-b471-ca1a4887ed36",
         "APOLLO LUAD - Phosphoproteome - FeNTA",
         "Phosphoproteome",
         "DDA",
         "89764a76-1053-4d1f-8be2-825ebeb08724",
         "APOLLO LUAD - Phosphoproteome - FeNTA",
         null,
         "TMT11",
         "AP1_QEHF1_AP1_4_FeNTA",
         "5",
         "48",
         null,
         null,
         null,
         null,
         null,
         null,
         null,
         null,
         null,
         "[{'aliquot_id': '7f339198-c201-4e18-92a7-82c9453ba817', 'aliquot_run_metadata_id': '4758a978-1243-4811-ba70-fedc8d66a714', 'aliquot_submitter_id': 'Pool'}]",
         "[{'aliquot_id': 'a9441347-262c-429c-8f95-eb7d86dd4145', 'aliquot_run_metadata_id': '0dc3b1e4-b05d-4690-bac8-92421f03c432', 'aliquot_submitter_id': 'AP-B9CH'}]",
         "[{'aliquot_id': '0ce14968-c319-4b1c-8285-9976c48b6cd7', 'aliquot_run_metadata_id': 'ce7d5953-68a3-45b7-8c8a-c496873d6a96', 'aliquot_submitter_id': 'AP-XCJX'}]",
         "[{'aliquot_id': 'a978b6a5-a297-4e33-b402-25b41022eac6', 'aliquot_run_metadata_id': '886241d8-e6f2-4f29-bf9f-5bb5cc32c963', 'aliquot_submitter_id': 'AP-SJVE'}]",
         "[{'aliquot_id': 'dc7d4c34-6d8c-44f6-b48a-7a8e41187ad0', 'aliquot_run_metadata_id': 'b41853a7-7b38-413d-b74e-b0d6ed5b32a3', 'aliquot_submitter_id': 'AP-FX68'}]",
         "[{'aliquot_id': 'bd0ba9b2-b53b-4a70-bd10-e2a0dc0f691c', 'aliquot_run_metadata_id': '19e73c31-998f-46eb-825d-6f745901e3b8', 'aliquot_submitter_id': 'AP-D9X4'}]",
         "[{'aliquot_id': 'dec3a537-0fa0-4ac9-a438-5d93fb7c6a37', 'aliquot_run_metadata_id': '9fc02fe6-e657-46fa-a650-bee6f24b8ee7', 'aliquot_submitter_id': 'AP-WDKZ'}]",
         "[{'aliquot_id': '9ecb0dba-1446-42d0-830f-720403aa7c02', 'aliquot_run_metadata_id': '01cccad3-30f8-412f-a521-a78d421b9687', 'aliquot_submitter_id': 'AP-RA2G'}]",
         "[{'aliquot_id': 'c0fb8fd3-c289-4338-906e-fe1a74a8ed74', 'aliquot_run_metadata_id': '1be5cbbe-6181-4a2e-b91b-b837e0fc74d5', 'aliquot_submitter_id': 'AP-U8MP'}]",
         "[{'aliquot_id': '08f2bef2-9a82-423e-985d-7cc28d40ef3e', 'aliquot_run_metadata_id': '2ea6a392-1740-4873-9b2f-575281c40dc8', 'aliquot_submitter_id': 'AP-HKYN'}]",
         "[{'aliquot_id': '59fcce98-c804-4b2a-a354-0cd2b12f7f81', 'aliquot_run_metadata_id': 'f7d2909d-c262-493e-b53d-b28cafac444f', 'aliquot_submitter_id': 'AP-SC6Y'}]",
         null,
         null,
         null,
         null,
         null,
         null,
         null
        ],
        [
         "2",
         "PDC000436",
         "7d682dcc-846a-4ecc-99f6-0642c35dea9a",
         "AP1_QEHF1_AP1_6_FeNTA",
         "8961afcf-05de-4b7c-b471-ca1a4887ed36",
         "APOLLO LUAD - Phosphoproteome - FeNTA",
         "Phosphoproteome",
         "DDA",
         "89764a76-1053-4d1f-8be2-825ebeb08724",
         "APOLLO LUAD - Phosphoproteome - FeNTA",
         null,
         "TMT11",
         "AP1_QEHF1_AP1_6_FeNTA",
         "1",
         "48",
         null,
         null,
         null,
         null,
         null,
         null,
         null,
         null,
         null,
         "[{'aliquot_id': '7f339198-c201-4e18-92a7-82c9453ba817', 'aliquot_run_metadata_id': '3262a721-8b46-4a19-a9a6-58282dfe1cd8', 'aliquot_submitter_id': 'Pool'}]",
         "[{'aliquot_id': 'dddaeed3-32af-4634-8108-4d56dd2e3139', 'aliquot_run_metadata_id': '754437e1-227a-45ce-b417-99e2e89d22c5', 'aliquot_submitter_id': 'AP-D35H'}]",
         "[{'aliquot_id': 'aaef901f-fe4b-4c10-8edb-e0d6e05dabb0', 'aliquot_run_metadata_id': '58f1ef26-5736-4e08-bc07-06bfa27b040b', 'aliquot_submitter_id': 'AP-HMFR'}]",
         "[{'aliquot_id': 'e15e9924-8c13-434c-8859-7adbea1bc96e', 'aliquot_run_metadata_id': 'dd27d503-b392-4718-aec8-9f5eca04388d', 'aliquot_submitter_id': 'AP-A5NG'}]",
         "[{'aliquot_id': '0869bcd1-882b-4159-a334-a21a7d3c54cb', 'aliquot_run_metadata_id': '8b735d18-5534-41fa-a733-48e60a03e547', 'aliquot_submitter_id': 'AP-9LNA'}]",
         "[{'aliquot_id': '79dd3390-c6da-479d-9239-15d91a721cba', 'aliquot_run_metadata_id': '4603eb6b-e174-4af1-9a66-d456c9027269', 'aliquot_submitter_id': 'AP-52RG'}]",
         "[{'aliquot_id': 'e2511a9a-0151-4cf9-9811-c4bc7b74a4da', 'aliquot_run_metadata_id': '2e9c7581-08d3-4d1f-8099-f868f270c43f', 'aliquot_submitter_id': 'AP-MGNN'}]",
         "[{'aliquot_id': '56e7de2f-9a91-4921-91d9-e88146256f1e', 'aliquot_run_metadata_id': '530c4967-cba7-4c9a-89b8-fb662c3422a3', 'aliquot_submitter_id': 'AP-67ZV'}]",
         "[{'aliquot_id': 'de8f6a60-e03b-4ea0-b442-fa469f018b68', 'aliquot_run_metadata_id': 'f214dba8-1335-4e92-b31a-aac403cce80c', 'aliquot_submitter_id': 'AP-KNF9'}]",
         "[{'aliquot_id': 'c35f91e2-9447-4536-9876-7c281cf3fe8f', 'aliquot_run_metadata_id': '8b762cd5-acad-4f7c-b138-7a6d8847b4b6', 'aliquot_submitter_id': 'AP-KX5B'}]",
         "[{'aliquot_id': 'adc2dbe1-1180-4151-a242-e72a5e2e542e', 'aliquot_run_metadata_id': 'fdbe28e0-c059-4ca0-94a8-0f666182c31b', 'aliquot_submitter_id': 'AP-6EWG'}]",
         null,
         null,
         null,
         null,
         null,
         null,
         null
        ],
        [
         "3",
         "PDC000436",
         "02c3df48-e487-4ae3-8339-0ab07b65f94b",
         "AP1_QEHF1_AP1_7_FeNTA",
         "8961afcf-05de-4b7c-b471-ca1a4887ed36",
         "APOLLO LUAD - Phosphoproteome - FeNTA",
         "Phosphoproteome",
         "DDA",
         "89764a76-1053-4d1f-8be2-825ebeb08724",
         "APOLLO LUAD - Phosphoproteome - FeNTA",
         null,
         "TMT11",
         "AP1_QEHF1_AP1_7_FeNTA",
         "2",
         "48",
         null,
         null,
         null,
         null,
         null,
         null,
         null,
         null,
         null,
         "[{'aliquot_id': '7f339198-c201-4e18-92a7-82c9453ba817', 'aliquot_run_metadata_id': '48ae14a1-758c-4e68-bce4-b5cb3808ea32', 'aliquot_submitter_id': 'Pool'}]",
         "[{'aliquot_id': '98df1c93-e610-45b6-84f0-8c21fa1e6f12', 'aliquot_run_metadata_id': '7a5ddecf-1691-491e-9ac0-374b47ae615d', 'aliquot_submitter_id': 'AP-4HYT'}]",
         "[{'aliquot_id': '54afc357-8aa7-40f4-b2a1-4f4971b7146d', 'aliquot_run_metadata_id': '52e45b23-60ab-46a6-b72c-7d54291da01c', 'aliquot_submitter_id': 'AP-XSR5'}]",
         "[{'aliquot_id': '80c90d8f-e39b-4c88-9eb6-5828fc900844', 'aliquot_run_metadata_id': '2af92c7b-d7a4-492c-86f4-88b0685b8a6b', 'aliquot_submitter_id': 'AP-4LRG'}]",
         "[{'aliquot_id': '0a640ab1-d8f7-48e6-8920-8d63fa2744ab', 'aliquot_run_metadata_id': 'bed6e03c-4ba2-4e62-8c2c-df21daec0df9', 'aliquot_submitter_id': 'AP-N8FG'}]",
         "[{'aliquot_id': '1cfa04bc-9080-4e5e-a5d9-f9ff6e4b70f5', 'aliquot_run_metadata_id': 'ad7b3017-63c7-410f-acbd-45ba42fc8179', 'aliquot_submitter_id': 'AP-5L2V'}]",
         "[{'aliquot_id': 'ce6f5919-8c7c-45ed-b93e-fc5af3cc7fb4', 'aliquot_run_metadata_id': '577eb556-2020-4d9f-ac69-1f23bf0ac5cc', 'aliquot_submitter_id': 'AP-HFEA'}]",
         "[{'aliquot_id': 'fe1b3c8c-4a39-4e1b-a05d-8b50e192ef25', 'aliquot_run_metadata_id': '7d51d080-6581-4179-ba8f-5547393f4a7d', 'aliquot_submitter_id': 'AP-AJWE'}]",
         "[{'aliquot_id': 'd5f70c1e-9f33-4d55-9e68-2013528e53e0', 'aliquot_run_metadata_id': 'c9328f46-60ce-4adf-b6d8-c238143739f1', 'aliquot_submitter_id': 'AP-UG7J'}]",
         "[{'aliquot_id': 'e520950a-4c4b-46ea-86c8-eb268a3c35ab', 'aliquot_run_metadata_id': '0a882d1a-fbf3-465e-aefc-6f09f214861a', 'aliquot_submitter_id': 'AP-5JDU'}]",
         "[{'aliquot_id': 'bd6bd37f-b2c0-4c67-9c56-20baf2833d84', 'aliquot_run_metadata_id': 'e626c5a8-254c-4855-8131-2454a23df18a', 'aliquot_submitter_id': 'AP-3336'}]",
         null,
         null,
         null,
         null,
         null,
         null,
         null
        ],
        [
         "4",
         "PDC000436",
         "cf59e595-4180-41d3-a7be-7495b4448851",
         "AP1_QEHF1_AP1_8_FeNTA",
         "8961afcf-05de-4b7c-b471-ca1a4887ed36",
         "APOLLO LUAD - Phosphoproteome - FeNTA",
         "Phosphoproteome",
         "DDA",
         "89764a76-1053-4d1f-8be2-825ebeb08724",
         "APOLLO LUAD - Phosphoproteome - FeNTA",
         null,
         "TMT11",
         "AP1_QEHF1_AP1_8_FeNTA",
         "9",
         "48",
         null,
         null,
         null,
         null,
         null,
         null,
         null,
         null,
         null,
         "[{'aliquot_id': '7f339198-c201-4e18-92a7-82c9453ba817', 'aliquot_run_metadata_id': '7df74eaf-e69b-4f86-9b0e-bbd06fc74d91', 'aliquot_submitter_id': 'Pool'}]",
         "[{'aliquot_id': 'f844f33f-a9cc-451b-8838-abc25f838a13', 'aliquot_run_metadata_id': 'a72c543a-f8c8-48e7-8899-bbf949a8e805', 'aliquot_submitter_id': 'AP-CT3G'}]",
         "[{'aliquot_id': '26f0e56a-961d-430b-b682-9d29ba4e6c0f', 'aliquot_run_metadata_id': '76f4a2b3-de5e-4e8f-a274-bcee2e9dae73', 'aliquot_submitter_id': 'AP-2XNK'}]",
         "[{'aliquot_id': '63892e21-aae4-45eb-877d-2c286c36e3af', 'aliquot_run_metadata_id': '2ea4dda7-6b3d-4e88-bec0-c2965bf13784', 'aliquot_submitter_id': 'AP-JKPX'}]",
         "[{'aliquot_id': '61179cf7-2e53-4eea-b018-cd7131b9b166', 'aliquot_run_metadata_id': 'cdfbc9e8-26a1-4750-8814-559211e63ea7', 'aliquot_submitter_id': 'AP-AAFC'}]",
         "[{'aliquot_id': '95eb993c-5a42-4473-8a03-fbe57fbf52c9', 'aliquot_run_metadata_id': '158fe141-e098-4547-9992-e7b8bb81f486', 'aliquot_submitter_id': 'AP-XVLY'}]",
         "[{'aliquot_id': '82b09b15-36f3-4cde-a241-719d8dd2455b', 'aliquot_run_metadata_id': 'a6df81e7-859b-4b73-99e0-0cedcf80c693', 'aliquot_submitter_id': 'AP-62LT'}]",
         "[{'aliquot_id': '179280be-d5f4-4d19-925f-02daeebfe69f', 'aliquot_run_metadata_id': '14659909-2f72-4af4-b67a-9b0ac8f4dfbe', 'aliquot_submitter_id': 'AP-V6UJ'}]",
         "[{'aliquot_id': 'b96e82ec-f597-4985-ab76-9588579205a6', 'aliquot_run_metadata_id': 'e456ce2e-1ead-447f-a211-abaa34fbe68c', 'aliquot_submitter_id': 'AP-7GDN'}]",
         "[{'aliquot_id': '42af905c-0dff-4410-a38a-361484adbfa9', 'aliquot_run_metadata_id': '3a4a2bdc-26ac-486e-9a03-d41b0cbe8e37', 'aliquot_submitter_id': 'AP-KGMR'}]",
         "[{'aliquot_id': 'd72ecce0-1b96-4e8c-8fef-3ca7746135f4', 'aliquot_run_metadata_id': '0bb263c2-0986-4467-8d1f-5ea55516f6a8', 'aliquot_submitter_id': 'AP-UNC9'}]",
         null,
         null,
         null,
         null,
         null,
         null,
         null
        ]
       ],
       "shape": {
        "columns": 41,
        "rows": 5
       }
      },
      "text/html": [
       "<div>\n",
       "<style scoped>\n",
       "    .dataframe tbody tr th:only-of-type {\n",
       "        vertical-align: middle;\n",
       "    }\n",
       "\n",
       "    .dataframe tbody tr th {\n",
       "        vertical-align: top;\n",
       "    }\n",
       "\n",
       "    .dataframe thead th {\n",
       "        text-align: right;\n",
       "    }\n",
       "</style>\n",
       "<table border=\"1\" class=\"dataframe\">\n",
       "  <thead>\n",
       "    <tr style=\"text-align: right;\">\n",
       "      <th></th>\n",
       "      <th>pdc_study_id</th>\n",
       "      <th>study_run_metadata_id</th>\n",
       "      <th>study_run_metadata_submitter_id</th>\n",
       "      <th>study_id</th>\n",
       "      <th>study_submitter_id</th>\n",
       "      <th>analyte</th>\n",
       "      <th>acquisition_type</th>\n",
       "      <th>protocol_id</th>\n",
       "      <th>protocol_submitter_id</th>\n",
       "      <th>polarity</th>\n",
       "      <th>...</th>\n",
       "      <th>tmt_130c</th>\n",
       "      <th>tmt_131</th>\n",
       "      <th>tmt_131c</th>\n",
       "      <th>tmt_132n</th>\n",
       "      <th>tmt_132c</th>\n",
       "      <th>tmt_133n</th>\n",
       "      <th>tmt_133c</th>\n",
       "      <th>tmt_134n</th>\n",
       "      <th>tmt_134c</th>\n",
       "      <th>tmt_135n</th>\n",
       "    </tr>\n",
       "  </thead>\n",
       "  <tbody>\n",
       "    <tr>\n",
       "      <th>0</th>\n",
       "      <td>PDC000436</td>\n",
       "      <td>4df8b7a1-ff19-4a0e-8186-eda36e8ac680</td>\n",
       "      <td>AP1_QEHF1_AP1_1_FeNTA</td>\n",
       "      <td>8961afcf-05de-4b7c-b471-ca1a4887ed36</td>\n",
       "      <td>APOLLO LUAD - Phosphoproteome - FeNTA</td>\n",
       "      <td>Phosphoproteome</td>\n",
       "      <td>DDA</td>\n",
       "      <td>89764a76-1053-4d1f-8be2-825ebeb08724</td>\n",
       "      <td>APOLLO LUAD - Phosphoproteome - FeNTA</td>\n",
       "      <td>None</td>\n",
       "      <td>...</td>\n",
       "      <td>[{'aliquot_id': '7ba60b55-fafd-4e1b-a870-ca131...</td>\n",
       "      <td>[{'aliquot_id': '76fa308b-7212-4721-97ed-df37c...</td>\n",
       "      <td>[{'aliquot_id': 'f1ff9002-0115-4578-bd92-4880d...</td>\n",
       "      <td>None</td>\n",
       "      <td>None</td>\n",
       "      <td>None</td>\n",
       "      <td>None</td>\n",
       "      <td>None</td>\n",
       "      <td>None</td>\n",
       "      <td>None</td>\n",
       "    </tr>\n",
       "    <tr>\n",
       "      <th>1</th>\n",
       "      <td>PDC000436</td>\n",
       "      <td>2ad1562f-9fc5-4a0c-9207-59efb43abafe</td>\n",
       "      <td>AP1_QEHF1_AP1_4_FeNTA</td>\n",
       "      <td>8961afcf-05de-4b7c-b471-ca1a4887ed36</td>\n",
       "      <td>APOLLO LUAD - Phosphoproteome - FeNTA</td>\n",
       "      <td>Phosphoproteome</td>\n",
       "      <td>DDA</td>\n",
       "      <td>89764a76-1053-4d1f-8be2-825ebeb08724</td>\n",
       "      <td>APOLLO LUAD - Phosphoproteome - FeNTA</td>\n",
       "      <td>None</td>\n",
       "      <td>...</td>\n",
       "      <td>[{'aliquot_id': 'c0fb8fd3-c289-4338-906e-fe1a7...</td>\n",
       "      <td>[{'aliquot_id': '08f2bef2-9a82-423e-985d-7cc28...</td>\n",
       "      <td>[{'aliquot_id': '59fcce98-c804-4b2a-a354-0cd2b...</td>\n",
       "      <td>None</td>\n",
       "      <td>None</td>\n",
       "      <td>None</td>\n",
       "      <td>None</td>\n",
       "      <td>None</td>\n",
       "      <td>None</td>\n",
       "      <td>None</td>\n",
       "    </tr>\n",
       "    <tr>\n",
       "      <th>2</th>\n",
       "      <td>PDC000436</td>\n",
       "      <td>7d682dcc-846a-4ecc-99f6-0642c35dea9a</td>\n",
       "      <td>AP1_QEHF1_AP1_6_FeNTA</td>\n",
       "      <td>8961afcf-05de-4b7c-b471-ca1a4887ed36</td>\n",
       "      <td>APOLLO LUAD - Phosphoproteome - FeNTA</td>\n",
       "      <td>Phosphoproteome</td>\n",
       "      <td>DDA</td>\n",
       "      <td>89764a76-1053-4d1f-8be2-825ebeb08724</td>\n",
       "      <td>APOLLO LUAD - Phosphoproteome - FeNTA</td>\n",
       "      <td>None</td>\n",
       "      <td>...</td>\n",
       "      <td>[{'aliquot_id': 'de8f6a60-e03b-4ea0-b442-fa469...</td>\n",
       "      <td>[{'aliquot_id': 'c35f91e2-9447-4536-9876-7c281...</td>\n",
       "      <td>[{'aliquot_id': 'adc2dbe1-1180-4151-a242-e72a5...</td>\n",
       "      <td>None</td>\n",
       "      <td>None</td>\n",
       "      <td>None</td>\n",
       "      <td>None</td>\n",
       "      <td>None</td>\n",
       "      <td>None</td>\n",
       "      <td>None</td>\n",
       "    </tr>\n",
       "    <tr>\n",
       "      <th>3</th>\n",
       "      <td>PDC000436</td>\n",
       "      <td>02c3df48-e487-4ae3-8339-0ab07b65f94b</td>\n",
       "      <td>AP1_QEHF1_AP1_7_FeNTA</td>\n",
       "      <td>8961afcf-05de-4b7c-b471-ca1a4887ed36</td>\n",
       "      <td>APOLLO LUAD - Phosphoproteome - FeNTA</td>\n",
       "      <td>Phosphoproteome</td>\n",
       "      <td>DDA</td>\n",
       "      <td>89764a76-1053-4d1f-8be2-825ebeb08724</td>\n",
       "      <td>APOLLO LUAD - Phosphoproteome - FeNTA</td>\n",
       "      <td>None</td>\n",
       "      <td>...</td>\n",
       "      <td>[{'aliquot_id': 'd5f70c1e-9f33-4d55-9e68-20135...</td>\n",
       "      <td>[{'aliquot_id': 'e520950a-4c4b-46ea-86c8-eb268...</td>\n",
       "      <td>[{'aliquot_id': 'bd6bd37f-b2c0-4c67-9c56-20baf...</td>\n",
       "      <td>None</td>\n",
       "      <td>None</td>\n",
       "      <td>None</td>\n",
       "      <td>None</td>\n",
       "      <td>None</td>\n",
       "      <td>None</td>\n",
       "      <td>None</td>\n",
       "    </tr>\n",
       "    <tr>\n",
       "      <th>4</th>\n",
       "      <td>PDC000436</td>\n",
       "      <td>cf59e595-4180-41d3-a7be-7495b4448851</td>\n",
       "      <td>AP1_QEHF1_AP1_8_FeNTA</td>\n",
       "      <td>8961afcf-05de-4b7c-b471-ca1a4887ed36</td>\n",
       "      <td>APOLLO LUAD - Phosphoproteome - FeNTA</td>\n",
       "      <td>Phosphoproteome</td>\n",
       "      <td>DDA</td>\n",
       "      <td>89764a76-1053-4d1f-8be2-825ebeb08724</td>\n",
       "      <td>APOLLO LUAD - Phosphoproteome - FeNTA</td>\n",
       "      <td>None</td>\n",
       "      <td>...</td>\n",
       "      <td>[{'aliquot_id': 'b96e82ec-f597-4985-ab76-95885...</td>\n",
       "      <td>[{'aliquot_id': '42af905c-0dff-4410-a38a-36148...</td>\n",
       "      <td>[{'aliquot_id': 'd72ecce0-1b96-4e8c-8fef-3ca77...</td>\n",
       "      <td>None</td>\n",
       "      <td>None</td>\n",
       "      <td>None</td>\n",
       "      <td>None</td>\n",
       "      <td>None</td>\n",
       "      <td>None</td>\n",
       "      <td>None</td>\n",
       "    </tr>\n",
       "  </tbody>\n",
       "</table>\n",
       "<p>5 rows × 41 columns</p>\n",
       "</div>"
      ],
      "text/plain": [
       "  pdc_study_id                 study_run_metadata_id  \\\n",
       "0    PDC000436  4df8b7a1-ff19-4a0e-8186-eda36e8ac680   \n",
       "1    PDC000436  2ad1562f-9fc5-4a0c-9207-59efb43abafe   \n",
       "2    PDC000436  7d682dcc-846a-4ecc-99f6-0642c35dea9a   \n",
       "3    PDC000436  02c3df48-e487-4ae3-8339-0ab07b65f94b   \n",
       "4    PDC000436  cf59e595-4180-41d3-a7be-7495b4448851   \n",
       "\n",
       "  study_run_metadata_submitter_id                              study_id  \\\n",
       "0           AP1_QEHF1_AP1_1_FeNTA  8961afcf-05de-4b7c-b471-ca1a4887ed36   \n",
       "1           AP1_QEHF1_AP1_4_FeNTA  8961afcf-05de-4b7c-b471-ca1a4887ed36   \n",
       "2           AP1_QEHF1_AP1_6_FeNTA  8961afcf-05de-4b7c-b471-ca1a4887ed36   \n",
       "3           AP1_QEHF1_AP1_7_FeNTA  8961afcf-05de-4b7c-b471-ca1a4887ed36   \n",
       "4           AP1_QEHF1_AP1_8_FeNTA  8961afcf-05de-4b7c-b471-ca1a4887ed36   \n",
       "\n",
       "                      study_submitter_id          analyte acquisition_type  \\\n",
       "0  APOLLO LUAD - Phosphoproteome - FeNTA  Phosphoproteome              DDA   \n",
       "1  APOLLO LUAD - Phosphoproteome - FeNTA  Phosphoproteome              DDA   \n",
       "2  APOLLO LUAD - Phosphoproteome - FeNTA  Phosphoproteome              DDA   \n",
       "3  APOLLO LUAD - Phosphoproteome - FeNTA  Phosphoproteome              DDA   \n",
       "4  APOLLO LUAD - Phosphoproteome - FeNTA  Phosphoproteome              DDA   \n",
       "\n",
       "                            protocol_id  \\\n",
       "0  89764a76-1053-4d1f-8be2-825ebeb08724   \n",
       "1  89764a76-1053-4d1f-8be2-825ebeb08724   \n",
       "2  89764a76-1053-4d1f-8be2-825ebeb08724   \n",
       "3  89764a76-1053-4d1f-8be2-825ebeb08724   \n",
       "4  89764a76-1053-4d1f-8be2-825ebeb08724   \n",
       "\n",
       "                   protocol_submitter_id polarity  ...  \\\n",
       "0  APOLLO LUAD - Phosphoproteome - FeNTA     None  ...   \n",
       "1  APOLLO LUAD - Phosphoproteome - FeNTA     None  ...   \n",
       "2  APOLLO LUAD - Phosphoproteome - FeNTA     None  ...   \n",
       "3  APOLLO LUAD - Phosphoproteome - FeNTA     None  ...   \n",
       "4  APOLLO LUAD - Phosphoproteome - FeNTA     None  ...   \n",
       "\n",
       "                                            tmt_130c  \\\n",
       "0  [{'aliquot_id': '7ba60b55-fafd-4e1b-a870-ca131...   \n",
       "1  [{'aliquot_id': 'c0fb8fd3-c289-4338-906e-fe1a7...   \n",
       "2  [{'aliquot_id': 'de8f6a60-e03b-4ea0-b442-fa469...   \n",
       "3  [{'aliquot_id': 'd5f70c1e-9f33-4d55-9e68-20135...   \n",
       "4  [{'aliquot_id': 'b96e82ec-f597-4985-ab76-95885...   \n",
       "\n",
       "                                             tmt_131  \\\n",
       "0  [{'aliquot_id': '76fa308b-7212-4721-97ed-df37c...   \n",
       "1  [{'aliquot_id': '08f2bef2-9a82-423e-985d-7cc28...   \n",
       "2  [{'aliquot_id': 'c35f91e2-9447-4536-9876-7c281...   \n",
       "3  [{'aliquot_id': 'e520950a-4c4b-46ea-86c8-eb268...   \n",
       "4  [{'aliquot_id': '42af905c-0dff-4410-a38a-36148...   \n",
       "\n",
       "                                            tmt_131c tmt_132n tmt_132c  \\\n",
       "0  [{'aliquot_id': 'f1ff9002-0115-4578-bd92-4880d...     None     None   \n",
       "1  [{'aliquot_id': '59fcce98-c804-4b2a-a354-0cd2b...     None     None   \n",
       "2  [{'aliquot_id': 'adc2dbe1-1180-4151-a242-e72a5...     None     None   \n",
       "3  [{'aliquot_id': 'bd6bd37f-b2c0-4c67-9c56-20baf...     None     None   \n",
       "4  [{'aliquot_id': 'd72ecce0-1b96-4e8c-8fef-3ca77...     None     None   \n",
       "\n",
       "  tmt_133n tmt_133c tmt_134n tmt_134c tmt_135n  \n",
       "0     None     None     None     None     None  \n",
       "1     None     None     None     None     None  \n",
       "2     None     None     None     None     None  \n",
       "3     None     None     None     None     None  \n",
       "4     None     None     None     None     None  \n",
       "\n",
       "[5 rows x 41 columns]"
      ]
     },
     "execution_count": 352,
     "metadata": {},
     "output_type": "execute_result"
    }
   ],
   "source": [
    "expMetadat_data_2 = query_pdc(query= query_expMetadata_2, variables=variables)\n",
    "matrix = json.loads(expMetadat_data_2.content)['data'][\"studyExperimentalDesign\"]\n",
    "expMetadat_data_2 = pd.DataFrame(matrix)\n",
    "expMetadat_data_2.head()"
   ]
  },
  {
   "cell_type": "code",
   "execution_count": 353,
   "metadata": {},
   "outputs": [
    {
     "data": {
      "text/plain": [
       "Index(['pdc_study_id', 'study_run_metadata_id',\n",
       "       'study_run_metadata_submitter_id', 'study_id', 'study_submitter_id',\n",
       "       'analyte', 'acquisition_type', 'protocol_id', 'protocol_submitter_id',\n",
       "       'polarity', 'experiment_type', 'plex_dataset_name', 'experiment_number',\n",
       "       'number_of_fractions', 'label_free', 'itraq_113', 'itraq_114',\n",
       "       'itraq_115', 'itraq_116', 'itraq_117', 'itraq_118', 'itraq_119',\n",
       "       'itraq_121', 'tmt_126', 'tmt_127n', 'tmt_127c', 'tmt_128n', 'tmt_128c',\n",
       "       'tmt_129n', 'tmt_129c', 'tmt_130n', 'tmt_130c', 'tmt_131', 'tmt_131c',\n",
       "       'tmt_132n', 'tmt_132c', 'tmt_133n', 'tmt_133c', 'tmt_134n', 'tmt_134c',\n",
       "       'tmt_135n'],\n",
       "      dtype='object')"
      ]
     },
     "execution_count": 353,
     "metadata": {},
     "output_type": "execute_result"
    }
   ],
   "source": [
    "expMetadat_data_2.columns"
   ]
  },
  {
   "cell_type": "code",
   "execution_count": 354,
   "metadata": {},
   "outputs": [],
   "source": [
    "check_names = ['study_submitter_id', 'experiment_type', 'experiment_number',\n",
    "       'plex_or_folder_name', 'fraction', 'date', 'operator',\n",
    "       'replicate_number', 'condition', 'label_free', 'itraq_113', 'itraq_114',\n",
    "       'itraq_115', 'itraq_116', 'itraq_117', 'itraq_118', 'itraq_119',\n",
    "       'itraq_121', 'tmt_126', 'tmt_127n', 'tmt_127c', 'tmt_128n', 'tmt_128c',\n",
    "       'tmt_129n', 'tmt_129c', 'tmt_130n', 'tmt_130c', 'tmt_131', 'tmt_131c',\n",
    "       'tmt_132n', 'tmt_132c', 'tmt_133n', 'tmt_133c', 'tmt_134n', 'tmt_134c',\n",
    "       'tmt_135n']\n",
    "to_remove = list(set(expMetadat_data_2.columns).difference(check_names))"
   ]
  },
  {
   "cell_type": "code",
   "execution_count": 356,
   "metadata": {},
   "outputs": [
    {
     "data": {
      "application/vnd.microsoft.datawrangler.viewer.v0+json": {
       "columns": [
        {
         "name": "index",
         "rawType": "int64",
         "type": "integer"
        },
        {
         "name": "study_submitter_id",
         "rawType": "object",
         "type": "string"
        },
        {
         "name": "experiment_type",
         "rawType": "object",
         "type": "string"
        },
        {
         "name": "experiment_number",
         "rawType": "int64",
         "type": "integer"
        },
        {
         "name": "plex_or_folder_name",
         "rawType": "float64",
         "type": "float"
        },
        {
         "name": "fraction",
         "rawType": "float64",
         "type": "float"
        },
        {
         "name": "date",
         "rawType": "float64",
         "type": "float"
        },
        {
         "name": "operator",
         "rawType": "float64",
         "type": "float"
        },
        {
         "name": "replicate_number",
         "rawType": "float64",
         "type": "float"
        },
        {
         "name": "condition",
         "rawType": "float64",
         "type": "float"
        },
        {
         "name": "label_free",
         "rawType": "object",
         "type": "unknown"
        },
        {
         "name": "itraq_113",
         "rawType": "object",
         "type": "unknown"
        },
        {
         "name": "itraq_114",
         "rawType": "object",
         "type": "unknown"
        },
        {
         "name": "itraq_115",
         "rawType": "object",
         "type": "unknown"
        },
        {
         "name": "itraq_116",
         "rawType": "object",
         "type": "unknown"
        },
        {
         "name": "itraq_117",
         "rawType": "object",
         "type": "unknown"
        },
        {
         "name": "itraq_118",
         "rawType": "object",
         "type": "unknown"
        },
        {
         "name": "itraq_119",
         "rawType": "object",
         "type": "unknown"
        },
        {
         "name": "itraq_121",
         "rawType": "object",
         "type": "unknown"
        },
        {
         "name": "tmt_126",
         "rawType": "object",
         "type": "unknown"
        },
        {
         "name": "tmt_127n",
         "rawType": "object",
         "type": "unknown"
        },
        {
         "name": "tmt_127c",
         "rawType": "object",
         "type": "unknown"
        },
        {
         "name": "tmt_128n",
         "rawType": "object",
         "type": "unknown"
        },
        {
         "name": "tmt_128c",
         "rawType": "object",
         "type": "unknown"
        },
        {
         "name": "tmt_129n",
         "rawType": "object",
         "type": "unknown"
        },
        {
         "name": "tmt_129c",
         "rawType": "object",
         "type": "unknown"
        },
        {
         "name": "tmt_130n",
         "rawType": "object",
         "type": "unknown"
        },
        {
         "name": "tmt_130c",
         "rawType": "object",
         "type": "unknown"
        },
        {
         "name": "tmt_131",
         "rawType": "object",
         "type": "unknown"
        },
        {
         "name": "tmt_131c",
         "rawType": "object",
         "type": "unknown"
        },
        {
         "name": "tmt_132n",
         "rawType": "object",
         "type": "unknown"
        },
        {
         "name": "tmt_132c",
         "rawType": "object",
         "type": "unknown"
        },
        {
         "name": "tmt_133n",
         "rawType": "object",
         "type": "unknown"
        },
        {
         "name": "tmt_133c",
         "rawType": "object",
         "type": "unknown"
        },
        {
         "name": "tmt_134n",
         "rawType": "object",
         "type": "unknown"
        },
        {
         "name": "tmt_134c",
         "rawType": "object",
         "type": "unknown"
        },
        {
         "name": "tmt_135n",
         "rawType": "object",
         "type": "unknown"
        }
       ],
       "conversionMethod": "pd.DataFrame",
       "ref": "73d182c0-c3cc-474c-b255-c2c26d9d13dc",
       "rows": [
        [
         "0",
         "APOLLO LUAD - Phosphoproteome - FeNTA",
         "TMT11",
         "8",
         null,
         null,
         null,
         null,
         null,
         null,
         null,
         null,
         null,
         null,
         null,
         null,
         null,
         null,
         null,
         "[{'aliquot_id': '7f339198-c201-4e18-92a7-82c9453ba817', 'aliquot_run_metadata_id': '4d64b749-2d6e-4377-b762-2d4424f911b6', 'aliquot_submitter_id': 'Pool'}]",
         "[{'aliquot_id': '0787210a-ff06-40e0-9948-28908968a939', 'aliquot_run_metadata_id': '09a89b52-391d-4879-a450-2422611f5717', 'aliquot_submitter_id': 'AP-JK59'}]",
         "[{'aliquot_id': '5b0b5037-0b1b-4511-bf75-5762a84756bd', 'aliquot_run_metadata_id': 'ada78a19-0189-4d78-9462-79be39722b74', 'aliquot_submitter_id': 'AP-7KJ6'}]",
         "[{'aliquot_id': 'afdce9e2-51ef-4217-b6de-6989bfef865c', 'aliquot_run_metadata_id': 'fe379846-55fb-4780-9073-e1c67a8ae5d4', 'aliquot_submitter_id': 'AP-KXUT'}]",
         "[{'aliquot_id': '9424fa73-d0ba-4d73-b0f7-27f9b972ffb5', 'aliquot_run_metadata_id': '00fdf28d-025b-4f60-868c-fceecee5aa5a', 'aliquot_submitter_id': 'AP-E98M'}]",
         "[{'aliquot_id': '397e9578-1b52-4b0e-953f-611eedfe78da', 'aliquot_run_metadata_id': 'd811972e-a163-43c8-95cf-c8ba6527dd83', 'aliquot_submitter_id': 'AP-WEHE'}]",
         "[{'aliquot_id': '806ebadd-f1ae-4744-8c7d-7cbe4d040046', 'aliquot_run_metadata_id': '34e20cb3-4a94-4ae5-86d3-d415f04fcc42', 'aliquot_submitter_id': 'AP-B2SL'}]",
         "[{'aliquot_id': 'acc7c079-f1b7-4e7e-87e1-2ddfad807d07', 'aliquot_run_metadata_id': 'd3f30cc7-a222-47b2-82bc-e47f7ae628e5', 'aliquot_submitter_id': 'AP-QUHC'}]",
         "[{'aliquot_id': '7ba60b55-fafd-4e1b-a870-ca1313e637d8', 'aliquot_run_metadata_id': '745af4e5-0215-4fcb-922a-2cb203c7a05a', 'aliquot_submitter_id': 'AP-QAHT'}]",
         "[{'aliquot_id': '76fa308b-7212-4721-97ed-df37c85aa7d2', 'aliquot_run_metadata_id': '11c8c039-a873-4818-9e40-5e021e936306', 'aliquot_submitter_id': 'AP-9UHJ'}]",
         "[{'aliquot_id': 'f1ff9002-0115-4578-bd92-4880df97968c', 'aliquot_run_metadata_id': 'c7b2f315-0345-4c0d-bc07-42ed4b99cf48', 'aliquot_submitter_id': 'AP-NMZS'}]",
         null,
         null,
         null,
         null,
         null,
         null,
         null
        ],
        [
         "1",
         "APOLLO LUAD - Phosphoproteome - FeNTA",
         "TMT11",
         "5",
         null,
         null,
         null,
         null,
         null,
         null,
         null,
         null,
         null,
         null,
         null,
         null,
         null,
         null,
         null,
         "[{'aliquot_id': '7f339198-c201-4e18-92a7-82c9453ba817', 'aliquot_run_metadata_id': '4758a978-1243-4811-ba70-fedc8d66a714', 'aliquot_submitter_id': 'Pool'}]",
         "[{'aliquot_id': 'a9441347-262c-429c-8f95-eb7d86dd4145', 'aliquot_run_metadata_id': '0dc3b1e4-b05d-4690-bac8-92421f03c432', 'aliquot_submitter_id': 'AP-B9CH'}]",
         "[{'aliquot_id': '0ce14968-c319-4b1c-8285-9976c48b6cd7', 'aliquot_run_metadata_id': 'ce7d5953-68a3-45b7-8c8a-c496873d6a96', 'aliquot_submitter_id': 'AP-XCJX'}]",
         "[{'aliquot_id': 'a978b6a5-a297-4e33-b402-25b41022eac6', 'aliquot_run_metadata_id': '886241d8-e6f2-4f29-bf9f-5bb5cc32c963', 'aliquot_submitter_id': 'AP-SJVE'}]",
         "[{'aliquot_id': 'dc7d4c34-6d8c-44f6-b48a-7a8e41187ad0', 'aliquot_run_metadata_id': 'b41853a7-7b38-413d-b74e-b0d6ed5b32a3', 'aliquot_submitter_id': 'AP-FX68'}]",
         "[{'aliquot_id': 'bd0ba9b2-b53b-4a70-bd10-e2a0dc0f691c', 'aliquot_run_metadata_id': '19e73c31-998f-46eb-825d-6f745901e3b8', 'aliquot_submitter_id': 'AP-D9X4'}]",
         "[{'aliquot_id': 'dec3a537-0fa0-4ac9-a438-5d93fb7c6a37', 'aliquot_run_metadata_id': '9fc02fe6-e657-46fa-a650-bee6f24b8ee7', 'aliquot_submitter_id': 'AP-WDKZ'}]",
         "[{'aliquot_id': '9ecb0dba-1446-42d0-830f-720403aa7c02', 'aliquot_run_metadata_id': '01cccad3-30f8-412f-a521-a78d421b9687', 'aliquot_submitter_id': 'AP-RA2G'}]",
         "[{'aliquot_id': 'c0fb8fd3-c289-4338-906e-fe1a74a8ed74', 'aliquot_run_metadata_id': '1be5cbbe-6181-4a2e-b91b-b837e0fc74d5', 'aliquot_submitter_id': 'AP-U8MP'}]",
         "[{'aliquot_id': '08f2bef2-9a82-423e-985d-7cc28d40ef3e', 'aliquot_run_metadata_id': '2ea6a392-1740-4873-9b2f-575281c40dc8', 'aliquot_submitter_id': 'AP-HKYN'}]",
         "[{'aliquot_id': '59fcce98-c804-4b2a-a354-0cd2b12f7f81', 'aliquot_run_metadata_id': 'f7d2909d-c262-493e-b53d-b28cafac444f', 'aliquot_submitter_id': 'AP-SC6Y'}]",
         null,
         null,
         null,
         null,
         null,
         null,
         null
        ],
        [
         "2",
         "APOLLO LUAD - Phosphoproteome - FeNTA",
         "TMT11",
         "1",
         null,
         null,
         null,
         null,
         null,
         null,
         null,
         null,
         null,
         null,
         null,
         null,
         null,
         null,
         null,
         "[{'aliquot_id': '7f339198-c201-4e18-92a7-82c9453ba817', 'aliquot_run_metadata_id': '3262a721-8b46-4a19-a9a6-58282dfe1cd8', 'aliquot_submitter_id': 'Pool'}]",
         "[{'aliquot_id': 'dddaeed3-32af-4634-8108-4d56dd2e3139', 'aliquot_run_metadata_id': '754437e1-227a-45ce-b417-99e2e89d22c5', 'aliquot_submitter_id': 'AP-D35H'}]",
         "[{'aliquot_id': 'aaef901f-fe4b-4c10-8edb-e0d6e05dabb0', 'aliquot_run_metadata_id': '58f1ef26-5736-4e08-bc07-06bfa27b040b', 'aliquot_submitter_id': 'AP-HMFR'}]",
         "[{'aliquot_id': 'e15e9924-8c13-434c-8859-7adbea1bc96e', 'aliquot_run_metadata_id': 'dd27d503-b392-4718-aec8-9f5eca04388d', 'aliquot_submitter_id': 'AP-A5NG'}]",
         "[{'aliquot_id': '0869bcd1-882b-4159-a334-a21a7d3c54cb', 'aliquot_run_metadata_id': '8b735d18-5534-41fa-a733-48e60a03e547', 'aliquot_submitter_id': 'AP-9LNA'}]",
         "[{'aliquot_id': '79dd3390-c6da-479d-9239-15d91a721cba', 'aliquot_run_metadata_id': '4603eb6b-e174-4af1-9a66-d456c9027269', 'aliquot_submitter_id': 'AP-52RG'}]",
         "[{'aliquot_id': 'e2511a9a-0151-4cf9-9811-c4bc7b74a4da', 'aliquot_run_metadata_id': '2e9c7581-08d3-4d1f-8099-f868f270c43f', 'aliquot_submitter_id': 'AP-MGNN'}]",
         "[{'aliquot_id': '56e7de2f-9a91-4921-91d9-e88146256f1e', 'aliquot_run_metadata_id': '530c4967-cba7-4c9a-89b8-fb662c3422a3', 'aliquot_submitter_id': 'AP-67ZV'}]",
         "[{'aliquot_id': 'de8f6a60-e03b-4ea0-b442-fa469f018b68', 'aliquot_run_metadata_id': 'f214dba8-1335-4e92-b31a-aac403cce80c', 'aliquot_submitter_id': 'AP-KNF9'}]",
         "[{'aliquot_id': 'c35f91e2-9447-4536-9876-7c281cf3fe8f', 'aliquot_run_metadata_id': '8b762cd5-acad-4f7c-b138-7a6d8847b4b6', 'aliquot_submitter_id': 'AP-KX5B'}]",
         "[{'aliquot_id': 'adc2dbe1-1180-4151-a242-e72a5e2e542e', 'aliquot_run_metadata_id': 'fdbe28e0-c059-4ca0-94a8-0f666182c31b', 'aliquot_submitter_id': 'AP-6EWG'}]",
         null,
         null,
         null,
         null,
         null,
         null,
         null
        ],
        [
         "3",
         "APOLLO LUAD - Phosphoproteome - FeNTA",
         "TMT11",
         "2",
         null,
         null,
         null,
         null,
         null,
         null,
         null,
         null,
         null,
         null,
         null,
         null,
         null,
         null,
         null,
         "[{'aliquot_id': '7f339198-c201-4e18-92a7-82c9453ba817', 'aliquot_run_metadata_id': '48ae14a1-758c-4e68-bce4-b5cb3808ea32', 'aliquot_submitter_id': 'Pool'}]",
         "[{'aliquot_id': '98df1c93-e610-45b6-84f0-8c21fa1e6f12', 'aliquot_run_metadata_id': '7a5ddecf-1691-491e-9ac0-374b47ae615d', 'aliquot_submitter_id': 'AP-4HYT'}]",
         "[{'aliquot_id': '54afc357-8aa7-40f4-b2a1-4f4971b7146d', 'aliquot_run_metadata_id': '52e45b23-60ab-46a6-b72c-7d54291da01c', 'aliquot_submitter_id': 'AP-XSR5'}]",
         "[{'aliquot_id': '80c90d8f-e39b-4c88-9eb6-5828fc900844', 'aliquot_run_metadata_id': '2af92c7b-d7a4-492c-86f4-88b0685b8a6b', 'aliquot_submitter_id': 'AP-4LRG'}]",
         "[{'aliquot_id': '0a640ab1-d8f7-48e6-8920-8d63fa2744ab', 'aliquot_run_metadata_id': 'bed6e03c-4ba2-4e62-8c2c-df21daec0df9', 'aliquot_submitter_id': 'AP-N8FG'}]",
         "[{'aliquot_id': '1cfa04bc-9080-4e5e-a5d9-f9ff6e4b70f5', 'aliquot_run_metadata_id': 'ad7b3017-63c7-410f-acbd-45ba42fc8179', 'aliquot_submitter_id': 'AP-5L2V'}]",
         "[{'aliquot_id': 'ce6f5919-8c7c-45ed-b93e-fc5af3cc7fb4', 'aliquot_run_metadata_id': '577eb556-2020-4d9f-ac69-1f23bf0ac5cc', 'aliquot_submitter_id': 'AP-HFEA'}]",
         "[{'aliquot_id': 'fe1b3c8c-4a39-4e1b-a05d-8b50e192ef25', 'aliquot_run_metadata_id': '7d51d080-6581-4179-ba8f-5547393f4a7d', 'aliquot_submitter_id': 'AP-AJWE'}]",
         "[{'aliquot_id': 'd5f70c1e-9f33-4d55-9e68-2013528e53e0', 'aliquot_run_metadata_id': 'c9328f46-60ce-4adf-b6d8-c238143739f1', 'aliquot_submitter_id': 'AP-UG7J'}]",
         "[{'aliquot_id': 'e520950a-4c4b-46ea-86c8-eb268a3c35ab', 'aliquot_run_metadata_id': '0a882d1a-fbf3-465e-aefc-6f09f214861a', 'aliquot_submitter_id': 'AP-5JDU'}]",
         "[{'aliquot_id': 'bd6bd37f-b2c0-4c67-9c56-20baf2833d84', 'aliquot_run_metadata_id': 'e626c5a8-254c-4855-8131-2454a23df18a', 'aliquot_submitter_id': 'AP-3336'}]",
         null,
         null,
         null,
         null,
         null,
         null,
         null
        ],
        [
         "4",
         "APOLLO LUAD - Phosphoproteome - FeNTA",
         "TMT11",
         "9",
         null,
         null,
         null,
         null,
         null,
         null,
         null,
         null,
         null,
         null,
         null,
         null,
         null,
         null,
         null,
         "[{'aliquot_id': '7f339198-c201-4e18-92a7-82c9453ba817', 'aliquot_run_metadata_id': '7df74eaf-e69b-4f86-9b0e-bbd06fc74d91', 'aliquot_submitter_id': 'Pool'}]",
         "[{'aliquot_id': 'f844f33f-a9cc-451b-8838-abc25f838a13', 'aliquot_run_metadata_id': 'a72c543a-f8c8-48e7-8899-bbf949a8e805', 'aliquot_submitter_id': 'AP-CT3G'}]",
         "[{'aliquot_id': '26f0e56a-961d-430b-b682-9d29ba4e6c0f', 'aliquot_run_metadata_id': '76f4a2b3-de5e-4e8f-a274-bcee2e9dae73', 'aliquot_submitter_id': 'AP-2XNK'}]",
         "[{'aliquot_id': '63892e21-aae4-45eb-877d-2c286c36e3af', 'aliquot_run_metadata_id': '2ea4dda7-6b3d-4e88-bec0-c2965bf13784', 'aliquot_submitter_id': 'AP-JKPX'}]",
         "[{'aliquot_id': '61179cf7-2e53-4eea-b018-cd7131b9b166', 'aliquot_run_metadata_id': 'cdfbc9e8-26a1-4750-8814-559211e63ea7', 'aliquot_submitter_id': 'AP-AAFC'}]",
         "[{'aliquot_id': '95eb993c-5a42-4473-8a03-fbe57fbf52c9', 'aliquot_run_metadata_id': '158fe141-e098-4547-9992-e7b8bb81f486', 'aliquot_submitter_id': 'AP-XVLY'}]",
         "[{'aliquot_id': '82b09b15-36f3-4cde-a241-719d8dd2455b', 'aliquot_run_metadata_id': 'a6df81e7-859b-4b73-99e0-0cedcf80c693', 'aliquot_submitter_id': 'AP-62LT'}]",
         "[{'aliquot_id': '179280be-d5f4-4d19-925f-02daeebfe69f', 'aliquot_run_metadata_id': '14659909-2f72-4af4-b67a-9b0ac8f4dfbe', 'aliquot_submitter_id': 'AP-V6UJ'}]",
         "[{'aliquot_id': 'b96e82ec-f597-4985-ab76-9588579205a6', 'aliquot_run_metadata_id': 'e456ce2e-1ead-447f-a211-abaa34fbe68c', 'aliquot_submitter_id': 'AP-7GDN'}]",
         "[{'aliquot_id': '42af905c-0dff-4410-a38a-361484adbfa9', 'aliquot_run_metadata_id': '3a4a2bdc-26ac-486e-9a03-d41b0cbe8e37', 'aliquot_submitter_id': 'AP-KGMR'}]",
         "[{'aliquot_id': 'd72ecce0-1b96-4e8c-8fef-3ca7746135f4', 'aliquot_run_metadata_id': '0bb263c2-0986-4467-8d1f-5ea55516f6a8', 'aliquot_submitter_id': 'AP-UNC9'}]",
         null,
         null,
         null,
         null,
         null,
         null,
         null
        ]
       ],
       "shape": {
        "columns": 36,
        "rows": 5
       }
      },
      "text/html": [
       "<div>\n",
       "<style scoped>\n",
       "    .dataframe tbody tr th:only-of-type {\n",
       "        vertical-align: middle;\n",
       "    }\n",
       "\n",
       "    .dataframe tbody tr th {\n",
       "        vertical-align: top;\n",
       "    }\n",
       "\n",
       "    .dataframe thead th {\n",
       "        text-align: right;\n",
       "    }\n",
       "</style>\n",
       "<table border=\"1\" class=\"dataframe\">\n",
       "  <thead>\n",
       "    <tr style=\"text-align: right;\">\n",
       "      <th></th>\n",
       "      <th>study_submitter_id</th>\n",
       "      <th>experiment_type</th>\n",
       "      <th>experiment_number</th>\n",
       "      <th>plex_or_folder_name</th>\n",
       "      <th>fraction</th>\n",
       "      <th>date</th>\n",
       "      <th>operator</th>\n",
       "      <th>replicate_number</th>\n",
       "      <th>condition</th>\n",
       "      <th>label_free</th>\n",
       "      <th>...</th>\n",
       "      <th>tmt_130c</th>\n",
       "      <th>tmt_131</th>\n",
       "      <th>tmt_131c</th>\n",
       "      <th>tmt_132n</th>\n",
       "      <th>tmt_132c</th>\n",
       "      <th>tmt_133n</th>\n",
       "      <th>tmt_133c</th>\n",
       "      <th>tmt_134n</th>\n",
       "      <th>tmt_134c</th>\n",
       "      <th>tmt_135n</th>\n",
       "    </tr>\n",
       "  </thead>\n",
       "  <tbody>\n",
       "    <tr>\n",
       "      <th>0</th>\n",
       "      <td>APOLLO LUAD - Phosphoproteome - FeNTA</td>\n",
       "      <td>TMT11</td>\n",
       "      <td>8</td>\n",
       "      <td>NaN</td>\n",
       "      <td>NaN</td>\n",
       "      <td>NaN</td>\n",
       "      <td>NaN</td>\n",
       "      <td>NaN</td>\n",
       "      <td>NaN</td>\n",
       "      <td>None</td>\n",
       "      <td>...</td>\n",
       "      <td>[{'aliquot_id': '7ba60b55-fafd-4e1b-a870-ca131...</td>\n",
       "      <td>[{'aliquot_id': '76fa308b-7212-4721-97ed-df37c...</td>\n",
       "      <td>[{'aliquot_id': 'f1ff9002-0115-4578-bd92-4880d...</td>\n",
       "      <td>None</td>\n",
       "      <td>None</td>\n",
       "      <td>None</td>\n",
       "      <td>None</td>\n",
       "      <td>None</td>\n",
       "      <td>None</td>\n",
       "      <td>None</td>\n",
       "    </tr>\n",
       "    <tr>\n",
       "      <th>1</th>\n",
       "      <td>APOLLO LUAD - Phosphoproteome - FeNTA</td>\n",
       "      <td>TMT11</td>\n",
       "      <td>5</td>\n",
       "      <td>NaN</td>\n",
       "      <td>NaN</td>\n",
       "      <td>NaN</td>\n",
       "      <td>NaN</td>\n",
       "      <td>NaN</td>\n",
       "      <td>NaN</td>\n",
       "      <td>None</td>\n",
       "      <td>...</td>\n",
       "      <td>[{'aliquot_id': 'c0fb8fd3-c289-4338-906e-fe1a7...</td>\n",
       "      <td>[{'aliquot_id': '08f2bef2-9a82-423e-985d-7cc28...</td>\n",
       "      <td>[{'aliquot_id': '59fcce98-c804-4b2a-a354-0cd2b...</td>\n",
       "      <td>None</td>\n",
       "      <td>None</td>\n",
       "      <td>None</td>\n",
       "      <td>None</td>\n",
       "      <td>None</td>\n",
       "      <td>None</td>\n",
       "      <td>None</td>\n",
       "    </tr>\n",
       "    <tr>\n",
       "      <th>2</th>\n",
       "      <td>APOLLO LUAD - Phosphoproteome - FeNTA</td>\n",
       "      <td>TMT11</td>\n",
       "      <td>1</td>\n",
       "      <td>NaN</td>\n",
       "      <td>NaN</td>\n",
       "      <td>NaN</td>\n",
       "      <td>NaN</td>\n",
       "      <td>NaN</td>\n",
       "      <td>NaN</td>\n",
       "      <td>None</td>\n",
       "      <td>...</td>\n",
       "      <td>[{'aliquot_id': 'de8f6a60-e03b-4ea0-b442-fa469...</td>\n",
       "      <td>[{'aliquot_id': 'c35f91e2-9447-4536-9876-7c281...</td>\n",
       "      <td>[{'aliquot_id': 'adc2dbe1-1180-4151-a242-e72a5...</td>\n",
       "      <td>None</td>\n",
       "      <td>None</td>\n",
       "      <td>None</td>\n",
       "      <td>None</td>\n",
       "      <td>None</td>\n",
       "      <td>None</td>\n",
       "      <td>None</td>\n",
       "    </tr>\n",
       "    <tr>\n",
       "      <th>3</th>\n",
       "      <td>APOLLO LUAD - Phosphoproteome - FeNTA</td>\n",
       "      <td>TMT11</td>\n",
       "      <td>2</td>\n",
       "      <td>NaN</td>\n",
       "      <td>NaN</td>\n",
       "      <td>NaN</td>\n",
       "      <td>NaN</td>\n",
       "      <td>NaN</td>\n",
       "      <td>NaN</td>\n",
       "      <td>None</td>\n",
       "      <td>...</td>\n",
       "      <td>[{'aliquot_id': 'd5f70c1e-9f33-4d55-9e68-20135...</td>\n",
       "      <td>[{'aliquot_id': 'e520950a-4c4b-46ea-86c8-eb268...</td>\n",
       "      <td>[{'aliquot_id': 'bd6bd37f-b2c0-4c67-9c56-20baf...</td>\n",
       "      <td>None</td>\n",
       "      <td>None</td>\n",
       "      <td>None</td>\n",
       "      <td>None</td>\n",
       "      <td>None</td>\n",
       "      <td>None</td>\n",
       "      <td>None</td>\n",
       "    </tr>\n",
       "    <tr>\n",
       "      <th>4</th>\n",
       "      <td>APOLLO LUAD - Phosphoproteome - FeNTA</td>\n",
       "      <td>TMT11</td>\n",
       "      <td>9</td>\n",
       "      <td>NaN</td>\n",
       "      <td>NaN</td>\n",
       "      <td>NaN</td>\n",
       "      <td>NaN</td>\n",
       "      <td>NaN</td>\n",
       "      <td>NaN</td>\n",
       "      <td>None</td>\n",
       "      <td>...</td>\n",
       "      <td>[{'aliquot_id': 'b96e82ec-f597-4985-ab76-95885...</td>\n",
       "      <td>[{'aliquot_id': '42af905c-0dff-4410-a38a-36148...</td>\n",
       "      <td>[{'aliquot_id': 'd72ecce0-1b96-4e8c-8fef-3ca77...</td>\n",
       "      <td>None</td>\n",
       "      <td>None</td>\n",
       "      <td>None</td>\n",
       "      <td>None</td>\n",
       "      <td>None</td>\n",
       "      <td>None</td>\n",
       "      <td>None</td>\n",
       "    </tr>\n",
       "  </tbody>\n",
       "</table>\n",
       "<p>5 rows × 36 columns</p>\n",
       "</div>"
      ],
      "text/plain": [
       "                      study_submitter_id experiment_type  experiment_number  \\\n",
       "0  APOLLO LUAD - Phosphoproteome - FeNTA           TMT11                  8   \n",
       "1  APOLLO LUAD - Phosphoproteome - FeNTA           TMT11                  5   \n",
       "2  APOLLO LUAD - Phosphoproteome - FeNTA           TMT11                  1   \n",
       "3  APOLLO LUAD - Phosphoproteome - FeNTA           TMT11                  2   \n",
       "4  APOLLO LUAD - Phosphoproteome - FeNTA           TMT11                  9   \n",
       "\n",
       "   plex_or_folder_name  fraction  date  operator  replicate_number  condition  \\\n",
       "0                  NaN       NaN   NaN       NaN               NaN        NaN   \n",
       "1                  NaN       NaN   NaN       NaN               NaN        NaN   \n",
       "2                  NaN       NaN   NaN       NaN               NaN        NaN   \n",
       "3                  NaN       NaN   NaN       NaN               NaN        NaN   \n",
       "4                  NaN       NaN   NaN       NaN               NaN        NaN   \n",
       "\n",
       "  label_free  ...                                           tmt_130c  \\\n",
       "0       None  ...  [{'aliquot_id': '7ba60b55-fafd-4e1b-a870-ca131...   \n",
       "1       None  ...  [{'aliquot_id': 'c0fb8fd3-c289-4338-906e-fe1a7...   \n",
       "2       None  ...  [{'aliquot_id': 'de8f6a60-e03b-4ea0-b442-fa469...   \n",
       "3       None  ...  [{'aliquot_id': 'd5f70c1e-9f33-4d55-9e68-20135...   \n",
       "4       None  ...  [{'aliquot_id': 'b96e82ec-f597-4985-ab76-95885...   \n",
       "\n",
       "                                             tmt_131  \\\n",
       "0  [{'aliquot_id': '76fa308b-7212-4721-97ed-df37c...   \n",
       "1  [{'aliquot_id': '08f2bef2-9a82-423e-985d-7cc28...   \n",
       "2  [{'aliquot_id': 'c35f91e2-9447-4536-9876-7c281...   \n",
       "3  [{'aliquot_id': 'e520950a-4c4b-46ea-86c8-eb268...   \n",
       "4  [{'aliquot_id': '42af905c-0dff-4410-a38a-36148...   \n",
       "\n",
       "                                            tmt_131c tmt_132n tmt_132c  \\\n",
       "0  [{'aliquot_id': 'f1ff9002-0115-4578-bd92-4880d...     None     None   \n",
       "1  [{'aliquot_id': '59fcce98-c804-4b2a-a354-0cd2b...     None     None   \n",
       "2  [{'aliquot_id': 'adc2dbe1-1180-4151-a242-e72a5...     None     None   \n",
       "3  [{'aliquot_id': 'bd6bd37f-b2c0-4c67-9c56-20baf...     None     None   \n",
       "4  [{'aliquot_id': 'd72ecce0-1b96-4e8c-8fef-3ca77...     None     None   \n",
       "\n",
       "  tmt_133n tmt_133c tmt_134n tmt_134c tmt_135n  \n",
       "0     None     None     None     None     None  \n",
       "1     None     None     None     None     None  \n",
       "2     None     None     None     None     None  \n",
       "3     None     None     None     None     None  \n",
       "4     None     None     None     None     None  \n",
       "\n",
       "[5 rows x 36 columns]"
      ]
     },
     "execution_count": 356,
     "metadata": {},
     "output_type": "execute_result"
    }
   ],
   "source": [
    "Exp_Metadata = expMetadat_data_2.drop(columns=to_remove)\n",
    "Exp_Metadata = Exp_Metadata.reindex(columns=check_names)\n",
    "Exp_Metadata.head()"
   ]
  },
  {
   "cell_type": "markdown",
   "metadata": {},
   "source": [
    "# File Metadata"
   ]
  },
  {
   "cell_type": "markdown",
   "metadata": {},
   "source": []
  },
  {
   "cell_type": "code",
   "execution_count": 359,
   "metadata": {},
   "outputs": [
    {
     "name": "stdout",
     "output_type": "stream",
     "text": [
      "Sending query.\n"
     ]
    },
    {
     "data": {
      "application/vnd.microsoft.datawrangler.viewer.v0+json": {
       "columns": [
        {
         "name": "index",
         "rawType": "int64",
         "type": "integer"
        },
        {
         "name": "study_id",
         "rawType": "object",
         "type": "string"
        },
        {
         "name": "pdc_study_id",
         "rawType": "object",
         "type": "string"
        },
        {
         "name": "study_submitter_id",
         "rawType": "object",
         "type": "string"
        },
        {
         "name": "study_name",
         "rawType": "object",
         "type": "string"
        },
        {
         "name": "file_id",
         "rawType": "object",
         "type": "string"
        },
        {
         "name": "file_name",
         "rawType": "object",
         "type": "string"
        },
        {
         "name": "file_submitter_id",
         "rawType": "object",
         "type": "string"
        },
        {
         "name": "file_type",
         "rawType": "object",
         "type": "string"
        },
        {
         "name": "md5sum",
         "rawType": "object",
         "type": "string"
        },
        {
         "name": "file_location",
         "rawType": "object",
         "type": "string"
        },
        {
         "name": "file_size",
         "rawType": "object",
         "type": "string"
        },
        {
         "name": "data_category",
         "rawType": "object",
         "type": "string"
        },
        {
         "name": "file_format",
         "rawType": "object",
         "type": "string"
        },
        {
         "name": "signedUrl",
         "rawType": "object",
         "type": "unknown"
        }
       ],
       "conversionMethod": "pd.DataFrame",
       "ref": "a0f61a93-5ac3-46b4-a7f9-573068196a7a",
       "rows": [
        [
         "0",
         "8961afcf-05de-4b7c-b471-ca1a4887ed36",
         "PDC000436",
         "APOLLO LUAD - Phosphoproteome - FeNTA",
         "APOLLO LUAD - Phosphoproteome - FeNTA",
         "00c78821-d5c1-467d-ae58-c487997ca078",
         "AP1_QEHF2_AP1_5_FeNTA_11.mzML.gz",
         "AP1_QEHF2_AP1_5_FeNTA_11.mzML.gz",
         "Open Standard",
         "2e3251310ac398d1bf883620a30f5b39",
         "studies/436/mzml/AP1_QEHF2_AP1_5_FeNTA_11.mzML.gz",
         "168149549",
         "Processed Mass Spectra",
         "mzML",
         "{'url': 'https://d3iwtkuvwz4jtf.cloudfront.net/studies/436/mzml/AP1_QEHF2_AP1_5_FeNTA_11.mzML.gz?Policy=eyJTdGF0ZW1lbnQiOlt7IlJlc291cmNlIjoiaHR0cHM6Ly9kM2l3dGt1dnd6NGp0Zi5jbG91ZGZyb250Lm5ldC9zdHVkaWVzLzQzNi9tem1sL0FQMV9RRUhGMl9BUDFfNV9GZU5UQV8xMS5tek1MLmd6IiwiQ29uZGl0aW9uIjp7IkRhdGVMZXNzVGhhbiI6eyJBV1M6RXBvY2hUaW1lIjoxNzQ0MjE3Mjk1fX19XX0_&Key-Pair-Id=APKAIXDMVIARW22I7ILQ&Signature=PP68o0JPTTADIWYRKqGBkRpzfHSo7hLPOWHUW~NjhZViBNG8OVwR5sebjmWOdpB7Uis8KyWoKUhVZYv94Ic~B~yRWJZGDWbviyiDJdHgAZGjofrQBt6tgtfqiU1TWunOTg7-sw4AppkMuHqNTMBCFfQO4FK26Z0dfHZcr74UU-b7MPAyC-D7oYy5Ak7NoJB73xQMjKTEnOBHclAG46HjotHhNTE2Oz7gk7DJZXF~C4raFKGhlFJoGl0zYSGwyn0FuKfMMmnC4Bnmax7O~LagURqm-m0UiJX4suOIYhAdarXaCzq661tRRVarNkj8c7hX-LBoO6P0Fc0Zd2FwuRdDgg__'}"
        ],
        [
         "1",
         "8961afcf-05de-4b7c-b471-ca1a4887ed36",
         "PDC000436",
         "APOLLO LUAD - Phosphoproteome - FeNTA",
         "APOLLO LUAD - Phosphoproteome - FeNTA",
         "0102a1f9-7a88-4b93-bcd7-0c1f6e376b7a",
         "AP1_QEHF1_AP1_6_FeNTA_01.mzid.gz",
         "AP1_QEHF1_AP1_6_FeNTA_01.mzid.gz",
         "Open Standard",
         "41930ee8d4e153c9e971b49cc9e9e3e3",
         "studies/436/PSM/mzid/AP1_QEHF1_AP1_6_FeNTA_01.mzid.gz",
         "159619",
         "Peptide Spectral Matches",
         "mzIdentML",
         "{'url': 'https://d3iwtkuvwz4jtf.cloudfront.net/studies/436/PSM/mzid/AP1_QEHF1_AP1_6_FeNTA_01.mzid.gz?Policy=eyJTdGF0ZW1lbnQiOlt7IlJlc291cmNlIjoiaHR0cHM6Ly9kM2l3dGt1dnd6NGp0Zi5jbG91ZGZyb250Lm5ldC9zdHVkaWVzLzQzNi9QU00vbXppZC9BUDFfUUVIRjFfQVAxXzZfRmVOVEFfMDEubXppZC5neiIsIkNvbmRpdGlvbiI6eyJEYXRlTGVzc1RoYW4iOnsiQVdTOkVwb2NoVGltZSI6MTc0NDIxNzI5NX19fV19&Key-Pair-Id=APKAIXDMVIARW22I7ILQ&Signature=Q-YANsFNIdQ6iHgNX54thMAZc9eg39hriiwkjXq5Z-Tcy1EX-8tCh7QjSQsXQ4CTCdc1WQZWMQo8m7plabhma6Zlo4DCW5885c1aXmsKoQQ-7-kOJb1jC3OznXgd2OYsEgNJIkuGmJL7yKepvYBQraHOBPDriKb0AxbPeQT4~8nQKBS~OZwIa8jBuvTqhO5456pJFWXmNczXPeD3aYB6SZ53KNT0VGIl5rbDpSOPtjyCDqK3dhU12Ho~m9HFEPuQV8q6MUTX66IvMnApPfYybwRZizKJgNU9HP7NKBKjdsJ9LwD8LdfrrJq3QSCKShHSrsvm7TyDmfQUVo34D9nSdQ__'}"
        ],
        [
         "2",
         "8961afcf-05de-4b7c-b471-ca1a4887ed36",
         "PDC000436",
         "APOLLO LUAD - Phosphoproteome - FeNTA",
         "APOLLO LUAD - Phosphoproteome - FeNTA",
         "0219ce62-efeb-4b4f-a6c3-10e25e83b57b",
         "AP1_QEHF1_AP1_7_FeNTA_04.mzML.gz",
         "AP1_QEHF1_AP1_7_FeNTA_04.mzML.gz",
         "Open Standard",
         "6e49bb1602a607a4723746607777f998",
         "studies/436/mzml/AP1_QEHF1_AP1_7_FeNTA_04.mzML.gz",
         "132846793",
         "Processed Mass Spectra",
         "mzML",
         "{'url': 'https://d3iwtkuvwz4jtf.cloudfront.net/studies/436/mzml/AP1_QEHF1_AP1_7_FeNTA_04.mzML.gz?Policy=eyJTdGF0ZW1lbnQiOlt7IlJlc291cmNlIjoiaHR0cHM6Ly9kM2l3dGt1dnd6NGp0Zi5jbG91ZGZyb250Lm5ldC9zdHVkaWVzLzQzNi9tem1sL0FQMV9RRUhGMV9BUDFfN19GZU5UQV8wNC5tek1MLmd6IiwiQ29uZGl0aW9uIjp7IkRhdGVMZXNzVGhhbiI6eyJBV1M6RXBvY2hUaW1lIjoxNzQ0MjE3Mjk1fX19XX0_&Key-Pair-Id=APKAIXDMVIARW22I7ILQ&Signature=PGBw5pJy27Var-egNsyo1znpOSp09vBHhtiJVHzqzNFQ4OrU6I4IXDoheygOh421W-xbxSwUN6takRL4QuCR7oBazcC4WE3RCHZm9jHqpoEG6giMjV9iHfJHLwJZEmCSTs8NqGvNzGQJx9d5Y~mrMPXIxvb7VN2MUF3mK9BYjmSFtnpZLVQTVTOri~vLhoYiDLS4boatgNjfXbu-L0L9tXGpGjijjywuWavGdDDA0RWgAwIu13uiXJNbpsWpOuXLICYDy2JQYyLeagyCn9ny0lR60x77f-EN9QGT-Ha~gUHjpXdFzrj~renKfYmQoqZvsj~M6DvdcLjXZQgk6ZQgLQ__'}"
        ],
        [
         "3",
         "8961afcf-05de-4b7c-b471-ca1a4887ed36",
         "PDC000436",
         "APOLLO LUAD - Phosphoproteome - FeNTA",
         "APOLLO LUAD - Phosphoproteome - FeNTA",
         "021b98e3-21d6-40a7-b696-8486f6b74c01",
         "AP1_QEHF1_AP1_9_FeNTA_02.mzid.gz",
         "AP1_QEHF1_AP1_9_FeNTA_02.mzid.gz",
         "Open Standard",
         "d07e48254bc9bb7e9de4bb22c80e0de7",
         "studies/436/PSM/mzid/AP1_QEHF1_AP1_9_FeNTA_02.mzid.gz",
         "251935",
         "Peptide Spectral Matches",
         "mzIdentML",
         "{'url': 'https://d3iwtkuvwz4jtf.cloudfront.net/studies/436/PSM/mzid/AP1_QEHF1_AP1_9_FeNTA_02.mzid.gz?Policy=eyJTdGF0ZW1lbnQiOlt7IlJlc291cmNlIjoiaHR0cHM6Ly9kM2l3dGt1dnd6NGp0Zi5jbG91ZGZyb250Lm5ldC9zdHVkaWVzLzQzNi9QU00vbXppZC9BUDFfUUVIRjFfQVAxXzlfRmVOVEFfMDIubXppZC5neiIsIkNvbmRpdGlvbiI6eyJEYXRlTGVzc1RoYW4iOnsiQVdTOkVwb2NoVGltZSI6MTc0NDIxNzI5NX19fV19&Key-Pair-Id=APKAIXDMVIARW22I7ILQ&Signature=bQ3bcR4-eiUdUe2lasiFMzNd8PI7~rMJCRGPPIgeHDF6EEYYhezh9jhDRIsQwxQ2fQV8OXyWyoglv1mvF5oZ2SCAZAI8sNf3~3sW6ECGBZ1jdjeTcy2fUfFAJEQBKGxt7x24gCOuq9UzBD-ZHl08a~QVSHDiwMZfTfM-QbE0mzhJMuQtQ7nK9CeEyxSxZM2Nt39GXiYjlSLRffgC4qE3QMfygxczcu7anZnJ3NM3OJ9bjpoK7WmphJG1HEMqxPt7FFeMMK5pctaL8as3u-0if6SWvgGau9vI2l~AFMJaadkvKXOY5qsTm4vTbzamYkuzYqLqIGVlLzQWMer55l4GlQ__'}"
        ],
        [
         "4",
         "8961afcf-05de-4b7c-b471-ca1a4887ed36",
         "PDC000436",
         "APOLLO LUAD - Phosphoproteome - FeNTA",
         "APOLLO LUAD - Phosphoproteome - FeNTA",
         "02a3d104-b0cd-4bb0-8c6a-11b59b2625a9",
         "AP1_QEHF2_AP1_5_FeNTA_02.mzid.gz",
         "AP1_QEHF2_AP1_5_FeNTA_02.mzid.gz",
         "Open Standard",
         "26f8a31101c7971a96d0dc46c1e2dd4b",
         "studies/436/PSM/mzid/AP1_QEHF2_AP1_5_FeNTA_02.mzid.gz",
         "158982",
         "Peptide Spectral Matches",
         "mzIdentML",
         "{'url': 'https://d3iwtkuvwz4jtf.cloudfront.net/studies/436/PSM/mzid/AP1_QEHF2_AP1_5_FeNTA_02.mzid.gz?Policy=eyJTdGF0ZW1lbnQiOlt7IlJlc291cmNlIjoiaHR0cHM6Ly9kM2l3dGt1dnd6NGp0Zi5jbG91ZGZyb250Lm5ldC9zdHVkaWVzLzQzNi9QU00vbXppZC9BUDFfUUVIRjJfQVAxXzVfRmVOVEFfMDIubXppZC5neiIsIkNvbmRpdGlvbiI6eyJEYXRlTGVzc1RoYW4iOnsiQVdTOkVwb2NoVGltZSI6MTc0NDIxNzI5NX19fV19&Key-Pair-Id=APKAIXDMVIARW22I7ILQ&Signature=Wzev~LDdUMNN7fRfIAnnvdu-iB4LDtUMExST0Fx5NTIRYkGKrQxXYOozaeT6ZCU7gHBwpWH9S5nUtKwq5fLuaecI6EmUf634t~VgJnuHSQLBcob3ga736rhO6HyRUfZYFKQ9FNCKG0Zqg7Zd4WdZrUQAvKunnK1nwH~6IcXQxbk8IsWrrWJO6EOOioDXLjjOkVegEbxRDO3EG4IEyEgC1QQqd~XKbNiJq5NSHhocPhhBm4tiIYwX8Xe-KQvP4-zWAzTXbhu~temNNy25Sy~z3EYXnlE-Bdd2A4EnaTZn-Q0uz8a06aXpaVT0a2a4c17zzyyoO8mOGt9ydoo-Y8s0Gg__'}"
        ]
       ],
       "shape": {
        "columns": 14,
        "rows": 5
       }
      },
      "text/html": [
       "<div>\n",
       "<style scoped>\n",
       "    .dataframe tbody tr th:only-of-type {\n",
       "        vertical-align: middle;\n",
       "    }\n",
       "\n",
       "    .dataframe tbody tr th {\n",
       "        vertical-align: top;\n",
       "    }\n",
       "\n",
       "    .dataframe thead th {\n",
       "        text-align: right;\n",
       "    }\n",
       "</style>\n",
       "<table border=\"1\" class=\"dataframe\">\n",
       "  <thead>\n",
       "    <tr style=\"text-align: right;\">\n",
       "      <th></th>\n",
       "      <th>study_id</th>\n",
       "      <th>pdc_study_id</th>\n",
       "      <th>study_submitter_id</th>\n",
       "      <th>study_name</th>\n",
       "      <th>file_id</th>\n",
       "      <th>file_name</th>\n",
       "      <th>file_submitter_id</th>\n",
       "      <th>file_type</th>\n",
       "      <th>md5sum</th>\n",
       "      <th>file_location</th>\n",
       "      <th>file_size</th>\n",
       "      <th>data_category</th>\n",
       "      <th>file_format</th>\n",
       "      <th>signedUrl</th>\n",
       "    </tr>\n",
       "  </thead>\n",
       "  <tbody>\n",
       "    <tr>\n",
       "      <th>0</th>\n",
       "      <td>8961afcf-05de-4b7c-b471-ca1a4887ed36</td>\n",
       "      <td>PDC000436</td>\n",
       "      <td>APOLLO LUAD - Phosphoproteome - FeNTA</td>\n",
       "      <td>APOLLO LUAD - Phosphoproteome - FeNTA</td>\n",
       "      <td>00c78821-d5c1-467d-ae58-c487997ca078</td>\n",
       "      <td>AP1_QEHF2_AP1_5_FeNTA_11.mzML.gz</td>\n",
       "      <td>AP1_QEHF2_AP1_5_FeNTA_11.mzML.gz</td>\n",
       "      <td>Open Standard</td>\n",
       "      <td>2e3251310ac398d1bf883620a30f5b39</td>\n",
       "      <td>studies/436/mzml/AP1_QEHF2_AP1_5_FeNTA_11.mzML.gz</td>\n",
       "      <td>168149549</td>\n",
       "      <td>Processed Mass Spectra</td>\n",
       "      <td>mzML</td>\n",
       "      <td>{'url': 'https://d3iwtkuvwz4jtf.cloudfront.net...</td>\n",
       "    </tr>\n",
       "    <tr>\n",
       "      <th>1</th>\n",
       "      <td>8961afcf-05de-4b7c-b471-ca1a4887ed36</td>\n",
       "      <td>PDC000436</td>\n",
       "      <td>APOLLO LUAD - Phosphoproteome - FeNTA</td>\n",
       "      <td>APOLLO LUAD - Phosphoproteome - FeNTA</td>\n",
       "      <td>0102a1f9-7a88-4b93-bcd7-0c1f6e376b7a</td>\n",
       "      <td>AP1_QEHF1_AP1_6_FeNTA_01.mzid.gz</td>\n",
       "      <td>AP1_QEHF1_AP1_6_FeNTA_01.mzid.gz</td>\n",
       "      <td>Open Standard</td>\n",
       "      <td>41930ee8d4e153c9e971b49cc9e9e3e3</td>\n",
       "      <td>studies/436/PSM/mzid/AP1_QEHF1_AP1_6_FeNTA_01....</td>\n",
       "      <td>159619</td>\n",
       "      <td>Peptide Spectral Matches</td>\n",
       "      <td>mzIdentML</td>\n",
       "      <td>{'url': 'https://d3iwtkuvwz4jtf.cloudfront.net...</td>\n",
       "    </tr>\n",
       "    <tr>\n",
       "      <th>2</th>\n",
       "      <td>8961afcf-05de-4b7c-b471-ca1a4887ed36</td>\n",
       "      <td>PDC000436</td>\n",
       "      <td>APOLLO LUAD - Phosphoproteome - FeNTA</td>\n",
       "      <td>APOLLO LUAD - Phosphoproteome - FeNTA</td>\n",
       "      <td>0219ce62-efeb-4b4f-a6c3-10e25e83b57b</td>\n",
       "      <td>AP1_QEHF1_AP1_7_FeNTA_04.mzML.gz</td>\n",
       "      <td>AP1_QEHF1_AP1_7_FeNTA_04.mzML.gz</td>\n",
       "      <td>Open Standard</td>\n",
       "      <td>6e49bb1602a607a4723746607777f998</td>\n",
       "      <td>studies/436/mzml/AP1_QEHF1_AP1_7_FeNTA_04.mzML.gz</td>\n",
       "      <td>132846793</td>\n",
       "      <td>Processed Mass Spectra</td>\n",
       "      <td>mzML</td>\n",
       "      <td>{'url': 'https://d3iwtkuvwz4jtf.cloudfront.net...</td>\n",
       "    </tr>\n",
       "    <tr>\n",
       "      <th>3</th>\n",
       "      <td>8961afcf-05de-4b7c-b471-ca1a4887ed36</td>\n",
       "      <td>PDC000436</td>\n",
       "      <td>APOLLO LUAD - Phosphoproteome - FeNTA</td>\n",
       "      <td>APOLLO LUAD - Phosphoproteome - FeNTA</td>\n",
       "      <td>021b98e3-21d6-40a7-b696-8486f6b74c01</td>\n",
       "      <td>AP1_QEHF1_AP1_9_FeNTA_02.mzid.gz</td>\n",
       "      <td>AP1_QEHF1_AP1_9_FeNTA_02.mzid.gz</td>\n",
       "      <td>Open Standard</td>\n",
       "      <td>d07e48254bc9bb7e9de4bb22c80e0de7</td>\n",
       "      <td>studies/436/PSM/mzid/AP1_QEHF1_AP1_9_FeNTA_02....</td>\n",
       "      <td>251935</td>\n",
       "      <td>Peptide Spectral Matches</td>\n",
       "      <td>mzIdentML</td>\n",
       "      <td>{'url': 'https://d3iwtkuvwz4jtf.cloudfront.net...</td>\n",
       "    </tr>\n",
       "    <tr>\n",
       "      <th>4</th>\n",
       "      <td>8961afcf-05de-4b7c-b471-ca1a4887ed36</td>\n",
       "      <td>PDC000436</td>\n",
       "      <td>APOLLO LUAD - Phosphoproteome - FeNTA</td>\n",
       "      <td>APOLLO LUAD - Phosphoproteome - FeNTA</td>\n",
       "      <td>02a3d104-b0cd-4bb0-8c6a-11b59b2625a9</td>\n",
       "      <td>AP1_QEHF2_AP1_5_FeNTA_02.mzid.gz</td>\n",
       "      <td>AP1_QEHF2_AP1_5_FeNTA_02.mzid.gz</td>\n",
       "      <td>Open Standard</td>\n",
       "      <td>26f8a31101c7971a96d0dc46c1e2dd4b</td>\n",
       "      <td>studies/436/PSM/mzid/AP1_QEHF2_AP1_5_FeNTA_02....</td>\n",
       "      <td>158982</td>\n",
       "      <td>Peptide Spectral Matches</td>\n",
       "      <td>mzIdentML</td>\n",
       "      <td>{'url': 'https://d3iwtkuvwz4jtf.cloudfront.net...</td>\n",
       "    </tr>\n",
       "  </tbody>\n",
       "</table>\n",
       "</div>"
      ],
      "text/plain": [
       "                               study_id pdc_study_id  \\\n",
       "0  8961afcf-05de-4b7c-b471-ca1a4887ed36    PDC000436   \n",
       "1  8961afcf-05de-4b7c-b471-ca1a4887ed36    PDC000436   \n",
       "2  8961afcf-05de-4b7c-b471-ca1a4887ed36    PDC000436   \n",
       "3  8961afcf-05de-4b7c-b471-ca1a4887ed36    PDC000436   \n",
       "4  8961afcf-05de-4b7c-b471-ca1a4887ed36    PDC000436   \n",
       "\n",
       "                      study_submitter_id  \\\n",
       "0  APOLLO LUAD - Phosphoproteome - FeNTA   \n",
       "1  APOLLO LUAD - Phosphoproteome - FeNTA   \n",
       "2  APOLLO LUAD - Phosphoproteome - FeNTA   \n",
       "3  APOLLO LUAD - Phosphoproteome - FeNTA   \n",
       "4  APOLLO LUAD - Phosphoproteome - FeNTA   \n",
       "\n",
       "                              study_name  \\\n",
       "0  APOLLO LUAD - Phosphoproteome - FeNTA   \n",
       "1  APOLLO LUAD - Phosphoproteome - FeNTA   \n",
       "2  APOLLO LUAD - Phosphoproteome - FeNTA   \n",
       "3  APOLLO LUAD - Phosphoproteome - FeNTA   \n",
       "4  APOLLO LUAD - Phosphoproteome - FeNTA   \n",
       "\n",
       "                                file_id                         file_name  \\\n",
       "0  00c78821-d5c1-467d-ae58-c487997ca078  AP1_QEHF2_AP1_5_FeNTA_11.mzML.gz   \n",
       "1  0102a1f9-7a88-4b93-bcd7-0c1f6e376b7a  AP1_QEHF1_AP1_6_FeNTA_01.mzid.gz   \n",
       "2  0219ce62-efeb-4b4f-a6c3-10e25e83b57b  AP1_QEHF1_AP1_7_FeNTA_04.mzML.gz   \n",
       "3  021b98e3-21d6-40a7-b696-8486f6b74c01  AP1_QEHF1_AP1_9_FeNTA_02.mzid.gz   \n",
       "4  02a3d104-b0cd-4bb0-8c6a-11b59b2625a9  AP1_QEHF2_AP1_5_FeNTA_02.mzid.gz   \n",
       "\n",
       "                  file_submitter_id      file_type  \\\n",
       "0  AP1_QEHF2_AP1_5_FeNTA_11.mzML.gz  Open Standard   \n",
       "1  AP1_QEHF1_AP1_6_FeNTA_01.mzid.gz  Open Standard   \n",
       "2  AP1_QEHF1_AP1_7_FeNTA_04.mzML.gz  Open Standard   \n",
       "3  AP1_QEHF1_AP1_9_FeNTA_02.mzid.gz  Open Standard   \n",
       "4  AP1_QEHF2_AP1_5_FeNTA_02.mzid.gz  Open Standard   \n",
       "\n",
       "                             md5sum  \\\n",
       "0  2e3251310ac398d1bf883620a30f5b39   \n",
       "1  41930ee8d4e153c9e971b49cc9e9e3e3   \n",
       "2  6e49bb1602a607a4723746607777f998   \n",
       "3  d07e48254bc9bb7e9de4bb22c80e0de7   \n",
       "4  26f8a31101c7971a96d0dc46c1e2dd4b   \n",
       "\n",
       "                                       file_location  file_size  \\\n",
       "0  studies/436/mzml/AP1_QEHF2_AP1_5_FeNTA_11.mzML.gz  168149549   \n",
       "1  studies/436/PSM/mzid/AP1_QEHF1_AP1_6_FeNTA_01....     159619   \n",
       "2  studies/436/mzml/AP1_QEHF1_AP1_7_FeNTA_04.mzML.gz  132846793   \n",
       "3  studies/436/PSM/mzid/AP1_QEHF1_AP1_9_FeNTA_02....     251935   \n",
       "4  studies/436/PSM/mzid/AP1_QEHF2_AP1_5_FeNTA_02....     158982   \n",
       "\n",
       "              data_category file_format  \\\n",
       "0    Processed Mass Spectra        mzML   \n",
       "1  Peptide Spectral Matches   mzIdentML   \n",
       "2    Processed Mass Spectra        mzML   \n",
       "3  Peptide Spectral Matches   mzIdentML   \n",
       "4  Peptide Spectral Matches   mzIdentML   \n",
       "\n",
       "                                           signedUrl  \n",
       "0  {'url': 'https://d3iwtkuvwz4jtf.cloudfront.net...  \n",
       "1  {'url': 'https://d3iwtkuvwz4jtf.cloudfront.net...  \n",
       "2  {'url': 'https://d3iwtkuvwz4jtf.cloudfront.net...  \n",
       "3  {'url': 'https://d3iwtkuvwz4jtf.cloudfront.net...  \n",
       "4  {'url': 'https://d3iwtkuvwz4jtf.cloudfront.net...  "
      ]
     },
     "execution_count": 359,
     "metadata": {},
     "output_type": "execute_result"
    }
   ],
   "source": [
    "file_metadata_data = query_pdc(query= query_file_metadata, variables=variables)\n",
    "matrix = json.loads(file_metadata_data.content)['data'][\"filesPerStudy\"]\n",
    "file_metadata_df = pd.DataFrame(matrix)\n",
    "file_metadata_df.head()"
   ]
  },
  {
   "cell_type": "code",
   "execution_count": 360,
   "metadata": {},
   "outputs": [],
   "source": [
    "check_names = ['study_submitter_id', 'plex_or_folder_name', 'file_name',\n",
    "       'fraction_number', 'data_category', 'file_type', 'file_format',\n",
    "       'md5sum', 'file_size', \"sha1\"]\n",
    "to_remove = list(set(file_metadata_df.columns).difference(check_names))"
   ]
  },
  {
   "cell_type": "code",
   "execution_count": 361,
   "metadata": {},
   "outputs": [],
   "source": [
    "file_metada = file_metadata_df.drop(columns=to_remove)\n",
    "file_metada = file_metada.reindex(columns=check_names)"
   ]
  },
  {
   "cell_type": "markdown",
   "metadata": {},
   "source": [
    "# Create an excell workbook with the study information"
   ]
  },
  {
   "cell_type": "code",
   "execution_count": 362,
   "metadata": {},
   "outputs": [],
   "source": [
    "# object dictionary:\n",
    "study_information = {\n",
    "    'Readme': pd.DataFrame(readme),\n",
    "    \"Project-Program\": pd.DataFrame(program_project),\n",
    "    \"Case-Matrix\": pd.DataFrame(case_matrix),\n",
    "    \"Case\": pd.DataFrame(case),\n",
    "    \"Demographic\": pd.DataFrame(demographic),\n",
    "    \"Diagnosis\": pd.DataFrame(diagnosis),\n",
    "    \"Exposure\": pd.DataFrame(exposure),\n",
    "    \"Family-History\": pd.DataFrame(), #need to find the data\n",
    "    \"Treatments\": pd.DataFrame(treatments),\n",
    "    \"Follow-up\": pd.DataFrame(follow_ups),\n",
    "    \"Sample\": pd.DataFrame(), #need to redo\n",
    "    \"Aliquots\": pd.DataFrame(), #need to redo\n",
    "    \"Study\": pd.DataFrame(study),\n",
    "    \"Protocol\": pd.DataFrame(protocol),\n",
    "    \"Exp_Metadata\": pd.DataFrame(Exp_Metadata),\n",
    "    \"File-Metadata\": pd.DataFrame(file_metada)\n",
    "}"
   ]
  },
  {
   "cell_type": "markdown",
   "metadata": {},
   "source": []
  },
  {
   "cell_type": "code",
   "execution_count": 363,
   "metadata": {},
   "outputs": [],
   "source": [
    "with pd.ExcelWriter('output.xlsx', engine='xlsxwriter') as writer:\n",
    "    for sheet_name, df in study_information.items():\n",
    "        if df is not None and not df.empty:  # Check if the DataFrame is not None and not empty\n",
    "            df.to_excel(writer, sheet_name=sheet_name, index=False)\n",
    "        else:\n",
    "            # Create an empty DataFrame and write it to the sheet\n",
    "            empty_df = pd.DataFrame()\n",
    "            empty_df.to_excel(writer, sheet_name=sheet_name, index=False)\n"
   ]
  },
  {
   "cell_type": "code",
   "execution_count": null,
   "metadata": {},
   "outputs": [],
   "source": []
  }
 ],
 "metadata": {
  "kernelspec": {
   "display_name": "Python 3",
   "language": "python",
   "name": "python3"
  },
  "language_info": {
   "codemirror_mode": {
    "name": "ipython",
    "version": 3
   },
   "file_extension": ".py",
   "mimetype": "text/x-python",
   "name": "python",
   "nbconvert_exporter": "python",
   "pygments_lexer": "ipython3",
   "version": "3.13.2"
  }
 },
 "nbformat": 4,
 "nbformat_minor": 2
}
